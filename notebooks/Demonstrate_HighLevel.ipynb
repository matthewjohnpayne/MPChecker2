{
 "cells": [
  {
   "cell_type": "markdown",
   "metadata": {},
   "source": [
    "# Demonstration of high-level functions within MPChecker2\n",
    " - Intended as a guide to the expected use-case for MPChecker2 once the code is developed\n",
    " - 20200122\n",
    " - MJP"
   ]
  },
  {
   "cell_type": "code",
   "execution_count": 2,
   "metadata": {},
   "outputs": [
    {
     "data": {
      "text/plain": [
       "<module 'precalc' from '/Users/matthewjohnpayne/Envs/mpcvenv/mpchecker2/mpchecker2/precalc.py'>"
      ]
     },
     "execution_count": 2,
     "metadata": {},
     "output_type": "execute_result"
    }
   ],
   "source": [
    "# Standard imports \n",
    "import os , sys\n",
    "import numpy as np \n",
    "import random\n",
    "import string\n",
    "import importlib\n",
    "import json \n",
    "\n",
    "\n",
    "# mpchecker2 imports \n",
    "sys.path.append(os.path.join(os.path.split(os.getcwd())[0], 'mpchecker2'))\n",
    "import precalc\n",
    "importlib.reload(precalc)\n"
   ]
  },
  {
   "cell_type": "markdown",
   "metadata": {},
   "source": [
    "# Background\n",
    " - I expect that the results of some n-body integration have been encapsulated as a bunch of coefficients\n",
    " - The coefficients are all saved in a dictionary \n",
    " - There is a single dictionary for each object\n",
    " - I am further assuming that there exists a magic function to use the coefficient-dictionary to evaluate the healpix from the geocenter at a given JD\n",
    " - I will demonstrate the data-handling code by creating fake coefficient dictionaries and HP data for a few objects"
   ]
  },
  {
   "cell_type": "markdown",
   "metadata": {},
   "source": [
    "# --------- High-Level Functions ---------------------\n",
    "\n",
    " - These are the functions that it is anticipated will be used on a regular basis by other aspects of the MPChecker code-base. \n",
    " - They use the low-level functionality (demonstrated later) to accomplish various calculations and I/O tasks."
   ]
  },
  {
   "cell_type": "markdown",
   "metadata": {},
   "source": [
    "#### Start by creating some sample data ...\n",
    " - Here I am creating a fake coefficient-dictionary, purely because I do not yet know what a real one will look like"
   ]
  },
  {
   "cell_type": "code",
   "execution_count": 14,
   "metadata": {},
   "outputs": [],
   "source": [
    "name       = 'K19A01B'\n",
    "coeff_dict = sample_DICT()\n",
    "#JDs        = sample_JDintegers(365)\n",
    "#HP         = sample_HEALPIX(JDs , coeff_dict)"
   ]
  },
  {
   "cell_type": "markdown",
   "metadata": {},
   "source": [
    "#### Insert  data \n",
    "This will\n",
    " - Save the coefficient-dictionary to file\n",
    " - Calculate the HP location of the object on a series of nights (from the geo-center) and save-to-file\n",
    " \n",
    "Note that this will *update* an existing entry (for that name) or *insert* a new entry"
   ]
  },
  {
   "cell_type": "code",
   "execution_count": 15,
   "metadata": {},
   "outputs": [
    {
     "ename": "NameError",
     "evalue": "name 'json' is not defined",
     "output_type": "error",
     "traceback": [
      "\u001b[0;31m---------------------------------------------------------------------------\u001b[0m",
      "\u001b[0;31mNameError\u001b[0m                                 Traceback (most recent call last)",
      "\u001b[0;32m<ipython-input-15-ec80876f43f7>\u001b[0m in \u001b[0;36m<module>\u001b[0;34m()\u001b[0m\n\u001b[1;32m      1\u001b[0m \u001b[0;31m# Declare a \"Data\" object\u001b[0m\u001b[0;34m\u001b[0m\u001b[0;34m\u001b[0m\u001b[0m\n\u001b[0;32m----> 2\u001b[0;31m \u001b[0mD\u001b[0m \u001b[0;34m=\u001b[0m \u001b[0mdata\u001b[0m\u001b[0;34m.\u001b[0m\u001b[0mData\u001b[0m\u001b[0;34m(\u001b[0m\u001b[0;34m)\u001b[0m\u001b[0;34m\u001b[0m\u001b[0m\n\u001b[0m\u001b[1;32m      3\u001b[0m \u001b[0;34m\u001b[0m\u001b[0m\n\u001b[1;32m      4\u001b[0m \u001b[0;31m# Use the Data object to \"upsert\" the data\u001b[0m\u001b[0;34m\u001b[0m\u001b[0;34m\u001b[0m\u001b[0m\n\u001b[1;32m      5\u001b[0m \u001b[0mD\u001b[0m\u001b[0;34m.\u001b[0m\u001b[0mupsert\u001b[0m\u001b[0;34m(\u001b[0m\u001b[0mname\u001b[0m\u001b[0;34m,\u001b[0m \u001b[0mcoeff_dict\u001b[0m\u001b[0;34m)\u001b[0m\u001b[0;34m\u001b[0m\u001b[0m\n",
      "\u001b[0;32m~/Envs/mpcvenv/mpchecker2/mpchecker2/data.py\u001b[0m in \u001b[0;36m__init__\u001b[0;34m(self)\u001b[0m\n",
      "\u001b[0;32m~/Envs/mpcvenv/mpchecker2/mpchecker2/data.py\u001b[0m in \u001b[0;36m__init__\u001b[0;34m(self)\u001b[0m\n",
      "\u001b[0;32m~/Envs/mpcvenv/mpchecker2/mpchecker2/data.py\u001b[0m in \u001b[0;36m_read_coeff_file\u001b[0;34m(self)\u001b[0m\n",
      "\u001b[0;31mNameError\u001b[0m: name 'json' is not defined"
     ]
    }
   ],
   "source": [
    "# Declare a \"Data\" object\n",
    "D = data.Data()\n",
    "\n",
    "# Use the Data object to \"upsert\" the data \n",
    "D.upsert(name, coeff_dict)\n"
   ]
  },
  {
   "cell_type": "markdown",
   "metadata": {},
   "source": [
    "#### Insert multiple data \n",
    " - The same \"upsert\" command can be used to insert / update lists of multiple object data "
   ]
  },
  {
   "cell_type": "code",
   "execution_count": null,
   "metadata": {},
   "outputs": [],
   "source": [
    "# Use the Data object to \"upsert\" multiple data \n",
    "name2       = 'K19A01C'\n",
    "coeff_dict2 = sample_DICT()\n",
    "D.upsert( [name, name2], [coeff_dict, coeff_dict2 ] )\n"
   ]
  },
  {
   "cell_type": "markdown",
   "metadata": {},
   "source": [
    "#### Query the data \n",
    " - It is expected that the primary query will be for the list of objects in/adjacent-to a particular healpix (or list-of-healpix) on a given night"
   ]
  },
  {
   "cell_type": "code",
   "execution_count": null,
   "metadata": {},
   "outputs": [],
   "source": [
    "# The range of precalculated Julian Dates is accessible within Data().JDlist \n",
    "# - I'll use this to grab a date within that range \n",
    "JD = D.JDlist[ int(len(D.JDlist)/2) ]\n",
    "\n",
    "# The range of healpix integers used is available in Data().npix\n",
    "# - However, many of these will likely be empty at the time of running this demo\n",
    "# - So I am going to \"cheat\" by ...\n",
    "HPlist = [12,14,15,16]\n",
    "\n",
    "D.get_nightly_precalcs(JD, HPlist)"
   ]
  },
  {
   "cell_type": "code",
   "execution_count": null,
   "metadata": {},
   "outputs": [],
   "source": []
  }
 ],
 "metadata": {
  "kernelspec": {
   "display_name": "Python [conda env:anaconda]",
   "language": "python",
   "name": "conda-env-anaconda-py"
  },
  "language_info": {
   "codemirror_mode": {
    "name": "ipython",
    "version": 3
   },
   "file_extension": ".py",
   "mimetype": "text/x-python",
   "name": "python",
   "nbconvert_exporter": "python",
   "pygments_lexer": "ipython3",
   "version": "3.5.5"
  }
 },
 "nbformat": 4,
 "nbformat_minor": 2
}
