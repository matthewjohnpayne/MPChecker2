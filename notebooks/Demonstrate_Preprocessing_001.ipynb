{
 "cells": [
  {
   "cell_type": "markdown",
   "metadata": {},
   "source": [
    "# Demonstration of MPChecker PreProcessing routines: 001 \n",
    " - 20190312\n",
    " - MJP\n",
    " - How to use the preprocessing routine(s) to prepare a night of data for ..."
   ]
  },
  {
   "cell_type": "code",
   "execution_count": 6,
   "metadata": {},
   "outputs": [],
   "source": [
    "# Standard imports \n",
    "import numpy as np \n",
    "\n",
    "# Import MPC functionalities \n",
    "import preprocess as pp\n",
    "import params\n",
    "import  ele220 \n",
    "import classes as Classes \n",
    "import phys_const as PHYS\n",
    "import MPC_library as MPCL\n",
    "import kepcart as kc\n"
   ]
  },
  {
   "cell_type": "markdown",
   "metadata": {},
   "source": [
    "# The preprocessing results depend on the assumed HP scale for the preprocessing\n",
    " - At the time of evaluation the assumed parameters are ..."
   ]
  },
  {
   "cell_type": "code",
   "execution_count": 7,
   "metadata": {},
   "outputs": [
    {
     "name": "stdout",
     "output_type": "stream",
     "text": [
      "Healpix: Nside 256\n",
      "Healpix: Npix 786432\n",
      "Healpix: Area [deg^2] 0.05245585282569793\n",
      "Healpix: Side [deg] 0.22903242745449373\n"
     ]
    }
   ],
   "source": [
    "print(\"Healpix: Nside\", params.hp_nside)\n",
    "print(\"Healpix: Npix\", params.hp_npix)\n",
    "print(\"Healpix: Area [deg^2]\", params.hp_area)\n",
    "print(\"Healpix: Side [deg]\", params.hp_side)"
   ]
  },
  {
   "cell_type": "markdown",
   "metadata": {},
   "source": [
    "# Process step uses \"OrbitObject\" Class\n",
    " - See the notebook \"Demonstrate_OrbitObjects.ipynb\" for more details "
   ]
  },
  {
   "cell_type": "markdown",
   "metadata": {},
   "source": [
    "# Process the data for a single night\n",
    "##### Note that \n",
    " - we are processing the night/epoch \"K188U\" \n",
    " - the garethEpoch corresponds to a half-integer\n",
    " - the routine looks in the \"nbody_data\" directory for files that contain \"K188U\"\n",
    " - the current preprocessing step is <strong> INCOMPLETE </strong> as it is only processing a couple of files \n",
    " - but that is still >500,000 objects\n",
    " - THe output is saved in a \"preprocessed_data\" directory \n",
    " - There is an overall orbit-object file which looks like \"orbitObjectList_2458360.jsonpickle\" which stores the STATE of the object at the JD in question\n",
    " - There is a set of objects-by-HP which looks like \"OrbitNumberByHP_500_2458360.json\" and which stores the HP from the center (500) on the JD in question"
   ]
  },
  {
   "cell_type": "raw",
   "metadata": {},
   "source": [
    "nightEpoch = \"K188U\" # garethEpoch \n",
    "\n",
    "# Do the preprocessing for a single night \n",
    "pp.preprocess_night(nightEpoch)\n"
   ]
  },
  {
   "cell_type": "markdown",
   "metadata": {},
   "source": [
    "# Process the data for three individual nights\n",
    " - Not doing anything clevere here, just doing three individual runs in the same manner as above "
   ]
  },
  {
   "cell_type": "code",
   "execution_count": 20,
   "metadata": {},
   "outputs": [
    {
     "name": "stdout",
     "output_type": "stream",
     "text": [
      "garethEpoch,oc, JDUTC, JDUTCstr, posEQ_OBS_wrt_HELIO, posEC_OBS_wrt_HELIO=...\n",
      "\t K188U 500 2458360.5 2458360_5 [ 0.92485413 -0.37187006 -0.16120744] [ 9.24854133e-01 -4.05308749e-01  1.64058831e-05]\n",
      "mpn_K188U.txt\n",
      "mpu_add_K188U.txt\n",
      "Read 517251 lines from nbody files...\n",
      "Saving '/Users/matthewjohnpayne/Dropbox/mpchecker/preprocessed_data/orbitObject_states_2458360_5.npy'\n",
      "Saving '/Users/matthewjohnpayne/Dropbox/mpchecker/preprocessed_data/orbitObject_desigs_2458360_5.npy'\n",
      "Saving '/Users/matthewjohnpayne/Dropbox/mpchecker/preprocessed_data/OrbitNumberByHP_500_2458360_5.npy'\n",
      "garethEpoch,oc, JDUTC, JDUTCstr, posEQ_OBS_wrt_HELIO, posEC_OBS_wrt_HELIO=...\n",
      "\t K18A9 500 2458400.5 2458400_5 [0.96319695 0.24335927 0.10548965] [ 9.63196952e-01  2.65239136e-01 -1.78522890e-05]\n",
      "mpn_add_K18A9.txt\n",
      "mpu_K18A9.txt\n",
      "mpu_add_K18A9.txt\n",
      "mpn_K18A9.txt\n",
      "Read 716711 lines from nbody files...\n",
      "Saving '/Users/matthewjohnpayne/Dropbox/mpchecker/preprocessed_data/orbitObject_states_2458400_5.npy'\n",
      "Saving '/Users/matthewjohnpayne/Dropbox/mpchecker/preprocessed_data/orbitObject_desigs_2458400_5.npy'\n",
      "Saving '/Users/matthewjohnpayne/Dropbox/mpchecker/preprocessed_data/OrbitNumberByHP_500_2458400_5.npy'\n",
      "garethEpoch,oc, JDUTC, JDUTCstr, posEQ_OBS_wrt_HELIO, posEC_OBS_wrt_HELIO=...\n",
      "\t K18BI 500 2458440.5 2458440_5 [0.562332   0.74597676 0.32338092] [ 5.62331999e-01  8.13053843e-01 -3.61760155e-05]\n",
      "mpn_add_K18BI.txt\n",
      "mpu_K18BI.txt\n",
      "mpu_add_K18BI.txt\n",
      "mpn_K18BI.txt\n",
      "Read 716711 lines from nbody files...\n",
      "Saving '/Users/matthewjohnpayne/Dropbox/mpchecker/preprocessed_data/orbitObject_states_2458440_5.npy'\n",
      "Saving '/Users/matthewjohnpayne/Dropbox/mpchecker/preprocessed_data/orbitObject_desigs_2458440_5.npy'\n",
      "Saving '/Users/matthewjohnpayne/Dropbox/mpchecker/preprocessed_data/OrbitNumberByHP_500_2458440_5.npy'\n"
     ]
    }
   ],
   "source": [
    "for nightEpoch in [\"K188U\", \"K18A9\",\"K18BI\"]: # garethEpoch \n",
    "\n",
    "    # Do the preprocessing  \n",
    "    pp.preprocess_night(nightEpoch)\n"
   ]
  },
  {
   "cell_type": "markdown",
   "metadata": {},
   "source": [
    "# Need to develop code to do \n",
    "\n",
    "## (i) Check the accuracy of Keplerian prop\n",
    "\n",
    "## (ii) Do interpolation to arbitrary nights"
   ]
  },
  {
   "cell_type": "code",
   "execution_count": null,
   "metadata": {},
   "outputs": [],
   "source": []
  }
 ],
 "metadata": {
  "kernelspec": {
   "display_name": "Python [conda env:anaconda]",
   "language": "python",
   "name": "conda-env-anaconda-py"
  },
  "language_info": {
   "codemirror_mode": {
    "name": "ipython",
    "version": 3
   },
   "file_extension": ".py",
   "mimetype": "text/x-python",
   "name": "python",
   "nbconvert_exporter": "python",
   "pygments_lexer": "ipython3",
   "version": "3.5.5"
  }
 },
 "nbformat": 4,
 "nbformat_minor": 2
}
