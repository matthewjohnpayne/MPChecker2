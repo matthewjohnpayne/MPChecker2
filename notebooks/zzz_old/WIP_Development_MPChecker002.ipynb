{
 "cells": [
  {
   "cell_type": "markdown",
   "metadata": {},
   "source": [
    "# WIP Development of MPChecker: 002\n",
    " - 20190315\n",
    " - MJP\n",
    " - Initial look at MPChecker-like functionality \n",
    " - Just testing-out the steps that would be required "
   ]
  },
  {
   "cell_type": "code",
   "execution_count": 1,
   "metadata": {},
   "outputs": [
    {
     "name": "stderr",
     "output_type": "stream",
     "text": [
      "/Users/matthewjohnpayne/anaconda/lib/python3.5/importlib/_bootstrap.py:222: RuntimeWarning: numpy.dtype size changed, may indicate binary incompatibility. Expected 96, got 88\n",
      "  return f(*args, **kwds)\n",
      "/Users/matthewjohnpayne/anaconda/lib/python3.5/importlib/_bootstrap.py:222: RuntimeWarning: numpy.dtype size changed, may indicate binary incompatibility. Expected 96, got 88\n",
      "  return f(*args, **kwds)\n"
     ]
    }
   ],
   "source": [
    "%load_ext autoreload\n",
    "%matplotlib inline\n",
    "\n",
    "# Standard imports \n",
    "import numpy as np \n",
    "import matplotlib.pyplot as plt \n",
    "import healpy as hp\n",
    "import sys, os\n",
    "\n",
    "import MPC_library as MPCL\n",
    "import phys_const as PHYS\n",
    "import mpchecker \n",
    "import classes as Classes\n",
    "import params \n",
    "import angles as ANG \n"
   ]
  },
  {
   "cell_type": "markdown",
   "metadata": {},
   "source": [
    "# Some of the results returned below will depend on the assumed HP scale for the preprocessing\n",
    " - E.g. the HP # for the center of the pointing ...\n",
    " - At the time of evaluation the assumed parameters are ..."
   ]
  },
  {
   "cell_type": "code",
   "execution_count": 2,
   "metadata": {},
   "outputs": [
    {
     "name": "stdout",
     "output_type": "stream",
     "text": [
      "Healpix: Nside 256\n",
      "Healpix: Npix 786432\n",
      "Healpix: Area [deg^2] 0.05245585282569793\n",
      "Healpix: Side [deg] 0.22903242745449373\n"
     ]
    }
   ],
   "source": [
    "print(\"Healpix: Nside\", params.hp_nside)\n",
    "print(\"Healpix: Npix\", params.hp_npix)\n",
    "print(\"Healpix: Area [deg^2]\", params.hp_area)\n",
    "print(\"Healpix: Side [deg]\", params.hp_side)"
   ]
  },
  {
   "cell_type": "markdown",
   "metadata": {},
   "source": [
    "# Set up a list of \"fake\" pointings for PanSTARRS (F51) \n",
    " - These are all on the same night, and this night is the night of one of the nbody epochs, so no significant propogation is involved"
   ]
  },
  {
   "cell_type": "code",
   "execution_count": 3,
   "metadata": {},
   "outputs": [
    {
     "name": "stdout",
     "output_type": "stream",
     "text": [
      "Before, uv_ =  [(0.8597201309930843, 0.42287459090033147, 0.2864583333333333), (-0.20391667280659886, -0.2596643348616897, 0.9439239501953125), (-0.7408202424448915, -0.11686848012950753, -0.6614583333333333)]\n",
      "After , uv_ =  [[ 0.86022036  0.42196395  0.28629941]\n",
      " [-0.20402471 -0.25898382  0.94408755]\n",
      " [-0.7408779  -0.1162873  -0.66149619]]\n",
      "Number of pointings generated = 1500 \n",
      "First pointing:  G96_2458360.619596065_array([26.12933947])_array([16.6365361])\n",
      "Last  pointing:  G96_2458360.4636170752_array([228.14391482])_array([-50.46990933])\n",
      "RA : min,median,max= 0.9742632277712467 176.58492799489954 359.5246864578176\n",
      "DEC: min,median,max= -86.99066507646809 1.173095135768092 89.28595740566605\n"
     ]
    }
   ],
   "source": [
    "# Overall / average quantities \n",
    "obsCode   = 'G96'\n",
    "JDutc_INT = 2458360\n",
    "FOV = 3.0 ## <<-- Assuming all pointings correspond to exposures with diameter = 3.0 degrees\n",
    "\n",
    "# Generate ~100 randomly selected pointings \n",
    "Np = 1500 \n",
    "rInt = np.random.choice(params.hp_npix, size=Np, replace=False)\n",
    "uv_ = [hp.pix2vec(params.hp_nside, pix, nest=params.hp_nested) for pix in rInt]\n",
    "HP_ = [hp.vec2pix(params.hp_nside, *UV, nest=params.hp_nested) for UV  in uv_]\n",
    "'''print(\"# HP: \", len(HP_), len(list(set(HP_))))\n",
    "print(\"Before, HP_ = \", HP_[0])'''\n",
    "print(\"Before, uv_ = \", uv_[:3])\n",
    "\n",
    "# I don't want the pointings to be in the center of each HP\n",
    "# - Randomly shift by an amount which keeps them within HP\n",
    "RA_, Dec_ = ANG.unit2radec(uv_)\n",
    "uv_randomized = []\n",
    "for i, _ in enumerate(zip(RA_, Dec_ , uv_)):\n",
    "    condition = True\n",
    "    while condition:\n",
    "        # Generating a random shit within the approx scale of a healpix\n",
    "        dR = (params.hp_side/2.)*np.random.random()\n",
    "        dD = (params.hp_side/2.)*np.random.random()\n",
    "        sR = +1 if np.random.random() > 0.5 else -1\n",
    "        sD = +1 if np.random.random() > 0.5 else -1\n",
    "        # Shift the RA,Dec\n",
    "        R = _[0]+sR*dR\n",
    "        D = _[1]+sD*dD\n",
    "        # Get the corresponding shifted UV & HP\n",
    "        UV= ANG.radec2unit(R,D)\n",
    "        HP= hp.vec2pix(params.hp_nside, *UV, nest=params.hp_nested)\n",
    "        # Check that the HP is the same as it was initially\n",
    "        # (I'm just trying to shift the center within the same HP)\n",
    "        if HP == HP_[i]:\n",
    "            condition = False \n",
    "            uv_randomized.append(UV) \n",
    "uv_ = np.array(uv_randomized)\n",
    "print(\"After , uv_ = \", uv_[:3])\n",
    "\n",
    "# Generate multiple different pointings \n",
    "PointingList = []\n",
    "for i in range(Np):\n",
    "    JDutc = JDutc_INT + 0.25 + 0.5*np.random.rand()\n",
    "    RA , Dec  = ANG.unit2radec(uv_[i])\n",
    "    PointingList.append( Classes.Pointing(obsCode, JDutc, RA , Dec, FOV) )\n",
    "\n",
    "# Examine some of the quantities to check that they are all as expected\n",
    "print(\"Number of pointings generated = %d \" % len(PointingList) )\n",
    "print(\"First pointing: \" , PointingList[0])\n",
    "print(\"Last  pointing: \" , PointingList[-1])\n",
    "tmpR = [P.RADEC[0] for P in PointingList]\n",
    "tmpD = [P.RADEC[1] for P in PointingList]\n",
    "print(\"RA : min,median,max=\",np.min(tmpR), np.median(tmpR), np.max(tmpR))\n",
    "print(\"DEC: min,median,max=\",np.min(tmpD), np.median(tmpD), np.max(tmpD))"
   ]
  },
  {
   "cell_type": "markdown",
   "metadata": {},
   "source": [
    "# Observatory Positions wrt Center of Ecliptic\n",
    " - It will be useful later on to have ensured that each Pointing knows where it was taken from (in heliocentric coords w.r.t. the ecliptic)\n",
    " - Use the functionality demonstrated in \"Demonstrate_PointingObjects.ipynb\""
   ]
  },
  {
   "cell_type": "code",
   "execution_count": 4,
   "metadata": {},
   "outputs": [
    {
     "name": "stdout",
     "output_type": "stream",
     "text": [
      "Ecliptic Helio coords of Observatory at time of first pointing:  [ 9.25645098e-01 -4.03455868e-01  5.15484194e-05]\n",
      "Ecliptic Helio coords of Observatory at time of last pointing:  [ 9.24582987e-01 -4.05888801e-01  4.53567447e-05]\n",
      "CPU times: user 20.4 s, sys: 250 ms, total: 20.7 s\n",
      "Wall time: 20.8 s\n"
     ]
    }
   ],
   "source": [
    "%%time \n",
    "# Do the calculations \n",
    "for P in PointingList:\n",
    "    P.calc_heliocentric_position_of_observatory_in_ecliptic_coords()\n",
    "\n",
    "# Check the results \n",
    "print(\"Ecliptic Helio coords of Observatory at time of first pointing: \" , PointingList[0].helio_ec_posn)\n",
    "print(\"Ecliptic Helio coords of Observatory at time of last pointing: \" , PointingList[-1].helio_ec_posn)"
   ]
  },
  {
   "cell_type": "markdown",
   "metadata": {},
   "source": [
    "# Work out which (topocentric) healpix are occupied by the FoV of each pointing"
   ]
  },
  {
   "cell_type": "code",
   "execution_count": 5,
   "metadata": {},
   "outputs": [
    {
     "name": "stdout",
     "output_type": "stream",
     "text": [
      "HP covered by first pointing:  [ 10274  10275  10280  10281  10282  10283  10284  10285  10286  10287\n",
      "  10296  10298  10299  10368  10369  10370  10371  10372  10373  10374\n",
      "  10375  10376  10377  10378  10379  10380  10381  10382  10383  10384\n",
      "  10385  10386  10387  10388  10390  10391  10392  10393  10394  10395\n",
      "  10396  10397  10398  10399  10400  10401  10402  10403  10404  10405\n",
      "  10406  10407  10408  10409  10410  10411  10412  10413  10414  10415\n",
      "  10416  10417  10418  10419  10420  10421  10422  10423  10424  10425\n",
      "  10426  10427  10428  10429  10430  10431  10752  10753  10754  10755\n",
      "  10756  10757  10758  10759  10760  10761  10762  10763  10764  10765\n",
      "  10766  10767  10768  10769  10770  10771  10772  10773  10774  10776\n",
      "  10777 294265 294266 294267 294268 294269 294270 294271 294341 294342\n",
      " 294343 294348 294349 294350 294351 294352 294353 294354 294355 294356\n",
      " 294357 294358 294359 294360 294361 294362 294363 294364 294365 294366\n",
      " 294367 294372 294373 294374 294375 294380 294381 294383 294384 294385\n",
      " 294386 294387 294388 294389 294390 294391 294392 294393 294394 294395\n",
      " 294396 294397 294398 294399 294725 294736 294737 294738 294739 294740\n",
      " 294741 294742 294743 294745 294748 294749 294751]\n",
      "HP covered by 2nd pointing:  [187133 187135 187299 187300 187301 187302 187303 187304 187305 187306\n",
      " 187307 187308 187309 187310 187311 187312 187313 187314 187315 187316\n",
      " 187317 187318 187319 187320 187321 187322 187323 187324 187325 187326\n",
      " 187327 187362 187368 187369 187370 187371 192595 192596 192597 192598\n",
      " 192599 192601 192603 192604 192605 192606 192607 192624 192625 192626\n",
      " 192627 192628 192629 192630 192631 192632 192633 192635 192636 192637\n",
      " 192638 192639 192721 192724 192725 192726 192727 192733 192768 192769\n",
      " 192770 192771 192772 192773 192774 192775 192776 192777 192778 192779\n",
      " 192780 192781 192782 192783 192784 192785 192786 192787 192788 192789\n",
      " 192790 192791 192792 192793 192794 192795 192796 192797 192798 192799\n",
      " 192800 192801 192802 192803 192804 192805 192806 192807 192808 192809\n",
      " 192810 192811 192812 192813 192814 192815 192816 192817 192818 192819\n",
      " 192820 192821 192822 192823 192824 192825 192826 192827 192828 192829\n",
      " 192830 192831 192832 192833 192834 192835 192840 192841 192842 192843\n",
      " 192864 192865 192866 192867 192872 192874 192896 192897 192898 192899\n",
      " 192900 192901 192902 192903 192904 192905 192908 192909 192912 192913\n",
      " 192914 192915 192916 192917 192918 192920]\n",
      "HP covered by 3rd pointing:  [697326 697327 697338 697339 697342 698653 698654 698655 698675 698676\n",
      " 698677 698678 698679 698681 698682 698683 698684 698685 698686 698687\n",
      " 698689 698690 698691 698692 698693 698694 698695 698696 698697 698698\n",
      " 698699 698700 698701 698702 698703 698704 698705 698706 698707 698708\n",
      " 698710 698711 698712 698713 698714 698715 698716 698717 698718 698719\n",
      " 698720 698721 698722 698723 698724 698725 698726 698727 698728 698729\n",
      " 698730 698731 698732 698733 698734 698735 698736 698737 698738 698739\n",
      " 698740 698741 698742 698743 698744 698745 698746 698747 698748 698749\n",
      " 698750 698751 698765 698767 698768 698769 698770 698771 698772 698773\n",
      " 698774 698775 698776 698777 698778 698779 698780 698781 698782 698783\n",
      " 698789 698800 698801 698802 698803 698804 698805 698806 698807 698809\n",
      " 698812 698813 698816 698817 698818 698819 698820 698821 698822 698823\n",
      " 698824 698825 698826 698827 698828 698829 698830 698831 698832 698833\n",
      " 698834 698835 698836 698837 698838 698839 698840 698841 698842 698843\n",
      " 698844 698845 698846 698848 698849 698850 698851 698852 698853 698854\n",
      " 698855 698856 698857 698860 698864 698865 698866 699394 699400 699402\n",
      " 699403 699424 699425 699426 699427 699432 699433 699434 699520 699522]\n",
      "HP covered by last  pointing:  [669429 669430 669431 669433 669434 669435 669436 669437 669438 669439\n",
      " 669582 669583 669594 669600 669601 669602 669603 669604 669605 669606\n",
      " 669607 669608 669609 669610 669611 669612 669613 669614 669615 669616\n",
      " 669617 669618 669619 669620 669621 669622 669623 669624 669625 669626\n",
      " 669627 669628 669629 669630 669631 669672 669674 670789 670791 670796\n",
      " 670797 670798 670799 670800 670801 670802 670803 670804 670805 670806\n",
      " 670807 670808 670809 670810 670811 670812 670813 670814 670815 670820\n",
      " 670821 670822 670823 670828 670829 670830 670831 670832 670833 670834\n",
      " 670835 670836 670837 670838 670839 670840 670841 670842 670843 670844\n",
      " 670845 670846 670847 670917 670928 670929 670930 670931 670932 670933\n",
      " 670934 670935 670976 670977 670978 670979 670980 670981 670982 670983\n",
      " 670984 670985 670986 670987 670988 670989 670990 670991 670992 670993\n",
      " 670994 670995 670996 670997 670998 670999 671000 671001 671002 671003\n",
      " 671004 671005 671006 671007 671008 671009 671010 671011 671012 671013\n",
      " 671014 671015 671016 671017 671018 671019 671020 671021 671022 671023\n",
      " 671024 671025 671026 671027 671028 671029 671030 671032 671033 671034\n",
      " 671040 671042 671048 671104 671105 671106 671107 671108 671109]\n",
      "CPU times: user 150 ms, sys: 12.4 ms, total: 162 ms\n",
      "Wall time: 153 ms\n"
     ]
    }
   ],
   "source": [
    "%%time \n",
    "# Do the calculations \n",
    "for P in PointingList:\n",
    "    P.HP_covered_by_FoV()\n",
    "\n",
    "# Check the results \n",
    "print(\"HP covered by first pointing: \" , PointingList[0].HPfov)\n",
    "print(\"HP covered by 2nd pointing: \" , PointingList[1].HPfov)\n",
    "print(\"HP covered by 3rd pointing: \" , PointingList[2].HPfov)\n",
    "print(\"HP covered by last  pointing: \" , PointingList[-1].HPfov)"
   ]
  },
  {
   "cell_type": "markdown",
   "metadata": {},
   "source": [
    "# \"Buffer Zone\": Get topocentric healpix an extra degree outside the FoV of each pointing"
   ]
  },
  {
   "cell_type": "code",
   "execution_count": 6,
   "metadata": {},
   "outputs": [
    {
     "name": "stdout",
     "output_type": "stream",
     "text": [
      "HP covered by first pointing:  [ 10274  10275  10280  10281  10282  10283  10284  10285  10286  10287\n",
      "  10296  10298  10299  10368  10369  10370  10371  10372  10373  10374\n",
      "  10375  10376  10377  10378  10379  10380  10381  10382  10383  10384\n",
      "  10385  10386  10387  10388  10390  10391  10392  10393  10394  10395\n",
      "  10396  10397  10398  10399  10400  10401  10402  10403  10404  10405\n",
      "  10406  10407  10408  10409  10410  10411  10412  10413  10414  10415\n",
      "  10416  10417  10418  10419  10420  10421  10422  10423  10424  10425\n",
      "  10426  10427  10428  10429  10430  10431  10752  10753  10754  10755\n",
      "  10756  10757  10758  10759  10760  10761  10762  10763  10764  10765\n",
      "  10766  10767  10768  10769  10770  10771  10772  10773  10774  10776\n",
      "  10777 294265 294266 294267 294268 294269 294270 294271 294341 294342\n",
      " 294343 294348 294349 294350 294351 294352 294353 294354 294355 294356\n",
      " 294357 294358 294359 294360 294361 294362 294363 294364 294365 294366\n",
      " 294367 294372 294373 294374 294375 294380 294381 294383 294384 294385\n",
      " 294386 294387 294388 294389 294390 294391 294392 294393 294394 294395\n",
      " 294396 294397 294398 294399 294725 294736 294737 294738 294739 294740\n",
      " 294741 294742 294743 294745 294748 294749 294751]\n",
      "HP covered by 2nd pointing:  [187133 187135 187299 187300 187301 187302 187303 187304 187305 187306\n",
      " 187307 187308 187309 187310 187311 187312 187313 187314 187315 187316\n",
      " 187317 187318 187319 187320 187321 187322 187323 187324 187325 187326\n",
      " 187327 187362 187368 187369 187370 187371 192595 192596 192597 192598\n",
      " 192599 192601 192603 192604 192605 192606 192607 192624 192625 192626\n",
      " 192627 192628 192629 192630 192631 192632 192633 192635 192636 192637\n",
      " 192638 192639 192721 192724 192725 192726 192727 192733 192768 192769\n",
      " 192770 192771 192772 192773 192774 192775 192776 192777 192778 192779\n",
      " 192780 192781 192782 192783 192784 192785 192786 192787 192788 192789\n",
      " 192790 192791 192792 192793 192794 192795 192796 192797 192798 192799\n",
      " 192800 192801 192802 192803 192804 192805 192806 192807 192808 192809\n",
      " 192810 192811 192812 192813 192814 192815 192816 192817 192818 192819\n",
      " 192820 192821 192822 192823 192824 192825 192826 192827 192828 192829\n",
      " 192830 192831 192832 192833 192834 192835 192840 192841 192842 192843\n",
      " 192864 192865 192866 192867 192872 192874 192896 192897 192898 192899\n",
      " 192900 192901 192902 192903 192904 192905 192908 192909 192912 192913\n",
      " 192914 192915 192916 192917 192918 192920]\n",
      "HP covered by 3rd pointing:  [697326 697327 697338 697339 697342 698653 698654 698655 698675 698676\n",
      " 698677 698678 698679 698681 698682 698683 698684 698685 698686 698687\n",
      " 698689 698690 698691 698692 698693 698694 698695 698696 698697 698698\n",
      " 698699 698700 698701 698702 698703 698704 698705 698706 698707 698708\n",
      " 698710 698711 698712 698713 698714 698715 698716 698717 698718 698719\n",
      " 698720 698721 698722 698723 698724 698725 698726 698727 698728 698729\n",
      " 698730 698731 698732 698733 698734 698735 698736 698737 698738 698739\n",
      " 698740 698741 698742 698743 698744 698745 698746 698747 698748 698749\n",
      " 698750 698751 698765 698767 698768 698769 698770 698771 698772 698773\n",
      " 698774 698775 698776 698777 698778 698779 698780 698781 698782 698783\n",
      " 698789 698800 698801 698802 698803 698804 698805 698806 698807 698809\n",
      " 698812 698813 698816 698817 698818 698819 698820 698821 698822 698823\n",
      " 698824 698825 698826 698827 698828 698829 698830 698831 698832 698833\n",
      " 698834 698835 698836 698837 698838 698839 698840 698841 698842 698843\n",
      " 698844 698845 698846 698848 698849 698850 698851 698852 698853 698854\n",
      " 698855 698856 698857 698860 698864 698865 698866 699394 699400 699402\n",
      " 699403 699424 699425 699426 699427 699432 699433 699434 699520 699522]\n",
      "HP covered by last  pointing:  [669429 669430 669431 669433 669434 669435 669436 669437 669438 669439\n",
      " 669582 669583 669594 669600 669601 669602 669603 669604 669605 669606\n",
      " 669607 669608 669609 669610 669611 669612 669613 669614 669615 669616\n",
      " 669617 669618 669619 669620 669621 669622 669623 669624 669625 669626\n",
      " 669627 669628 669629 669630 669631 669672 669674 670789 670791 670796\n",
      " 670797 670798 670799 670800 670801 670802 670803 670804 670805 670806\n",
      " 670807 670808 670809 670810 670811 670812 670813 670814 670815 670820\n",
      " 670821 670822 670823 670828 670829 670830 670831 670832 670833 670834\n",
      " 670835 670836 670837 670838 670839 670840 670841 670842 670843 670844\n",
      " 670845 670846 670847 670917 670928 670929 670930 670931 670932 670933\n",
      " 670934 670935 670976 670977 670978 670979 670980 670981 670982 670983\n",
      " 670984 670985 670986 670987 670988 670989 670990 670991 670992 670993\n",
      " 670994 670995 670996 670997 670998 670999 671000 671001 671002 671003\n",
      " 671004 671005 671006 671007 671008 671009 671010 671011 671012 671013\n",
      " 671014 671015 671016 671017 671018 671019 671020 671021 671022 671023\n",
      " 671024 671025 671026 671027 671028 671029 671030 671032 671033 671034\n",
      " 671040 671042 671048 671104 671105 671106 671107 671108 671109]\n",
      "CPU times: user 112 ms, sys: 3.66 ms, total: 116 ms\n",
      "Wall time: 114 ms\n"
     ]
    }
   ],
   "source": [
    "%%time \n",
    "# Do the calculations \n",
    "for P in PointingList:\n",
    "    P.HP_covered_by_FoV(MarginForErrorRadians=np.radians(0.0)) # <<-- Converting 1-degree to radians\n",
    "\n",
    "# Check the results \n",
    "print(\"HP covered by first pointing: \" , PointingList[0].HPfov)\n",
    "print(\"HP covered by 2nd pointing: \" , PointingList[1].HPfov)\n",
    "print(\"HP covered by 3rd pointing: \" , PointingList[2].HPfov)\n",
    "print(\"HP covered by last  pointing: \" , PointingList[-1].HPfov)"
   ]
  },
  {
   "cell_type": "markdown",
   "metadata": {},
   "source": [
    "# Now use the OrbitObjectsByHP routine to get the list of objects which touch a given healpix on a specified (integer) night\n",
    " - See the \"Demonstrate_OrbitObjectsByHP\" notebook "
   ]
  },
  {
   "cell_type": "markdown",
   "metadata": {},
   "source": [
    "# FIRST CALL TO FILES IS SLOW ...\n",
    "# ... Here we are returning results for only the first Pointing\n",
    " - But only 4-seconds slow, not 2min like before"
   ]
  },
  {
   "cell_type": "code",
   "execution_count": 7,
   "metadata": {},
   "outputs": [
    {
     "name": "stdout",
     "output_type": "stream",
     "text": [
      "Lengthy import ...\n",
      "Opening '/Users/matthewjohnpayne/Dropbox/mpchecker/preprocessed_data/OrbitNumberByHP_500_2458360_5.npy'\n",
      "Opening '/Users/matthewjohnpayne/Dropbox/mpchecker/preprocessed_data/orbitObject_states_2458360_5.npy'\n",
      "states[0] [ 2.95912208e-04  2.45836050e+06  1.11215415e+00 -1.77863726e+00\n",
      "  1.73906687e+00 -1.14415952e-03 -8.20921128e-03 -6.44663356e-03]\n",
      "Opening '/Users/matthewjohnpayne/Dropbox/mpchecker/preprocessed_data/orbitObject_desigs_2458360_5.npy'\n",
      "desigs[0] 00001\n",
      "CPU times: user 4.22 s, sys: 287 ms, total: 4.51 s\n",
      "Wall time: 4.52 s\n"
     ]
    }
   ],
   "source": [
    "%%time\n",
    "# Let's import the Object List for the first pointing ...\n",
    "print('Lengthy import ...')\n",
    "obsCode = '500'\n",
    "JDUTCstr = str(int(PointingList[0].JDutc))+\"_5\"\n",
    "OrbitObjectList = mpchecker.OrbitObjectsByHP(PointingList[0].HPfov , JDUTCstr , obsCode)"
   ]
  },
  {
   "cell_type": "code",
   "execution_count": 8,
   "metadata": {},
   "outputs": [
    {
     "name": "stdout",
     "output_type": "stream",
     "text": [
      "# of returned OrbitObjects:  93\n",
      "Type of first item in list =  <class 'classes.OrbitObject'>\n",
      "Attributes of first item in list ...\n",
      "\t OO.cart_state =  <universal_kepler.universal_kepler.CartState object at 0xb20059268>\n",
      "\t OO.GMcenter =  0.00029591220828559115\n",
      "\t OO.epoch =  2458360.5\n"
     ]
    }
   ],
   "source": [
    "# Look at the results returned ...\n",
    "print(\"# of returned OrbitObjects: \", len(OrbitObjectList))\n",
    "\n",
    "OO = OrbitObjectList[0]\n",
    "print(\"Type of first item in list = \", type(OO) )\n",
    "print(\"Attributes of first item in list ...\")\n",
    "print(\"\\t OO.cart_state = \", OO.cart_state)\n",
    "print(\"\\t OO.GMcenter = \", OO.GMcenter)\n",
    "print(\"\\t OO.epoch = \", OO.epoch)\n"
   ]
  },
  {
   "cell_type": "markdown",
   "metadata": {},
   "source": [
    "# SECOND CALL TO FILES IS FAST ...\n",
    "# ... Here we are returning the results for *ALL* Pointings"
   ]
  },
  {
   "cell_type": "code",
   "execution_count": 9,
   "metadata": {},
   "outputs": [
    {
     "name": "stdout",
     "output_type": "stream",
     "text": [
      "CPU times: user 277 ms, sys: 7.38 ms, total: 285 ms\n",
      "Wall time: 283 ms\n"
     ]
    }
   ],
   "source": [
    "%%time\n",
    "# Let's import the Object List for the second pointing ...\n",
    "obsCode = '500'\n",
    "JDUTCstr = str(int(PointingList[0].JDutc))+\"_5\"\n",
    "OrbitObjectDict = {i : mpchecker.OrbitObjectsByHP(P.HPfov , JDUTCstr, obsCode) for i,P in enumerate(PointingList) }"
   ]
  },
  {
   "cell_type": "code",
   "execution_count": 10,
   "metadata": {},
   "outputs": [
    {
     "name": "stdout",
     "output_type": "stream",
     "text": [
      "# of returned Healpix:  1500\n",
      "Number of returned OrbitObjects for key=0 is:  93\n",
      "Total number of returned OrbitObjects is:  169515\n",
      "Total number of unique returned OrbitObjects is:  146456\n",
      "CPU times: user 220 ms, sys: 7.54 ms, total: 228 ms\n",
      "Wall time: 225 ms\n"
     ]
    }
   ],
   "source": [
    "%%time\n",
    "# Examine the results returned ...\n",
    "print(\"# of returned Healpix: \", len(OrbitObjectDict))\n",
    "print(\"Number of returned OrbitObjects for key=0 is: \", len(OrbitObjectDict[0]) )\n",
    "returnedOrbitObjectDesigs = []\n",
    "for v in OrbitObjectDict.values(): returnedOrbitObjectDesigs.extend([_.desig for _ in v])\n",
    "print(\"Total number of returned OrbitObjects is: \", len(returnedOrbitObjectDesigs) )\n",
    "print(\"Total number of unique returned OrbitObjects is: \", len(list(set(returnedOrbitObjectDesigs))))\n"
   ]
  },
  {
   "cell_type": "markdown",
   "metadata": {},
   "source": [
    "# Propagate Orbits to time of pointings\n",
    " - Follow the example(s) in \"Demonstrate_OrbitObjectsByHP.ipynb\" where we use RADEC_from_state_C to advance the returned OrbitObjects to a different time in the night "
   ]
  },
  {
   "cell_type": "code",
   "execution_count": 11,
   "metadata": {},
   "outputs": [
    {
     "name": "stdout",
     "output_type": "stream",
     "text": [
      "RA,Dec of first OrbitObject (70933) at time of first Pointing (2458360.619596)\n",
      "26.95869734071103 15.614363682669545\n",
      "\n",
      "CPU times: user 1.09 ms, sys: 717 µs, total: 1.8 ms\n",
      "Wall time: 1.14 ms\n"
     ]
    }
   ],
   "source": [
    "%%time\n",
    "# Advance the first OrbitObject from above to the time of the first Pointing above \n",
    "Pnum = 0 \n",
    "P = PointingList[Pnum]\n",
    "OO = OrbitObjectDict[Pnum][0]\n",
    "RA_, DEC_ = OO.get_RADEC( np.array([P.JDutc]), P.helio_ec_posn)\n",
    "# Examine the output\n",
    "print(\"RA,Dec of first OrbitObject (%s) at time of first Pointing (%f)\" % (OO.desig,PointingList[0].JDutc ) )\n",
    "for RA,DEC in zip(RA_, DEC_): \n",
    "    print(RA,DEC)\n",
    "print()"
   ]
  },
  {
   "cell_type": "code",
   "execution_count": 12,
   "metadata": {},
   "outputs": [
    {
     "name": "stdout",
     "output_type": "stream",
     "text": [
      "length: 93 True\n",
      "26.95869734071103 15.614363682669545\n",
      "24.800120196387752 17.182117039046258\n",
      "CPU times: user 4.73 ms, sys: 2.38 ms, total: 7.11 ms\n",
      "Wall time: 4.73 ms\n"
     ]
    }
   ],
   "source": [
    "%%time\n",
    "# Advance all OrbitObjects (that are relevant to the first Pointing) to the time of the first Pointing\n",
    "RA_, DEC_ = [],[]\n",
    "Pnum = 0 \n",
    "P = PointingList[Pnum]\n",
    "for OO in OrbitObjectDict[Pnum]:\n",
    "    r, d = OO.get_RADEC( np.array([P.JDutc]), P.helio_ec_posn)\n",
    "    RA_.append(r[0]), DEC_.append(d[0])\n",
    "# Examine the output\n",
    "print(\"length:\", len(OrbitObjectDict[Pnum]), len(RA_)==len(OrbitObjectList))\n",
    "print(RA_[0],DEC_[0])\n",
    "print(RA_[-1], DEC_[-1])\n"
   ]
  },
  {
   "cell_type": "code",
   "execution_count": 13,
   "metadata": {},
   "outputs": [
    {
     "name": "stdout",
     "output_type": "stream",
     "text": [
      "CPU times: user 3.71 s, sys: 15 ms, total: 3.73 s\n",
      "Wall time: 3.72 s\n"
     ]
    }
   ],
   "source": [
    "%%time\n",
    "# Advance all OrbitObjects (that are relevant to each Pointing) to the times of each (Np~100) Pointing\n",
    "for i,P in enumerate(PointingList):\n",
    "    RA_, DEC_ = [],[]\n",
    "    for OO in OrbitObjectDict[i]:\n",
    "        r, d = OO.get_RADEC( np.array([P.JDutc]), P.helio_ec_posn)\n",
    "        RA_.append(r[0]), DEC_.append(d[0])\n",
    "    indiceesWithinFoV = P.select_RADEC_within_FoV(RA_, DEC_)\n"
   ]
  },
  {
   "cell_type": "markdown",
   "metadata": {},
   "source": [
    "# Select the Subset of an RA_, DEC_ list which are actually in the Field-of-View of a Pointing\n",
    " - Just looking at a single pointing in this cell ... \n",
    " - Just develop this here, then push into main pointing functionality"
   ]
  },
  {
   "cell_type": "code",
   "execution_count": 14,
   "metadata": {},
   "outputs": [
    {
     "name": "stdout",
     "output_type": "stream",
     "text": [
      "lens:  93 True\n",
      "RA_  =  [26.95869734071103, 26.967001015340596, 27.085799596443735, 27.062084459016436, 26.906836926805205, 27.32488713841045, 27.20416413529228, 27.405746053392075, 26.598140155742094, 26.459675336155104]  ... \n",
      "DEC_ =  [15.614363682669545, 15.653587232187594, 15.722262882174894, 15.869559679846404, 15.867372093404146, 15.999119586096944, 16.10517361867931, 16.193205316629903, 15.778918354661956, 15.890671519292177]  ... \n",
      "\n",
      "P.RADEC :  (array([26.12933947]), array([16.6365361]))\n",
      "\n",
      "length: 93 True\n",
      "angles =  [1.29598969 1.27027115 1.29601622 1.1790246  1.07180138 1.3125469\n",
      " 1.16008948 1.30216622 0.96858413 0.81047845]  ... \n",
      "# indiceesWithinFoV =  81\n",
      "angleswithinFOV =  [1.29598969 1.27027115 1.29601622 1.1790246  1.07180138 1.3125469\n",
      " 1.16008948 1.30216622 0.96858413 0.81047845 1.10973    1.18869741\n",
      " 0.78236102 0.80637015 0.22701932 0.33202117 0.49495641 1.20736702\n",
      " 0.87936222 0.81760071 0.83470189 1.46074108 1.19256765 1.11973153\n",
      " 0.50794647 0.60151065 0.49696161 0.36181125 0.71606657 0.69420347\n",
      " 0.73067212 0.63139498 0.75213207 1.00231659 0.93871671 1.08344301\n",
      " 1.03379286 1.34567603 1.31261954 0.96283465 1.14782584 1.0038984\n",
      " 0.83421454 0.88610352 1.39079396 1.33038321 1.06171667 1.25020027\n",
      " 1.35082819 1.33131866 1.23668458 1.29973757 1.48497571 1.45300557\n",
      " 1.41813954 1.27996122 1.06994235 1.05400954 0.95402622 1.26204067\n",
      " 1.13935918 0.91322494 1.44343827 1.37191789 1.05259388 0.60609408\n",
      " 0.5516502  0.40435817 0.37449959 0.90189036 1.3546029  1.18762659\n",
      " 0.61505227 0.91626282 1.34159785 1.16889262 1.01935762 1.173823\n",
      " 1.25856244 1.15947824 1.38383175]\n",
      "CPU times: user 15.5 ms, sys: 2.87 ms, total: 18.4 ms\n",
      "Wall time: 15.8 ms\n"
     ]
    }
   ],
   "source": [
    "%%time\n",
    "RA_, DEC_  = [],[]\n",
    "# Just looking at a single pointing in this cell ... \n",
    "Pnum = 0 \n",
    "P = PointingList[Pnum]\n",
    "for OO in OrbitObjectDict[Pnum]:\n",
    "    # Advance OrbitObject to the time of the first Pointing\n",
    "    r, d = OO.get_RADEC( np.array([P.JDutc]), P.helio_ec_posn)\n",
    "    RA_.append(r[0]), DEC_.append(d[0])\n",
    "print(\"lens: \", len(RA_), len(RA_)==len(OrbitObjectDict[Pnum]))\n",
    "print(\"RA_  = \", RA_[:10], \" ... \")\n",
    "print(\"DEC_ = \", DEC_[:10], \" ... \")\n",
    "\n",
    "# For reference, re-print the RA,DEC of the center ...\n",
    "print()\n",
    "print(\"P.RADEC : \", P.RADEC)\n",
    "print() \n",
    "\n",
    "# Get the angle between the RA_,DEC_ and the center of the pointing\n",
    "# - This explicit step not required in practice, but done here for pedagogical purposes \n",
    "angles = P.calc_angles_wrt_center_radec(RA_, DEC_)\n",
    "print(\"length:\", len(angles), len(angles)==len(OrbitObjectDict[Pnum]))\n",
    "print(\"angles = \", angles[:10], \" ... \")\n",
    "\n",
    "# Get the indicees of the objects which fall within the FoV\n",
    "# - THis uses the calc_angles_wrt_center_radec function illustrated above \n",
    "indiceesWithinFoV = P.select_RADEC_within_FoV(RA_, DEC_)\n",
    "print(\"# indiceesWithinFoV = \", len(indiceesWithinFoV[0]))\n",
    "print(\"angleswithinFOV = \", angles[indiceesWithinFoV])\n"
   ]
  },
  {
   "cell_type": "code",
   "execution_count": 15,
   "metadata": {},
   "outputs": [
    {
     "data": {
      "image/png": "[encoded data removed]",
      "text/plain": [
       "<Figure size 432x288 with 1 Axes>"
      ]
     },
     "metadata": {},
     "output_type": "display_data"
    }
   ],
   "source": [
    "# Plot the distribution of the angles \n",
    "tmp=plt.hist(angles, bins=np.arange(0,10,0.1))\n",
    "tmp=plt.hist(angles[indiceesWithinFoV], bins=np.arange(0,10,0.1))\n"
   ]
  },
  {
   "cell_type": "markdown",
   "metadata": {},
   "source": [
    "# Want to examine the sensitivity on \"MarginForErrorRadians\"\n",
    " - I.e., how wide is wide enough (so that we don't keep calculating orbits for no reason) ?"
   ]
  },
  {
   "cell_type": "code",
   "execution_count": 16,
   "metadata": {},
   "outputs": [],
   "source": [
    "# Start by making a compact version of the analysis performed in the above cells...\n",
    "def evaluate_pointing( P, deg , DEBUG=False):\n",
    "    # Calculate the approximate HP list with the margin-for-error\n",
    "    P.HP_covered_by_FoV(MarginForErrorRadians=np.radians(deg))\n",
    "    \n",
    "    # Import the Object List for the pointing ...\n",
    "    obsCode = '500'\n",
    "    JDUTCstr = str(int(P.JDutc))+\"_5\"\n",
    "    OrbitObjectList = mpchecker.OrbitObjectsByHP(P.HPfov , JDUTCstr , obsCode)\n",
    "    \n",
    "    # Optionally get the location of the objects at the mid-night time\n",
    "    if DEBUG:\n",
    "        RAmid_,DECmid_=[],[]\n",
    "        for OO in OrbitObjectList:\n",
    "            JDmid = int(P.JDutc) + 0.5\n",
    "            helio_eq_posn = MPCL.Observatory().getObservatoryPosition(obsCode, JDmid)\n",
    "            helio_ec_posn = np.dot(np.transpose(PHYS.rot_mat), helio_eq_posn )\n",
    "            r, d = OO.get_RADEC( np.array([JDmid]), helio_ec_posn)\n",
    "            RAmid_.append(r[0]), DECmid_.append(d[0])\n",
    "            \n",
    "        anglesMid = calc_angles_wrt_center_radec = P.calc_angles_wrt_center_radec(RAmid_, DECmid_)\n",
    "\n",
    "    \n",
    "    # Propagate orbits to time of pointing\n",
    "    RA_,DEC_=[],[]\n",
    "    for OO in OrbitObjectList:\n",
    "        r, d = OO.get_RADEC( np.array([P.JDutc]), P.helio_ec_posn)\n",
    "        RA_.append(r[0]), DEC_.append(d[0])\n",
    "        \n",
    "    # This step not needed ... \n",
    "    if DEBUG:\n",
    "        angles = calc_angles_wrt_center_radec = P.calc_angles_wrt_center_radec(RA_, DEC_)\n",
    "\n",
    "\n",
    "    # Get the indicees of the objects which fall within the FoV\n",
    "    indiceesWithinFoV = P.select_RADEC_within_FoV(RA_, DEC_)\n",
    "\n",
    "    \n",
    "    if DEBUG:\n",
    "        print(\"\\n Deg = \", deg)\n",
    "        print(\"Number of HP touched by FOV:\" , len(P.HPfov))\n",
    "        print(\"Number of Candidate objects:\" , len(OrbitObjectList))\n",
    "        print(\"Number of angles @ middle-of night:\" , len(anglesMid))\n",
    "        print(\"\\t Min/Mean/Max of angles = \", np.min(anglesMid), np.mean(anglesMid), np.max(anglesMid))\n",
    "        print(\"Number of angles @ pointing-times:\" , len(angles))\n",
    "        print(\"\\t Min/Mean/Max of angles = \", np.min(angles), np.mean(angles), np.max(angles))\n",
    "        print(\"Number of angles withion FoV:\" , len(angles[indiceesWithinFoV]))\n",
    "        print(\"\\t Min/Mean/Max of angles = \", np.min(angles[indiceesWithinFoV]), np.mean(angles[indiceesWithinFoV]), np.max(angles[indiceesWithinFoV]))\n",
    "    \n",
    "    # Return the number of indicees within the FoV \n",
    "    if DEBUG:\n",
    "        return len(OrbitObjectList), len(indiceesWithinFoV[0]), len(P.HPfov), RA_,DEC_\n",
    "    else:\n",
    "        return len(OrbitObjectList), len(indiceesWithinFoV[0]), len(P.HPfov)\n",
    "        "
   ]
  },
  {
   "cell_type": "code",
   "execution_count": 20,
   "metadata": {},
   "outputs": [
    {
     "name": "stdout",
     "output_type": "stream",
     "text": [
      "Margin:  0.0  , Ncandidates= 21587  N_in_Fov= 17387  Mean_HPfov= 167.655\n",
      "Margin:  0.1  , Ncandidates= 24166  N_in_Fov= 17402  Mean_HPfov= 187.87\n",
      "Margin:  0.2  , Ncandidates= 26892  N_in_Fov= 17404  Mean_HPfov= 209.785\n",
      "Margin:  0.3  , Ncandidates= 29863  N_in_Fov= 17404  Mean_HPfov= 233.075\n",
      "Margin:  0.4  , Ncandidates= 32912  N_in_Fov= 17404  Mean_HPfov= 256.8\n",
      "Margin:  0.5  , Ncandidates= 36250  N_in_Fov= 17404  Mean_HPfov= 283.045\n",
      "Margin:  0.6  , Ncandidates= 39464  N_in_Fov= 17404  Mean_HPfov= 308.655\n",
      "CPU times: user 5.38 s, sys: 65.5 ms, total: 5.44 s\n",
      "Wall time: 5.41 s\n"
     ]
    }
   ],
   "source": [
    "%%time\n",
    "# Look at some different values of the \"MarginForErrorRadians\"\n",
    "# - N.B. I am just printing out the total number of returned objects within the FoV\n",
    "c = ['k', 'r', 'b', 'y', 'darkgreen', 'orange']\n",
    "for i, deg in enumerate([0.0, 0.1, 0.2, 0.3, 0.4, 0.5, 0.6]):\n",
    "    nTot_, nIn_, nHP_ = [],[],[]\n",
    "    nPeval = 200\n",
    "    for P in PointingList[:nPeval] :  ## <<-- To save time, just doing a subset of the pointings\n",
    "        _ = evaluate_pointing( P, deg, DEBUG=False)\n",
    "        nTot_.append(_[0])\n",
    "        nIn_.append(_[1])\n",
    "        nHP_.append(_[2])\n",
    "    print(\"Margin: \",deg , \" , Ncandidates=\", np.sum(nTot_), \" N_in_Fov=\", np.sum(nIn_), \" Mean_HPfov=\", np.mean(nHP_))\n",
    "    #print(\"angles   [:5] = \", _[2][:5])\n",
    "    #print(\"anglesMid[:5] = \", _[4][:5])\n",
    "    #plt.plot(_[2], _[3], 'o')\n",
    "    #tmp=plt.hist(_[2],       bins=np.arange(0,10,0.1), color=c[i], alpha=0.01, edgecolor='k')\n",
    "    #tmp=plt.hist(_[2][_[3]], bins=np.arange(0,10,0.1), color=c[i], alpha=0.25)\n",
    "#plt.plot(P.RADEC[0], P.RADEC[1], '*', markersize=20)"
   ]
  },
  {
   "cell_type": "markdown",
   "metadata": {},
   "source": [
    "# The above results asymptote for MarginForErrorRadians ~ np.radians(0.4)\n",
    " - I think this is because MBAs @ 2AU move around 0.3 deg/day\n",
    " - N.B. the selected HP-scale is ~0.23 deg per side (i.e. ~0.11deg radius), so it seems likely that the asymptote@~0.4deg is NOT being set by the HP-scale"
   ]
  },
  {
   "cell_type": "code",
   "execution_count": null,
   "metadata": {},
   "outputs": [],
   "source": []
  },
  {
   "cell_type": "markdown",
   "metadata": {},
   "source": [
    "# Testing \"OrbitObjectsInPointing\"\n",
    " - A general function to perform the above methods of finding all objects within a FoV "
   ]
  },
  {
   "cell_type": "code",
   "execution_count": 18,
   "metadata": {},
   "outputs": [
    {
     "name": "stdout",
     "output_type": "stream",
     "text": [
      "81\n",
      "CPU times: user 4.66 ms, sys: 912 µs, total: 5.57 ms\n",
      "Wall time: 4.75 ms\n"
     ]
    }
   ],
   "source": [
    "%%time\n",
    "OrbitObjectList = mpchecker.OrbitObjectsInPointing( PointingList[0] , '500' )\n",
    "print(len(OrbitObjectList))"
   ]
  },
  {
   "cell_type": "code",
   "execution_count": null,
   "metadata": {},
   "outputs": [],
   "source": []
  }
 ],
 "metadata": {
  "kernelspec": {
   "display_name": "Python [conda env:anaconda]",
   "language": "python",
   "name": "conda-env-anaconda-py"
  },
  "language_info": {
   "codemirror_mode": {
    "name": "ipython",
    "version": 3
   },
   "file_extension": ".py",
   "mimetype": "text/x-python",
   "name": "python",
   "nbconvert_exporter": "python",
   "pygments_lexer": "ipython3",
   "version": "3.5.5"
  }
 },
 "nbformat": 4,
 "nbformat_minor": 2
}
