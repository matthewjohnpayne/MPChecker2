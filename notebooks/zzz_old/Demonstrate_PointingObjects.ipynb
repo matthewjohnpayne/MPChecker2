{
 "cells": [
  {
   "cell_type": "markdown",
   "metadata": {},
   "source": [
    "# Demonstration of Pointing-Object Usage \n",
    " - 20190315\n",
    " - MJP\n",
    " - Starting to develop \"Pointing\" Objects \n",
    " - Will have some/lots of inheritance from previous projects "
   ]
  },
  {
   "cell_type": "code",
   "execution_count": 1,
   "metadata": {},
   "outputs": [
    {
     "name": "stderr",
     "output_type": "stream",
     "text": [
      "/Users/matthewjohnpayne/anaconda/lib/python3.5/importlib/_bootstrap.py:222: RuntimeWarning: numpy.dtype size changed, may indicate binary incompatibility. Expected 96, got 88\n",
      "  return f(*args, **kwds)\n",
      "/Users/matthewjohnpayne/anaconda/lib/python3.5/importlib/_bootstrap.py:222: RuntimeWarning: numpy.dtype size changed, may indicate binary incompatibility. Expected 96, got 88\n",
      "  return f(*args, **kwds)\n"
     ]
    }
   ],
   "source": [
    "# Standard imports \n",
    "import numpy as np \n",
    "# MPC imports \n",
    "import MPC_library as MPCL\n",
    "import phys_const as PHYS\n",
    "import mpchecker \n",
    "import classes as Classes\n",
    "import angles as ANG\n",
    "import params "
   ]
  },
  {
   "cell_type": "markdown",
   "metadata": {},
   "source": [
    "# Some of the results returned below will depend on the assumed HP scale for the preprocessing\n",
    " - E.g. the HP # for the center of the pointing ...\n",
    " - At the time of evaluation the assumed parameters are ..."
   ]
  },
  {
   "cell_type": "code",
   "execution_count": 2,
   "metadata": {},
   "outputs": [
    {
     "name": "stdout",
     "output_type": "stream",
     "text": [
      "Healpix: Nside 128\n",
      "Healpix: Npix 196608\n",
      "Healpix: Area [deg^2] 0.20982341130279172\n",
      "Healpix: Side [deg] 0.45806485490898746\n"
     ]
    }
   ],
   "source": [
    "print(\"Healpix: Nside\", params.hp_nside)\n",
    "print(\"Healpix: Npix\", params.hp_npix)\n",
    "print(\"Healpix: Area [deg^2]\", params.hp_area)\n",
    "print(\"Healpix: Side [deg]\", params.hp_side)"
   ]
  },
  {
   "cell_type": "markdown",
   "metadata": {},
   "source": [
    "# Define and populate a \"Pointing\" Object\n",
    " - A unique pointing can be defined by: (a) obscode, (b) date/time, and (c) (RA,Dec) of the center\n",
    " - Note that printing the pointing returns the obscode_JDutc_\n",
    " - Note that these can be initialized with or without specifying the size (diameter) of the FoV"
   ]
  },
  {
   "cell_type": "code",
   "execution_count": 3,
   "metadata": {},
   "outputs": [
    {
     "name": "stdout",
     "output_type": "stream",
     "text": [
      "<class 'classes.Pointing'> G96_2458360.12345_123.45_67.89\n",
      "\n",
      "<class 'classes.Pointing'> G96_2458360.12345_123.45_67.89\n",
      "0.017453292519943295\n"
     ]
    }
   ],
   "source": [
    "obsCode = 'G96'\n",
    "JDutc   = 2458360.12345\n",
    "RA_center, Dec_center = (123.45, 67.89) # <<-- Quantities assumed to be in degrees \n",
    "\n",
    "# Initialize with NO field-of-view specification\n",
    "P = Classes.Pointing(obsCode, JDutc, RA_center, Dec_center) \n",
    "print(type(P), P)\n",
    "print() \n",
    "\n",
    "# Initialize with FoV information \n",
    "FoV_degrees = 1.0 # <<-- Assumed to be a diameter of FoV in degrees\n",
    "P = Classes.Pointing(obsCode, JDutc, RA_center, Dec_center, FoV_degrees)\n",
    "print(type(P), P)\n",
    "print(P.FOV_rad)"
   ]
  },
  {
   "cell_type": "markdown",
   "metadata": {},
   "source": [
    "# Examine the defined pointing object ... "
   ]
  },
  {
   "cell_type": "code",
   "execution_count": 4,
   "metadata": {},
   "outputs": [
    {
     "name": "stdout",
     "output_type": "stream",
     "text": [
      "P.obsCode = 'G96' \n",
      "P.JDutc = 2458360.12345 \n",
      "P.RADEC =  (123.45, 67.89)\n",
      "\n",
      "P.FOV =  1.0\n",
      "P.FOV_rad =  0.017453292519943295\n",
      "\n",
      "Before: P.UV =  None\n",
      "After: P.UV =  [-0.20746736  0.31404409  0.92646295] <class 'numpy.ndarray'>\n",
      "\n",
      "Reconversion: RADEC: P.RADEC =  (array([123.45]), array([67.89]))\n",
      "All close:  False\n"
     ]
    }
   ],
   "source": [
    "# These quantities are defined by the act of loading \n",
    "print(\"P.obsCode = %r \"%P.obsCode )\n",
    "print(\"P.JDutc = %r \"%P.JDutc )\n",
    "print(\"P.RADEC = \" , P.RADEC )\n",
    "print() \n",
    "print(\"P.FOV = \" , P.FOV )\n",
    "print(\"P.FOV_rad = \" , P.FOV_rad )\n",
    "print() \n",
    "\n",
    "# Internal calculation of unit vector \n",
    "print(\"Before: P.UV = \" , P.UV )\n",
    "P.calc_UV()\n",
    "print(\"After: P.UV = \" , P.UV , type(P.UV))\n",
    "print()\n",
    "\n",
    "# Check that the conversion back from RADEC to unit-vector gives the expected numbers \n",
    "recalcRADEC = ANG.unit2radec(P.UV)\n",
    "print(\"Reconversion: RADEC: P.RADEC = \" , recalcRADEC )\n",
    "print(\"All close: \", np.allclose(P.RADEC , recalcRADEC))"
   ]
  },
  {
   "cell_type": "markdown",
   "metadata": {
    "collapsed": true
   },
   "source": [
    "# It is useful to Calculate the Healpix for the FoV of a pointing\n",
    " - The HP of the *CENTER* can be calculated irrespective of whether FOV information has been specified\n",
    " - But if we initialize a Pointing with NO FoV information, we need to add in the FoV info if we want to be able to calculate a reliable list of HP covered by the pointing\n",
    " - In the absence of any information on the FoV, if \"coverage\" is requested I am deliberately quitting so that the user is forced to contemplate their mistakes in life\n",
    " - N.B. in the examples below I did *NOT* have to explicitly calculate the unitvector, as I am nice enough to make that happen internally if/when required (see \"HP_of_center\" inside \"Pointing\" class) "
   ]
  },
  {
   "cell_type": "code",
   "execution_count": 5,
   "metadata": {},
   "outputs": [
    {
     "name": "stdout",
     "output_type": "stream",
     "text": [
      "31174 31174\n",
      "\n",
      "31174 31174\n"
     ]
    }
   ],
   "source": [
    "# Look at the HP occupied by the pointing-*CENTER*\n",
    "# - This works irrespective of whether FoV is defined \n",
    "\n",
    "# Initialize with *NO* FoV information \n",
    "P = Classes.Pointing(obsCode, JDutc, RA_center, Dec_center) \n",
    "print(P.HP_of_center(), P.HPcenter) \n",
    "print() \n",
    "\n",
    "# Initialize with FoV information \n",
    "FoV_degrees = 1.0 # <<-- Assumed to be a diameter of FoV in degrees\n",
    "P = Classes.Pointing(obsCode, JDutc, RA_center, Dec_center, FoV_degrees)\n",
    "print(P.HP_of_center(), P.HPcenter) "
   ]
  },
  {
   "cell_type": "raw",
   "metadata": {},
   "source": [
    "# Look at the HP occupied by the entire FoV of the pointing\n",
    "# - This DOES NOT WORK if the FoV is undefined \n",
    "\n",
    "# Initialize with *NO* FoV information => !!!!!!!!!!!!!!!!!!!!   WILL CRASH   !!!!!!!!!!!!!\n",
    "P = Classes.Pointing(obsCode, JDutc, RA_center, Dec_center) \n",
    "print(P.HP_covered_by_FoV()) "
   ]
  },
  {
   "cell_type": "code",
   "execution_count": 6,
   "metadata": {},
   "outputs": [
    {
     "name": "stdout",
     "output_type": "stream",
     "text": [
      "[31169 31170 31171 31172 31173 31174 31175 31176 31177 31180 31181] [31169 31170 31171 31172 31173 31174 31175 31176 31177 31180 31181] <class 'numpy.ndarray'>\n"
     ]
    }
   ],
   "source": [
    "# Look at the HP occupied by the entire FoV of the pointing\n",
    "# Initialize with FoV information \n",
    "FoV_degrees = 1.0 # <<-- Assumed to be a diameter of FoV in degrees\n",
    "P = Classes.Pointing(obsCode, JDutc, RA_center, Dec_center, FoV_degrees)\n",
    "print(P.HP_covered_by_FoV(), P.HPfov, type(P.HPfov) ) "
   ]
  },
  {
   "cell_type": "markdown",
   "metadata": {},
   "source": [
    "# It is useful for the pointing to be able to calculate / store the heliocentric position of the observatory \n",
    " - Calculating the ECLIPTIC coords is done via a calculation of the EQUATORIAL coords"
   ]
  },
  {
   "cell_type": "code",
   "execution_count": 7,
   "metadata": {},
   "outputs": [
    {
     "name": "stdout",
     "output_type": "stream",
     "text": [
      "False False\n",
      "P.helio_eq_posn =  [ 0.92233908 -0.37724584 -0.1635308 ]\n",
      "P.helio_ec_posn =  [ 9.22339082e-01 -4.11165108e-01  2.31351528e-05]\n"
     ]
    }
   ],
   "source": [
    "# Demonstrate that at this point neither \"helio_eq_posn\" nor \"helio_ec_posn\" exist in \"P\"\n",
    "print( hasattr(P , 'helio_eq_posn') , hasattr(P , 'helio_ec_posn') )\n",
    "      \n",
    "# Call the func to calc_heliocentric_position_of_observatory_in_ecliptic_coords\n",
    "P.calc_heliocentric_position_of_observatory_in_ecliptic_coords()\n",
    "      \n",
    "# Demonstrate that now we have both \"helio_eq_posn\" and \"helio_ec_posn\" exist in \"P\"\n",
    "print(\"P.helio_eq_posn = \",P.helio_eq_posn)\n",
    "print(\"P.helio_ec_posn = \",P.helio_ec_posn)"
   ]
  },
  {
   "cell_type": "markdown",
   "metadata": {},
   "source": [
    "# Select the Subset of an RA_, DEC_ list which are actually in the Field-of-View of a Pointing\n"
   ]
  },
  {
   "cell_type": "code",
   "execution_count": 8,
   "metadata": {},
   "outputs": [
    {
     "name": "stdout",
     "output_type": "stream",
     "text": [
      "3 True\n",
      "(array([0, 1, 3]),)\n"
     ]
    }
   ],
   "source": [
    "# Here are some sample RAs & DECs to check against the pointing\n",
    "RA_, DEC_  = [123.45, 123.46, 12.45, 123.54,],[67.89, 67.99, 6.89, 68.00]\n",
    "    \n",
    "# Get the angle between the RA_,DEC_ and the center of the pointing\n",
    "indiceesWithinFoV = P.select_RADEC_within_FoV(RA_, DEC_)\n",
    "\n",
    "# Examine the output\n",
    "print(len(indiceesWithinFoV[0]), len(indiceesWithinFoV[0])<=len(RA_))\n",
    "print(indiceesWithinFoV)\n"
   ]
  },
  {
   "cell_type": "code",
   "execution_count": null,
   "metadata": {},
   "outputs": [],
   "source": []
  }
 ],
 "metadata": {
  "anaconda-cloud": {},
  "kernelspec": {
   "display_name": "Python [conda env:anaconda]",
   "language": "python",
   "name": "conda-env-anaconda-py"
  },
  "language_info": {
   "codemirror_mode": {
    "name": "ipython",
    "version": 3
   },
   "file_extension": ".py",
   "mimetype": "text/x-python",
   "name": "python",
   "nbconvert_exporter": "python",
   "pygments_lexer": "ipython3",
   "version": "3.5.5"
  }
 },
 "nbformat": 4,
 "nbformat_minor": 2
}
