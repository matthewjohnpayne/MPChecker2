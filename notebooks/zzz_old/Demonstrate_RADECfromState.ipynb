{
 "cells": [
  {
   "cell_type": "markdown",
   "metadata": {},
   "source": [
    "# Demonstration of RADEC_from_state_C\n",
    " - 20190312\n",
    " - MJP\n",
    " - How to use the RADEC_from_state_C routine to advance a supplied state to a specified epoch\n",
    " \n",
    "#### *NOT YET INCLUDE* : Explicit unit-tests to demonstrate accuracy "
   ]
  },
  {
   "cell_type": "code",
   "execution_count": 1,
   "metadata": {},
   "outputs": [
    {
     "name": "stderr",
     "output_type": "stream",
     "text": [
      "/Users/matthewjohnpayne/anaconda/lib/python3.5/importlib/_bootstrap.py:222: RuntimeWarning: numpy.dtype size changed, may indicate binary incompatibility. Expected 96, got 88\n",
      "  return f(*args, **kwds)\n",
      "/Users/matthewjohnpayne/anaconda/lib/python3.5/importlib/_bootstrap.py:222: RuntimeWarning: numpy.dtype size changed, may indicate binary incompatibility. Expected 96, got 88\n",
      "  return f(*args, **kwds)\n"
     ]
    }
   ],
   "source": [
    "# Standard imports \n",
    "import numpy as np \n",
    "import MPC_library as MPCL\n",
    "\n",
    "# Universal-stepper code\n",
    "from universal_kepler import universal_kepler as UK\n",
    "\n",
    "# Universal-stepper tests\n",
    "from universal_kepler import test_universal_kepler as UKTests\n"
   ]
  },
  {
   "cell_type": "markdown",
   "metadata": {},
   "source": [
    "## The \"RADEC_from_state_C\" code is called as below\n",
    " - Note that the returned RA & DEC arrays are already in Degrees"
   ]
  },
  {
   "cell_type": "markdown",
   "metadata": {},
   "source": [
    "RA_Deg_arr,DEC_Deg_arr = UK.RADEC_from_state_C(   state,\n",
    "                                                  GMcenter,\n",
    "                                                  epoch_of_state_TT,\n",
    "                                                  array_of_synthetic_observation_times_TT,\n",
    "                                                  array_of_observatory_positions_wrt_center_ECLIPTIC)"
   ]
  },
  {
   "cell_type": "markdown",
   "metadata": {},
   "source": [
    "# There are tests contained in \"universal_kepler/test_universal_kepler.py\"\n",
    "# Let's explicitly replicate one of those ... \"test_radec_from_state_C()\"\n",
    "\n",
    "### Note that\n",
    " - the input state needs to be a \"CartState\"\n",
    " - the array_of_synthetic_observation_times_TT & array_of_observatory_positions_wrt_center_ECLIPTIC both need to be actual NUMPY arrays"
   ]
  },
  {
   "cell_type": "code",
   "execution_count": 2,
   "metadata": {},
   "outputs": [
    {
     "name": "stdout",
     "output_type": "stream",
     "text": [
      "177.76686320901914\n",
      "176.49015604040812\n",
      "0.9678461148929935\n",
      "1.5203950844235155\n"
     ]
    }
   ],
   "source": [
    "# Define the input state\n",
    "a = 0.4  # /* AU */\n",
    "e = 0.2\n",
    "Q = a*(1.0 + e)#   /* the apocentric distance */\n",
    "beta = MPCL.Constants.GMsun/a\n",
    "\n",
    "s = UK.CartState()\n",
    "s.x = 4.7999999999999998e-01 ; s.y = 0.0; s.z=0.0 ;\n",
    "s.xd = 0.0; s.yd=2.2205104518255862e-02; s.zd=0.0;\n",
    "\n",
    "# Test epoch (for state)\n",
    "epoch_TT = 2458513.1\n",
    "\n",
    "array_of_synthetic_observation_times_TT = np.array([2458514.1, 2458515.1 ])\n",
    "\n",
    "# observatory positions at times of obervations\n",
    "# these are obviously fake\n",
    "array_of_observatory_positions_wrt_center_ECLIPTIC = np.array([\n",
    "    [1.0, 0.0, 0.0],\n",
    "    [0.99,0.01,0.0]])\n",
    "\n",
    "# Call the function\n",
    "RA_arr,DEC_arr = UK.RADEC_from_state_C(s,\n",
    "                                       MPCL.Constants.GMsun, \n",
    "                                       epoch_TT, \n",
    "                                       array_of_synthetic_observation_times_TT , \n",
    "                                       array_of_observatory_positions_wrt_center_ECLIPTIC )\n",
    "for item in RA_arr: print(item)\n",
    "for item in DEC_arr: print(item)\n"
   ]
  },
  {
   "cell_type": "code",
   "execution_count": null,
   "metadata": {},
   "outputs": [],
   "source": []
  }
 ],
 "metadata": {
  "kernelspec": {
   "display_name": "Python [conda env:anaconda]",
   "language": "python",
   "name": "conda-env-anaconda-py"
  },
  "language_info": {
   "codemirror_mode": {
    "name": "ipython",
    "version": 3
   },
   "file_extension": ".py",
   "mimetype": "text/x-python",
   "name": "python",
   "nbconvert_exporter": "python",
   "pygments_lexer": "ipython3",
   "version": "3.5.5"
  }
 },
 "nbformat": 4,
 "nbformat_minor": 2
}
