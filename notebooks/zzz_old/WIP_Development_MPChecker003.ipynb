{
 "cells": [
  {
   "cell_type": "markdown",
   "metadata": {},
   "source": [
    "# WIP Development of MPChecker: 003\n",
    " - 20190315\n",
    " - MJP\n",
    " - Initial look at MPChecker-like functionality \n",
    " - Timing analysis of \"OrbitObjectsInPointing\" functionality "
   ]
  },
  {
   "cell_type": "code",
   "execution_count": 1,
   "metadata": {},
   "outputs": [
    {
     "name": "stderr",
     "output_type": "stream",
     "text": [
      "/Users/matthewjohnpayne/anaconda/lib/python3.5/importlib/_bootstrap.py:222: RuntimeWarning: numpy.dtype size changed, may indicate binary incompatibility. Expected 96, got 88\n",
      "  return f(*args, **kwds)\n",
      "/Users/matthewjohnpayne/anaconda/lib/python3.5/importlib/_bootstrap.py:222: RuntimeWarning: numpy.dtype size changed, may indicate binary incompatibility. Expected 96, got 88\n",
      "  return f(*args, **kwds)\n"
     ]
    }
   ],
   "source": [
    "%load_ext autoreload\n",
    "%matplotlib inline\n",
    "\n",
    "# Standard imports \n",
    "import numpy as np \n",
    "import matplotlib.pyplot as plt \n",
    "import healpy as hp\n",
    "import sys, os\n",
    "\n",
    "import MPC_library as MPCL\n",
    "import phys_const as PHYS\n",
    "import mpchecker \n",
    "import classes as Classes\n",
    "import params \n",
    "import angles as ANG \n"
   ]
  },
  {
   "cell_type": "markdown",
   "metadata": {},
   "source": [
    "# Some of the results returned below will depend on the assumed HP scale for the preprocessing\n",
    " - E.g. the HP # for the center of the pointing ...\n",
    " - At the time of evaluation the assumed parameters are ..."
   ]
  },
  {
   "cell_type": "code",
   "execution_count": 2,
   "metadata": {},
   "outputs": [
    {
     "name": "stdout",
     "output_type": "stream",
     "text": [
      "Healpix: Nside 256\n",
      "Healpix: Npix 786432\n",
      "Healpix: Area [deg^2] 0.05245585282569793\n",
      "Healpix: Side [deg] 0.22903242745449373\n"
     ]
    }
   ],
   "source": [
    "print(\"Healpix: Nside\", params.hp_nside)\n",
    "print(\"Healpix: Npix\", params.hp_npix)\n",
    "print(\"Healpix: Area [deg^2]\", params.hp_area)\n",
    "print(\"Healpix: Side [deg]\", params.hp_side)"
   ]
  },
  {
   "cell_type": "markdown",
   "metadata": {},
   "source": [
    "# Set up a list of \"fake\" pointings for PanSTARRS (F51) \n",
    " - These are all on the same night, and this night is the night of one of the nbody epochs, so no significant propogation is involved"
   ]
  },
  {
   "cell_type": "code",
   "execution_count": 3,
   "metadata": {},
   "outputs": [
    {
     "name": "stdout",
     "output_type": "stream",
     "text": [
      "Before, uv_ =  [(-0.48834189329962785, 0.10330547261636619, 0.86651611328125), (0.5888822104106204, -0.48936078859181936, -0.6432291666666666), (0.9182521191942846, 0.07907514460632231, 0.3880208333333333)]\n",
      "After , uv_ =  [[-0.4881492   0.10224802  0.86675008]\n",
      " [ 0.58787273 -0.49008092 -0.64360418]\n",
      " [ 0.91815984  0.07755175  0.38854632]]\n",
      "Number of pointings generated = 100 \n",
      "First pointing:  G96_2458360.656605417_array([168.16982499])_array([60.08314658])\n",
      "Last  pointing:  G96_2458360.5692884587_array([357.35422621])_array([20.99789543])\n",
      "RA : min,median,max= 2.3541779613689147 188.65605089545724 357.3542262073899\n",
      "DEC: min,median,max= -74.31374962520978 0.6560777344730633 74.90643583834257\n"
     ]
    }
   ],
   "source": [
    "# Overall / average quantities \n",
    "obsCode   = 'G96'\n",
    "JDutc_INT = 2458360\n",
    "FOV = 3.0 ## <<-- Assuming all pointings correspond to exposures with diameter = 3.0 degrees\n",
    "\n",
    "# Generate ~100 randomly selected pointings \n",
    "Np = 100 \n",
    "rInt = np.random.choice(params.hp_npix, size=Np, replace=False)\n",
    "uv_ = [hp.pix2vec(params.hp_nside, pix, nest=params.hp_nested) for pix in rInt]\n",
    "HP_ = [hp.vec2pix(params.hp_nside, *UV, nest=params.hp_nested) for UV  in uv_]\n",
    "'''print(\"# HP: \", len(HP_), len(list(set(HP_))))\n",
    "print(\"Before, HP_ = \", HP_[0])'''\n",
    "print(\"Before, uv_ = \", uv_[:3])\n",
    "\n",
    "# I don't want the pointings to be in the center of each HP\n",
    "# - Randomly shift by an amount which keeps them within HP\n",
    "RA_, Dec_ = ANG.unit2radec(uv_)\n",
    "uv_randomized = []\n",
    "for i, _ in enumerate(zip(RA_, Dec_ , uv_)):\n",
    "    condition = True\n",
    "    while condition:\n",
    "        # Generating a random shit within the approx scale of a healpix\n",
    "        dR = (params.hp_side/2.)*np.random.random()\n",
    "        dD = (params.hp_side/2.)*np.random.random()\n",
    "        sR = +1 if np.random.random() > 0.5 else -1\n",
    "        sD = +1 if np.random.random() > 0.5 else -1\n",
    "        # Shift the RA,Dec\n",
    "        R = _[0]+sR*dR\n",
    "        D = _[1]+sD*dD\n",
    "        # Get the corresponding shifted UV & HP\n",
    "        UV= ANG.radec2unit(R,D)\n",
    "        HP= hp.vec2pix(params.hp_nside, *UV, nest=params.hp_nested)\n",
    "        # Check that the HP is the same as it was initially\n",
    "        # (I'm just trying to shift the center within the same HP)\n",
    "        if HP == HP_[i]:\n",
    "            condition = False \n",
    "            uv_randomized.append(UV) \n",
    "uv_ = np.array(uv_randomized)\n",
    "print(\"After , uv_ = \", uv_[:3])\n",
    "\n",
    "# Generate multiple different pointings \n",
    "PointingList = []\n",
    "for i in range(Np):\n",
    "    JDutc = JDutc_INT + 0.25 + 0.5*np.random.rand()\n",
    "    RA , Dec  = ANG.unit2radec(uv_[i])\n",
    "    PointingList.append( Classes.Pointing(obsCode, JDutc, RA , Dec, FOV) )\n",
    "\n",
    "# Examine some of the quantities to check that they are all as expected\n",
    "print(\"Number of pointings generated = %d \" % len(PointingList) )\n",
    "print(\"First pointing: \" , PointingList[0])\n",
    "print(\"Last  pointing: \" , PointingList[-1])\n",
    "tmpR = [P.RADEC[0] for P in PointingList]\n",
    "tmpD = [P.RADEC[1] for P in PointingList]\n",
    "print(\"RA : min,median,max=\",np.min(tmpR), np.median(tmpR), np.max(tmpR))\n",
    "print(\"DEC: min,median,max=\",np.min(tmpD), np.median(tmpD), np.max(tmpD))"
   ]
  },
  {
   "cell_type": "markdown",
   "metadata": {},
   "source": [
    "# Observatory Positions wrt Center of Ecliptic\n",
    " - It will be useful later on to have ensured that each Pointing knows where it was taken from (in heliocentric coords w.r.t. the ecliptic)\n",
    " - Use the functionality demonstrated in \"Demonstrate_PointingObjects.ipynb\""
   ]
  },
  {
   "cell_type": "code",
   "execution_count": 4,
   "metadata": {},
   "outputs": [
    {
     "name": "stdout",
     "output_type": "stream",
     "text": [
      "Ecliptic Helio coords of Observatory at time of first pointing:  [ 9.25897351e-01 -4.02873794e-01  5.11108082e-05]\n",
      "Ecliptic Helio coords of Observatory at time of last pointing:  [ 9.25301696e-01 -4.04243974e-01  5.09016014e-05]\n",
      "CPU times: user 1.22 s, sys: 15 ms, total: 1.24 s\n",
      "Wall time: 1.24 s\n"
     ]
    }
   ],
   "source": [
    "%%time \n",
    "# Do the calculations \n",
    "for P in PointingList:\n",
    "    P.calc_heliocentric_position_of_observatory_in_ecliptic_coords()\n",
    "\n",
    "# Check the results \n",
    "print(\"Ecliptic Helio coords of Observatory at time of first pointing: \" , PointingList[0].helio_ec_posn)\n",
    "print(\"Ecliptic Helio coords of Observatory at time of last pointing: \" , PointingList[-1].helio_ec_posn)"
   ]
  },
  {
   "cell_type": "markdown",
   "metadata": {},
   "source": [
    "# Testing \"OrbitObjectsInPointing\"\n",
    " - A general function to perform the above methods of finding all objects within a FoV\n",
    " - This does all of the behind-the-scene calculations:\n",
    "  - It calcs the HP for the fov\n",
    "  - It gets the approx list of objects (preprocessed to night center)\n",
    "  - It advances the approx list to the time of the pointing \n",
    "  - It selects the objects that are within the FoV"
   ]
  },
  {
   "cell_type": "markdown",
   "metadata": {},
   "source": [
    "### First call to a pointing for the night is *SLOW*"
   ]
  },
  {
   "cell_type": "code",
   "execution_count": 5,
   "metadata": {},
   "outputs": [
    {
     "name": "stdout",
     "output_type": "stream",
     "text": [
      "Opening '/Users/matthewjohnpayne/Dropbox/mpchecker/preprocessed_data/OrbitNumberByHP_500_2458360_5.npy'\n",
      "Opening '/Users/matthewjohnpayne/Dropbox/mpchecker/preprocessed_data/orbitObject_states_2458360_5.npy'\n",
      "states[0] [ 2.95912208e-04  2.45836050e+06  1.11215415e+00 -1.77863726e+00\n",
      "  1.73906687e+00 -1.14415952e-03 -8.20921128e-03 -6.44663356e-03]\n",
      "Opening '/Users/matthewjohnpayne/Dropbox/mpchecker/preprocessed_data/orbitObject_desigs_2458360_5.npy'\n",
      "desigs[0] 00001\n",
      "86\n",
      "CPU times: user 4.09 s, sys: 268 ms, total: 4.36 s\n",
      "Wall time: 4.36 s\n"
     ]
    }
   ],
   "source": [
    "%%time\n",
    "OrbitObjectList = mpchecker.OrbitObjectsInPointing( PointingList[0] , '500' )\n",
    "print(len(OrbitObjectList))"
   ]
  },
  {
   "cell_type": "markdown",
   "metadata": {},
   "source": [
    "### Subsequent calls for pointings on the same night are *FAST*"
   ]
  },
  {
   "cell_type": "code",
   "execution_count": 10,
   "metadata": {},
   "outputs": [
    {
     "name": "stdout",
     "output_type": "stream",
     "text": [
      "[86, 45, 52, 261, 59, 50, 68, 26, 109, 86, 70, 164, 128, 49, 166, 46, 103, 49, 44, 44, 48, 80, 42, 108, 61, 78, 45, 89, 169, 34, 54, 83, 49, 32, 64, 164, 38, 285, 37, 240, 100, 79, 53, 43, 56, 35, 112, 77, 60, 137, 115, 54, 59, 52, 58, 59, 59, 52, 38, 55, 188, 53, 61, 69, 45, 53, 80, 83, 78, 121, 33, 138, 72, 46, 91, 63, 50, 218, 83, 38, 48, 62, 128, 77, 52, 52, 109, 45, 107, 38, 50, 35, 127, 59, 52, 146, 45, 102, 73, 54]\n",
      "CPU times: user 414 ms, sys: 4.23 ms, total: 418 ms\n",
      "Wall time: 415 ms\n"
     ]
    }
   ],
   "source": [
    "%%time\n",
    "lens_=[]\n",
    "for P in PointingList[:100]:\n",
    "    OrbitObjectList = mpchecker.OrbitObjectsInPointing( P , '500' )\n",
    "    lens_.append(len(OrbitObjectList))\n",
    "print(lens_)"
   ]
  },
  {
   "cell_type": "code",
   "execution_count": null,
   "metadata": {},
   "outputs": [],
   "source": []
  }
 ],
 "metadata": {
  "kernelspec": {
   "display_name": "Python [conda env:anaconda]",
   "language": "python",
   "name": "conda-env-anaconda-py"
  },
  "language_info": {
   "codemirror_mode": {
    "name": "ipython",
    "version": 3
   },
   "file_extension": ".py",
   "mimetype": "text/x-python",
   "name": "python",
   "nbconvert_exporter": "python",
   "pygments_lexer": "ipython3",
   "version": "3.5.5"
  }
 },
 "nbformat": 4,
 "nbformat_minor": 2
}
