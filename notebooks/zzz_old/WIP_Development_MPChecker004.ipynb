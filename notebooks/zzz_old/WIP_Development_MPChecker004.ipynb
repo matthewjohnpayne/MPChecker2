{
 "cells": [
  {
   "cell_type": "markdown",
   "metadata": {},
   "source": [
    "# WIP Development of MPChecker: 004\n",
    " - 20190315\n",
    " - MJP\n",
    " - Initial look at MPChecker-like functionality \n",
    " - Accuracy of positions returned by \"OrbitObjectsInPointing\" functionality "
   ]
  },
  {
   "cell_type": "code",
   "execution_count": 1,
   "metadata": {},
   "outputs": [
    {
     "name": "stderr",
     "output_type": "stream",
     "text": [
      "/Users/matthewjohnpayne/anaconda/lib/python3.5/importlib/_bootstrap.py:222: RuntimeWarning: numpy.dtype size changed, may indicate binary incompatibility. Expected 96, got 88\n",
      "  return f(*args, **kwds)\n",
      "/Users/matthewjohnpayne/anaconda/lib/python3.5/importlib/_bootstrap.py:222: RuntimeWarning: numpy.dtype size changed, may indicate binary incompatibility. Expected 96, got 88\n",
      "  return f(*args, **kwds)\n"
     ]
    }
   ],
   "source": [
    "%load_ext autoreload\n",
    "%matplotlib inline\n",
    "\n",
    "# Standard imports \n",
    "import numpy as np \n",
    "import matplotlib.pyplot as plt \n",
    "import healpy as hp\n",
    "import sys, os\n",
    "\n",
    "import MPC_library as MPCL\n",
    "import phys_const as PHYS\n",
    "import mpchecker \n",
    "import classes as Classes\n",
    "import params \n",
    "import angles as ANG \n"
   ]
  },
  {
   "cell_type": "markdown",
   "metadata": {},
   "source": [
    "# Some of the results returned below will depend on the assumed HP scale for the preprocessing\n",
    " - E.g. the HP # for the center of the pointing ...\n",
    " - At the time of evaluation the assumed parameters are ..."
   ]
  },
  {
   "cell_type": "code",
   "execution_count": 2,
   "metadata": {},
   "outputs": [
    {
     "name": "stdout",
     "output_type": "stream",
     "text": [
      "Healpix: Nside 256\n",
      "Healpix: Npix 786432\n",
      "Healpix: Area [deg^2] 0.05245585282569793\n",
      "Healpix: Side [deg] 0.22903242745449373\n"
     ]
    }
   ],
   "source": [
    "print(\"Healpix: Nside\", params.hp_nside)\n",
    "print(\"Healpix: Npix\", params.hp_npix)\n",
    "print(\"Healpix: Area [deg^2]\", params.hp_area)\n",
    "print(\"Healpix: Side [deg]\", params.hp_side)"
   ]
  },
  {
   "cell_type": "markdown",
   "metadata": {},
   "source": [
    "# Set up a list of \"fake\" pointings for PanSTARRS (F51) \n",
    " - These are all on the same night, and this night is the night of one of the nbody epochs, so no significant propogation is involved"
   ]
  },
  {
   "cell_type": "code",
   "execution_count": 16,
   "metadata": {},
   "outputs": [
    {
     "name": "stdout",
     "output_type": "stream",
     "text": [
      "Before, uv_ =  [(0.9459998234466996, -0.29331652460232316, -0.13802083333333331), (0.20742102332533008, 0.20742102332533002, -0.9560089111328125), (0.03491712718594951, 0.6840574609465695, 0.7285919189453125)]\n",
      "After , uv_ =  [[ 0.94636721 -0.29253583 -0.13715643]\n",
      " [ 0.2073256   0.20689902 -0.95614272]\n",
      " [ 0.03464922  0.68441535  0.72826854]]\n",
      "Number of pointings generated = 10 \n",
      "First pointing:  F51_2458360.367764716_342.8228627014382_-7.8833342114836515\n",
      "Last  pointing:  F51_2458360.290517107_276.26182559040865_48.08437379907602\n",
      "RA : min,median,max= 44.940995435707364 102.95716431204488 342.8228627014382\n",
      "DEC: min,median,max= -72.96827402368362 8.289166153462677 56.619114570716945\n"
     ]
    }
   ],
   "source": [
    "# Overall / average quantities \n",
    "obsCode   = 'F51'\n",
    "JDutc_INT = 2458360\n",
    "FOV = 3.0 ## <<-- Assuming all pointings correspond to exposures with diameter = 3.0 degrees\n",
    "\n",
    "# Generate ~10 randomly selected pointings \n",
    "Np = 10 \n",
    "rInt = np.random.choice(params.hp_npix, size=Np, replace=False)\n",
    "uv_ = [hp.pix2vec(params.hp_nside, pix, nest=params.hp_nested) for pix in rInt]\n",
    "HP_ = [hp.vec2pix(params.hp_nside, *UV, nest=params.hp_nested) for UV  in uv_]\n",
    "'''print(\"# HP: \", len(HP_), len(list(set(HP_))))\n",
    "print(\"Before, HP_ = \", HP_[0])'''\n",
    "print(\"Before, uv_ = \", uv_[:3])\n",
    "\n",
    "# I don't want the pointings to be in the center of each HP\n",
    "# - Randomly shift by an amount which keeps them within HP\n",
    "RA_, Dec_ = ANG.unit2radec(uv_)\n",
    "uv_randomized = []\n",
    "for i, _ in enumerate(zip(RA_, Dec_ , uv_)):\n",
    "    condition = True\n",
    "    while condition:\n",
    "        # Generating a random shit within the approx scale of a healpix\n",
    "        dR = (params.hp_side/2.)*np.random.random()\n",
    "        dD = (params.hp_side/2.)*np.random.random()\n",
    "        sR = +1 if np.random.random() > 0.5 else -1\n",
    "        sD = +1 if np.random.random() > 0.5 else -1\n",
    "        # Shift the RA,Dec\n",
    "        R = _[0]+sR*dR\n",
    "        D = _[1]+sD*dD\n",
    "        # Get the corresponding shifted UV & HP\n",
    "        UV= ANG.radec2unit(R,D)\n",
    "        HP= hp.vec2pix(params.hp_nside, *UV, nest=params.hp_nested)\n",
    "        # Check that the HP is the same as it was initially\n",
    "        # (I'm just trying to shift the center within the same HP)\n",
    "        if HP == HP_[i]:\n",
    "            condition = False \n",
    "            uv_randomized.append(UV) \n",
    "uv_ = np.array(uv_randomized)\n",
    "print(\"After , uv_ = \", uv_[:3])\n",
    "\n",
    "# Generate multiple different pointings \n",
    "PointingList = []\n",
    "for i in range(Np):\n",
    "    JDutc = JDutc_INT + 0.25 + 0.5*np.random.rand()\n",
    "    RA , Dec  = ANG.unit2radec(uv_[i])\n",
    "    \n",
    "    # Make the Pointing ... \n",
    "    P = Classes.Pointing(obsCode, JDutc, RA[0] , Dec[0], FOV)\n",
    "    \n",
    "    # Calc & store observatory posn w.r.t. the ecliptic for the pointing \n",
    "    P.calc_heliocentric_position_of_observatory_in_ecliptic_coords()\n",
    "\n",
    "    # Store in a list \n",
    "    PointingList.append( P )\n",
    "\n",
    "# Examine some of the quantities to check that they are all as expected\n",
    "print(\"Number of pointings generated = %d \" % len(PointingList) )\n",
    "print(\"First pointing: \" , PointingList[0])\n",
    "print(\"Last  pointing: \" , PointingList[-1])\n",
    "tmpR = [P.RADEC[0] for P in PointingList]\n",
    "tmpD = [P.RADEC[1] for P in PointingList]\n",
    "print(\"RA : min,median,max=\",np.min(tmpR), np.median(tmpR), np.max(tmpR))\n",
    "print(\"DEC: min,median,max=\",np.min(tmpD), np.median(tmpD), np.max(tmpD))"
   ]
  },
  {
   "cell_type": "markdown",
   "metadata": {},
   "source": [
    "# Testing \"OrbitObjectsInPointing\"\n",
    " - A general function to perform the above methods of finding all objects within a FoV\n",
    " - This does all of the behind-the-scene calculations:\n",
    "  - It calcs the HP for the fov\n",
    "  - It gets the approx list of objects (preprocessed to night center)\n",
    "  - It advances the approx list to the time of the pointing \n",
    "  - It selects the objects that are within the FoV"
   ]
  },
  {
   "cell_type": "markdown",
   "metadata": {},
   "source": [
    "### First call to a pointing for the night is *SLOW*"
   ]
  },
  {
   "cell_type": "code",
   "execution_count": 17,
   "metadata": {},
   "outputs": [
    {
     "name": "stdout",
     "output_type": "stream",
     "text": [
      "Pointing RA,DEC:  (342.8228627014382, -7.8833342114836515)\n",
      "Pointing  JDutc:  2458360.367764716\n",
      "CPU times: user 9.09 ms, sys: 47.5 ms, total: 56.6 ms\n",
      "Wall time: 136 ms\n"
     ]
    }
   ],
   "source": [
    "%%time\n",
    "OrbitObjectList, RA_, DEC_ = mpchecker.OrbitObjectsInPointing( PointingList[0] , '500' )\n",
    "print(\"Pointing RA,DEC: \", PointingList[0].RADEC)\n",
    "print(\"Pointing  JDutc: \", PointingList[0].JDutc)"
   ]
  },
  {
   "cell_type": "markdown",
   "metadata": {},
   "source": [
    "##### Explicitly examine the details of the first OrbitObject returned ..."
   ]
  },
  {
   "cell_type": "code",
   "execution_count": 18,
   "metadata": {},
   "outputs": [
    {
     "name": "stdout",
     "output_type": "stream",
     "text": [
      "96 96 96\n",
      "c2449\n",
      "2458360.5\n",
      "0.00029591220828559115\n",
      "3.1075548958891206 -1.1977399386908059 -0.06544894369868177 -0.0026292966748246655 -0.00873079238589724 0.0009992567439580915\n",
      "[342.27851402]\n",
      "[-9.26674808]\n"
     ]
    }
   ],
   "source": [
    "print(len(OrbitObjectList), len(RA_), len(DEC_))\n",
    "# Basic properties loaded into the OrbitObject ...\n",
    "OO = OrbitObjectList[0]\n",
    "print(OO.desig)\n",
    "print(OO.epoch)\n",
    "print(OO.GMcenter)\n",
    "print(OO.cart_state.x, OO.cart_state.y, OO.cart_state.z, OO.cart_state.xd, OO.cart_state.yd, OO.cart_state.zd)\n",
    "\n",
    "# Position propagated to the time of the pointing ... \n",
    "print(RA_[:1])\n",
    "print(DEC_[:1])\n",
    "\n"
   ]
  },
  {
   "cell_type": "markdown",
   "metadata": {},
   "source": [
    "# Examine the locations of the OrbitObjects in OrbitObjectList\n",
    " - \"d5155\" == \"395155\"\n",
    " - Main-Belt Asteroid: https://www.minorplanetcenter.net/db_search/show_object?utf8=%E2%9C%93&object_id=395155\n",
    " - Using one-off JPL-Horizons query to orientate myself for now ..."
   ]
  },
  {
   "cell_type": "raw",
   "metadata": {},
   "source": [
    "Ephemeris Type [change] : \tOBSERVER\n",
    "Target Body [change] : \t395155 (2010 CE87)\n",
    "Observer Location [change] : \tMt. Lemmon Survey [G96] ( 249°12'40.6''E, 32°26'33.9''N, 2788.8 m )\n",
    "Time Span [change] : \tdiscrete time(s)=2458360.3446\n",
    "Table Settings [change] : \tdate/time format=JD; time digits=FRACSEC; angle format=DEG\n",
    "Display/Output [change] : \tdefault (formatted HTML)"
   ]
  },
  {
   "cell_type": "raw",
   "metadata": {},
   "source": [
    "*******************************************************************************\n",
    "Ephemeris / WWW_USER Thu Mar 21 15:50:56 2019 Pasadena, USA      / Horizons    \n",
    "*******************************************************************************\n",
    "Target body name: 395155 (2010 CE87)              {source: JPL#13}\n",
    "Center body name: Earth (399)                     {source: DE431}\n",
    "Center-site name: Mt. Lemmon Survey\n",
    "*******************************************************************************\n",
    "Start time      : A.D. 2018-Aug-29 20:16:13.4400 UT      \n",
    "Stop  time      : A.D. 2018-Aug-30 20:16:13.4400 UT      \n",
    "Step-size       : 0 steps\n",
    "*******************************************************************************\n",
    "Target pole/equ : No model available\n",
    "Target radii    : (unavailable)                                                \n",
    "Center geodetic : 249.211300,32.4428030,2.7947865 {E-lon(deg),Lat(deg),Alt(km)}\n",
    "Center cylindric: 249.211300,5390.23568,3403.4712 {E-lon(deg),Dxy(km),Dz(km)}\n",
    "Center pole/equ : High-precision EOP model        {East-longitude positive}\n",
    "Center radii    : 6378.1 x 6378.1 x 6356.8 km     {Equator, meridian, pole}    \n",
    "Target primary  : Sun\n",
    "Vis. interferer : MOON (R_eq= 1737.400) km        {source: DE431}\n",
    "Rel. light bend : Sun, EARTH                      {source: DE431}\n",
    "Rel. lght bnd GM: 1.3271E+11, 3.9860E+05 km^3/s^2                              \n",
    "Small-body perts: Yes                             {source: SB431-N16}\n",
    "Atmos refraction: NO (AIRLESS)\n",
    "RA format       : DEG\n",
    "Time format     : JD  \n",
    "EOP file        : eop.190320.p190611                                           \n",
    "EOP coverage    : DATA-BASED 1962-JAN-20 TO 2019-MAR-20. PREDICTS-> 2019-JUN-10\n",
    "Units conversion: 1 au= 149597870.700 km, c= 299792.458 km/s, 1 day= 86400.0 s \n",
    "Table cut-offs 1: Elevation (-90.0deg=NO ),Airmass (>38.000=NO), Daylight (NO )\n",
    "Table cut-offs 2: Solar elongation (  0.0,180.0=NO ),Local Hour Angle( 0.0=NO )\n",
    "Table cut-offs 3: RA/DEC angular rate (     0.0=NO )                           \n",
    "*******************************************************************************\n",
    "Initial IAU76/J2000 heliocentric ecliptic osculating elements (au, days, deg.):\n",
    "  EPOCH=  2457315.5 ! 2015-Oct-20.00 (TDB)         Residual RMS= .1603         \n",
    "   EC= .1125216908358296   QR= 1.939051093350336   TP= 2457127.8849822627      \n",
    "   OM= 136.0637044977938   W=  211.433660892005    IN= 7.191395287655372       \n",
    "  Equivalent ICRF heliocentric equatorial cartesian coordinates (au, au/d):\n",
    "   X= 1.135992660105487E+00  Y= 1.675481834461169E+00  Z= 4.481210061134868E-01\n",
    "  VX=-9.465381159490046E-03 VY= 7.082201275792492E-03 VZ= 3.204009220103163E-03\n",
    "Asteroid physical parameters (km, seconds, rotational period in hours):        \n",
    "   GM= n.a.                RAD= n.a.               ROTPER= n.a.                \n",
    "   H= 17.8                 G= .150                 B-V= n.a.                   \n",
    "                           ALBEDO= n.a.            STYP= n.a.                  \n",
    "**************************************************************************************************\n",
    "Date_________JDUT     R.A._(ICRF/J2K)_DEC  APmag            delta      deldot    S-O-T /r    S-T-O\n",
    "**************************************************************************************************\n",
    "$$SOE\n",
    "2458360.344600000 *    33.99519   4.01420  20.85 1.21260694300757 -13.4974446 122.5902 /L  25.8471\n",
    "$$EOE\n",
    "**************************************************************************************************\n",
    "Column meaning:\n",
    " \n",
    "TIME\n",
    "\n",
    "  Times PRIOR to 1962 are UT1, a mean-solar time closely related to the\n",
    "prior but now-deprecated GMT. Times AFTER 1962 are in UTC, the current\n",
    "civil or \"wall-clock\" time-scale. UTC is kept within 0.9 seconds of UT1\n",
    "by introduction of integer leap-seconds for 1972 and later.\n",
    "\n",
    "  Conversion from the internal TDB timescale to the non-uniform UT time-scale\n",
    "requested for output has not been determined for UTC times after the next\n",
    "July or January 1st. Therefore, the last known leap-second is used as a\n",
    "constant over future intervals.\n",
    "\n",
    "  Time tags refer to the UT time on Earth, regardless of where the observer\n",
    "is located in the solar system. For example, if an observation from the\n",
    "surface of another body has an output time-tag of 12:31:00 UT, it refers to\n",
    "a time-scale conversion from TDB to UT valid at the center of the Earth,\n",
    "not the actual observer location elsewhere in the solar system, where clock\n",
    "rates may differ slightly due to the local spacetime metric and there is no\n",
    "precisely defined or adopted \"UT\" analog.\n",
    "\n",
    "  Any 'b' symbol in the 1st-column denotes a B.C. date. First-column blank\n",
    "(\" \") denotes an A.D. date. Calendar dates prior to 1582-Oct-15 are in the\n",
    "Julian calendar system. Later calendar dates are in the Gregorian system.\n",
    "\n",
    "  NOTE: \"n.a.\" in output means quantity \"not available\" at the print-time.\n",
    " \n",
    "SOLAR PRESENCE (OBSERVING SITE)\n",
    "  Time tag is followed by a blank, then a solar-presence symbol:\n",
    "\n",
    "        '*'  Daylight (refracted solar upper-limb on or above apparent horizon)\n",
    "        'C'  Civil twilight/dawn\n",
    "        'N'  Nautical twilight/dawn\n",
    "        'A'  Astronomical twilight/dawn\n",
    "        ' '  Night OR geocentric ephemeris\n",
    "\n",
    "LUNAR PRESENCE (OBSERVING SITE)\n",
    "  The solar-presence symbol is immediately followed by a lunar-presence symbol:\n",
    "\n",
    "        'm'  Refracted upper-limb of Moon on or above apparent horizon\n",
    "        ' '  Refracted upper-limb of Moon below apparent horizon OR geocentric\n",
    "             ephemeris\n",
    " \n",
    " R.A._(ICRF/J2K)_DEC =\n",
    "   Astrometric right ascension and declination of the TARGET CENTER with\n",
    "respect to the observing site in the coordinates of the ICRF/J2000 inertial\n",
    "reference frame. Compensated for down-leg light-time.\n",
    "   Units: DEGREES and DEGREES\n",
    " \n",
    " APmag =\n",
    "   Asteroid's approximate apparent visual magnitude from the standard\n",
    "IAU H-G magnitude relationship:\n",
    "   APmag = H + 5*log10(delta) + 5*log10(r) - 2.5*log10((1-G)*phi1 + G*phi2).\n",
    "For solar phase angles > 90 deg, the error could exceed 1 magnitude. For phase\n",
    "angles > 120 degrees, output values are rounded to the nearest integer to\n",
    "indicate error could be large and unknown.\n",
    "   Units: MAGNITUDE\n",
    " \n",
    " delta  deldot =\n",
    "   Range (\"delta\") and range-rate (\"delta-dot\") of target center with respect\n",
    "to the observer at the instant light seen by the observer at print-time would\n",
    "have left the target center (print-time minus down-leg light-time); the\n",
    "distance traveled by a light ray emanating from the center of the target and\n",
    "recorded by the observer at print-time. \"deldot\" is a projection of the\n",
    "velocity vector along this ray, the light-time-corrected line-of-sight from the\n",
    "coordinate center, and indicates relative motion. A positive \"deldot\" means the\n",
    "target center is moving away from the observer (coordinate center). A negative\n",
    "\"deldot\" means the target center is moving toward the observer.\n",
    "Units: AU and KM/S\n",
    " \n",
    " S-O-T /r =\n",
    "    Sun-Observer-Target angle; target's apparent SOLAR ELONGATION seen from\n",
    "the observer location at print-time. Angular units: DEGREES\n",
    "\n",
    "    The '/r' column indicates the target's apparent position relative to\n",
    "the Sun in the observer's sky, as described below:\n",
    "\n",
    "    For an observing location on the surface of a rotating body\n",
    "(considering its rotational sense):\n",
    "\n",
    "    /T indicates target TRAILS Sun (evening sky; rises and sets AFTER Sun)\n",
    "    /L indicates target LEADS Sun  (morning sky; rises and sets BEFORE Sun)\n",
    "\n",
    "For an observing point NOT on a rotating body (such as a spacecraft), the\n",
    "\"leading\" and \"trailing\" condition is defined by the observer's\n",
    "heliocentric orbital motion: if continuing in the observer's current\n",
    "direction of heliocentric motion would encounter the target's apparent\n",
    "longitude first, followed by the Sun's, the target LEADS the Sun as seen by\n",
    "the observer. If the Sun's apparent longitude would be encountered first,\n",
    "followed by the target's, the target TRAILS the Sun.\n",
    "\n",
    "NOTE: The S-O-T solar elongation angle is numerically the minimum\n",
    "separation angle of the Sun and target in the sky in any direction. It\n",
    "does NOT indicate the amount of separation in the leading or trailing\n",
    "directions, which are defined in the equator of a spherical coordinate\n",
    "system.\n",
    " \n",
    " S-T-O =\n",
    "   \"S-T-O\" is the Sun->Target->Observer angle; the interior vertex angle at\n",
    "target center formed by a vector to the apparent center of the Sun at\n",
    "reflection time on the target and the apparent vector to the observer at\n",
    "print-time. Slightly different from true PHASE ANGLE (requestable separately)\n",
    "at the few arcsecond level in that it includes stellar aberration on the\n",
    "down-leg from target to observer.  Units: DEGREES\n",
    "\n",
    "\n",
    " Computations by ...\n",
    "     Solar System Dynamics Group, Horizons On-Line Ephemeris System\n",
    "     4800 Oak Grove Drive, Jet Propulsion Laboratory\n",
    "     Pasadena, CA  91109   USA\n",
    "     Information: http://ssd.jpl.nasa.gov/\n",
    "     Connect    : telnet://ssd.jpl.nasa.gov:6775  (via browser)\n",
    "                  telnet ssd.jpl.nasa.gov 6775    (via command-line)\n",
    "     Author     : Jon.D.Giorgini@jpl.nasa.gov\n",
    "\n",
    "**************************************************************************************************"
   ]
  },
  {
   "cell_type": "markdown",
   "metadata": {},
   "source": [
    "# Explicit examination of data for d5155\n",
    " - Making sure that all stages of the data ingest & interpretation are being performed correctly"
   ]
  },
  {
   "cell_type": "code",
   "execution_count": null,
   "metadata": {},
   "outputs": [],
   "source": []
  }
 ],
 "metadata": {
  "kernelspec": {
   "display_name": "Python [conda env:anaconda]",
   "language": "python",
   "name": "conda-env-anaconda-py"
  },
  "language_info": {
   "codemirror_mode": {
    "name": "ipython",
    "version": 3
   },
   "file_extension": ".py",
   "mimetype": "text/x-python",
   "name": "python",
   "nbconvert_exporter": "python",
   "pygments_lexer": "ipython3",
   "version": "3.5.5"
  }
 },
 "nbformat": 4,
 "nbformat_minor": 2
}
