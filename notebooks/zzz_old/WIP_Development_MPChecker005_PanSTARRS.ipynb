{
 "cells": [
  {
   "cell_type": "markdown",
   "metadata": {},
   "source": [
    "# WIP Development of MPChecker: 005\n",
    " - 20190322\n",
    " - MJP\n",
    " - Pan-STARRS Specific ..."
   ]
  },
  {
   "cell_type": "code",
   "execution_count": 3,
   "metadata": {},
   "outputs": [
    {
     "name": "stdout",
     "output_type": "stream",
     "text": [
      "The autoreload extension is already loaded. To reload it, use:\n",
      "  %reload_ext autoreload\n"
     ]
    }
   ],
   "source": [
    "%load_ext autoreload\n",
    "%matplotlib inline\n",
    "\n",
    "# Standard imports \n",
    "import numpy as np \n",
    "import matplotlib.pyplot as plt \n",
    "import healpy as hp\n",
    "import sys, os\n",
    "\n",
    "import MPC_library as MPCL\n",
    "import phys_const as PHYS\n",
    "import mpchecker \n",
    "import classes as Classes\n",
    "import params \n",
    "import angles as ANG \n"
   ]
  },
  {
   "cell_type": "markdown",
   "metadata": {},
   "source": [
    "# Sample PanSTARRS exposure"
   ]
  },
  {
   "cell_type": "raw",
   "metadata": {},
   "source": [
    "# Sample used by Holman in development of his debiasing / mask-construction for PanSTARRS ...\n",
    " - '2458058.7064915891 45.000 i.00000  299.790002     3.049999  1.106  23.5859 2017-11-01T04:57:20.873296  216.340204   -14.406792'\n",
    " - 'The initial jd_utc is the shutter open time in UTC julian date.  You need to add half of exposure time (sec), which is the second field.'"
   ]
  },
  {
   "cell_type": "code",
   "execution_count": 7,
   "metadata": {},
   "outputs": [
    {
     "data": {
      "text/plain": [
       "array([ 7.74353000e-01,  6.20857105e-01, -7.79580819e-06])"
      ]
     },
     "execution_count": 7,
     "metadata": {},
     "output_type": "execute_result"
    }
   ],
   "source": [
    "# Define inputs\n",
    "obsCode   = 'G96'\n",
    "JDUTC = 2458058.7064915891 + (45.000/2.)/(24.*3600.)\n",
    "FOV = 3.0 ## <<-- Assuming all pointings correspond to exposures with diameter = 3.0 degrees\n",
    "RA, DEC = 299.790002,     3.049999\n",
    "\n",
    "# Create Pointing\n",
    "P = Classes.Pointing(obsCode, JDUTC, RA , DEC, FOV)\n",
    "\n",
    "# Calc & store observatory posn w.r.t. the ecliptic for the pointing \n",
    "P.calc_heliocentric_position_of_observatory_in_ecliptic_coords()\n",
    "\n"
   ]
  },
  {
   "cell_type": "code",
   "execution_count": null,
   "metadata": {},
   "outputs": [],
   "source": []
  }
 ],
 "metadata": {
  "kernelspec": {
   "display_name": "Python [conda env:anaconda]",
   "language": "python",
   "name": "conda-env-anaconda-py"
  },
  "language_info": {
   "codemirror_mode": {
    "name": "ipython",
    "version": 3
   },
   "file_extension": ".py",
   "mimetype": "text/x-python",
   "name": "python",
   "nbconvert_exporter": "python",
   "pygments_lexer": "ipython3",
   "version": "3.5.5"
  }
 },
 "nbformat": 4,
 "nbformat_minor": 2
}
