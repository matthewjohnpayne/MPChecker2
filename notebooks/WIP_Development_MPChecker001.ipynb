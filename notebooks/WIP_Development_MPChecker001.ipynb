{
 "cells": [
  {
   "cell_type": "markdown",
   "metadata": {},
   "source": [
    "# WIP Development of MPChecker: 001\n",
    " - 20190315\n",
    " - MJP\n",
    " - Initial look at MPChecker-like functionality \n",
    " - Just testing-out the steps that would be required "
   ]
  },
  {
   "cell_type": "markdown",
   "metadata": {},
   "source": [
    "# N.B.\n",
    " - Most/all of the development work for this notebook was book with a preprocessing step that assumed hp_nside=16, resulting in hp_npix ~ 3,072\n",
    " - Going to switch to a new notebook (002) that uses a re-run proprocessing step that assumes hp_nside=128, and hence hp_npix ~ 196,000"
   ]
  },
  {
   "cell_type": "code",
   "execution_count": 1,
   "metadata": {},
   "outputs": [
    {
     "name": "stderr",
     "output_type": "stream",
     "text": [
      "/Users/matthewjohnpayne/anaconda/lib/python3.5/importlib/_bootstrap.py:222: RuntimeWarning: numpy.dtype size changed, may indicate binary incompatibility. Expected 96, got 88\n",
      "  return f(*args, **kwds)\n",
      "/Users/matthewjohnpayne/anaconda/lib/python3.5/importlib/_bootstrap.py:222: RuntimeWarning: numpy.dtype size changed, may indicate binary incompatibility. Expected 96, got 88\n",
      "  return f(*args, **kwds)\n"
     ]
    }
   ],
   "source": [
    "%load_ext autoreload\n",
    "%matplotlib inline\n",
    "\n",
    "# Standard imports \n",
    "import numpy as np \n",
    "import matplotlib.pyplot as plt \n",
    "import healpy as hp\n",
    "import sys, os\n",
    "\n",
    "import MPC_library as MPCL\n",
    "import phys_const as PHYS\n",
    "import mpchecker \n",
    "import classes as Classes\n",
    "import params \n",
    "import angles as ANG \n"
   ]
  },
  {
   "cell_type": "markdown",
   "metadata": {},
   "source": [
    "# Set up a list of \"fake\" pointings for PanSTARRS (F51) \n",
    " - These are all on the same night, and this night is the night of one of the nbody epochs, so no significant propogation is involved"
   ]
  },
  {
   "cell_type": "code",
   "execution_count": 8,
   "metadata": {},
   "outputs": [
    {
     "name": "stdout",
     "output_type": "stream",
     "text": [
      "Before, uv_ =  [(0.7064927065755489, 0.7064927065755487, 0.041666666666666664), (0.6692230905354422, 0.7383738962407507, 0.08333333333333333), (0.7383738962407509, 0.6692230905354419, 0.08333333333333333), (0.7015607600201141, 0.701560760020114, 0.125), (0.6294175737399514, 0.7669475326691605, 0.125)]\n",
      "After , uv_ =  [[0.70407347 0.70841152 0.04933218]\n",
      " [0.67520161 0.73256053 0.08635887]\n",
      " [0.74253831 0.66007157 0.11376459]\n",
      " [0.69697817 0.70861824 0.1099164 ]\n",
      " [0.63491421 0.7605232  0.13597212]]\n",
      "Number of pointings generated = 3072 \n",
      "First pointing:  G96_2458360.457506042_array([45.17596713])_array([2.82767322])\n",
      "Last  pointing:  G96_2458360.265268412_array([313.61033327])_array([-2.17494395])\n",
      "RA : min,median,max= 0.031417214770571626 179.86054938132966 359.703540727181\n",
      "DEC: min,median,max= -87.43797934440985 0.051811468831903275 89.47873316743976\n"
     ]
    }
   ],
   "source": [
    "# Overall / average quantities \n",
    "obsCode   = 'G96'\n",
    "JDutc_INT = 2458360\n",
    "FOV = 3.0 ## <<-- Assuming all pointings correspond to exposures with diameter = 3.0 degrees\n",
    "\n",
    "# Because I'm going to want to check everything's working OK later on ...\n",
    "# ... I'm going to be excessive and generate a pointing for every healpix\n",
    "uv_ = [hp.pix2vec(params.hp_nside, pix, nest=params.hp_nested) for pix in range(params.hp_npix)]\n",
    "HP_ = [hp.vec2pix(params.hp_nside, *UV, nest=params.hp_nested) for UV  in uv_]\n",
    "R_, D_ = ANG.unit2radec(uv_)\n",
    "uv2_= ANG.radec2unit(R_,D_)\n",
    "\n",
    "# I don't want the pointings to be in the center of each HP\n",
    "# - Randomly shift by an amount which keeps them within HP\n",
    "AreaOfSky = 41253\n",
    "AreaOfHP  = AreaOfSky / params.hp_npix\n",
    "ApproxSideOfHP = np.sqrt(AreaOfHP)\n",
    "\n",
    "RA_, Dec_ = ANG.unit2radec(uv_)\n",
    "uv_randomized = []\n",
    "for i, _ in enumerate(zip(RA_, Dec_ , uv_)):\n",
    "    condition = True\n",
    "    while condition:\n",
    "        dR = (ApproxSideOfHP/1.)*np.random.random()\n",
    "        dD = (ApproxSideOfHP/1.)*np.random.random()\n",
    "        sR = +1 if np.random.random() > 0.5 else -1\n",
    "        sD = +1 if np.random.random() > 0.5 else -1\n",
    "        R = _[0]+sR*dR\n",
    "        D = _[1]+sD*dD\n",
    "        UV= ANG.radec2unit(R,D)\n",
    "        HP= hp.vec2pix(params.hp_nside, *UV, nest=params.hp_nested)\n",
    "        if HP == i:\n",
    "            condition = False \n",
    "            uv_randomized.append(UV) \n",
    "print(\"Before, uv_ = \", uv_[:5])\n",
    "uv_ = np.array(uv_randomized)\n",
    "print(\"After , uv_ = \", uv_[:5])\n",
    "\n",
    "# Generate multiple different pointings \n",
    "PointingList = []\n",
    "for i in range(params.hp_npix):\n",
    "    JDutc = JDutc_INT + 0.25 + 0.5*np.random.rand()\n",
    "    RA , Dec  = ANG.unit2radec(uv_[i])\n",
    "    PointingList.append( Classes.Pointing(obsCode, JDutc, RA , Dec, FOV) )\n",
    "\n",
    "# Examine some of the quantities to check that they are all as expected\n",
    "print(\"Number of pointings generated = %d \" % len(PointingList) )\n",
    "print(\"First pointing: \" , PointingList[0])\n",
    "print(\"Last  pointing: \" , PointingList[-1])\n",
    "tmpR = [P.RADEC[0] for P in PointingList]\n",
    "tmpD = [P.RADEC[1] for P in PointingList]\n",
    "print(\"RA : min,median,max=\",np.min(tmpR), np.median(tmpR), np.max(tmpR))\n",
    "print(\"DEC: min,median,max=\",np.min(tmpD), np.median(tmpD), np.max(tmpD))"
   ]
  },
  {
   "cell_type": "markdown",
   "metadata": {},
   "source": [
    "# Observatory Positions wrt Center of Ecliptic\n",
    " - It will be useful later on to have ensured that each Pointing knows where it was taken from (in heliocentric coords w.r.t. the ecliptic)\n",
    " - Use the functionality demonstrated in \"Demonstrate_PointingObjects.ipynb\""
   ]
  },
  {
   "cell_type": "code",
   "execution_count": 9,
   "metadata": {},
   "outputs": [
    {
     "name": "stdout",
     "output_type": "stream",
     "text": [
      "Ecliptic Helio coords of Observatory at time of first pointing:  [ 9.24541669e-01 -4.05983564e-01  4.48976783e-05]\n",
      "Ecliptic Helio coords of Observatory at time of last pointing:  [ 9.23262647e-01 -4.08958407e-01  2.86938576e-05]\n",
      "CPU times: user 42.4 s, sys: 559 ms, total: 42.9 s\n",
      "Wall time: 43.1 s\n"
     ]
    }
   ],
   "source": [
    "%%time \n",
    "# Do the calculations \n",
    "for P in PointingList:\n",
    "    P.calc_heliocentric_position_of_observatory_in_ecliptic_coords()\n",
    "\n",
    "# Check the results \n",
    "print(\"Ecliptic Helio coords of Observatory at time of first pointing: \" , PointingList[0].helio_ec_posn)\n",
    "print(\"Ecliptic Helio coords of Observatory at time of last pointing: \" , PointingList[-1].helio_ec_posn)"
   ]
  },
  {
   "cell_type": "markdown",
   "metadata": {},
   "source": [
    "# Work out which (topocentric) healpix are occupied by the FoV of each pointing"
   ]
  },
  {
   "cell_type": "code",
   "execution_count": 10,
   "metadata": {},
   "outputs": [
    {
     "name": "stdout",
     "output_type": "stream",
     "text": [
      "HP covered by first pointing:  [0 1 2]\n",
      "HP covered by 2nd pointing:  [0 1 3]\n",
      "HP covered by 3rd pointing:  [2 3 8 9]\n",
      "HP covered by last  pointing:  [1876 1877 3070 3071]\n",
      "CPU times: user 176 ms, sys: 28.1 ms, total: 204 ms\n",
      "Wall time: 180 ms\n"
     ]
    }
   ],
   "source": [
    "%%time \n",
    "# Do the calculations \n",
    "for P in PointingList:\n",
    "    P.HP_covered_by_FoV()\n",
    "\n",
    "# Check the results \n",
    "print(\"HP covered by first pointing: \" , PointingList[0].HPfov)\n",
    "print(\"HP covered by 2nd pointing: \" , PointingList[1].HPfov)\n",
    "print(\"HP covered by 3rd pointing: \" , PointingList[2].HPfov)\n",
    "print(\"HP covered by last  pointing: \" , PointingList[-1].HPfov)"
   ]
  },
  {
   "cell_type": "markdown",
   "metadata": {},
   "source": [
    "# \"Buffer Zone\": Get topocentric healpix an extra degree outside the FoV of each pointing"
   ]
  },
  {
   "cell_type": "code",
   "execution_count": 11,
   "metadata": {},
   "outputs": [
    {
     "name": "stdout",
     "output_type": "stream",
     "text": [
      "HP covered by first pointing:  [0 1 2]\n",
      "HP covered by 2nd pointing:  [0 1 3]\n",
      "HP covered by 3rd pointing:  [2 3 8 9]\n",
      "HP covered by last  pointing:  [1876 1877 3070 3071]\n",
      "CPU times: user 100 ms, sys: 2.11 ms, total: 102 ms\n",
      "Wall time: 100 ms\n"
     ]
    }
   ],
   "source": [
    "%%time \n",
    "# Do the calculations \n",
    "for P in PointingList:\n",
    "    P.HP_covered_by_FoV(MarginForErrorRadians=np.radians(0.0)) # <<-- Converting 1-degree to radians\n",
    "\n",
    "# Check the results \n",
    "print(\"HP covered by first pointing: \" , PointingList[0].HPfov)\n",
    "print(\"HP covered by 2nd pointing: \" , PointingList[1].HPfov)\n",
    "print(\"HP covered by 3rd pointing: \" , PointingList[2].HPfov)\n",
    "print(\"HP covered by last  pointing: \" , PointingList[-1].HPfov)"
   ]
  },
  {
   "cell_type": "markdown",
   "metadata": {},
   "source": [
    "# Now use the OrbitObjectsByHP routine to get the list of objects which touch a given healpix on a specified (integer) night\n",
    " - See the \"Demonstrate_OrbitObjectsByHP\" notebook "
   ]
  },
  {
   "cell_type": "markdown",
   "metadata": {},
   "source": [
    "# FIRST CALL TO FILES IS SLOW ...\n",
    "# ... Here we are returning results for only the first Pointing\n",
    " - But only 4-seconds slow, not 2min like before"
   ]
  },
  {
   "cell_type": "code",
   "execution_count": 12,
   "metadata": {},
   "outputs": [
    {
     "name": "stdout",
     "output_type": "stream",
     "text": [
      "Lengthy import ...\n",
      "Opening '/Users/matthewjohnpayne/Dropbox/mpchecker/preprocessed_data/OrbitNumberByHP_500_2458360_5.npy'\n",
      "Opening '/Users/matthewjohnpayne/Dropbox/mpchecker/preprocessed_data/orbitObject_states_2458360_5.npy'\n",
      "states[0] [ 2.95912208e-04  2.45836050e+06  2.04408462e+00 -2.32335426e+00\n",
      "  2.65748670e-01  6.56987317e-03  5.54146168e-03  3.55313810e-04]\n",
      "Opening '/Users/matthewjohnpayne/Dropbox/mpchecker/preprocessed_data/orbitObject_desigs_2458360_5.npy'\n",
      "desigs[0] J95O12J\n",
      "CPU times: user 3.94 s, sys: 238 ms, total: 4.18 s\n",
      "Wall time: 4.2 s\n"
     ]
    }
   ],
   "source": [
    "%%time\n",
    "# Let's import the Object List for the first pointing ...\n",
    "print('Lengthy import ...')\n",
    "obsCode = '500'\n",
    "JDUTCstr = str(int(PointingList[0].JDutc))+\"_5\"\n",
    "OrbitObjectList = mpchecker.OrbitObjectsByHP(PointingList[0].HPfov , JDUTCstr , obsCode)"
   ]
  },
  {
   "cell_type": "code",
   "execution_count": 13,
   "metadata": {},
   "outputs": [
    {
     "name": "stdout",
     "output_type": "stream",
     "text": [
      "# of returned OrbitObjects:  387\n",
      "Type of first item in list =  <class 'classes.OrbitObject'>\n",
      "Attributes of first item in list ...\n",
      "\t OO.cart_state =  <universal_kepler.universal_kepler.CartState object at 0xb1d2a4840>\n",
      "\t OO.GMcenter =  0.00029591220828559115\n",
      "\t OO.epoch =  2458360.5\n"
     ]
    }
   ],
   "source": [
    "# Look at the results returned ...\n",
    "print(\"# of returned OrbitObjects: \", len(OrbitObjectList))\n",
    "\n",
    "OO = OrbitObjectList[0]\n",
    "print(\"Type of first item in list = \", type(OO) )\n",
    "print(\"Attributes of first item in list ...\")\n",
    "print(\"\\t OO.cart_state = \", OO.cart_state)\n",
    "print(\"\\t OO.GMcenter = \", OO.GMcenter)\n",
    "print(\"\\t OO.epoch = \", OO.epoch)\n"
   ]
  },
  {
   "cell_type": "markdown",
   "metadata": {},
   "source": [
    "# SECOND CALL TO FILES IS FAST ...\n",
    "# ... Here we are returning the results for *ALL* Pointings"
   ]
  },
  {
   "cell_type": "code",
   "execution_count": 14,
   "metadata": {},
   "outputs": [
    {
     "name": "stdout",
     "output_type": "stream",
     "text": [
      "CPU times: user 805 ms, sys: 18.3 ms, total: 823 ms\n",
      "Wall time: 826 ms\n"
     ]
    }
   ],
   "source": [
    "%%time\n",
    "# Let's import the Object List for the second pointing ...\n",
    "obsCode = '500'\n",
    "JDUTCstr = str(int(PointingList[0].JDutc))+\"_5\"\n",
    "OrbitObjectDict = {i : mpchecker.OrbitObjectsByHP(P.HPfov , JDUTCstr, obsCode) for i,P in enumerate(PointingList) }"
   ]
  },
  {
   "cell_type": "code",
   "execution_count": 15,
   "metadata": {},
   "outputs": [
    {
     "name": "stdout",
     "output_type": "stream",
     "text": [
      "# of returned Healpix:  3072\n",
      "Number of returned OrbitObjects for key=0 is:  387\n",
      "Total number of returned OrbitObjects is:  2067695\n",
      "Total number of unique returned OrbitObjects is:  517251\n",
      "CPU times: user 1.61 s, sys: 40.2 ms, total: 1.65 s\n",
      "Wall time: 1.65 s\n"
     ]
    }
   ],
   "source": [
    "%%time\n",
    "# Examine the results returned ...\n",
    "print(\"# of returned Healpix: \", len(OrbitObjectDict))\n",
    "print(\"Number of returned OrbitObjects for key=0 is: \", len(OrbitObjectDict[0]) )\n",
    "returnedOrbitObjectDesigs = []\n",
    "for v in OrbitObjectDict.values(): returnedOrbitObjectDesigs.extend([_.desig for _ in v])\n",
    "print(\"Total number of returned OrbitObjects is: \", len(returnedOrbitObjectDesigs) )\n",
    "print(\"Total number of unique returned OrbitObjects is: \", len(list(set(returnedOrbitObjectDesigs))))\n"
   ]
  },
  {
   "cell_type": "markdown",
   "metadata": {},
   "source": [
    "# Propagate Orbits to time of pointings\n",
    " - Follow the example(s) in \"Demonstrate_OrbitObjectsByHP.ipynb\" where we use RADEC_from_state_C to advance the returned OrbitObjects to a different time in the night "
   ]
  },
  {
   "cell_type": "code",
   "execution_count": 16,
   "metadata": {},
   "outputs": [
    {
     "name": "stdout",
     "output_type": "stream",
     "text": [
      "RA,Dec of first OrbitObject (K12T27B) at time of first Pointing (2458360.457506)\n",
      "44.60081754231477 0.7858147128916019\n",
      "\n",
      "CPU times: user 631 µs, sys: 249 µs, total: 880 µs\n",
      "Wall time: 640 µs\n"
     ]
    }
   ],
   "source": [
    "%%time\n",
    "# Advance the first OrbitObject from above to the time of the first Pointing above \n",
    "Pnum = 0 \n",
    "P = PointingList[Pnum]\n",
    "OO = OrbitObjectDict[Pnum][0]\n",
    "RA_, DEC_ = OO.get_RADEC( np.array([P.JDutc]), P.helio_ec_posn)\n",
    "# Examine the output\n",
    "print(\"RA,Dec of first OrbitObject (%s) at time of first Pointing (%f)\" % (OO.desig,PointingList[0].JDutc ) )\n",
    "for RA,DEC in zip(RA_, DEC_): \n",
    "    print(RA,DEC)\n",
    "print()"
   ]
  },
  {
   "cell_type": "code",
   "execution_count": 17,
   "metadata": {},
   "outputs": [
    {
     "name": "stdout",
     "output_type": "stream",
     "text": [
      "length: 387 True\n",
      "44.60081754231477 0.7858147128916019\n",
      "41.05643908330604 5.831845135000055\n",
      "CPU times: user 91.7 ms, sys: 5.63 ms, total: 97.3 ms\n",
      "Wall time: 92.3 ms\n"
     ]
    }
   ],
   "source": [
    "%%time\n",
    "# Advance all OrbitObjects (that are relevant to the first Pointing) to the time of the first Pointing\n",
    "RA_, DEC_ = [],[]\n",
    "Pnum = 0 \n",
    "P = PointingList[Pnum]\n",
    "for OO in OrbitObjectDict[Pnum]:\n",
    "    r, d = OO.get_RADEC( np.array([P.JDutc]), P.helio_ec_posn)\n",
    "    RA_.append(r[0]), DEC_.append(d[0])\n",
    "# Examine the output\n",
    "print(\"length:\", len(OrbitObjectDict[Pnum]), len(RA_)==len(OrbitObjectList))\n",
    "print(RA_[0],DEC_[0])\n",
    "print(RA_[-1], DEC_[-1])\n"
   ]
  },
  {
   "cell_type": "code",
   "execution_count": 18,
   "metadata": {},
   "outputs": [
    {
     "name": "stdout",
     "output_type": "stream",
     "text": [
      "CPU times: user 45.2 s, sys: 172 ms, total: 45.4 s\n",
      "Wall time: 45.5 s\n"
     ]
    }
   ],
   "source": [
    "%%time\n",
    "# Advance all OrbitObjects (that are relevant to each Pointing) to the times of each (3k?) Pointing\n",
    "for i,P in enumerate(PointingList):\n",
    "    RA_, DEC_ = [],[]\n",
    "    for OO in OrbitObjectDict[i]:\n",
    "        r, d = OO.get_RADEC( np.array([P.JDutc]), P.helio_ec_posn)\n",
    "        RA_.append(r[0]), DEC_.append(d[0])\n",
    "    indiceesWithinFoV = P.select_RADEC_within_FoV(RA_, DEC_)\n"
   ]
  },
  {
   "cell_type": "markdown",
   "metadata": {},
   "source": [
    "# Select the Subset of an RA_, DEC_ list which are actually in the Field-of-View of a Pointing\n",
    " - Just looking at a single pointing in this cell ... \n",
    " - Just develop this here, then push into main pointing functionality"
   ]
  },
  {
   "cell_type": "code",
   "execution_count": 19,
   "metadata": {},
   "outputs": [
    {
     "name": "stdout",
     "output_type": "stream",
     "text": [
      "lens:  387 True\n",
      "RA_  =  [44.60081754231477, 44.67322915620287, 44.2779956370187, 45.29707867258457, 45.59228514266898, 44.1865244648633, 45.312599216743614, 44.697281035378936, 44.73778522161179, 44.0448807355909]  ... \n",
      "DEC_ =  [0.7858147128916019, 4.131149040334089, 2.1952823122173046, 0.7987074378541038, 0.580073489025598, 2.0595651920649027, 2.270159547277259, 2.584692405520132, 1.693642276360898, 1.1020444223728003]  ... \n",
      "\n",
      "P.RADEC :  (array([45.17596713]), array([2.82767322]))\n",
      "\n",
      "length: 387 True\n",
      "angles =  [2.12123061 1.39672931 1.09759487 2.03257323 2.28579302 1.25187551\n",
      " 0.57397975 0.53634775 1.21561693 2.0628985 ]  ... \n",
      "# indiceesWithinFoV =  194\n",
      "angleswithinFOV =  [2.12123061 1.39672931 1.09759487 2.03257323 2.28579302 1.25187551\n",
      " 0.57397975 0.53634775 1.21561693 2.0628985  0.67371298 1.54339595\n",
      " 1.5439602  1.47663691 0.84010416 0.90315587 0.9734345  1.89149145\n",
      " 1.78654395 0.96345149 1.28818027 1.98641023 2.41780923 1.65486242\n",
      " 1.19243317 2.42592108 1.77767792 1.42611501 1.42484723 1.95739907\n",
      " 2.62163778 0.9467586  0.88040333 0.70166142 0.89118753 1.94484308\n",
      " 1.08222814 0.98909043 0.84118932 2.05014974 0.8821044  1.74490858\n",
      " 1.35234039 1.90493241 2.33470917 0.98214928 1.65364723 1.43763139\n",
      " 1.79900434 2.18908042 0.50676928 1.34184689 1.14461031 0.7635674\n",
      " 1.3636071  0.75299644 1.44051273 1.91678082 2.45186673 1.55158324\n",
      " 1.32602082 0.51319964 2.32564449 1.15025582 1.55044625 1.5008329\n",
      " 2.27117536 1.34177701 1.47587838 1.60369952 2.66919919 1.27912081\n",
      " 1.45623771 2.10202119 1.04310474 1.85373274 0.70775434 0.88409495\n",
      " 1.5917309  0.69301511 1.20090164 2.27383874 1.60057837 1.91800888\n",
      " 0.336902   2.70806608 1.21723038 1.06854613 1.06603328 1.45593461\n",
      " 2.26986398 1.26980384 0.35500266 1.16445157 2.18049733 1.6725087\n",
      " 0.48331697 2.4060535  2.08379365 1.75073208 0.84337291 2.07604029\n",
      " 2.11557332 1.78928279 2.07992708 1.55782207 1.68907137 1.1171704\n",
      " 1.28417242 1.26650807 2.08674894 0.89475118 1.84319131 1.09926132\n",
      " 2.14458894 1.51326977 0.11738834 0.65551591 0.68045934 1.98316973\n",
      " 1.58256286 1.24763342 0.70686501 2.29880576 1.74165668 1.65674112\n",
      " 0.27985487 2.02336467 2.3583037  1.59580564 2.75613498 1.41677549\n",
      " 1.9756393  2.59814456 1.63256249 2.93331878 2.95921023 2.9725422\n",
      " 2.0861865  2.64644096 2.81408004 2.97497544 1.60897182 2.87073189\n",
      " 2.2186538  2.463307   2.26405376 1.52450703 2.99910348 2.88478502\n",
      " 1.8177045  2.72688078 2.97342196 2.89708059 2.62389388 2.81615668\n",
      " 2.90609544 2.11426742 2.81527435 2.28582566 2.16477346 2.31160272\n",
      " 1.82058826 2.822825   2.80353342 2.90704929 2.4973596  2.10427473\n",
      " 2.23829151 1.92498202 1.87791438 2.32930723 2.34138945 2.6885364\n",
      " 2.41765991 2.20646053 2.98924477 2.65523182 2.91184907 2.88365255\n",
      " 2.72359215 2.66675114 2.53146106 2.35932077 1.71026889 2.11331511\n",
      " 2.52286117 2.19293816 1.60446113 2.24113676 2.74782368 2.53455275\n",
      " 2.74761373 2.10714388]\n",
      "CPU times: user 17 ms, sys: 4.46 ms, total: 21.4 ms\n",
      "Wall time: 17.2 ms\n"
     ]
    }
   ],
   "source": [
    "%%time\n",
    "RA_, DEC_  = [],[]\n",
    "# Just looking at a single pointing in this cell ... \n",
    "Pnum = 0 \n",
    "P = PointingList[Pnum]\n",
    "for OO in OrbitObjectDict[Pnum]:\n",
    "    # Advance OrbitObject to the time of the first Pointing\n",
    "    r, d = OO.get_RADEC( np.array([P.JDutc]), P.helio_ec_posn)\n",
    "    RA_.append(r[0]), DEC_.append(d[0])\n",
    "print(\"lens: \", len(RA_), len(RA_)==len(OrbitObjectDict[Pnum]))\n",
    "print(\"RA_  = \", RA_[:10], \" ... \")\n",
    "print(\"DEC_ = \", DEC_[:10], \" ... \")\n",
    "\n",
    "# For reference, re-print the RA,DEC of the center ...\n",
    "print()\n",
    "print(\"P.RADEC : \", P.RADEC)\n",
    "print() \n",
    "\n",
    "# Get the angle between the RA_,DEC_ and the center of the pointing\n",
    "# - This explicit step not required in practice, but done here for pedagogical purposes \n",
    "angles = P.calc_angles_wrt_center_radec(RA_, DEC_)\n",
    "print(\"length:\", len(angles), len(angles)==len(OrbitObjectDict[Pnum]))\n",
    "print(\"angles = \", angles[:10], \" ... \")\n",
    "\n",
    "# Get the indicees of the objects which fall within the FoV\n",
    "# - THis uses the calc_angles_wrt_center_radec function illustrated above \n",
    "indiceesWithinFoV = P.select_RADEC_within_FoV(RA_, DEC_)\n",
    "print(\"# indiceesWithinFoV = \", len(indiceesWithinFoV[0]))\n",
    "print(\"angleswithinFOV = \", angles[indiceesWithinFoV])\n"
   ]
  },
  {
   "cell_type": "code",
   "execution_count": 20,
   "metadata": {},
   "outputs": [
    {
     "data": {
      "image/png": "[encoded data removed]",
      "text/plain": [
       "<Figure size 432x288 with 1 Axes>"
      ]
     },
     "metadata": {},
     "output_type": "display_data"
    }
   ],
   "source": [
    "# Plot the distribution of the angles \n",
    "tmp=plt.hist(angles, bins=np.arange(0,10,0.1))\n",
    "tmp=plt.hist(angles[indiceesWithinFoV], bins=np.arange(0,10,0.1))\n"
   ]
  },
  {
   "cell_type": "markdown",
   "metadata": {},
   "source": [
    "# Want to examine the sensitivity on \"MarginForErrorRadians\"\n",
    " - I.e., how wide is wide enough (so that we don't keep calculating orbits for no reason) ?"
   ]
  },
  {
   "cell_type": "code",
   "execution_count": 21,
   "metadata": {},
   "outputs": [],
   "source": [
    "# Start by making a compact version of the analysis performed in the above cells...\n",
    "def evaluate_pointing( P, deg ):\n",
    "    # Calculate the approximate HP list with the margin-for-error\n",
    "    P.HP_covered_by_FoV(MarginForErrorRadians=np.radians(deg))\n",
    "    \n",
    "    # Import the Object List for the pointing ...\n",
    "    obsCode = '500'\n",
    "    JDUTCstr = str(int(P.JDutc))+\"_5\"\n",
    "    OrbitObjectList = mpchecker.OrbitObjectsByHP(P.HPfov , JDUTCstr , obsCode)\n",
    "    \n",
    "    # Propagate orbits to time of pointing\n",
    "    RA_,DEC_=[],[]\n",
    "    for OO in OrbitObjectList:\n",
    "        r, d = OO.get_RADEC( np.array([P.JDutc]), P.helio_ec_posn)\n",
    "        RA_.append(r[0]), DEC_.append(d[0])\n",
    "        \n",
    "    # This step not needed ... \n",
    "    \n",
    "    # Get the indicees of the objects which fall within the FoV\n",
    "    indiceesWithinFoV = P.select_RADEC_within_FoV(RA_, DEC_)\n",
    "    # Return the number of indicees within the FoV \n",
    "    return len(OrbitObjectList), len(indiceesWithinFoV[0])\n",
    "    "
   ]
  },
  {
   "cell_type": "code",
   "execution_count": 24,
   "metadata": {},
   "outputs": [
    {
     "name": "stdout",
     "output_type": "stream",
     "text": [
      "Margin:  0.0  , Ncandidates= 96851  N_in_Fov= 47146\n",
      "Margin:  0.1  , Ncandidates= 103052  N_in_Fov= 47948\n",
      "Margin:  1.0  , Ncandidates= 151524  N_in_Fov= 50294\n",
      "Margin:  3.0  , Ncandidates= 292469  N_in_Fov= 50306\n",
      "Margin:  10.0  , Ncandidates= 1116409  N_in_Fov= 50306\n",
      "CPU times: user 1min 39s, sys: 765 ms, total: 1min 40s\n",
      "Wall time: 38 s\n"
     ]
    }
   ],
   "source": [
    "%%time\n",
    "# Look at some different values of the \"MarginForErrorRadians\"\n",
    "# - N.B. I am just printing out the total number of returned objects within the FoV\n",
    "for deg in [0.0, 0.1, 1.0, 3.0, 10.0]:\n",
    "    nTot_, nIn_ = [],[]\n",
    "    for P in PointingList[:123] :  ## <<-- To save time, just doing a subset of the pointings\n",
    "        _ = evaluate_pointing( P, deg)\n",
    "        nTot_.append(_[0])\n",
    "        nIn_.append(_[1])\n",
    "    print(\"Margin: \",deg , \" , Ncandidates=\", np.sum(nTot_), \" N_in_Fov=\", np.sum(nIn_))"
   ]
  },
  {
   "cell_type": "markdown",
   "metadata": {},
   "source": [
    "# Get Indicees (of OrbitObjects) within FoV of all Pointings"
   ]
  },
  {
   "cell_type": "code",
   "execution_count": null,
   "metadata": {},
   "outputs": [],
   "source": [
    "%%time\n",
    "# Advance all OrbitObjects to the times of all (3k?) Pointings\n",
    "rDict,dDict,iDict={},{},{}\n",
    "for i,P in enumerate(PointingList):\n",
    "    RA_, DEC_ = [],[]\n",
    "    # Get the RA,Dec of each object relevant to the Pointing \n",
    "    for OO in OrbitObjectDict[i]:\n",
    "        r, d = OO.get_RADEC( np.array([P.JDutc]), np.array([P.helio_ec_posn]))\n",
    "        RA_.append(r)\n",
    "        DEC_.append(d)\n",
    "        \n",
    "    # Get the indicees of the objects which fall within the FoV\n",
    "    indiceesWithinFoV = P.select_RADEC_within_FoV(RA_, DEC_)\n",
    "    \n",
    "    # Save in some handy dicts ...\n",
    "    rDict[i]=RA_\n",
    "    dDict[i]=DEC_\n",
    "    iDict[i]=indiceesWithinFoV\n",
    "\n",
    "\n",
    "# Examine the output\n",
    "tmpR, tmpD, tmpC = [],[],[]\n",
    "for i,P in enumerate(PointingList):\n",
    "    if i < 2: \n",
    "        print(i, P.RADEC, len(iDict[i][0]) )\n",
    "    tmpR.append(P.RADEC[0])\n",
    "    tmpD.append(P.RADEC[1])\n",
    "    tmpC.append(len(iDict[i][0]) )\n",
    "#plt.scatter(tmpR, tmpD, c=tmpC, cmap='viridis')\n",
    "#plt.colorbar()"
   ]
  },
  {
   "cell_type": "code",
   "execution_count": null,
   "metadata": {},
   "outputs": [],
   "source": [
    "%%time\n",
    "# Advance all OrbitObjects to the times of all (500?) Pointings\n",
    "RA_, DEC_ = [],[]\n",
    "for OO in OrbitObjectList:\n",
    "    r, d = OO.get_RADEC( np.array([P.JDutc for P in PointingList]), np.array([P.helio_ec_posn for P in PointingList]))\n",
    "    RA_.append(r)\n",
    "    DEC_.append(d)\n",
    "RA_, DEC_ = np.array(RA_), np.array(DEC_)\n",
    "\n",
    "# Get the indicees of the objects which fall within the FoV\n",
    "indiceesWithinFoV = []\n",
    "for i,P in enumerate(PointingList):\n",
    "    indiceesWithinFoV.append( P.select_RADEC_within_FoV(RA_[:,i], DEC_[:,i]) )\n",
    "\n",
    "# Examine the output\n",
    "tmpR, tmpD, tmpC = [],[],[]\n",
    "for i,P in enumerate(PointingList):\n",
    "    if i < 2: \n",
    "        print(i, P.RADEC, len(indiceesWithinFoV[i][0]) )\n",
    "    tmpR.append(P.RADEC[0])\n",
    "    tmpD.append(P.RADEC[1])\n",
    "    tmpC.append(len(indiceesWithinFoV[i][0]) )\n",
    "plt.scatter(tmpR, tmpD, c=tmpC, cmap='viridis')\n",
    "plt.colorbar()"
   ]
  },
  {
   "cell_type": "code",
   "execution_count": null,
   "metadata": {},
   "outputs": [],
   "source": []
  }
 ],
 "metadata": {
  "kernelspec": {
   "display_name": "Python [conda env:anaconda]",
   "language": "python",
   "name": "conda-env-anaconda-py"
  },
  "language_info": {
   "codemirror_mode": {
    "name": "ipython",
    "version": 3
   },
   "file_extension": ".py",
   "mimetype": "text/x-python",
   "name": "python",
   "nbconvert_exporter": "python",
   "pygments_lexer": "ipython3",
   "version": "3.5.5"
  }
 },
 "nbformat": 4,
 "nbformat_minor": 2
}
