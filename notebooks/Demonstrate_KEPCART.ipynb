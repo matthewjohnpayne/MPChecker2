{
 "cells": [
  {
   "cell_type": "markdown",
   "metadata": {},
   "source": [
    "# Demonstration of KEPCART\n",
    " - 20190312\n",
    " - MJP\n",
    " - How to use the KEPCART routine to do conversion\n",
    " \n",
    "#### *NOT YET INCLUDED* : Ability to handle hyperbolic orbits properly"
   ]
  },
  {
   "cell_type": "code",
   "execution_count": 1,
   "metadata": {},
   "outputs": [
    {
     "name": "stderr",
     "output_type": "stream",
     "text": [
      "/Users/matthewjohnpayne/anaconda/lib/python3.5/importlib/_bootstrap.py:222: RuntimeWarning: numpy.dtype size changed, may indicate binary incompatibility. Expected 96, got 88\n",
      "  return f(*args, **kwds)\n",
      "/Users/matthewjohnpayne/anaconda/lib/python3.5/importlib/_bootstrap.py:222: RuntimeWarning: numpy.dtype size changed, may indicate binary incompatibility. Expected 96, got 88\n",
      "  return f(*args, **kwds)\n"
     ]
    }
   ],
   "source": [
    "# Standard imports \n",
    "import numpy as np \n",
    "import MPC_library as MPCL\n",
    "\n",
    "# classes code \n",
    "import kepcart as kc\n",
    "\n"
   ]
  },
  {
   "cell_type": "markdown",
   "metadata": {},
   "source": [
    "# Convert keplerian elements  to cartesian state"
   ]
  },
  {
   "cell_type": "code",
   "execution_count": 8,
   "metadata": {},
   "outputs": [
    {
     "name": "stdout",
     "output_type": "stream",
     "text": [
      "CART=\n",
      "1.0 0.0 0.0 -0.0 0.01720209895 0.0\n"
     ]
    }
   ],
   "source": [
    "GMcenter=MPCL.Constants.GMsun\n",
    "a, e, incl, longnode, argperi, meananom = (1.0, 0.0, 0.0, 0.0, 0.0, 0.0)\n",
    "CART = kc.cartesian(GMcenter, a, e, incl, longnode, argperi, meananom) \n",
    "print(\"CART=\")\n",
    "print(CART.x, CART.y, CART.z, CART.xd, CART.yd, CART.zd)"
   ]
  },
  {
   "cell_type": "markdown",
   "metadata": {},
   "source": [
    "# Convert cartesian state to keplerian elements"
   ]
  },
  {
   "cell_type": "code",
   "execution_count": 9,
   "metadata": {},
   "outputs": [
    {
     "name": "stdout",
     "output_type": "stream",
     "text": [
      "KEP= (1.0, 0.0, 0.0, 0.0, 0.0, 0.0)\n"
     ]
    }
   ],
   "source": [
    "KEP=kc.keplerian(GMcenter,CART)\n",
    "print(\"KEP=\",KEP)"
   ]
  },
  {
   "cell_type": "code",
   "execution_count": null,
   "metadata": {},
   "outputs": [],
   "source": []
  }
 ],
 "metadata": {
  "kernelspec": {
   "display_name": "Python [conda env:anaconda]",
   "language": "python",
   "name": "conda-env-anaconda-py"
  },
  "language_info": {
   "codemirror_mode": {
    "name": "ipython",
    "version": 3
   },
   "file_extension": ".py",
   "mimetype": "text/x-python",
   "name": "python",
   "nbconvert_exporter": "python",
   "pygments_lexer": "ipython3",
   "version": "3.5.5"
  }
 },
 "nbformat": 4,
 "nbformat_minor": 2
}
