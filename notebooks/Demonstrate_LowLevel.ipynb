{
 "cells": [
  {
   "cell_type": "markdown",
   "metadata": {},
   "source": [
    "# Demonstration of low-level functions within MPChecker2\n",
    " - This is likely to mainly be of use while developing the code \n",
    " - 20200122\n",
    " - MJP"
   ]
  },
  {
   "cell_type": "code",
   "execution_count": 5,
   "metadata": {},
   "outputs": [
    {
     "name": "stdout",
     "output_type": "stream",
     "text": [
      "/Users/matthewjohnpayne/Envs/mpcvenv/mpchecker2/mpchecker2\n",
      "/Users/matthewjohnpayne/Envs/mpcvenv/mpchecker2/mpchecker2\n"
     ]
    },
    {
     "data": {
      "text/plain": [
       "<module 'precalc' from '/Users/matthewjohnpayne/Envs/mpcvenv/mpchecker2/mpchecker2/precalc.py'>"
      ]
     },
     "execution_count": 5,
     "metadata": {},
     "output_type": "execute_result"
    }
   ],
   "source": [
    "# Standard imports \n",
    "import os , sys\n",
    "import numpy as np \n",
    "import random\n",
    "import string\n",
    "import importlib\n",
    "import json \n",
    "import glob\n",
    "import shutil\n",
    "\n",
    "# orbit_checby imports \n",
    "sys.path.append( \"/Users/matthewjohnpayne/Envs/orbit_cheby/orbit_cheby/\" )\n",
    "import nbody_reader\n",
    "import orbit_cheby\n",
    "importlib.reload(nbody_reader)\n",
    "importlib.reload(orbit_cheby)\n",
    "\n",
    "# mpchecker2 imports \n",
    "sys.path.append(os.path.join(os.path.split(os.getcwd())[0], 'mpchecker2'))\n",
    "import sql\n",
    "import precalc\n",
    "importlib.reload(sql)\n",
    "importlib.reload(precalc)\n"
   ]
  },
  {
   "cell_type": "markdown",
   "metadata": {},
   "source": [
    "# Background\n",
    " - I expect that the \"orbit_cheby\" module exists and has acted to take the results of an n-body integration and convert them into a dictionary of chebyshev coefficients (with seprate coefficient sets for each \"sector\" of time)  - There is a single dictionary for each object\n"
   ]
  },
  {
   "cell_type": "markdown",
   "metadata": {},
   "source": [
    "# --------- Demo-Data Functions ---------------------\n",
    "\n",
    " - These functions create fake data for the sake of demonstrating functionalities"
   ]
  },
  {
   "cell_type": "code",
   "execution_count": 6,
   "metadata": {},
   "outputs": [],
   "source": [
    "def create_sample_cheby_dict():\n",
    "    importlib.reload(nbody_reader)\n",
    "    importlib.reload(orbit_cheby)\n",
    "\n",
    "    # Set up a filepath (to be created)\n",
    "    text_filepath = os.path.join(os.path.dirname(os.getcwd() ), 'dev_data', '2022AA_demo.txt')\n",
    "\n",
    "    # Use convenience func in nbody_reader to create a text file \n",
    "    nbody_reader.create_nbody_txt(text_filepath)\n",
    "    assert os.path.isfile(text_filepath)\n",
    "\n",
    "    # Create cheby dict \n",
    "    multi_sector_cheby_dict = orbit_cheby.generate_multi_sector_cheby_dict_from_nbody_text( \n",
    "                                        text_filepath ,\n",
    "                                        40001,\n",
    "                                        59999, \n",
    "                                        minorder=17,\n",
    "                                        CHECK = True )\n",
    "\n",
    "    return multi_sector_cheby_dict"
   ]
  },
  {
   "cell_type": "code",
   "execution_count": 7,
   "metadata": {},
   "outputs": [
    {
     "name": "stderr",
     "output_type": "stream",
     "text": [
      "/Users/matthewjohnpayne/Envs/orbit_cheby/orbit_cheby/orbit_cheby.py:386: RankWarning: The fit may be poorly conditioned\n",
      "  candidateCoeffs = np.polynomial.chebyshev.chebfit(t, arr, int(np.ceil(order)) )\n"
     ]
    },
    {
     "name": "stdout",
     "output_type": "stream",
     "text": [
      "unpacked_designation 2022 AA\n",
      "MJP_TDB_final 59999\n",
      "MJP_TDB_init 40001\n",
      "sectors  ; Number of sectors =  625\n"
     ]
    }
   ],
   "source": [
    "multi_sector_cheby_dict = create_sample_cheby_dict()\n",
    "\n",
    "for key in multi_sector_cheby_dict.keys():\n",
    "    if key == 'sectors':\n",
    "        print(key,  ' ; Number of sectors = ' , len(multi_sector_cheby_dict['sectors']) )\n",
    "    else:\n",
    "        print(key, multi_sector_cheby_dict[key])"
   ]
  },
  {
   "cell_type": "markdown",
   "metadata": {},
   "source": [
    "# --------- SQL ---------------------\n",
    " - I was doing a lot of reinventing the wheel \n",
    " - I am going to try to radically simplify things and just use a/an SQLITE database to store the required data\n",
    " \n",
    "Required Structure for db ... \n",
    " - Cheby Coefficient table organized with one-row-per-object, and with individual fields (columns) for each 32-day time-sector\n",
    " - I assume that the contents of each \"cell\" will have to be a \"blob\" containing all required coeffs for all required coords/covars\n",
    " - There should also be a column (or separate table?) recording the designation-string"
   ]
  },
  {
   "cell_type": "code",
   "execution_count": 41,
   "metadata": {},
   "outputs": [
    {
     "name": "stdout",
     "output_type": "stream",
     "text": [
      "/Users/matthewjohnpayne/Envs/mpcvenv/mpchecker2/mpchecker2\n"
     ]
    },
    {
     "data": {
      "text/plain": [
       "True"
      ]
     },
     "execution_count": 41,
     "metadata": {},
     "output_type": "execute_result"
    }
   ],
   "source": [
    "# --- Demonstrate some convenience code to make database with required tables ---\n",
    "# -------------------------------------------------------------------------------\n",
    "\n",
    "importlib.reload(sql)\n",
    "importlib.reload(precalc)\n",
    "\n",
    "def convenience_func_create_db_and_tables():\n",
    "    B = precalc.Base() \n",
    "    \n",
    "    # In order to save data, we require sql-db to exist, so let's set that up...\n",
    "    # Force deletion then creation of db...\n",
    "    if os.path.isfile( sql.fetch_db_filepath() ):\n",
    "        os.remove(sql.fetch_db_filepath())\n",
    "    conn = sql.create_connection( sql.fetch_db_filepath() )\n",
    "    cur  = conn.cursor()\n",
    "    \n",
    "    # Test creation of db\n",
    "    assert os.path.isfile( os.path.join( sql.fetch_db_filepath() ) ), 'no db'\n",
    "\n",
    "    # Create required table(s)\n",
    "    sql.create_specific_tables(conn)\n",
    "\n",
    "    # Double-check that this worked by getting the count of tables with the name\n",
    "    # - if the count is 1, then table exists\n",
    "    cur.execute('SELECT name from sqlite_master WHERE type = \"table\" AND name = \"objects_by_jdhp\"')\n",
    "    assert len(cur.fetchone()) == 1 , 'jdhp table does not exist'\n",
    "    cur.execute('SELECT name from sqlite_master WHERE type = \"table\" AND name = \"object_coefficients\"')\n",
    "    assert len(cur.fetchone()) == 1 , 'coeff table does not exist'\n",
    "\n",
    "    conn.close()\n",
    "\n",
    "# Create db & tables\n",
    "convenience_func_create_db_and_tables()\n",
    "# Repeat check that db exists (other checks done within *convenience_func_create_db_and_tables()* )\n",
    "os.path.isfile( os.path.join( sql.fetch_db_filepath() ) )"
   ]
  },
  {
   "cell_type": "code",
   "execution_count": 48,
   "metadata": {},
   "outputs": [
    {
     "name": "stdout",
     "output_type": "stream",
     "text": [
      "/Users/matthewjohnpayne/Envs/mpcvenv/mpchecker2/mpchecker2\n",
      "(40001, 59999)\n"
     ]
    }
   ],
   "source": [
    "# --- Demonstrate code to \"upsert\" dictionary into mpchecker2 sqlite db ---------\n",
    "# -------------------------------------------------------------------------------\n",
    "importlib.reload(sql)\n",
    "importlib.reload(precalc)\n",
    "\n",
    "# (1) Low level direct call using sql\n",
    "conn = sql.create_connection( sql.fetch_db_filepath() )\n",
    "#sql.upsert_multi_sector_cheby_dict(conn, multi_sector_cheby_dict)\n",
    "print( \n",
    "    orbit_cheby.get_valid_range_of_dates_from_cheby(multi_sector_cheby_dict) \n",
    ")\n",
    "\n",
    "# (2) Higher level call using PreCalc() instance \n",
    "#P = precalc.PreCalc() \n"
   ]
  },
  {
   "cell_type": "code",
   "execution_count": 50,
   "metadata": {},
   "outputs": [
    {
     "data": {
      "text/plain": [
       "{'MJP_TDB_final': 40033,\n",
       " 'MJP_TDB_init': 40001,\n",
       " 'coeffs': array([[ 2.31523079e+05, -1.57934829e+05,  0.00000000e+00,\n",
       "          0.00000000e+00,  2.31523079e+04,  4.63046159e+04,\n",
       "          0.00000000e+00,  2.31523079e-04,  4.63046158e-04,\n",
       "          6.94569237e-04,  9.26092317e-04,  1.15761540e-03,\n",
       "          1.38913847e-03,  1.62066155e-03,  1.85218463e-03,\n",
       "          2.08370771e-03,  2.31523079e-03,  2.54675387e-03,\n",
       "          2.77827695e-03,  3.00980003e-03,  3.24132311e-03,\n",
       "          3.47284618e-03,  3.70436927e-03,  3.93589235e-03,\n",
       "          4.16741543e-03,  4.39893850e-03,  4.63046158e-03],\n",
       "        [-9.58620190e-01,  7.84009137e-01,  0.00000000e+00,\n",
       "          0.00000000e+00, -9.58620191e-02, -1.91724038e-01,\n",
       "          0.00000000e+00, -9.58620191e-10, -1.91724038e-09,\n",
       "         -2.87586057e-09, -3.83448076e-09, -4.79310095e-09,\n",
       "         -5.75172114e-09, -6.71034133e-09, -7.66896152e-09,\n",
       "         -8.62758172e-09, -9.58620190e-09, -1.05448221e-08,\n",
       "         -1.15034423e-08, -1.24620625e-08, -1.34206827e-08,\n",
       "         -1.43793028e-08, -1.53379230e-08, -1.62965432e-08,\n",
       "         -1.72551634e-08, -1.82137836e-08, -1.91724038e-08],\n",
       "        [-4.91809772e-05,  3.52785270e-05,  0.00000000e+00,\n",
       "          0.00000000e+00, -4.91809773e-06, -9.83619547e-06,\n",
       "          0.00000000e+00, -4.91809773e-14, -9.83619546e-14,\n",
       "         -1.47542932e-13, -1.96723909e-13, -2.45904886e-13,\n",
       "         -2.95085863e-13, -3.44266841e-13, -3.93447818e-13,\n",
       "         -4.42628796e-13, -4.91809773e-13, -5.40990750e-13,\n",
       "         -5.90171727e-13, -6.39352705e-13, -6.88533682e-13,\n",
       "         -7.37714658e-13, -7.86895637e-13, -8.36076614e-13,\n",
       "         -8.85257592e-13, -9.34438569e-13, -9.83619545e-13],\n",
       "        [-6.72029586e-10,  4.69865940e-10,  0.00000000e+00,\n",
       "          0.00000000e+00, -6.72029588e-11, -1.34405918e-10,\n",
       "          0.00000000e+00, -6.72029587e-19, -1.34405917e-18,\n",
       "         -2.01608876e-18, -2.68811835e-18, -3.36014793e-18,\n",
       "         -4.03217752e-18, -4.70420711e-18, -5.37623670e-18,\n",
       "         -6.04826629e-18, -6.72029587e-18, -7.39232545e-18,\n",
       "         -8.06435504e-18, -8.73638463e-18, -9.40841421e-18,\n",
       "         -1.00804438e-17, -1.07524734e-17, -1.14245030e-17,\n",
       "         -1.20965326e-17, -1.27685622e-17, -1.34405917e-17],\n",
       "        [-5.99830839e-15,  4.04439828e-15,  0.00000000e+00,\n",
       "          0.00000000e+00, -5.99830840e-16, -1.19966168e-15,\n",
       "          0.00000000e+00, -5.99830840e-24, -1.19966168e-23,\n",
       "         -1.79949252e-23, -2.39932336e-23, -2.99915420e-23,\n",
       "         -3.59898504e-23, -4.19881588e-23, -4.79864672e-23,\n",
       "         -5.39847756e-23, -5.99830839e-23, -6.59813923e-23,\n",
       "         -7.19797007e-23, -7.79780091e-23, -8.39763175e-23,\n",
       "         -8.99746258e-23, -9.59729344e-23, -1.01971243e-22,\n",
       "         -1.07969551e-22, -1.13967860e-22, -1.19966168e-22],\n",
       "        [-2.63620681e-20,  1.50150036e-20,  0.00000000e+00,\n",
       "          0.00000000e+00, -2.63620682e-21, -5.27241363e-21,\n",
       "          0.00000000e+00, -2.63620681e-29, -5.27241363e-29,\n",
       "         -7.90862043e-29, -1.05448273e-28, -1.31810341e-28,\n",
       "         -1.58172409e-28, -1.84534477e-28, -2.10896545e-28,\n",
       "         -2.37258613e-28, -2.63620681e-28, -2.89982749e-28,\n",
       "         -3.16344817e-28, -3.42706886e-28, -3.69068954e-28,\n",
       "         -3.95431021e-28, -4.21793090e-28, -4.48155158e-28,\n",
       "         -4.74517227e-28, -5.00879295e-28, -5.27241362e-28],\n",
       "        [ 3.06941759e-25, -2.68728226e-25,  0.00000000e+00,\n",
       "          0.00000000e+00,  3.06941759e-26,  6.13883519e-26,\n",
       "          0.00000000e+00,  3.06941759e-34,  6.13883518e-34,\n",
       "          9.20825277e-34,  1.22776704e-33,  1.53470879e-33,\n",
       "          1.84165055e-33,  2.14859231e-33,  2.45553407e-33,\n",
       "          2.76247583e-33,  3.06941759e-33,  3.37635935e-33,\n",
       "          3.68330111e-33,  3.99024287e-33,  4.29718463e-33,\n",
       "          4.60412638e-33,  4.91106815e-33,  5.21800991e-33,\n",
       "          5.52495167e-33,  5.83189342e-33,  6.13883518e-33],\n",
       "        [ 1.02499656e-29, -7.85762287e-30,  0.00000000e+00,\n",
       "          0.00000000e+00,  1.02499656e-30,  2.04999313e-30,\n",
       "          0.00000000e+00,  1.02499656e-38,  2.04999312e-38,\n",
       "          3.07498968e-38,  4.09998625e-38,  5.12498281e-38,\n",
       "          6.14997937e-38,  7.17497593e-38,  8.19997250e-38,\n",
       "          9.22496907e-38,  1.02499656e-37,  1.12749622e-37,\n",
       "          1.22999587e-37,  1.33249553e-37,  1.43499519e-37,\n",
       "          1.53749484e-37,  1.63999450e-37,  1.74249416e-37,\n",
       "          1.84499381e-37,  1.94749347e-37,  2.04999312e-37],\n",
       "        [ 1.73089503e-34, -1.28128784e-34,  0.00000000e+00,\n",
       "          0.00000000e+00,  1.73089503e-35,  3.46179006e-35,\n",
       "          0.00000000e+00,  1.73089503e-43,  3.46179006e-43,\n",
       "          5.19268509e-43,  6.92358012e-43,  8.65447515e-43,\n",
       "          1.03853702e-42,  1.21162652e-42,  1.38471602e-42,\n",
       "          1.55780553e-42,  1.73089503e-42,  1.90398453e-42,\n",
       "          2.07707403e-42,  2.25016354e-42,  2.42325304e-42,\n",
       "          2.59634254e-42,  2.76943205e-42,  2.94252155e-42,\n",
       "          3.11561106e-42,  3.28870056e-42,  3.46179006e-42],\n",
       "        [ 2.18345623e-39, -1.57664134e-39,  0.00000000e+00,\n",
       "          0.00000000e+00,  2.18345623e-40,  4.36691246e-40,\n",
       "          0.00000000e+00,  2.18345623e-48,  4.36691246e-48,\n",
       "          6.55036868e-48,  8.73382491e-48,  1.09172811e-47,\n",
       "          1.31007374e-47,  1.52841936e-47,  1.74676498e-47,\n",
       "          1.96511061e-47,  2.18345623e-47,  2.40180185e-47,\n",
       "          2.62014747e-47,  2.83849310e-47,  3.05683872e-47,\n",
       "          3.27518434e-47,  3.49352997e-47,  3.71187559e-47,\n",
       "          3.93022121e-47,  4.14856683e-47,  4.36691245e-47],\n",
       "        [ 2.07555684e-44, -1.44665484e-44,  0.00000000e+00,\n",
       "          0.00000000e+00,  2.07555684e-45,  4.15111369e-45,\n",
       "          0.00000000e+00,  2.07555684e-53,  4.15111368e-53,\n",
       "          6.22667052e-53,  8.30222737e-53,  1.03777842e-52,\n",
       "          1.24533410e-52,  1.45288979e-52,  1.66044547e-52,\n",
       "          1.86800116e-52,  2.07555684e-52,  2.28311252e-52,\n",
       "          2.49066821e-52,  2.69822389e-52,  2.90577958e-52,\n",
       "          3.11333526e-52,  3.32089095e-52,  3.52844663e-52,\n",
       "          3.73600232e-52,  3.94355800e-52,  4.15111368e-52],\n",
       "        [ 1.07054641e-49, -6.48099543e-50,  0.00000000e+00,\n",
       "          0.00000000e+00,  1.07054641e-50,  2.14109283e-50,\n",
       "          0.00000000e+00,  1.07054641e-58,  2.14109283e-58,\n",
       "          3.21163924e-58,  4.28218565e-58,  5.35273206e-58,\n",
       "          6.42327848e-58,  7.49382489e-58,  8.56437131e-58,\n",
       "          9.63491773e-58,  1.07054641e-57,  1.17760105e-57,\n",
       "          1.28465570e-57,  1.39171034e-57,  1.49876498e-57,\n",
       "          1.60581962e-57,  1.71287426e-57,  1.81992890e-57,\n",
       "          1.92698355e-57,  2.03403819e-57,  2.14109283e-57],\n",
       "        [-1.05119253e-54,  9.70266246e-55,  0.00000000e+00,\n",
       "          0.00000000e+00, -1.05119253e-55, -2.10238507e-55,\n",
       "          0.00000000e+00, -1.05119253e-63, -2.10238506e-63,\n",
       "         -3.15357759e-63, -4.20477013e-63, -5.25596266e-63,\n",
       "         -6.30715519e-63, -7.35834772e-63, -8.40954026e-63,\n",
       "         -9.46073280e-63, -1.05119253e-62, -1.15631178e-62,\n",
       "         -1.26143104e-62, -1.36655029e-62, -1.47166954e-62,\n",
       "         -1.57678880e-62, -1.68190805e-62, -1.78702730e-62,\n",
       "         -1.89214656e-62, -1.99726581e-62, -2.10238506e-62],\n",
       "        [-4.20215525e-59,  3.32422241e-59,  0.00000000e+00,\n",
       "          0.00000000e+00, -4.20215526e-60, -8.40431052e-60,\n",
       "          0.00000000e+00, -4.20215525e-68, -8.40431051e-68,\n",
       "         -1.26064658e-67, -1.68086210e-67, -2.10107763e-67,\n",
       "         -2.52129315e-67, -2.94150868e-67, -3.36172420e-67,\n",
       "         -3.78193973e-67, -4.20215525e-67, -4.62237078e-67,\n",
       "         -5.04258630e-67, -5.46280183e-67, -5.88301735e-67,\n",
       "         -6.30323287e-67, -6.72344841e-67, -7.14366393e-67,\n",
       "         -7.56387946e-67, -7.98409498e-67, -8.40431050e-67],\n",
       "        [-7.54679000e-64,  5.76490590e-64,  0.00000000e+00,\n",
       "          0.00000000e+00, -7.54679001e-65, -1.50935800e-64,\n",
       "          0.00000000e+00, -7.54679001e-73, -1.50935800e-72,\n",
       "         -2.26403700e-72, -3.01871600e-72, -3.77339500e-72,\n",
       "         -4.52807400e-72, -5.28275300e-72, -6.03743200e-72,\n",
       "         -6.79211101e-72, -7.54679000e-72, -8.30146900e-72,\n",
       "         -9.05614800e-72, -9.81082700e-72, -1.05655060e-71,\n",
       "         -1.13201850e-71, -1.20748640e-71, -1.28295430e-71,\n",
       "         -1.35842220e-71, -1.43389010e-71, -1.50935800e-71],\n",
       "        [-8.76724102e-69,  6.53181679e-69,  0.00000000e+00,\n",
       "          0.00000000e+00, -8.76724103e-70, -1.75344821e-69,\n",
       "          0.00000000e+00, -8.76724102e-78, -1.75344820e-77,\n",
       "         -2.63017231e-77, -3.50689641e-77, -4.38362051e-77,\n",
       "         -5.26034461e-77, -6.13706871e-77, -7.01379282e-77,\n",
       "         -7.89051693e-77, -8.76724102e-77, -9.64396512e-77,\n",
       "         -1.05206892e-76, -1.13974133e-76, -1.22741374e-76,\n",
       "         -1.31508615e-76, -1.40275856e-76, -1.49043097e-76,\n",
       "         -1.57810339e-76, -1.66577579e-76, -1.75344820e-76],\n",
       "        [-2.94263983e-74,  1.91848158e-74,  0.00000000e+00,\n",
       "          0.00000000e+00, -2.94263984e-75, -5.88527968e-75,\n",
       "          0.00000000e+00, -2.94263984e-83, -5.88527967e-83,\n",
       "         -8.82791950e-83, -1.17705593e-82, -1.47131992e-82,\n",
       "         -1.76558390e-82, -2.05984788e-82, -2.35411187e-82,\n",
       "         -2.64837586e-82, -2.94263984e-82, -3.23690382e-82,\n",
       "         -3.53116780e-82, -3.82543179e-82, -4.11969577e-82,\n",
       "         -4.41395975e-82, -4.70822374e-82, -5.00248772e-82,\n",
       "         -5.29675171e-82, -5.59101569e-82, -5.88527967e-82],\n",
       "        [ 1.94211538e-78, -1.51897901e-78,  0.00000000e+00,\n",
       "          0.00000000e+00,  1.94211538e-79,  3.88423076e-79,\n",
       "          0.00000000e+00,  1.94211538e-87,  3.88423076e-87,\n",
       "          5.82634613e-87,  7.76846152e-87,  9.71057689e-87,\n",
       "          1.16526923e-86,  1.35948076e-86,  1.55369230e-86,\n",
       "          1.74790384e-86,  1.94211538e-86,  2.13632692e-86,\n",
       "          2.33053845e-86,  2.52474999e-86,  2.71896153e-86,\n",
       "          2.91317306e-86,  3.10738461e-86,  3.30159614e-86,\n",
       "          3.49580768e-86,  3.69001922e-86,  3.88423076e-86]]),\n",
       " 'unpacked_designation': '2022 AA'}"
      ]
     },
     "execution_count": 50,
     "metadata": {},
     "output_type": "execute_result"
    }
   ],
   "source": [
    "multi_sector_cheby_dict['sectors'][0]"
   ]
  },
  {
   "cell_type": "code",
   "execution_count": 89,
   "metadata": {},
   "outputs": [
    {
     "name": "stdout",
     "output_type": "stream",
     "text": [
      "[312 500]\n",
      "[2449984 2456000]\n",
      "... 2456032 2456000 32\n",
      "[313 499]\n"
     ]
    }
   ],
   "source": [
    "importlib.reload(orbit_cheby)\n",
    "sector_length_days = 32\n",
    "mindate,maxdate = 2450000, 2456000\n",
    "sector_numbers, sector_JD0s = orbit_cheby.map_JD_to_sector_number_and_sector_start_JD( [mindate,maxdate] )\n",
    "print(sector_numbers)\n",
    "print(sector_JD0s)\n",
    "sector_numbers[0]           = sector_numbers[0]  if mindate - sector_JD0s[0]                        < 1 else sector_numbers[0]  + 1\n",
    "print('...', sector_JD0s[-1] + orbit_cheby.sector_length_days , maxdate, sector_JD0s[-1] + orbit_cheby.sector_length_days - maxdate)\n",
    "sector_numbers[-1]          = sector_numbers[-1] if sector_JD0s[-1] + orbit_cheby.sector_length_days - maxdate  < 1 else sector_numbers[-1] - 1\n",
    "print(sector_numbers)\n"
   ]
  },
  {
   "cell_type": "markdown",
   "metadata": {},
   "source": [
    "# --------- Lower-Level Data Functions ---------------------\n"
   ]
  },
  {
   "cell_type": "markdown",
   "metadata": {},
   "source": [
    "### --------- Base Class ---------------------\n",
    " - 20200122\n",
    " - Illustrate the usage of the Base Class\n",
    " - This is intended to be a parent class to hold some file/directory definitions & methods"
   ]
  },
  {
   "cell_type": "code",
   "execution_count": 72,
   "metadata": {},
   "outputs": [
    {
     "name": "stdout",
     "output_type": "stream",
     "text": [
      "illustrating variables ...\n",
      "               Names:           names.txt\n",
      "              Coeffs:   coefficients.json\n",
      "                  HP:        _healpix.txt\n",
      "            HP_nside:                  16\n",
      "            HP_order:              nested\n",
      "                  hp:<astropy_healpix.high_level.HEALPix object at 0x11e9b25c0>\n",
      "                npix:                3072\n",
      "\n",
      "Checking number of pixels\n",
      "3072 16 3072\n",
      "\n",
      "Looking at the save-directory\n",
      "/Users/matthewjohnpayne/.mpchecker_data  : exists = True\n"
     ]
    }
   ],
   "source": [
    "# Create an instance\n",
    "B = precalc.Base()\n",
    "\n",
    "# Illustrate some available variables\n",
    "expected_var_names = ['Names', 'Coeffs', 'HP', 'HP_nside', 'HP_order', 'hp', 'npix']\n",
    "print('illustrating variables ...')\n",
    "for var_name in expected_var_names:\n",
    "    value = B.__dict__[var_name]\n",
    "    print( \"%20s:%20s\" % (var_name, value) )\n",
    "\n",
    "    \n",
    "# Check that number of pixels for the healpix is as expected \n",
    "print('\\nChecking number of pixels')\n",
    "assert B.npix == 12 * (B.HP_nside)**2 , ' if see message: number of pixels is wrong' \n",
    "print( B.npix, B.HP_nside , 12 * (B.HP_nside)**2) \n",
    "\n",
    "# Look at the name of the directory that is used to store data \n",
    "#  - check that the directory exists \n",
    "#  - (calling '_fetch_data_directory' causes the directory to be created if it does *not* exist already)\n",
    "print(\"\\nLooking at the save-directory\")\n",
    "print(B._fetch_data_directory(), \" : exists =\", os.path.isdir(B._fetch_data_directory()))"
   ]
  },
  {
   "cell_type": "markdown",
   "metadata": {},
   "source": [
    "### --------- Names Class ---------------------\n",
    " - 20200122\n",
    " - Illustrate the usage of the Names Class\n",
    " - This is intended to handle ...\n",
    "        List of names/designation (strings) \n",
    "        Allows implicit mapping of names <--> integers (posn in list)\n",
    "        Allows easier lookups later-on\n",
    "        \n",
    "        Methods\n",
    "        -------\n",
    "        \n",
    "        insert()\n",
    "        get_number()\n",
    "        get_name() \n",
    "        \n",
    "        _read_file()\n",
    "        _write_file()\n",
    "        _get_filepath()\n",
    "        \n"
   ]
  },
  {
   "cell_type": "markdown",
   "metadata": {},
   "source": [
    "##### Demonstrating initialization of the Names class ..."
   ]
  },
  {
   "cell_type": "code",
   "execution_count": 73,
   "metadata": {},
   "outputs": [
    {
     "name": "stdout",
     "output_type": "stream",
     "text": [
      "\n",
      "Demonstrate that Names-class inherits the Base (parent) methods\n",
      "names.txt /Users/matthewjohnpayne/.mpchecker_data\n",
      "\n",
      "Demonstrate : File where name data will be saved\n",
      "/Users/matthewjohnpayne/.mpchecker_data/names.txt\n",
      "\n",
      "For the sake of demo, ensure name-data file does not exist\n",
      "\n",
      "Demonstrate : names_dict is empty\n",
      "OrderedDict([('1997 CU26', 0)])\n"
     ]
    }
   ],
   "source": [
    "N = precalc.Names() \n",
    "\n",
    "# Names inherits the Base methods\n",
    "print('\\nDemonstrate that Names-class inherits the Base (parent) methods')\n",
    "print(N.Names , N._fetch_data_directory())\n",
    "\n",
    "# File where name data will be saved ... \n",
    "print('\\nDemonstrate : File where name data will be saved')\n",
    "print(N._get_names_filepath())\n",
    "\n",
    "# For the sake of demo, ensure name-data file does not exist\n",
    "print('\\nFor the sake of demo, ensure name-data file does not exist')\n",
    "if os.path.isfile(N._get_names_filepath()):\n",
    "    os.remove(N._get_names_filepath())\n",
    "    \n",
    "# At this point the underlying file is empty / does not exist ...\n",
    "# ... and so is the names_dict which holds the data\n",
    "print(\"\\nDemonstrate : names_dict is empty\")\n",
    "print(N.names_dict)"
   ]
  },
  {
   "cell_type": "markdown",
   "metadata": {},
   "source": [
    "##### Now lets use the sample data created above to start to populate the Names class ..."
   ]
  },
  {
   "cell_type": "code",
   "execution_count": 74,
   "metadata": {},
   "outputs": [
    {
     "name": "stdout",
     "output_type": "stream",
     "text": [
      "Inserting demo name :  1997 CU26\n",
      "The returned value from insert is the position/index of the name:  0\n",
      "The names-dictionary is now populated:\n",
      "\t OrderedDict([('1997 CU26', 0)]) \n",
      "\n",
      "The returned value from insert is the *same* position/index of the name:  0\n",
      "The names-dictionary is unchanged OrderedDict([('1997 CU26', 0)]) \n",
      "\n",
      "Demo: the file [/Users/matthewjohnpayne/.mpchecker_data/names.txt] now exists and has the following content ... \n",
      "['1997 CU26\\n']\n"
     ]
    }
   ],
   "source": [
    "# define a demo name\n",
    "name=demo_name_dict[10199]\n",
    "\n",
    "# insert the name \n",
    "print('Inserting demo name : ' , name )\n",
    "i = N.insert(name)\n",
    "print(\"The returned value from insert is the position/index of the name: \", i) \n",
    "print('The names-dictionary is now populated:\\n\\t', N.names_dict, '\\n')\n",
    "\n",
    "# attempt to insert the same name again \n",
    "i = N.insert(name)\n",
    "print(\"The returned value from insert is the *same* position/index of the name: \", i) \n",
    "print(\"The names-dictionary is unchanged\", N.names_dict, '\\n')\n",
    "\n",
    "# write the data to file \n",
    "N._write_names_file()\n",
    "\n",
    "# check that the file now exists and has content\n",
    "print(\"Demo: the file [%s] now exists and has the following content ... \" % N._get_names_filepath())\n",
    "assert os.path.isfile(N._get_names_filepath())\n",
    "with open(N._get_names_filepath(), 'r') as fp:\n",
    "    print(fp.readlines())"
   ]
  },
  {
   "cell_type": "markdown",
   "metadata": {},
   "source": [
    "##### Now that the above example has populated the names-file on disk, we can read from it"
   ]
  },
  {
   "cell_type": "code",
   "execution_count": 85,
   "metadata": {},
   "outputs": [
    {
     "name": "stdout",
     "output_type": "stream",
     "text": [
      "After re-initialize: names-dict populated as file is read by default:\n",
      "\t OrderedDict([('1997 CU26', 0)]) \n",
      "\n"
     ]
    }
   ],
   "source": [
    "# Note that here we are decalring a new Names instance:\n",
    "# - By default it reads the file-from-disk and populates a names_dict variable \n",
    "N = precalc.Names() \n",
    "print('After re-initialize: names-dict populated as file is read by default:\\n\\t', N.names_dict, '\\n')\n"
   ]
  },
  {
   "cell_type": "markdown",
   "metadata": {},
   "source": [
    "##### Demonstrate the use of the main public \"get_number\" and \"get_name\" routines"
   ]
  },
  {
   "cell_type": "code",
   "execution_count": 86,
   "metadata": {},
   "outputs": [
    {
     "name": "stdout",
     "output_type": "stream",
     "text": [
      "Demo: Getting the number for a known string-name ...\n",
      "1997 CU26  :  0\n",
      "Demo: Getting the name for a given index-number ...\n",
      "0  :  1997 CU26\n"
     ]
    }
   ],
   "source": [
    "# Get the number for a name-string \n",
    "print('Demo: Getting the number for a known string-name ...')\n",
    "name = '1997 CU26'\n",
    "print(\n",
    "    name,\n",
    "    \" : \", \n",
    "    N.get_number(name)\n",
    ")\n",
    "\n",
    "# Get the name-string for an integer-index\n",
    "print('Demo: Getting the name for a given index-number ...')\n",
    "number = 0 \n",
    "print( number , ' : ' , N.get_name(number) )"
   ]
  },
  {
   "cell_type": "code",
   "execution_count": null,
   "metadata": {},
   "outputs": [],
   "source": []
  },
  {
   "cell_type": "code",
   "execution_count": null,
   "metadata": {},
   "outputs": [],
   "source": []
  },
  {
   "cell_type": "markdown",
   "metadata": {},
   "source": [
    "### --------- HPData Class ---------------------\n",
    " - 20200122\n",
    " - Illustrate some of the variables and methods that are available within the \"HPData\" class\n",
    "\n",
    "        Precalculated HP location of objects\n",
    "        - Probably from the geocenter\n",
    "        - Probably on a nightly basis\n",
    "        \n",
    "        \n",
    "        Methods\n",
    "        -------\n"
   ]
  },
  {
   "cell_type": "code",
   "execution_count": 190,
   "metadata": {},
   "outputs": [
    {
     "name": "stdout",
     "output_type": "stream",
     "text": [
      "\n",
      "Demonstrate that HPData-class inherits the Base (parent) methods\n",
      "names.txt /Users/matthewjohnpayne/.mpchecker_data\n"
     ]
    }
   ],
   "source": [
    "importlib.reload(precalc)\n",
    "\n",
    "# Instantiate \n",
    "H = precalc.HPData()\n",
    "\n",
    "# Demonstrate that HPData inherits the Base methods\n",
    "print('\\nDemonstrate that HPData-class inherits the Base (parent) methods')\n",
    "print(H.Names , H._fetch_data_directory())\n"
   ]
  },
  {
   "cell_type": "markdown",
   "metadata": {},
   "source": [
    "##### Demonstrate initialization of HP file structure \n",
    " - When we want to quickl ysearch for HP, we want to always be able to look into files of a given, gauranteed structure \n",
    " - So we probably need to coherently initialize the HP file structure\n",
    " - This takes a minute or two "
   ]
  },
  {
   "cell_type": "code",
   "execution_count": 199,
   "metadata": {},
   "outputs": [
    {
     "name": "stdout",
     "output_type": "stream",
     "text": [
      "Total number of files created = len(files) =  201\n",
      "\t files[0] =  /Users/matthewjohnpayne/.mpchecker_data/HP_2452500.dat\n"
     ]
    }
   ],
   "source": [
    "importlib.reload(precalc)\n",
    "\n",
    "# Instantiate \n",
    "H = precalc.HPData()\n",
    "\n",
    "# Delete the entire saved-data directory to ensure completely clean ...\n",
    "shutil.rmtree(P._fetch_data_directory())\n",
    "\n",
    "# _create_all_required_empty_block_files\n",
    "H._create_all_required_empty_block_files()\n",
    "\n",
    "# Demonstrate that a lot of empty files now exist with the expected names ...\n",
    "files = glob.glob( P._fetch_data_directory() + '/HP*dat')\n",
    "print('Total number of files created = len(files) = ', len(files))\n",
    "print('\\t files[0] = ', files[0])"
   ]
  },
  {
   "cell_type": "markdown",
   "metadata": {},
   "source": [
    "#### Demonstrate the write/save of some new HP Data ..."
   ]
  },
  {
   "cell_type": "code",
   "execution_count": 188,
   "metadata": {},
   "outputs": [
    {
     "ename": "NameError",
     "evalue": "name 'HP' is not defined",
     "output_type": "error",
     "traceback": [
      "\u001b[0;31m---------------------------------------------------------------------------\u001b[0m",
      "\u001b[0;31mNameError\u001b[0m                                 Traceback (most recent call last)",
      "\u001b[0;32m<ipython-input-188-7af92a61d73a>\u001b[0m in \u001b[0;36m<module>\u001b[0;34m()\u001b[0m\n\u001b[1;32m     18\u001b[0m \u001b[0mnumber\u001b[0m \u001b[0;34m=\u001b[0m \u001b[0;36m0\u001b[0m\u001b[0;34m\u001b[0m\u001b[0m\n\u001b[1;32m     19\u001b[0m \u001b[0moldHPlist\u001b[0m \u001b[0;34m=\u001b[0m \u001b[0;34m[\u001b[0m\u001b[0;32mNone\u001b[0m\u001b[0;34m]\u001b[0m\u001b[0;34m*\u001b[0m\u001b[0mlen\u001b[0m\u001b[0;34m(\u001b[0m\u001b[0mJDlist\u001b[0m\u001b[0;34m)\u001b[0m\u001b[0;34m\u001b[0m\u001b[0m\n\u001b[0;32m---> 20\u001b[0;31m \u001b[0mH\u001b[0m\u001b[0;34m.\u001b[0m\u001b[0mupdate_object_HP\u001b[0m\u001b[0;34m(\u001b[0m\u001b[0mnumber\u001b[0m\u001b[0;34m,\u001b[0m \u001b[0mJDlist\u001b[0m\u001b[0;34m,\u001b[0m \u001b[0moldHPlist\u001b[0m\u001b[0;34m,\u001b[0m \u001b[0mHPlist\u001b[0m\u001b[0;34m)\u001b[0m\u001b[0;34m\u001b[0m\u001b[0m\n\u001b[0m",
      "\u001b[0;32m~/Envs/mpcvenv/mpchecker2/mpchecker2/precalc.py\u001b[0m in \u001b[0;36mupdate_object_HP\u001b[0;34m(self, number, JDlist, old_HPlist, new_HPlist)\u001b[0m\n\u001b[1;32m    296\u001b[0m         \u001b[0;31m# update the data for each JD\u001b[0m\u001b[0;34m\u001b[0m\u001b[0;34m\u001b[0m\u001b[0m\n\u001b[1;32m    297\u001b[0m         \u001b[0;32mfor\u001b[0m \u001b[0mJD\u001b[0m\u001b[0;34m,\u001b[0m \u001b[0moldHP\u001b[0m\u001b[0;34m,\u001b[0m \u001b[0mnewHP\u001b[0m \u001b[0;32min\u001b[0m \u001b[0mzip\u001b[0m\u001b[0;34m(\u001b[0m \u001b[0mJDlist\u001b[0m\u001b[0;34m,\u001b[0m \u001b[0mold_HPlist\u001b[0m\u001b[0;34m,\u001b[0m \u001b[0mnew_HPlist\u001b[0m \u001b[0;34m)\u001b[0m\u001b[0;34m:\u001b[0m\u001b[0;34m\u001b[0m\u001b[0m\n\u001b[0;32m--> 298\u001b[0;31m             \u001b[0mself\u001b[0m\u001b[0;34m.\u001b[0m\u001b[0m_update_object_JD\u001b[0m\u001b[0;34m(\u001b[0m\u001b[0mnumber\u001b[0m\u001b[0;34m,\u001b[0m \u001b[0mJD\u001b[0m\u001b[0;34m,\u001b[0m \u001b[0moldHP\u001b[0m\u001b[0;34m,\u001b[0m \u001b[0mnewHP\u001b[0m\u001b[0;34m)\u001b[0m\u001b[0;34m\u001b[0m\u001b[0m\n\u001b[0m\u001b[1;32m    299\u001b[0m \u001b[0;34m\u001b[0m\u001b[0m\n\u001b[1;32m    300\u001b[0m \u001b[0;34m\u001b[0m\u001b[0m\n",
      "\u001b[0;32m~/Envs/mpcvenv/mpchecker2/mpchecker2/precalc.py\u001b[0m in \u001b[0;36m_update_object_JD\u001b[0;34m(self, number, JD, oldHP, newHP)\u001b[0m\n\u001b[1;32m    317\u001b[0m         '''\n\u001b[1;32m    318\u001b[0m \u001b[0;34m\u001b[0m\u001b[0m\n\u001b[0;32m--> 319\u001b[0;31m         \u001b[0;32mif\u001b[0m \u001b[0misinstance\u001b[0m\u001b[0;34m(\u001b[0m\u001b[0mHP\u001b[0m \u001b[0;34m,\u001b[0m \u001b[0mint\u001b[0m\u001b[0;34m)\u001b[0m\u001b[0;34m:\u001b[0m\u001b[0;34m\u001b[0m\u001b[0m\n\u001b[0m\u001b[1;32m    320\u001b[0m \u001b[0;34m\u001b[0m\u001b[0m\n\u001b[1;32m    321\u001b[0m             \u001b[0;31m# read extant data\u001b[0m\u001b[0;34m\u001b[0m\u001b[0;34m\u001b[0m\u001b[0m\n",
      "\u001b[0;31mNameError\u001b[0m: name 'HP' is not defined"
     ]
    }
   ],
   "source": [
    "importlib.reload(precalc)\n",
    "H = precalc.HPData()\n",
    "\n",
    "# Here we imagine that some functionality \n",
    "# (to be demonstrated in the *ObjectCoefficients* section below) \n",
    "# has calculated the HP-locations of an object on each \n",
    "# of a range of integer days\n",
    "JDlist = np.arange(2458000,2458010,1)\n",
    "HPlist = [457, 86, 2089, 2262, 22, 429, 96, 2698, 2374, 300]\n",
    "\n",
    "# Demonstrate: Save HP data to file \n",
    "# N.B.(1) *update_object_HP* wants to know *old_HPlist*, a list of old HP locations \n",
    "#  - This is to allow easy replacement\n",
    "#  - If new, then input this as [None]*len(JDlist)\n",
    "#  - This will be handled automatically by calls to *update_object_HP()* from *PreCalc.upsert()*\n",
    "# N.B.(2) This demands knowledge of the 'number', i.e. the unique object-number to be added to the list(s)\n",
    "# - This is/will-be handled automatically in practice, but for now I do it by hand by setting number=0\n",
    "number = 0 \n",
    "oldHPlist = [None]*len(JDlist)\n",
    "H.update_object_HP(number, JDlist, oldHPlist, HPlist)"
   ]
  },
  {
   "cell_type": "code",
   "execution_count": null,
   "metadata": {},
   "outputs": [],
   "source": []
  },
  {
   "cell_type": "markdown",
   "metadata": {},
   "source": [
    "### --------- ObjectCoefficients Class ---------------------\n",
    " - 20200122\n",
    " - Illustrate some of the variables and methods that are available within the \"ObjectCoefficients\" class\n",
    " \n",
    "        Fitted coefficients for each object \n",
    "        \n",
    "        Basic structure is a list of dictionaries\n",
    "        \n",
    "        WIP to define what these will be\n",
    "         - At least positional information \n",
    "         - Probably velocity information\n",
    "         - Some kind of Uncert/Covar information\n",
    "         \n",
    "        \n",
    "        Methods\n",
    "        -------\n",
    "        \n",
    "        \n"
   ]
  },
  {
   "cell_type": "code",
   "execution_count": 167,
   "metadata": {},
   "outputs": [
    {
     "name": "stdout",
     "output_type": "stream",
     "text": [
      "Empty coeff-list:\n",
      "\t []\n",
      "Names dict is available:\n",
      "\t OrderedDict()\n",
      "After upcert, co-effs populated:\n",
      "\t len(OC.coeff_list)= 1\n",
      "file has content:\n",
      "\t len(OC._read_coeff_file())=  1\n",
      "\t type(OC._read_coeff_file()) =  <class 'list'>\n",
      "\t type(OC._read_coeff_file()[0]) =  <class 'dict'>\n"
     ]
    }
   ],
   "source": [
    "# Reload to ensure have latest version while developing\n",
    "importlib.reload(precalc)\n",
    "\n",
    "# Delete the entire saved-data directory to ensure completely clean ...\n",
    "shutil.rmtree(P._fetch_data_directory())\n",
    "\n",
    "# Initialize an ObjectCoefficients object  \n",
    "OC = precalc.ObjectCoefficients()\n",
    "\n",
    "# Look at the 'coeff_list' variable: it should be an empty list at this point\n",
    "print('Empty coeff-list:\\n\\t', OC.coeff_list)\n",
    "\n",
    "# Note the OC has access to the names_dict from the Names object\n",
    "print('Names dict is available:\\n\\t', OC.names_dict)\n",
    "\n",
    "# Now insert one of the sets of coefficients from the demo_coeff_dict \n",
    "# - Note that it demands knowledge of the 'number', i.e. the position in the list\n",
    "# - This is/will-be handled automatically in practice, but for now I do it by hand be setting number=0\n",
    "name = demo_name_dict[1944]\n",
    "new_coeff_dict = demo_coeff_dict[name]\n",
    "number = 0 \n",
    "OC.upsert_coeff( number,  new_coeff_dict )\n",
    "print('After upcert, co-effs populated:\\n\\t len(OC.coeff_list)=',len(OC.coeff_list) )\n",
    " \n",
    "# For the sake of demo, ensure coeff-data file does not exist\n",
    "if os.path.isfile(OC._get_coeff_filepath()):\n",
    "    os.remove(OC._get_coeff_filepath())\n",
    "\n",
    "# write the data to file **NOT WRITING PROPERLY ***\n",
    "OC._write_coeff_file()\n",
    "\n",
    "# check that the file now exists and has content\n",
    "assert os.path.isfile(OC._get_coeff_filepath())\n",
    "print('file has content:\\n\\t len(OC._read_coeff_file())= ', len(OC._read_coeff_file()) )\n",
    "print('\\t type(OC._read_coeff_file()) = ', type(OC._read_coeff_file()))\n",
    "print('\\t type(OC._read_coeff_file()[0]) = ', type(OC._read_coeff_file()[0]))\n"
   ]
  },
  {
   "cell_type": "markdown",
   "metadata": {},
   "source": [
    "##### Now that the coefficient file has been populated, it will be read directly when a coefficient object is declared:"
   ]
  },
  {
   "cell_type": "code",
   "execution_count": 175,
   "metadata": {},
   "outputs": [
    {
     "name": "stdout",
     "output_type": "stream",
     "text": [
      "coeff-list...\n",
      "\t type(OC.coeff_list) =  <class 'list'>\n",
      "\t type(OC.coeff_list[0]) =  <class 'dict'>\n",
      "\t OC.coeff_list[0][\"x\"] =  {'55006.0': [29140179.77107003, -177.16929527916486, -0.0039007738371499086, -3.214923426327295e-08, -1.4564994463506918e-13, 2.976075553550126e-19, 1.5557048366813042e-23, 2.0597374072143643e-28, 1.8760880964657482e-33, 1.1623971883438532e-38, 1.8825825337154302e-44, -7.521390605230102e-49, -1.3636902772606969e-53, -1.3543247639104823e-58, -5.1161287533508565e-64, 1.3876405625503416e-68], '50862.0': [-918912.4526366527, 6.040067257807393, 0.00014378407624141823, 1.283601517734911e-09, 6.3275930428921504e-15, -1.4340220730105496e-20, -7.8295028685022885e-25, -1.1258027276361841e-29, -1.1054760830078196e-34, -7.408685012790916e-40, -1.2909471994744592e-45, 5.605943016780568e-50, 1.0950069727158768e-54, 1.1822642154158095e-59, 4.784234491828354e-65, -1.409079176868795e-69], '44454.0': [-395435.8643960237, 2.888782921124685, 8.011157140033333e-05, 8.243575230942093e-10, 4.7320342539014865e-15, -1.0391252725078458e-20, -7.305449360285227e-25, -1.2158475013515425e-29, -1.3761112449272182e-34, -1.0676625176616895e-39, -2.372588951931469e-45, 1.0056613979936971e-49, 2.291449020607155e-54, 2.8526839540561398e-59, 1.3452878979070508e-64, -4.3965612662267026e-69], '43358.0': [-172286.66701484207, 1.292753762483348, 3.6721692423139404e-05, 3.8750114638224423e-10, 2.2820952289924777e-15, -5.102479538252894e-21, -3.697455938304652e-25, -6.314035689218903e-30, -7.330759334338092e-35, -5.839041953572897e-40, -1.3503940575461283e-45, 5.739036335993624e-50, 1.344485462670022e-54, 1.7184218257280123e-59, 8.340868436637402e-65, -2.774831897836065e-69], '54730.0': [-7924161.367419222, 48.64155329574238, 0.0010761550665267356, 8.903737501859478e-09, 4.054451177862341e-14, -8.806897527863023e-20, -4.420068018547239e-24, -5.867227149175205e-29, -5.324864425981052e-34, -3.313039814185078e-39, -5.2066293044363885e-45, 2.1917533455837924e-49, 3.981386937624696e-54, 3.9827317650282895e-59, 1.4961116839486884e-64, -4.125009802732562e-69], '46172.0': [-4516990.405371187, 33.061590301132696, 0.0008616363874363339, 8.437855927695388e-09, 4.5729551942710734e-14, -1.206478446214939e-19, -6.975233573241955e-24, -1.1016208061157784e-28, -1.186990175426112e-33, -8.724926037679644e-39, -1.6003040841168176e-44, 8.191708020542866e-49, 1.7465939631677418e-53, 2.0745243385685373e-58, 9.184861834908913e-64, -3.018278978481497e-68], '46446.0': [13088704.125324981, -93.8887113529224, -0.0024583071351470883, -2.4078771334388514e-08, -1.3002996292464418e-13, 3.2000454897974623e-19, 1.9314611539990078e-23, 3.0442152301587047e-28, 3.272907645996771e-33, 2.399269404779697e-38, 4.547918325131048e-44, -2.1913273698746797e-48, -4.672784748271786e-53, -5.5265112688262525e-58, -2.43893225565088e-63, 7.91126866496808e-68], '57272.0': [-14231460.613488577, 84.06534628928414, 0.0017733420271032233, 1.3954537932084797e-08, 5.994448252513725e-14, -1.3594000887609454e-19, -6.021114296480079e-24, -7.66155496104732e-29, -6.704874597758447e-34, -3.95632197470799e-39, -5.660799797630825e-45, 2.4271262278095046e-49, 4.1535366254459257e-54, 3.989015561040941e-59, 1.4199156165457563e-64, -3.774051507972951e-69], '40272.0': [8671375.956377149, -71.37450784792121, -0.002158437951199929, -2.4397091031723024e-08, -1.5257686655283833e-13, 4.2026270577504115e-19, 2.98008731389601e-23, 5.419386460236282e-28, 6.733470639464906e-33, 5.721887782531783e-38, 1.293608680910393e-43, -6.832778579816372e-48, -1.6946758432677093e-52, -2.3136993661088132e-57, -1.1887578012885133e-62, 4.395366978731299e-67], '58288.0': [-3823352.9332070355, 22.018178410310686, 0.0004561388904188442, 3.5506044489274287e-09, 1.5223795059914436e-14, -3.089973061525629e-20, -1.4455760576992925e-24, -1.8104955522173893e-29, -1.5493833613518456e-34, -9.044107150311436e-40, -1.3505375964255686e-45, 5.260025863310985e-50, 8.934429815513362e-55, 8.408368733101792e-60, 2.9585052997750496e-65, -7.651330852418325e-70], '56802.0': [-532340.2706653383, 3.0472748054797947, 6.608781385591866e-05, 5.324729278504967e-10, 2.3919500040910683e-15, -4.110925105627742e-21, -2.2635867152425843e-25, -2.9486043415301607e-30, -2.61254270027414e-35, -1.5864015252824527e-40, -2.767145759763135e-46, 9.15069678617199e-51, 1.632163958667832e-55, 1.5907610128535495e-60, 5.873053043083252e-66, -1.5010649825378296e-70], '41328.0': [-3728767.688948248, 30.779443183164688, 0.0008902190716846223, 9.725753772608445e-09, 5.818299748389053e-14, -1.816938788472631e-19, -1.1295568507993957e-23, -1.9816639450139828e-28, -2.3808653642062207e-33, -1.9454072689426113e-38, -3.804529916145857e-44, 2.314022772756212e-48, 5.486273260514179e-53, 7.246282671064726e-58, 3.5531370822002914e-63, -1.3197629558099207e-67], '48946.0': [5610165.9452006435, -39.06454704531267, -0.0009571121004775394, -8.836933780459897e-09, -4.466109902302218e-14, 1.1811240364060264e-19, 6.194932758286136e-24, 9.182548586809385e-29, 9.312174538385703e-34, 6.409080407222262e-39, 1.0388670426730212e-44, -5.445188254748978e-49, -1.0905622700028826e-53, -1.2214441688829614e-58, -5.0304594725394034e-64, 1.583769255885842e-68], '44688.0': [-324777.5539180385, 2.4163114580334257, 6.569173632163194e-05, 6.686861819080174e-10, 3.76603198549936e-15, -9.366081763552915e-21, -5.969655491080229e-25, -9.795986052726278e-30, -1.0967549296281245e-34, -8.392500471828238e-40, -1.7204542831433012e-45, 8.107739844893146e-50, 1.812475186174874e-54, 2.232318295157076e-59, 1.0339082194279292e-64, -3.431473054670886e-69], '57350.0': [6049131.999735212, -33.485220380863765, -0.0007273706124689288, -5.854569550623945e-09, -2.6588485324238043e-14, 3.8725792998514093e-20, 2.3651648817273154e-24, 3.062111085251481e-29, 2.718925229348839e-34, 1.6391120308831934e-39, 3.118825208511285e-45, -8.923471854784866e-50, -1.6155747541104414e-54, -1.5587143279540868e-59, -5.7991757161514575e-65, 1.4348326779574787e-69], '59930.0': [31364923.007902868, -173.69602733851832, -0.0035465992504772606, -2.691713098794545e-08, -1.1275478450476341e-13, 2.2191643317702136e-19, 1.0018789685130843e-23, 1.2326664235004766e-28, 1.0204274718924296e-33, 5.773523607282552e-39, 8.603463248624946e-45, -3.182300494708217e-49, -5.269327446718981e-54, -4.831295362040225e-59, -1.6580515398841754e-64, 4.159421409358131e-69], '48830.0': [16440334.80224286, -111.84527757329967, -0.0027745211821205047, -2.5958921826295164e-08, -1.338216713581878e-13, 3.00240255665307e-19, 1.7718377388173764e-23, 2.6624736005418966e-28, 2.7376291768256223e-33, 1.9086884977648294e-38, 3.595335134690123e-44, -1.5556375404315664e-48, -3.1698208858664444e-53, -3.576573249595136e-58, -1.5187861938297103e-63, 4.619535983863384e-68], '41952.0': [-480774.2134696762, 3.7246439516804144, 0.00010937774805928771, 1.1921265231729024e-09, 7.24447339620785e-15, -1.6977467088055455e-20, -1.2586645430778608e-24, -2.2183602064176588e-29, -2.659172000912667e-34, -2.1837699593046923e-39, -5.104644314274028e-45, 2.3186060768889607e-49, 5.588056094169214e-54, 7.368755213277645e-59, 3.675112571487207e-64, -1.2763789412794203e-68], '42108.0': [-167600.77070304056, 1.2923671159059877, 3.7850148024384625e-05, 4.113806621128563e-10, 2.4967833668282424e-15, -5.692591125363382e-21, -4.277778337952284e-25, -7.526905343056105e-30, -9.001215707023679e-35, -7.38690187630756e-40, -1.765772790786594e-45, 7.679924751727829e-50, 1.8539771011800582e-54, 2.4409830916013286e-59, 1.2206496427552244e-64, -4.1769715057488845e-69], '51722.0': [-1366341.8804179013, 8.625186796444023, 0.0002048639832183779, 1.8092265614620808e-09, 8.892326771297084e-15, -1.7397717998983555e-20, -1.0247208887544642e-24, -1.4623964272893e-29, -1.420269578996175e-34, -9.442234825922388e-40, -1.7595163423230914e-45, 6.661706038701069e-50, 1.2973312493011584e-54, 1.3855179267464137e-59, 5.589242397797843e-65, -1.5837465866038963e-69], '54380.0': [-432145.1530907528, 2.5889783689584585, 5.8591327815464256e-05, 4.926911645287827e-10, 2.3110108128116777e-15, -4.199675498925181e-21, -2.391560771963744e-25, -3.251794270783198e-30, -3.008492236962803e-35, -1.907044615675397e-40, -3.4625708981717167e-46, 1.2030678645988896e-50, 2.2387594447205265e-55, 2.2783346349801274e-60, 8.787280609519301e-66, -2.346768628813061e-70], '50628.0': [-456801.5579186646, 2.9317538830755643, 7.136058522761182e-05, 6.448338817945724e-10, 3.2515523813881516e-15, -6.2562816280173344e-21, -3.868786048504082e-25, -5.656426082920113e-30, -5.621307002356538e-35, -3.83157202665545e-40, -7.48920607071149e-46, 2.779878642308656e-50, 5.5637748285813916e-55, 6.083517531015733e-60, 2.520445921092641e-65, -7.226566518556289e-70], '52504.0': [22121516.763389476, -140.24365414176927, -0.003234318697629277, -2.806774705781503e-08, -1.3414056320687735e-13, 2.8575203147823803e-19, 1.544924530216057e-23, 2.1600134565797583e-28, 2.047449034401229e-33, 1.3410126318705782e-38, 2.258990966014474e-44, -9.395640750345758e-49, -1.7797941068471877e-53, -1.876315683801274e-58, -7.406725684061519e-64, 2.094261545691314e-68], '53832.0': [12572434.298175465, -78.86101020956202, -0.0017616760837162986, -1.4901230081764636e-08, -6.836657786687157e-14, 1.5504412192486039e-19, 7.726432827950906e-24, 1.0478429894652528e-28, 9.678462877364453e-34, 6.118352382313433e-39, 9.477081974325947e-45, -4.226382689875818e-49, -7.717155622823656e-54, -7.819804210578472e-59, -2.994749186607371e-64, 8.402888371849031e-69], '57546.0': [1513313.470753851, -10.220381035440315, -0.0001968909506596779, -1.4886543709844248e-09, -5.842758138010174e-15, 2.282493371274047e-20, 7.255817175006986e-25, 8.812509464782212e-30, 7.361247165162152e-35, 4.107065571052987e-40, 2.546243504338681e-46, -3.063526099785404e-50, -4.8768616955711356e-55, -4.4782496880113435e-60, -1.4704091578671562e-65, 4.4090489576056095e-70], '53362.0': [-1972313.3088948508, 12.400066978035886, 0.0002807240175697443, 2.3864109733275824e-09, 1.1181578562421075e-14, -2.4652970582935563e-20, -1.2655997147069103e-24, -1.731721743769754e-29, -1.6189401361462219e-34, -1.0326160453684358e-39, -1.6905421442730187e-45, 7.150719443697625e-50, 1.3282014664868662e-54, 1.3655831204540895e-59, 5.247845940896792e-65, -1.4814434740054476e-69], '47540.0': [710823.8691383197, -3.717275163417803, -0.00011484533280359908, -1.1786411355766607e-09, -7.234523914271223e-15, -4.2667852602818484e-21, 6.427599934191466e-25, 1.132846969596605e-29, 1.284011401329888e-34, 1.0277417350249373e-39, 3.873422334494647e-45, -5.041923290568926e-50, -1.362153221661122e-54, -1.7197120223367533e-59, -8.992042247423794e-65, 2.0502311768235633e-69], '52620.0': [7252111.212043157, -46.94639347541005, -0.0010704553041149642, -9.182315947729407e-09, -4.321544563789935e-14, 1.0503974374394041e-19, 5.196430082305054e-24, 7.135023993931787e-29, 6.709628170776041e-34, 4.3415794588595695e-39, 6.76289146151468e-45, -3.1714277324313417e-49, -5.923942836968648e-54, -6.147667652100596e-59, -2.3757691765497554e-64, 6.914346645774597e-69], '47580.0': [9628521.199293101, -66.64689416853925, -0.0017073908412521318, -1.6405128486836942e-08, -8.701514457445628e-14, 1.9171393415030696e-19, 1.1969551360455829e-23, 1.8605023481868413e-28, 1.9598769587212686e-33, 1.4101814336404424e-38, 2.806334606053401e-44, -1.188429255195097e-48, -2.514840048649557e-53, -2.9055908336624696e-58, -1.2752895437885534e-63, 3.944684850311839e-68], '49964.0': [-4411882.581446599, 30.775032671135982, 0.0007276155319446121, 6.531803573887596e-09, 3.2046702098712885e-14, -9.144003552073908e-20, -4.4064500165824496e-24, -6.331934244090424e-29, -6.27154992020528e-34, -4.191336705961987e-39, -6.189211099448124e-45, 3.532864422567969e-49, 6.870704701587908e-54, 7.456090023161657e-59, 2.9925014239210995e-64, -9.38393385152902e-69], '47382.0': [-4434418.496854878, 31.465969420160956, 0.0008036345178650936, 7.69079815077395e-09, 4.038306316879104e-14, -1.0284326144701175e-19, -5.87582666346864e-24, -9.011331146085654e-29, -9.483522121627223e-34, -6.78068597581017e-39, -1.227562479565489e-44, 6.0254635391053734e-49, 1.2587387313196587e-53, 1.4550080695286775e-58, 6.287261968782562e-64, -2.0100951893924313e-68], '54770.0': [-11566424.735780032, 71.35651427377924, 0.0015669377170378696, 1.295603182752588e-08, 5.886626547921948e-14, -1.3205652250067566e-19, -6.403978719727734e-24, -8.513141571631171e-29, -7.737268132369868e-34, -4.790770572353593e-39, -7.359058583073836e-45, 3.1951757922126945e-49, 5.750004071345887e-54, 5.7452082297021135e-59, 2.139946089679072e-64, -5.939282646349509e-69], '56724.0': [-863683.9794800115, 4.958865746872907, 0.00010760263603376681, 8.671793633111806e-10, 3.893529297826851e-15, -6.82282274192921e-21, -3.712217336264367e-25, -4.8357271159519995e-30, -4.287833964521334e-35, -2.604228281100635e-40, -4.4853458531905e-46, 1.5156430204908406e-50, 2.7012228648007232e-55, 2.63382455160884e-60, 9.710453843162671e-66, -2.4976040569908452e-70], '49142.0': [-3070861.152110258, 20.40993908537356, 0.0005100368556500518, 4.740103266277721e-09, 2.4509504365494693e-14, -5.07403110461696e-20, -3.1329687062546292e-24, -4.7035354835372426e-29, -4.805291536744646e-34, -3.361044140115813e-39, -6.544275852120784e-45, 2.6314097161268924e-49, 5.392369431655778e-54, 6.058344216553468e-59, 2.5681252376934473e-64, -7.676305840164169e-69], '45352.0': [-2992182.981123598, 21.10523281400842, 0.0005800991530540475, 5.876353458085083e-09, 3.33865907202449e-14, -6.709994504293325e-20, -4.8596823427160294e-24, -7.973520529119722e-29, -8.84649391509804e-34, -6.748604387198191e-39, -1.508487744095824e-44, 6.047687648977811e-49, 1.355751728853139e-53, 1.6599495759800963e-58, 7.668306736593736e-64, -2.4515682401642135e-68], '56294.0': [9983380.818170594, -60.149661628748355, -0.0012845615837218515, -1.033837851105019e-08, -4.55015810602897e-14, 9.924192845321109e-20, 4.7409545111283335e-24, 6.133537646058336e-29, 5.404012737645453e-34, 3.259383985079438e-39, 4.771023424654702e-45, -2.078424589086451e-49, -3.6247248433264725e-54, -3.5194218200420483e-59, -1.257785828777612e-64, 3.445117770423573e-69], '46368.0': [11490556.080764754, -81.77169612160414, -0.0021521604222250134, -2.1161613885273815e-08, -1.1530727496830302e-13, 2.631545163942683e-19, 1.6861063146991318e-23, 2.671549367653077e-28, 2.881732509772573e-33, 2.1307819112506108e-38, 4.23471423293433e-44, -1.907313191373942e-48, -4.1104639038341806e-53, -4.881849184645493e-58, -2.1836674006507632e-63, 6.981893846441199e-68], '41600.0': [2584543.104683923, -21.38785552733139, -0.0006126811577303142, -6.63046424705372e-09, -3.917312229642114e-14, 1.2812564010438788e-19, 7.643819445959886e-24, 1.3251015339859835e-28, 1.578042431866825e-33, 1.279748915583586e-38, 2.438536965262971e-44, -1.5242192864743902e-48, -3.575649859827868e-53, -4.6811905494584496e-58, -2.2764496767989813e-63, 8.454098319441193e-68], '56020.0': [-12883827.260694781, 77.91066330109699, 0.0016700170855800482, 1.3491342892794799e-08, 5.984578700126926e-14, -1.327595085243905e-19, -6.252289235572995e-24, -8.110384934221872e-29, -7.2057916400466355e-34, -4.3586958583530806e-39, -6.489737611476214e-45, 2.7894918674162347e-49, 4.9019411344442155e-54, 4.7850495890606455e-59, 1.7397630191050633e-64, -4.733198304875845e-69], '44376.0': [-733774.2369975854, 5.382957297912979, 0.00014929109571452186, 1.5375644870953556e-09, 8.823870888551791e-15, -1.9769366726581568e-20, -1.3745495684069734e-24, -2.2886246678800394e-29, -2.5921814512736363e-34, -2.0109403165733554e-39, -4.4113658266237644e-45, 1.9159147485152257e-49, 4.359530564207741e-54, 5.430728253988912e-59, 2.556909817576184e-64, -8.418215509532195e-69], '40234.0': [5200902.903448036, -42.35739878436559, -0.0012906995820963277, -1.4646188992178812e-08, -9.239725429285653e-14, 2.392445767777185e-19, 1.7696460775383135e-23, 3.241003347798957e-28, 4.040877497031133e-33, 3.455665370651714e-38, 8.227967090878096e-44, -4.0471110063277865e-48, -1.0144809504356478e-52, -1.3886683210984586e-57, -7.191441685033105e-63, 2.63037516491774e-67], '59618.0': [-10110538.052542334, 57.85439149526915, 0.0011521210205899745, 8.740984748383894e-09, 3.64161477588898e-14, -7.458758154985296e-20, -3.355907595755056e-24, -4.0803349549634304e-29, -3.420587599926761e-34, -1.9464841128790953e-39, -2.748161376729022e-45, 1.088209367898041e-49, 1.805850365540677e-54, 1.6648870732435227e-59, 5.67850987362146e-65, -1.447913606417808e-69], '52306.0': [-8133610.783592226, 52.30875256107185, 0.0012083806410821962, 1.0490306936572562e-08, 4.998109384254776e-14, -1.1641235574439325e-19, -5.9362362859663625e-24, -8.286648261682176e-29, -7.88340765867301e-34, -5.1100340584075615e-39, -8.409233135782731e-45, 3.732155925779202e-49, 7.043006719642692e-54, 7.384970310631621e-59, 2.8887389635299972e-64, -8.368541541879742e-69], '51410.0': [3584585.307386535, -24.4809447106804, -0.0005586769782722881, -4.872125136654467e-09, -2.3015597931829714e-14, 6.557728774439462e-20, 3.009546861748677e-24, 4.2160163551905355e-29, 4.049400614112303e-34, 2.6504180566557574e-39, 3.746577155426008e-45, -2.1095262205610178e-49, -3.9580404769622214e-54, -4.196448672483742e-59, -1.6310989064643384e-64, 4.978602439006912e-69], '41874.0': [-897290.8682869773, 6.975329047465488, 0.0002049854281852145, 2.2371830956069415e-09, 1.3604093830065524e-14, -3.2399686052193185e-20, -2.380268069586971e-24, -4.1998097052929936e-29, -5.039525735928248e-34, -4.14175793784195e-39, -9.605513351719856e-45, 4.436603929331472e-49, 1.069313572038195e-53, 1.411271801826245e-58, 7.036911579143655e-64, -2.457650098139932e-68], '53754.0': [28113550.39638744, -174.8197937001242, -0.003926571185770304, -3.3221900601983436e-08, -1.5494694524067715e-13, 3.222880882306669e-19, 1.7152494225841422e-23, 2.330786811616027e-28, 2.1614242185334685e-33, 1.3821489058513986e-38, 2.3474843731846625e-44, -9.285798189739619e-49, -1.7247745126617728e-53, -1.764407588281017e-58, -6.733296502443775e-64, 1.8796555240982684e-68], '55552.0': [-565333.7351540377, 3.3084767438841287, 7.339246914399571e-05, 6.042279592875852e-10, 2.7757367984091387e-15, -4.8824045735047945e-21, -2.748032787950783e-25, -3.657890568511933e-30, -3.3140584268662906e-35, -2.058197023702741e-40, -3.661051636991786e-46, 1.2418424084983265e-50, 2.263980218868541e-55, 2.25665827537261e-60, 8.51545145855297e-66, -2.2269685508503022e-70], '45782.0': [-223172.69350408152, 1.589736111179059, 4.264757886552681e-05, 4.2541312235030237e-10, 2.3650658739626053e-15, -5.122079595100286e-21, -3.4533887443430057e-25, -5.571342772311529e-30, -6.114622378197709e-35, -4.60046146669443e-40, -9.906772400724635e-46, 4.0811934839206044e-50, 9.01849669556005e-55, 1.0893679804069162e-59, 4.987284768292032e-65, -1.5785213473249523e-69], '55044.0': [17772056.41473021, -108.3237650359733, -0.002383898987926499, -1.9617903665342222e-08, -8.88891937287251e-14, 1.9209243028752157e-19, 9.514240618379995e-24, 1.2614443513858403e-28, 1.1407263315199828e-33, 7.069204746468603e-39, 1.125076101385436e-44, -4.632566475013863e-49, -8.304693614791859e-54, -8.276814236106154e-59, -3.0845402098648855e-64, 8.460234694630449e-69], '55162.0': [-7388386.1073009465, 43.59234738053645, 0.0009729141015002429, 8.061521413204637e-09, 3.719051448321595e-14, -6.737193123570694e-20, -3.753760509105879e-24, -5.029670576681516e-29, -4.581699179816655e-34, -2.8583211048931517e-39, -5.017163449127215e-45, 1.767416597123632e-49, 3.2328343068264123e-54, 3.239808298118976e-59, 1.2252499144335895e-64, -3.2540589210025217e-69], '58600.0': [20714815.3721852, -116.59268507573944, -0.00243025184146753, -1.8790643909475433e-08, -8.18007669803407e-14, 1.4766174895397644e-19, 7.407752392728457e-24, 9.315543790397531e-29, 7.98486653204874e-34, 4.639426788509681e-39, 7.441279770918494e-45, -2.5893354283054052e-49, -4.45163802002811e-54, -4.185703574194579e-59, -1.4688180415595436e-64, 3.732783757692406e-69], '59656.0': [-13884820.300125998, 78.13253832628259, 0.001588560543224666, 1.2037123713504392e-08, 5.0231132431665706e-14, -1.0052782615014862e-19, -4.595946972382796e-24, -5.60655921557944e-29, -4.701632890324801e-34, -2.6863227975182613e-39, -3.995104427686098e-45, 1.5078121997177256e-49, 2.4821753362344122e-54, 2.2833566104859162e-59, 7.747576414516163e-65, -1.98252943672041e-69], '44532.0': [-235980.93770757053, 1.7191774091138974, 4.7627590649978956e-05, 4.895097605669574e-10, 2.8098222459909726e-15, -6.0541003508385516e-21, -4.303651970647691e-25, -7.160918883915169e-30, -8.097336697961368e-35, -6.280145433043378e-40, -1.4140479657800726e-45, 5.850638835289108e-50, 1.3345944707060027e-54, 1.6608739306682028e-59, 7.84337278222161e-65, -2.543787644990044e-69], '55122.0': [-3641376.6707049822, 20.693738136113986, 0.00047347632617942745, 3.969455847503624e-09, 1.880433726426917e-14, -2.6816854603384128e-20, -1.7852392209818806e-24, -2.4331764973761013e-29, -2.233050672001395e-34, -1.418966801958906e-39, -2.801472720482356e-45, 8.306027660887317e-50, 1.5451774583029132e-54, 1.5654556347870968e-59, 6.0682577198593826e-65, -1.5540845551386322e-69], '53128.0': [-398775.3205482085, 2.4476399718616197, 5.659890168050927e-05, 4.865793120296833e-10, 2.3307188005856574e-15, -4.3669134524216354e-21, -2.53080311830513e-25, -3.518118253276958e-30, -3.327088012312868e-35, -2.156256535351251e-40, -3.97807824690754e-46, 1.4255396661877654e-50, 2.7119544483358795e-55, 2.8221414752227544e-60, 1.1118889605047838e-65, -3.041866225085658e-70], '55980.0': [-10589543.984140601, 63.8036220711795, 0.001374579010863274, 1.1102983399294294e-08, 4.931346140011103e-14, -1.0553460660185333e-19, -5.151063694505341e-24, -6.680879685814848e-29, -5.958996340534568e-34, -3.615106112447897e-39, -5.4991456231824976e-45, 2.307959505803735e-49, 4.058469223494447e-54, 3.9612496338203978e-59, 1.4432688415345078e-64, -3.921174944077803e-69], '45314.0': [-832189.0061740244, 5.2357675564470645, 0.0001544478139187178, 1.6102654414557258e-09, 9.727282340863916e-15, -6.00158500023527e-21, -1.1759097693607774e-24, -2.032733693293717e-29, -2.3313775575372558e-34, -1.8668602175745918e-39, -5.728720746116969e-45, 1.3493423774119488e-49, 3.307753549824861e-54, 4.201920967897087e-59, 2.1070480874483886e-64, -5.918183245322096e-69], '43710.0': [-3292954.1455020867, 25.44273505363795, 0.0007010242712165043, 7.260339945388923e-09, 4.1423096781333544e-14, -1.162166287409864e-19, -7.06340840711994e-24, -1.178368684741588e-28, -1.3422931454423412e-33, -1.0407895619313452e-38, -2.0187945011707537e-44, 1.0926778748541164e-48, 2.4602510372064218e-53, 3.0760531775847074e-58, 1.444541219470914e-63, -5.0046573223000874e-68], '40194.0': [564917.9105364516, -3.7781937430930284, -0.00013101853629983792, -1.5616588349983604e-09, -1.0958455624538407e-14, 1.115736773766225e-21, 1.5357641621827961e-24, 3.074268085456238e-29, 4.043702470412734e-34, 3.721847410442458e-39, 1.452905278576215e-44, -3.031124254214115e-49, -8.882176263031772e-54, -1.2922232920659654e-58, -7.58907760070716e-64, 2.243497290350398e-68], '44296.0': [-1366208.3339894076, 10.052604712699699, 0.00027905361654884233, 2.8778740593611097e-09, 1.6528497491436974e-14, -3.7485750492038386e-20, -2.5908180789829555e-24, -4.318411330998172e-29, -4.897544836950634e-34, -3.802784912397096e-39, -8.286860488621943e-45, 3.64983429216091e-49, 8.307378949771717e-54, 1.036165860000099e-58, 4.8788522362637694e-64, -1.6136873929407084e-68], '41170.0': [-1029312.3316216617, 8.42962960364783, 0.00024652332833421996, 2.7181827359018044e-09, 1.6474294412155818e-14, -4.8245502148702485e-20, -3.154462466297701e-24, -5.587411538845645e-29, -6.763789912471016e-34, -5.585773340875419e-39, -1.1620720255308754e-44, 6.554569139312974e-49, 1.5721812042073996e-53, 2.093235134856916e-58, 1.0384375454637521e-63, -3.8225781844401825e-68], '53792.0': [24277645.888560187, -150.84034744010668, -0.003395944821790833, -2.8703603146039302e-08, -1.335842622980088e-13, 2.853012964175465e-19, 1.477646525937685e-23, 2.016021251693254e-28, 1.872970620348247e-33, 1.186814792308874e-38, 1.9558832015101812e-44, -8.056342579623738e-49, -1.4866462998553317e-53, -1.5172516519252896e-58, -5.799068497991775e-64, 1.6200078021636945e-68], '48516.0': [-2393470.606304475, 16.600552324109206, 0.00041259745560654447, 3.854251489743633e-09, 1.9824810347597418e-14, -4.907047318274061e-20, -2.7284349358089443e-24, -4.1013014191547445e-29, -4.212732390236596e-34, -2.950123690061883e-39, -5.22016967723249e-45, 2.487322519863444e-49, 5.06756410602066e-54, 5.724816917307179e-59, 2.4127892082412887e-64, -7.523526812305272e-69], '44844.0': [-1798427.9128792179, 13.50967319797832, 0.0003629913285575629, 3.667347143371436e-09, 2.038956423098516e-14, -5.484996799806088e-20, -3.2913848999311605e-24, -5.348021460482888e-29, -5.942900797696814e-34, -4.4998818176095126e-39, -8.57585899523725e-45, 4.448477541790353e-49, 9.797239117850125e-54, 1.1967335312901924e-58, 5.455488866282752e-64, -1.8416977275998863e-68], '48632.0': [-5996815.965236882, 41.45834605037572, 0.0010313832262579987, 9.627370975191161e-09, 4.9381276953713994e-14, -1.2510290463914884e-19, -6.767655956949179e-24, -1.0209639989607229e-28, -1.039683562381241e-33, -7.26412380667412e-39, -1.262502006773348e-44, 6.1169217842751485e-49, 1.2480412451815748e-53, 1.4028394302560004e-58, 5.90810211288791e-64, -1.8414802769290751e-68], '51056.0': [-6001882.729663626, 39.551903089370555, 0.0009371920701513478, 8.300424924242685e-09, 4.0581533100425544e-14, -9.728610528060115e-20, -5.062945527246883e-24, -7.223193887540805e-29, -7.0476968421551076e-34, -4.687118324907432e-39, -7.883548125066123e-45, 3.590218252056952e-49, 6.940589941137948e-54, 7.445233555334395e-59, 2.9727042529039436e-64, -8.848674312244924e-69], '49806.0': [-4308838.490774604, 29.146037585686326, 0.0007062790650951056, 6.424671427983025e-09, 3.19624290210695e-14, -7.795522433160837e-20, -4.207205228130607e-24, -6.160379789584232e-29, -6.163531007810409e-34, -4.2092353983364545e-39, -7.276433180031389e-45, 3.3735668650483666e-49, 6.692559493843814e-54, 7.389168550665304e-59, 3.0199411615231775e-64, -9.208319211922166e-69], '57388.0': [25590287.404458106, -147.6225235863616, -0.0031261188468463285, -2.4853343470926156e-08, -1.0990713200967876e-13, 2.0650281010816615e-19, 1.046045937690407e-23, 1.3387441614729294e-28, 1.1670092852741633e-33, 6.933005883400556e-39, 1.154605147791237e-44, -4.08487105571669e-49, -7.10533991326255e-54, -6.813566153326207e-59, -2.459277444664039e-64, 6.364005050591357e-69], '45158.0': [12223066.944008812, -89.52718411416296, -0.002418261495615342, -2.4406026529247522e-08, -1.3618362745801675e-13, 3.3850512416660974e-19, 2.1021286118856873e-23, 3.423921927926575e-28, 3.797867162212416e-33, 2.879591823010236e-38, 5.742391077681371e-44, -2.733224494132493e-48, -6.02842490898561e-53, -7.337399887862427e-58, -3.366337688541459e-63, 1.1087094618260632e-67], '45080.0': [-1179829.5912581345, 9.87940259752673, 0.000246426180630066, 2.399592146958541e-09, 1.2359987425238626e-14, -5.541482325980183e-20, -2.3803233935244337e-24, -3.686637121448997e-29, -3.966826027078656e-34, -2.843149115455267e-39, -2.8186524788911615e-45, 3.328927322615751e-49, 6.860955058411503e-54, 8.113773347245052e-59, 3.433980601809326e-64, -1.2886795255954959e-68], '47422.0': [-6445956.474940636, 46.03880720840086, 0.0011657360263265845, 1.1121734812471511e-08, 5.826294119890839e-14, -1.5272459232771253e-19, -8.489007819369129e-24, -1.301612132191671e-28, -1.3657511309303675e-33, -9.753750680769832e-39, -1.7136290941331988e-44, 8.709373065519301e-49, 1.8074158204176507e-53, 2.0846709087478845e-58, 8.951964337348355e-64, -2.8762903980310885e-68], '50940.0': [-2214460.4419218726, 14.609271763444308, 0.0003460626412903737, 3.0804861452894417e-09, 1.5108664501278127e-14, -3.5305310229911284e-20, -1.8813209252687522e-24, -2.6948257624067155e-29, -2.6377443891506587e-34, -1.760218244814237e-39, -2.985425211816332e-45, 1.3424652297752117e-49, 2.6081870255744855e-54, 2.8073896101371266e-59, 1.1284380925414409e-64, -3.344795598576911e-69], '50784.0': [-428388.6452402768, 2.786847341192234, 6.694107419657999e-05, 6.006491408376515e-10, 2.988692272294135e-15, -6.308940137342836e-21, -3.6309303034714096e-25, -5.257520570744466e-30, -5.187680189733664e-35, -3.501709449943935e-40, -6.463910254986291e-46, 2.593559972562436e-50, 5.1212769983220916e-55, 5.560676154947299e-60, 2.2756943868768747e-65, -6.604368171511527e-70], '59970.0': [11959558.964724848, -68.44307374638622, -0.0013528065623755914, -1.0209166582685807e-08, -4.2102664943467493e-14, 9.104742410871609e-20, 3.8703318349396955e-24, 4.6855033190479093e-29, 3.891857878401341e-34, 2.2019274220797328e-39, 2.9870428093951536e-45, -1.2280536886381944e-49, -2.0287169126941023e-54, -1.8501734854462334e-59, -6.2348167530310584e-65, 1.5968794274412687e-69], '59812.0': [15295317.725438556, -82.94025434545965, -0.0017146519622615731, -1.3147799944952358e-08, -5.6122115156500104e-14, 9.527688555192632e-20, 4.786983199164252e-24, 5.953383226466232e-29, 4.986845251623434e-34, 2.8579400482497525e-39, 4.721598072325722e-45, -1.504937665492112e-49, -2.553837848041093e-54, -2.3572274430935047e-59, -8.26656474249245e-65, 2.0177442894429464e-69], '43750.0': [-4723924.649605061, 36.62848482965398, 0.001004174144376487, 1.037991471799944e-08, 5.889139281986713e-14, -1.6870988220426695e-19, -1.0103751649114226e-23, -1.678293591081567e-28, -1.9075709418532086e-33, -1.4759836301604797e-38, -2.7947885661687996e-44, 1.5520306858098038e-48, 3.487940283180813e-53, 4.3586602117725975e-58, 2.0265336151199436e-63, -7.068685187755148e-68], '43124.0': [-824243.8127612066, 6.222823622782054, 0.0001775681749335483, 1.881884083885005e-09, 1.1111847667060316e-14, -2.569040024391097e-20, -1.833635310038873e-24, -3.1411308220464245e-29, -3.6602768878559743e-34, -2.9211341125543563e-39, -6.576170912603353e-45, 2.9495938913077605e-49, 6.904662490392274e-54, 8.848871826174645e-59, 4.285039749953909e-64, -1.452882604199503e-68], '59852.0': [36944720.461480886, -205.71432832303853, -0.004160646272753453, -3.1665716692037005e-08, -1.3199970390230163e-13, 2.5513254356813276e-19, 1.1711815990240338e-23, 1.436647664747017e-28, 1.2087364304376166e-33, 6.860403630654067e-39, 1.0098788574784807e-44, -3.740364076737727e-49, -6.186137566402138e-54, -5.694692325216466e-59, -1.9615988727288348e-64, 4.896435646515987e-69], '57310.0': [-8656088.008174129, 51.786679214933386, 0.0010829786927506174, 8.502390653368214e-09, 3.651573556258029e-14, -8.608958909809845e-20, -3.7522934926986706e-24, -4.7255242613682076e-29, -4.099235499475786e-34, -2.3992031984935905e-39, -3.231584479283602e-45, 1.5201461347475046e-49, 2.569386213372859e-54, 2.443523897282631e-59, 8.52932057089496e-65, -2.3232197357222173e-69], '46602.0': [-3815015.881316929, 26.425388077713713, 0.0007036694888187422, 6.906027967294927e-09, 3.801494893491155e-14, -7.941860326078573e-20, -5.3115933719517804e-24, -8.444695304515419e-29, -9.130862836337212e-34, -6.748381352786227e-39, -1.4399559284583523e-44, 5.809949480696843e-49, 1.2620500026806168e-53, 1.4987858171263517e-58, 6.723145436516916e-64, -2.105840942747679e-68], '42928.0': [-2788697.4152145693, 21.025626478044572, 0.0006048127756138069, 6.449665567340579e-09, 3.847750130331356e-14, -8.589587389817672e-20, -6.343787642716732e-24, -1.093485144043955e-28, -1.2825482011141213e-33, -1.0309966909527875e-38, -2.398529904227608e-44, 1.042583393090999e-48, 2.4588600032656e-53, 3.1749297613666122e-58, 1.5508722685969107e-63, -5.254001223591441e-68], '51878.0': [-421265.68526663916, 2.6353706371511376, 6.267125157544624e-05, 5.527818432239141e-10, 2.7226086334063133e-15, -5.076283624458687e-21, -3.0790765765396654e-25, -4.3949588086076915e-30, -4.265132819058372e-35, -2.8387789391451034e-40, -5.4414798822921255e-46, 1.9557991468681379e-50, 3.82418849830869e-55, 4.0834144103511866e-60, 1.6537492005940939e-65, -4.616168751379998e-70], '52190.0': [-3267927.7686019368, 21.051601782049744, 0.00048673734770074905, 4.2273512280192236e-09, 2.0218785010696293e-14, -4.6302978242294015e-20, -2.4022253521854286e-24, -3.357669677018987e-29, -3.208418003556346e-34, -2.088403146983381e-39, -3.449611613575318e-45, 1.520593611451749e-49, 2.880485289189988e-54, 3.025354278459708e-59, 1.1866038790481406e-64, -3.436004718839796e-69], '54966.0': [29478679.957049135, -177.33718667142134, -0.003948897605206206, -3.262500963095116e-08, -1.4919802825077776e-13, 2.9958396118799656e-19, 1.5660710900516723e-23, 2.091587369320077e-28, 1.9111296244128744e-33, 1.186328136507365e-38, 1.9317328548334104e-44, -7.614198944929767e-49, -1.3848328066510058e-53, -1.3825616020731415e-58, -5.177061864227247e-64, 1.409951658348091e-68], '47658.0': [16302241.653474487, -114.75757523340101, -0.002902759574957606, -2.762615496801747e-08, -1.4533947097279429e-13, 3.49770547813404e-19, 2.0534894783275448e-23, 3.1488094829036824e-28, 3.300382270844415e-33, 2.365359832100764e-38, 4.31753859750736e-44, -2.0444663098270123e-48, -4.248843048679962e-53, -4.889743827790722e-58, -2.112765186377083e-63, 6.655085085273187e-68], '40390.0': [1135576.9798165879, -10.090117227210891, -0.00029002044727931243, -3.199256703669962e-09, -1.8952456080887068e-14, 7.728924085862197e-20, 4.188962407501185e-24, 7.375206886317443e-29, 8.96704468884493e-34, 7.364429956102023e-39, 1.152423243582294e-44, -9.883699682722745e-49, -2.335793721204575e-53, -3.122639392605826e-58, -1.523251978999653e-63, 6.061194071321875e-68], '43828.0': [-3631479.893552245, 28.61712273776883, 0.000775956877698172, 7.950018018566756e-09, 4.457982189601832e-14, -1.3994202175770145e-19, -7.847859216635242e-24, -1.2930708750203665e-28, -1.4641202767596728e-33, -1.1221852757872008e-38, -1.9603961916127574e-44, 1.2096714653149268e-48, 2.6901916571467767e-53, 3.340106754403923e-58, 1.5369167019346573e-63, -5.441615927124633e-68], '46408.0': [15778181.73147733, -113.18311432575523, -0.00295764372426984, -2.9031595661503355e-08, -1.5714923109239897e-13, 3.818851207681079e-19, 2.3169044603560978e-23, 3.6643777379324975e-28, 3.953886735635539e-33, 2.901842962725247e-38, 5.710574451243447e-44, -2.6350039414626947e-48, -5.639996034500521e-53, -6.684858268715343e-58, -2.9710987404065215e-63, 9.569676200295251e-68], '51214.0': [723708.7199116256, -3.231624758217368, -9.821086735339601e-05, -9.51478631866465e-10, -5.621856164262858e-15, -6.148873129342483e-21, 3.7762040838480386e-25, 6.466659772714303e-30, 6.955966035489624e-35, 5.3274409656661926e-40, 2.085924969075991e-45, -1.8271461072767965e-50, -5.1524884003453855e-55, -6.196830437591963e-60, -3.1700283291268727e-65, 6.067754245153671e-70], '59890.0': [43715409.38070969, -242.29723928625938, -0.004939630199205626, -3.737911335561509e-08, -1.5770714322198698e-13, 2.996677838502723e-19, 1.3984862766820297e-23, 1.7038928089582475e-28, 1.433494720915326e-33, 8.080370524214183e-39, 1.183939707704238e-44, -4.449196547204887e-49, -7.321938391839825e-54, -6.729855927178275e-59, -2.3282417815517524e-64, 5.801081204406547e-69], '58678.0': [38102228.34922601, -217.1786781160619, -0.004472788065780294, -3.467484418185633e-08, -1.4903886325307867e-13, 3.023074990376724e-19, 1.3733910738644507e-23, 1.7151967509490555e-28, 1.4652975293713556e-33, 8.462541688781743e-39, 1.308070751183713e-44, -4.8456991712478715e-49, -8.210974512603368e-54, -7.655982810042539e-59, -2.678993498492016e-64, 6.870550700139947e-69], '41796.0': [-1596467.591382426, 12.431853263694057, 0.0003660395142730092, 4.002487800142516e-09, 2.43761712159237e-14, -5.823449142024872e-20, -4.2833191118487805e-24, -7.570218881115798e-29, -9.100461229042717e-34, -7.491656708314677e-39, -1.7348774424185604e-44, 8.063369128690837e-49, 1.9462791089892214e-53, 2.5730174851134345e-58, 1.2845007680721341e-63, -4.4994449263752265e-68], '47188.0': [-686162.8273124325, 4.8645650822772195, 0.00012477088982985085, 1.200406296227371e-09, 6.373545783498294e-15, -1.5625246535800197e-20, -9.17240969697353e-25, -1.4213062466085344e-29, -1.5040130434210272e-34, -1.0860435630828337e-39, -2.0383512597290508e-45, 9.550982720726703e-50, 2.0112578072556836e-54, 2.3402347778582485e-59, 1.0197851474634001e-64, -3.2396315463973616e-69], '42342.0': [-794259.6001225543, 6.310340688646368, 0.00017970732809160746, 1.9235377182377603e-09, 1.1339219253021563e-14, -3.197035296397994e-20, -2.046463838658687e-24, -3.524792506587034e-29, -4.149952943330129e-34, -3.3307750337057764e-39, -6.79256846659872e-45, 3.677036211118583e-49, 8.591572710508664e-54, 1.112185813958085e-58, 5.37940491496317e-64, -1.9171775873081308e-68], '45548.0': [-1249574.5278399705, 8.94378165454443, 0.00024144344834381873, 2.42163020972921e-09, 1.352653240810526e-14, -2.986323290309851e-20, -2.006000671621634e-24, -3.251618323212472e-29, -3.5857114723177163e-34, -2.707719908573625e-39, -5.737085740256698e-45, 2.4581716840772986e-49, 5.442689620503848e-54, 6.600253309742695e-59, 3.023405151392746e-64, -9.723641419849222e-69], '48672.0': [-7365456.09987296, 51.40077587328787, 0.0012656627095321172, 1.1758967506414335e-08, 5.991609534262728e-14, -1.551592678962174e-19, -8.323167518591298e-24, -1.242334001327491e-28, -1.2691914755513802e-33, -8.822965093243737e-39, -1.492688941492104e-44, 7.509823815639095e-49, 1.5164979800396965e-53, 1.7028385105839184e-58, 7.113368682110255e-64, -2.2328697254907616e-68], '40936.0': [-143096.8408769127, 1.1442804059617104, 3.429701824845138e-05, 3.826882308560754e-10, 2.3784413120416255e-15, -5.828639008688363e-21, -4.364545769529776e-25, -7.875265757847754e-30, -9.670911814317977e-35, -8.140501609627698e-40, -1.9583972879675274e-45, 9.056819079539946e-50, 2.2390023481972222e-54, 3.026608690530621e-59, 1.5508786548259717e-64, -5.492346016552985e-69], '51644.0': [-2530437.569235357, 16.013688426463187, 0.0003807429545493331, 3.3662697534768685e-09, 1.6557249040262666e-14, -3.276241059474737e-20, -1.918382267082918e-24, -2.740513367485018e-29, -2.6640493207678555e-34, -1.771931680113662e-39, -3.2774417313653074e-45, 1.2578885530390675e-49, 2.4515361216139812e-54, 2.6209299672065045e-59, 1.0565282513934093e-64, -3.007256184327378e-69], '53674.0': [4498370.013798238, -26.28386730974229, -0.0006176157872667119, -5.316126716537973e-09, -2.586025656527032e-14, 3.7972122645180026e-20, 2.5977324411180325e-24, 3.6298338366427866e-29, 3.4120463019284375e-34, 2.234223262828632e-39, 4.472979371162617e-45, -1.3679399263823313e-49, -2.63300986310772e-54, -2.7418259674055044e-59, -1.0935344202808577e-64, 2.868991945801994e-69], '45274.0': [3739885.1570261107, -28.417140574603668, -0.0007464069202880099, -7.431587590874332e-09, -4.041813501173453e-14, 1.1807642039132087e-19, 6.61965378582597e-24, 1.057240999666811e-28, 1.1594212268715375e-33, 8.627242385655537e-39, 1.5205304290188016e-44, -8.62304006770697e-49, -1.8626520906832817e-53, -2.2491476755431133e-58, -1.0073586269282921e-63, 3.422168619319829e-68], '51096.0': [-8738110.644035762, 57.847102978824445, 0.0013604924023739606, 1.205339860133839e-08, 5.865679716771992e-14, -1.4147495549763464e-19, -7.345700695007661e-24, -1.0460394265503292e-28, -1.0188761640239719e-33, -6.759272157205043e-39, -1.1105029866468494e-44, 5.1873947687635065e-49, 9.999184189032978e-54, 1.0709895005273615e-58, 4.2729054499743254e-64, -1.2722792210407137e-68], '53870.0': [1622086.1514440672, -11.257693353549541, -0.00023704331764750632, -1.9444592717443216e-09, -8.401408465825622e-15, 3.0318498315310515e-20, 1.1238165598751176e-24, 1.455309595539552e-29, 1.314606323847619e-34, 7.948348963189231e-40, 7.006714887000749e-46, -6.403164485921778e-50, -1.1083924510459072e-54, -1.104661510517198e-59, -3.937817067759973e-65, 1.222383341989824e-69], '40000.0': [-1606139.9120877844, 13.584830191830209, 0.00040847600602853326, 4.6156622634626156e-09, 2.868570494467679e-14, -8.767805920535687e-20, -5.8623863281646556e-24, -1.0685744513994438e-28, -1.3304724184316309e-33, -1.1277900405557415e-38, -2.36054762384882e-44, 1.4114914737292693e-48, 3.474098720676485e-53, 4.7560053467170015e-58, 2.4217402081145996e-63, -9.214733671819128e-68], '55708.0': [-771445.695883376, 4.594952917374466, 0.00010035508085213668, 8.197053419938882e-10, 3.707803689881467e-15, -7.355134292180781e-21, -3.7742747729237626e-25, -4.971335525162646e-30, -4.4671708545835316e-35, -2.7428327561955933e-40, -4.509542026017195e-46, 1.7050365879973638e-50, 3.0590580978510684e-55, 3.0220932522734764e-60, 1.122996725790689e-65, -2.99210341062377e-70], '43436.0': [-227989.88350078108, 1.7361296152611345, 4.871483303329301e-05, 5.108986098408343e-10, 2.9721023827368246e-15, -7.34253232621849e-21, -4.936258313277366e-25, -8.354741227311714e-30, -9.638387700440257e-35, -7.608929096858064e-40, -1.6474090659490877e-45, 7.687777441116415e-50, 1.7760478257958947e-54, 2.254866591541987e-59, 1.0794594027526417e-64, -3.656349603618576e-69], '51332.0': [22209659.871592205, -145.011578646024, -0.0034026922040840523, -3.018304933358987e-08, -1.4769109544465823e-13, 3.331799915197111e-19, 1.7820218171329383e-23, 2.5515447688064223e-28, 2.4868029217270926e-33, 1.6621275289880412e-38, 2.8291166416314454e-44, -1.230299679298183e-48, -2.3805377407303124e-53, -2.543234476007881e-58, -1.0209971708935376e-63, 2.9827772449893694e-68], '42850.0': [338160.6933157717, -3.4444660041472384, -8.340150651267707e-05, -8.231671797050602e-10, -3.942218453043231e-15, 3.108755445409205e-20, 1.0891374866866912e-24, 1.697332775840279e-29, 1.8571238379885495e-34, 1.3229960652209818e-39, -2.8624075776464545e-46, -2.089309403631773e-49, -4.2470903146251606e-54, -5.136406044280623e-59, -2.0999173126782545e-64, 9.401253497794524e-69], '46642.0': [-3355644.944175446, 23.43769912883812, 0.0006180364719145148, 6.055644061573704e-09, 3.303851418408265e-14, -7.108212270300015e-20, -4.668287686411051e-24, -7.393615891708118e-29, -7.96104616689953e-34, -5.870676870162846e-39, -1.215620710093362e-44, 5.084563672002538e-49, 1.0991387077322592e-53, 1.3019297316391996e-58, 5.8217492508403326e-64, -1.8294621679971055e-68], '46212.0': [-5762260.964224572, 42.121200930644775, 0.001099548418423341, 1.0745853362246303e-08, 5.810147808014789e-14, -1.53672968445712e-19, -8.8954670358463e-24, -1.4002099674252991e-28, -1.5086549436212732e-33, -1.1045192130637725e-38, -1.990830816259231e-44, 1.0407747103425874e-48, 2.215840580184648e-53, 2.6212277119471586e-58, 1.1553162188829842e-63, -3.812407752097925e-68], '58522.0': [-12387513.638106922, 73.03234605357531, 0.0014672139738797214, 1.1436853780579735e-08, 4.80518552914371e-14, -1.112201982769736e-19, -4.6362187877934e-24, -5.789155644448673e-29, -4.917632628105973e-34, -2.8275121363743902e-39, -3.925456285247812e-45, 1.6992243678218395e-49, 2.8119226528277595e-54, 2.6315243796285545e-59, 9.117385683226746e-65, -2.3940047991330874e-69], '57468.0': [31377639.65931673, -182.0017127370255, -0.003844280731957778, -3.053277873437309e-08, -1.3213601747258474e-13, 2.5599134225832105e-19, 1.2895546869712149e-23, 1.646877558748788e-28, 1.4295787357842858e-33, 8.453162062077744e-39, 1.2763228013304662e-44, -5.052074342318125e-49, -8.70872388662821e-54, -8.266065292304543e-59, -2.9911331641387347e-64, 7.77534181878851e-69], '48908.0': [14136150.800378585, -97.27373536342644, -0.002391916743599269, -2.2245970214976595e-08, -1.1361043803141703e-13, 2.7926151811626223e-19, 1.527632932845859e-23, 2.289679167931876e-28, 2.3346172386989587e-33, 1.6218175077333666e-38, 2.8680710102084766e-44, -1.3430985285015509e-48, -2.7145904564698397e-53, -3.047073491486977e-58, -1.275508644716544e-63, 3.938674006974739e-68], '52660.0': [-1276967.2954947003, 6.8590212276334, 0.0001755990816360287, 1.5768297221002263e-09, 8.212640948438617e-15, -4.430865912837478e-21, -7.306814265384643e-25, -1.0865580865238717e-29, -1.0783293285610039e-34, -7.395014014903702e-40, -1.972802804772511e-45, 3.954551645501326e-50, 8.346367889539918e-55, 9.135455545872874e-60, 3.920359604921229e-65, -9.493252288004658e-70], '40312.0': [8333795.340928841, -69.12863861723787, -0.0020748928195317186, -2.3397294071747177e-08, -1.4533159065722007e-13, 4.1627034820643577e-19, 2.868144474045477e-23, 5.198769415332034e-28, 6.44841104510435e-33, 5.450684755792235e-38, 1.1901499424504272e-43, -6.578537629978843e-48, -1.6199819110848296e-52, -2.211530989595572e-57, -1.125700618740546e-62, 4.1975498828672274e-67], '56256.0': [24665067.22032089, -148.3664744276921, -0.0031481121540030232, -2.544034937758115e-08, -1.1276661060106594e-13, 2.354954779853534e-19, 1.1519431969253067e-23, 1.4952553911354859e-28, 1.32526998453964e-33, 8.066732736245953e-39, 1.2008672579280058e-44, -5.004551192299431e-49, -8.801728356681968e-54, -8.608559010971488e-59, -3.143713325608522e-64, 8.410280961740786e-69], '55864.0': [-4251982.717837572, 25.572451634526885, 0.0005525919683790447, 4.485596705484163e-09, 2.005611105717191e-14, -4.269494581269735e-20, -2.0776123354767615e-24, -2.71379435461839e-29, -2.4223363733523793e-34, -1.473733887736892e-39, -2.283048379089186e-45, 9.354933274578113e-50, 1.6567227549964722e-54, 1.626461330091165e-59, 5.958333193695816e-65, -1.611611638840189e-69], '51370.0': [13537267.610175796, -88.39417962053784, -0.002085956754355937, -1.8383463967920515e-08, -8.936412965804522e-14, 2.0722967913814585e-19, 1.0982826391582999e-23, 1.5585941235790225e-28, 1.5122322577907622e-33, 1.0062605723203522e-38, 1.6278637916533172e-44, -7.516701389348533e-49, -1.4505888338009612e-53, -1.5499468325711999e-58, -6.142397835115884e-64, 1.8156037331432687e-68], '49378.0': [-492753.9395339814, 3.2431396790091394, 8.094059259395373e-05, 7.497807903107266e-10, 3.873624060438991e-15, -7.681257226506853e-21, -4.851781031218753e-25, -7.271269761805156e-30, -7.407165268685191e-35, -5.171593931569364e-40, -1.0329195222156442e-45, 3.9539284017415963e-50, 8.10562413698519e-55, 9.086103996524979e-60, 3.857387275782286e-65, -1.1353723179301771e-69], '49024.0': [-4034815.394825421, 26.359010326491404, 0.0006704052500980681, 6.2848558974590435e-09, 3.2772041698713573e-14, -6.243418306310023e-20, -4.1146194123030305e-24, -6.229663569643729e-29, -6.403265838683443e-34, -4.5228456962223155e-39, -9.441426090686778e-45, 3.4845287571795985e-49, 7.195351034007586e-54, 8.153181670904372e-59, 3.496113133543059e-64, -1.032272978932583e-68], '40546.0': [-1679455.2053911078, 13.464948843462844, 0.0004089884746942204, 4.610983549801134e-09, 2.8965072879164034e-14, -7.087723870967796e-20, -5.398858348039055e-24, -9.839739678077797e-29, -1.2196279416676117e-33, -1.0353501275680893e-38, -2.4805395885648487e-44, 1.1822197066184771e-48, 2.9432331762722217e-53, 4.011651481854097e-58, 2.0655589926448844e-63, -7.451577590114598e-68], '51292.0': [22409788.053409066, -144.72811670372712, -0.003442138472101366, -3.0532450097802933e-08, -1.5012864446554477e-13, 3.297609521649876e-19, 1.8048924509882596e-23, 2.578983420744214e-28, 2.518292823946032e-33, 1.6785550340652303e-38, 2.9458563003146473e-44, -1.2391279564825752e-48, -2.4079619245701734e-53, -2.577804377600665e-58, -1.0421275516230128e-63, 3.0241534357879333e-68], '56412.0': [-7864499.588449307, 45.52030245496876, 0.0009912523771067685, 8.026482979478526e-09, 3.61676507261652e-14, -6.512310897275047e-20, -3.506799079769348e-24, -4.5878750096383564e-29, -4.083753955226372e-34, -2.4886557102330857e-39, -4.229779625771655e-45, 1.478841766686276e-49, 2.639948004875183e-54, 2.5846533339008247e-59, 9.54126368578427e-65, -2.485342399177588e-69], '48790.0': [6904790.932847467, -45.92828847543157, -0.0011611565237533874, -1.089383736727218e-08, -5.688416769351816e-14, 1.1205325640197106e-19, 7.3314545720255e-24, 1.1063446285802372e-28, 1.1450664957698543e-33, 8.080027887803753e-39, 1.646961386398312e-44, -6.339583116408286e-49, -1.319154497438628e-53, -1.4934917415097134e-58, -6.407095776577346e-64, 1.9157282863231207e-68], '46016.0': [-1112949.725758917, 8.126659383516571, 0.00021314662282302633, 2.10005414887275e-09, 1.1399129953847137e-14, -2.9439153431018116e-20, -1.739098288244219e-24, -2.757462556001233e-29, -2.98822945383908e-34, -2.2082649454826214e-39, -4.1547132068165876e-45, 2.061206421527997e-49, 4.433771555090421e-54, 5.283776850480238e-59, 2.3527238169295935e-64, -7.710524337217052e-69], '52346.0': [-9896862.774382103, 64.14434580798228, 0.0014696451944585021, 1.2702324478852986e-08, 6.022532247462462e-14, -1.4406734534397675e-19, -7.218905138060265e-24, -1.0023155871926237e-28, -9.526219774080709e-34, -6.162329061355911e-39, -9.752074026192418e-45, 4.525611540351344e-49, 8.502709310435638e-54, 8.882004917445443e-59, 3.452245716214005e-64, -1.0064593047001976e-68], '47774.0': [-2073582.100545421, 13.460421771254454, 0.0003579097307443602, 3.4644848076744075e-09, 1.905111441945118e-14, -2.945996590422389e-20, -2.3680820041279345e-24, -3.737807048585932e-29, -3.98179660421902e-34, -2.9186524607641758e-39, -6.921634670634167e-45, 2.227200256054659e-49, 4.8511024061608505e-54, 5.699002106282229e-59, 2.548799928977864e-64, -7.481313870025289e-69], '46876.0': [-605200.1872678252, 4.201328545010448, 0.00011032307834309505, 1.0760963696890053e-09, 5.850198776209717e-15, -1.2335386149934612e-20, -8.1536443540268765e-25, -1.2858310228014878e-29, -1.3791309769308333e-34, -1.0133973564705334e-39, -2.114557726559321e-45, 8.629773520301226e-50, 1.8612975284691194e-54, 2.1956634741694587e-59, 9.796928647400891e-65, -3.0478453942382497e-69], '50120.0': [17850135.648583252, -118.89349027987113, -0.002878486195444643, -2.6103281390778967e-08, -1.3057763004103164e-13, 3.018515513840785e-19, 1.666866756578678e-23, 2.4258717467703357e-28, 2.425895799515502e-33, 1.6536291898741279e-38, 2.909740647442433e-44, -1.2923641639429956e-48, -2.557394543261983e-53, -2.7969565959484452e-58, -1.1472913085351827e-63, 3.442416065856391e-68], '43046.0': [-1498849.1083094357, 11.343840315344565, 0.00032409556416896615, 3.4404211717356367e-09, 2.033712118571456e-14, -4.7382790396411884e-20, -3.373151372911074e-24, -5.78715695028241e-29, -6.754025960818112e-34, -5.397056513454798e-39, -1.2116969848364816e-44, 5.4836126627353974e-49, 1.2844664963455462e-53, 1.6486241489064956e-58, 7.988564440876997e-64, -2.7186730064823216e-68], '45118.0': [5556386.734071418, -39.87418515304304, -0.0010935548374999917, -1.1110302153750112e-08, -6.274109957288456e-14, 1.3695193679519155e-19, 9.423809595295513e-24, 1.5452933747462696e-28, 1.7239653655561994e-33, 1.316545706053327e-38, 2.8597465453598323e-44, -1.2093896411300242e-48, -2.715832263988699e-53, -3.332182386626844e-58, -1.5389248645879215e-63, 4.992347436845891e-68], '56216.0': [33594040.99714584, -198.5636067938478, -0.004308399322582977, -3.477139903247823e-08, -1.5486209872875657e-13, 3.1341686262738726e-19, 1.569558043309445e-23, 2.04605225725672e-28, 1.8093110879892786e-33, 1.1017580967129491e-38, 1.787141138904739e-44, -6.843310897491117e-49, -1.2080389828778207e-53, -1.1774586854333885e-58, -4.302466701981121e-64, 1.1501257477921418e-68], '42734.0': [11373533.122346373, -88.44611734349081, -0.002516104409554955, -2.681123657326358e-08, -1.57599448158233e-13, 4.187880662805801e-19, 2.7380677989035754e-23, 4.704777094877945e-28, 5.516275356325604e-33, 4.3937056497421433e-38, 9.199357685034871e-44, -4.698475801040531e-48, -1.0926458296036595e-52, -1.40661867174964e-57, -6.786931580970429e-63, 2.3744669969474227e-67], '46524.0': [488601.73934711196, -4.459685607912891, -0.00010083249985812382, -9.235098570216423e-10, -4.198184461683739e-15, 2.7555543407076094e-20, 9.31724941954657e-25, 1.3478534551758781e-29, 1.3650523794997611e-34, 9.08646012664001e-40, 3.108365516691397e-47, -1.1708477156619267e-49, -2.2175286857932046e-54, -2.478896988884595e-59, -9.523591758381367e-65, 3.8248879608439144e-69], '42890.0': [-2043421.681902295, 15.15817217041686, 0.0004402052522459043, 4.722307475190976e-09, 2.859151093977862e-14, -5.616422906908769e-20, -4.552754084404849e-24, -7.958290674618965e-29, -9.39711228195231e-34, -7.604938696158223e-39, -1.8666893718390614e-44, 7.463747118527875e-49, 1.7851580041200582e-53, 2.311022607608604e-58, 1.1460657439213389e-63, -3.809557933307109e-68], '52972.0': [-1218876.913734315, 7.508976468614126, 0.00017419215144511902, 1.5027977642855497e-09, 7.215320927240864e-15, -1.37342385183093e-20, -7.919351099451833e-25, -1.1037905218916712e-29, -1.0465376199152635e-34, -6.7958762645993265e-40, -1.2380832356400683e-45, 4.563663121761455e-50, 8.686554807744372e-55, 9.060578189488821e-60, 3.569140349127632e-65, -9.869035201258833e-70], '56098.0': [-4481807.153955607, 28.705744490623452, 0.0005876845633990577, 4.693782141910407e-09, 1.999620865395425e-14, -5.3717454035176475e-20, -2.2791262691089118e-24, -2.90151089256579e-29, -2.540795864697356e-34, -1.5028311484416142e-39, -1.8001952387114353e-45, 1.0369066727840386e-49, 1.769248726631866e-54, 1.7078423591355823e-59, 6.052671309928431e-65, -1.716828018796108e-69], '57116.0': [-4970298.8111817045, 29.511743059854176, 0.0006183510166765527, 4.881242242974863e-09, 2.140519748325717e-14, -4.673877752588682e-20, -2.11053866701449e-24, -2.714381849290992e-29, -2.37053668074854e-34, -1.4213687980845713e-39, -2.0632739705988874e-45, 8.6410084606999e-50, 1.4863558280069682e-54, 1.422652707810998e-59, 5.099768892115523e-65, -1.3523415303160263e-69], '41014.0': [-230121.498015009, 1.867712141828874, 5.528424084046178e-05, 6.128513820910721e-10, 3.75901479422606e-15, -1.022798759442523e-20, -7.082001128870254e-25, -1.2658360424816607e-29, -1.5438786232623686e-34, -1.2868307613484326e-39, -2.873469033546473e-45, 1.4762502627268747e-49, 3.594819838629908e-54, 4.824136933375244e-59, 2.4334330034520002e-64, -8.799193355399873e-69], '50276.0': [-5132109.161654864, 33.01084883847555, 0.0008139745597701137, 7.401773774781443e-09, 3.7720235596262514e-14, -7.357477388185098e-20, -4.543755453833262e-24, -6.696173803350715e-29, -6.708418204939201e-34, -4.5741174096323215e-39, -8.941009021964301e-45, 3.396747166976357e-49, 6.840804137251718e-54, 7.532565348417276e-59, 3.1355413787319987e-64, -9.103753939382518e-69], '46798.0': [-1134245.1873671631, 7.903043212857421, 0.00020761937153412712, 2.0270760488539933e-09, 1.1018185130799713e-14, -2.3698670746452906e-20, -1.5481345805178061e-24, -2.4421509504835108e-29, -2.6216023067756354e-34, -1.927118158086881e-39, -3.97685684860555e-45, 1.6574735417685718e-49, 3.570095298346134e-54, 4.214885460716995e-59, 1.8792855743742527e-64, -5.881392032139963e-69], '58914.0': [-7356098.849817825, 40.89758015957463, 0.0008512317077476823, 6.593498906557583e-09, 2.839803082944925e-14, -4.9819796224395484e-20, -2.539138348747525e-24, -3.173639180184163e-29, -2.7039587695434354e-34, -1.5754809766587266e-39, -2.535788941433746e-45, 8.628259648728825e-50, 1.4718278632343157e-54, 1.3791924376629516e-59, 4.865022757407589e-65, -1.217179323006374e-69], '48438.0': [-988804.6796164225, 6.8412546978100215, 0.00017078262764564633, 1.599553398044474e-09, 8.262885446040599e-15, -1.9981145685115085e-20, -1.1329437266373257e-24, -1.7081667866107635e-29, -1.759925156488788e-34, -1.2370046736183426e-39, -2.2375026295632908e-45, 1.037267204017547e-49, 2.1236592069273352e-54, 2.405495311308274e-59, 1.0194459584872056e-64, -3.164625103130142e-69], '44962.0': [-4479310.503271165, 33.69494837456138, 0.0009005752146943853, 9.08655051644851e-09, 5.0328012909000063e-14, -1.3803267227978543e-19, -8.130561361040407e-24, -1.3158032196989059e-28, -1.4567310504911542e-33, -1.0990755944316564e-38, -2.062686111410428e-44, 1.0877916244649545e-48, 2.3893921121260067e-53, 2.9099683568055352e-58, 1.3173560799655067e-63, -4.4633568908051525e-68], '40702.0': [-528618.0114880272, 4.222548960917896, 0.0001277623583323618, 1.4351868330120982e-09, 8.985230547574813e-15, -2.178784129673323e-20, -1.6599176243668865e-24, -3.0146431608979533e-29, -3.723772313207423e-34, -3.1506754380480757e-39, -7.575566713477029e-45, 3.559182805347942e-49, 8.837062351185611e-54, 1.20054493654846e-58, 6.167850818829169e-64, -2.210265366257701e-68], '57154.0': [-7447350.550996086, 43.78100893783518, 0.000924903430240888, 7.3800128183146065e-09, 3.18318592159759e-14, -6.739134715646336e-20, -3.169799660197917e-24, -4.070440360682035e-29, -3.5534610476358083e-34, -2.1057766615561703e-39, -3.1287023163199766e-45, 1.279258053722451e-49, 2.2178019878774105e-54, 2.13077264041443e-59, 7.62166940394644e-65, -2.0185819286535955e-69], '58718.0': [23079148.057307314, -131.5069790696338, -0.002716711401338904, -2.098478080241102e-08, -9.01177929474604e-14, 1.7960345098041429e-19, 8.376957134579258e-24, 1.0399158310010864e-28, 8.88766245716116e-34, 5.152125450530933e-39, 7.924861040388549e-45, -2.9646114897605018e-49, -4.997618750451603e-54, -4.641182002383918e-59, -1.620269115678985e-64, 4.1727446500791666e-69], '57194.0': [-10580802.608595239, 62.92573882616902, 0.0013094188838704969, 1.0406703826437013e-08, 4.500762548402449e-14, -9.554098352712175e-20, -4.511482503526405e-24, -5.722601285902103e-29, -4.993523218626113e-34, -2.982433600845662e-39, -4.461864460087022e-45, 1.818127330784393e-49, 3.1133139307394695e-54, 2.998463973875366e-59, 1.0722312959228102e-64, -2.837754450629188e-69], '40156.0': [-2479274.563851549, 21.429570901384732, 0.0006314660588773725, 7.071258660780299e-09, 4.310072820192421e-14, -1.511572976124327e-19, -9.126556759743622e-24, -1.634739551716401e-28, -2.0138897089514923e-33, -1.6825728755947798e-38, -3.1063466775815036e-44, 2.1775799448050916e-48, 5.266089080280112e-53, 7.134406649111018e-58, 3.571342051236015e-63, -1.3865936044268699e-67], '56882.0': [-563789.0647675224, 3.2564879193992207, 7.009132499758308e-05, 5.622083359741685e-10, 2.5057446842480407e-15, -4.57880677906447e-21, -2.4054328751283306e-25, -3.1168773699682102e-30, -2.75036285975421e-35, -1.6615257290056312e-40, -2.7876543535383397e-46, 9.724797373197833e-51, 1.7200953030326232e-55, 1.6693736004977922e-60, 6.118095316239454e-66, -1.577626330052427e-70], '59540.0': [-5593489.005388061, 31.54438620635495, 0.0006398625356409992, 4.873653835701175e-09, 2.046181824411098e-14, -4.074215427926754e-20, -1.8640071421835833e-24, -2.284642190017909e-29, -1.9141229413911725e-34, -1.0932820032504203e-39, -1.5837693611357058e-45, 6.099711965757996e-50, 1.0143741641584328e-54, 9.343460320195883e-60, 3.211762202384182e-65, -8.149420035501672e-70], '47502.0': [-5011440.4237238355, 36.38823079897963, 0.0009096527074915017, 8.627004125304259e-09, 4.437976523510519e-14, -1.246532544094301e-19, -6.673580403988006e-24, -1.015304575736265e-28, -1.056214800923918e-33, -7.502610405780262e-39, -1.2457331511849982e-44, 6.861746807911844e-49, 1.4077994462719653e-53, 1.6151629708969536e-58, 6.874366006314021e-64, -2.237653904346777e-68], '49768.0': [-2882584.3221870377, 19.548166282764463, 0.00047329936946564275, 4.284689221567795e-09, 2.1620332997555115e-14, -5.293182782625852e-20, -2.8215235810837525e-24, -4.1313490883034537e-29, -4.146461180066291e-34, -2.842490005174363e-39, -4.8004334349712897e-45, 2.269022977964626e-49, 4.5115708683636244e-54, 4.969572078794993e-59, 2.049357708235384e-64, -6.217700642054539e-69], '41484.0': [8811930.933637895, -70.37887666693584, -0.002063727442477127, -2.2666338521222906e-08, -1.3759152277913127e-13, 3.6149276191992973e-19, 2.5231191501520235e-23, 4.469509988091721e-28, 5.391781279586664e-33, 4.4460280391247783e-38, 9.878899465126222e-44, -4.9945333935355043e-48, -1.2020825627766016e-52, -1.5965664255658342e-57, -7.942622366250184e-63, 2.8517726997335138e-67], '50550.0': [-817832.2628673364, 5.2709113731461885, 0.0001282922029583434, 1.1598634145943061e-09, 5.841574445147851e-15, -1.1519005069677754e-20, -7.019694953533128e-25, -1.0260062169721e-29, -1.0200354093418812e-34, -6.948965078836546e-40, -1.3373211637662193e-45, 5.101995321386304e-50, 1.0194768403906136e-54, 1.1148685681089946e-59, 4.6081176655763484e-65, -1.3318900410033612e-69], '59462.0': [-2311404.933384969, 13.011439303145334, 0.00026473253801013465, 2.0210016808831075e-09, 8.512412178472233e-15, -1.661601308698981e-20, -7.729225429662728e-25, -9.49823280352455e-30, -7.978682581565656e-35, -4.5700317534368765e-40, -6.773732252660716e-46, 2.5389335987305e-50, 4.2385128394355874e-55, 3.913749902636065e-60, 1.3510509610583378e-65, -3.415874599654698e-70], '54144.0': [-2056687.6712778737, 12.419488856270753, 0.00028151484497084125, 2.374755133960035e-09, 1.114322008691896e-14, -2.0973749356951023e-20, -1.1746862897651945e-24, -1.6005347701407177e-29, -1.483697633615263e-34, -9.418543334624725e-40, -1.66258995762614e-45, 6.0781448045382225e-50, 1.1301275963212281e-54, 1.1529152236567395e-59, 4.435412884843334e-65, -1.2033238693407627e-69], '47266.0': [-1657240.2235030863, 11.792565398279324, 0.0003009027305445977, 2.8857099745926867e-09, 1.5243248258005695e-14, -3.854564991917336e-20, -2.2079678920447227e-24, -3.40660919424426e-29, -3.59296063525789e-34, -2.582976172819634e-39, -4.7124864583848155e-45, 2.2913566228887162e-49, 4.7941603116175546e-54, 5.5595063729779385e-59, 2.407742484585363e-64, -7.695357595927299e-69], '47032.0': [-244452.79415023443, 1.6923502486546689, 4.429742484966801e-05, 4.3077825690209724e-10, 2.3364376486360033e-15, -4.8539989665698074e-21, -3.226470513751586e-25, -5.076174266666229e-30, -5.430067459410321e-35, -3.984466112102975e-40, -8.422161022366409e-46, 3.342638574125249e-50, 7.207749089500358e-55, 8.487489947749135e-60, 3.790927974221416e-65, -1.166570990947087e-69], '57508.0': [15730999.406391341, -93.12013176192539, -0.0019293482680691973, -1.5233686704504098e-08, -6.538051627248104e-14, 1.4073682047206125e-19, 6.508231811935824e-24, 8.216682114636594e-29, 7.118282339952882e-34, 4.2159835302079364e-39, 5.955939748217954e-45, -2.538556409743308e-49, -4.343828794167352e-54, -4.162411342421665e-59, -1.4720866659470875e-64, 3.8940949143620814e-69], '44022.0': [7077456.832137983, -54.142289340335424, -0.0014834585628535823, -1.5288238750333764e-08, -8.6631695865087e-14, 2.371364575793271e-19, 1.4523008592469857e-23, 2.405226914897034e-28, 2.7245348222053113e-33, 2.0988539212534902e-38, 4.066642823068202e-44, -2.1625258966516865e-48, -4.839999472461186e-53, -6.023604970645628e-58, -2.805733624155093e-63, 9.640518654588492e-68], '54066.0': [-3737367.6533590313, 22.611959165405416, 0.0005133327808789301, 4.333683975658563e-09, 2.0346665788147044e-14, -3.8705074882977195e-20, -2.155287629110002e-24, -2.938159641961848e-29, -2.7290394532549147e-34, -1.7329785758673798e-39, -3.050698540947904e-45, 1.1246184927220366e-49, 2.0922103717410507e-54, 2.1357190373674574e-59, 8.218776701101588e-65, -2.2372182632705048e-69], '55084.0': [4778579.359287982, -30.334428878061985, -0.0006475540025375669, -5.270043995929591e-09, -2.3509293846686123e-14, 6.085899507453092e-20, 2.642542125778284e-24, 3.4682967117204725e-29, 3.1004021552905335e-34, 1.8956109474007602e-39, 2.511346865835665e-45, -1.3017118470473676e-49, -2.30111790681475e-54, -2.2720502008558154e-59, -8.268519594637586e-65, 2.3468991149113807e-69], '59070.0': [-2309416.2676821346, 12.79189239798471, 0.00026576429938039275, 2.0536487789073674e-09, 8.826328432370463e-15, -1.533557100614702e-20, -7.828294709026691e-25, -9.776080281968241e-30, -8.306581022097031e-35, -4.832260172908785e-40, -7.800605717096341e-46, 2.6228992150109466e-50, 4.47012232919015e-55, 4.1764892803417264e-60, 1.4725455891298188e-65, -3.6643666322114407e-70], '41406.0': [-789029.3613495756, 7.312664324565046, 0.00019689085139070142, 2.0799064710078988e-09, 1.1423063113443095e-14, -5.979470363666272e-20, -2.7065584244371177e-24, -4.533198607565396e-29, -5.2776432901209205e-34, -4.1077888732046427e-39, -3.8338148205978215e-45, 5.840950444992084e-49, 1.2995912734957558e-53, 1.6656814030785535e-58, 7.602195762975157e-64, -3.156089107785399e-68], '41444.0': [4061206.662727026, -31.73324090299657, -0.000946302475971184, -1.0455815175408028e-08, -6.461653820883607e-14, 1.5169000631625536e-19, 1.1439314418258926e-23, 2.0436134284101366e-28, 2.4840525632882136e-33, 2.0655941040219517e-38, 4.918728486231281e-44, -2.2447284670857968e-48, -5.49003012851228e-53, -7.324817925648869e-58, -3.697337506203002e-63, 1.3013022510054946e-67], '59774.0': [-5271823.326838932, 31.417650731005637, 0.0006128185104024746, 4.570334821048475e-09, 1.8431507901620118e-14, -4.8948566694833415e-20, -1.836011671744025e-24, -2.1863719862096497e-29, -1.8117840086208588e-34, -9.98445262637202e-40, -1.1432547621907773e-45, 6.127857716495436e-50, 9.779766253022102e-55, 8.856178355536628e-60, 2.8794331270432225e-65, -7.809017308402736e-70], '50198.0': [742970.708677276, -6.0465916298433156, -0.00012944661397608237, -1.1117484781259024e-09, -4.82732522921752e-15, 2.5760103468413984e-20, 8.601504123845499e-25, 1.163965717771542e-29, 1.1092486115032028e-34, 6.9307758848921395e-40, 2.3686988153394602e-46, -7.257365197622033e-50, -1.3010606358520978e-54, -1.3592791263338725e-59, -4.927700634610057e-65, 1.77878174009559e-69], '58132.0': [-715162.6283175362, 4.059916792952647, 8.529201598883098e-05, 6.685106689520516e-10, 2.9065260030349568e-15, -5.3488677748263945e-21, -2.694680335644632e-25, -3.408336783686576e-30, -2.9389987947639875e-35, -1.7328176957655622e-40, -2.795371516330789e-46, 9.799187032841086e-51, 1.6913459309449806e-55, 1.604450964011214e-60, 5.730112002380691e-66, -1.4548701495956753e-70], '59226.0': [-721399.3493953063, 3.9610423972697486, 8.240573607637415e-05, 6.366431967884055e-10, 2.741315805216817e-15, -4.5503700565614045e-21, -2.3906168871613713e-25, -2.984788430114696e-30, -2.534741616010919e-35, -1.4759542297884684e-40, -2.4529391430563806e-46, 7.85070949183781e-51, 1.3417559153466988e-55, 1.2537402361514703e-60, 4.4379155194174945e-66, -1.0895455628332224e-70], '42030.0': [-263631.0156383615, 2.0343822794792783, 5.971737873550069e-05, 6.5016144736064e-10, 3.952697571986346e-15, -9.06037633568992e-21, -6.803128627552682e-25, -1.1986044873579322e-29, -1.4356241158490815e-34, -1.1790636911704708e-39, -2.7980857346429496e-45, 1.2365387652011682e-49, 2.9848310712806704e-54, 3.933490293361018e-59, 1.965852956339195e-64, -6.770603751750259e-69], '56568.0': [-2989668.0615588487, 17.293576931547957, 0.00037517584524259613, 3.027782550565276e-09, 1.3583732087906514e-14, -2.475796241547091e-20, -1.3147428709077747e-24, -1.7136730717024366e-29, -1.5204183230117456e-34, -9.230018893615509e-40, -1.55280404891877e-45, 5.468993724895126e-50, 9.73172105257986e-55, 9.495630561841954e-60, 3.4937100987954308e-65, -9.086554957599803e-70], '59384.0': [-1003003.767650494, 5.603527595008311, 0.000114835172694547, 8.796985294963447e-10, 3.7328621935980254e-15, -6.930330180817037e-21, -3.345118339037145e-25, -4.134051715221233e-30, -3.483315623206102e-35, -2.00713463114563e-40, -3.0996343505812275e-46, 1.098414918037818e-50, 1.8486157328442387e-55, 1.7138796211300773e-60, 5.967107543027506e-66, -1.493159308227547e-70], '53634.0': [-6738732.195313091, 43.291526946262664, 0.0009614630672692517, 8.074873666152635e-09, 3.695069828412458e-14, -9.44511582540442e-20, -4.338702255836246e-24, -5.861306019620593e-29, -5.415632883614993e-34, -3.382462103074865e-39, -4.8474450657392973e-45, 2.4385331524248486e-49, 4.4338012050747687e-54, 4.5086596589991535e-59, 1.6930449756586316e-64, -4.901090635454869e-69], '46132.0': [-3172455.0757639543, 23.18507804233929, 0.0006054593190968165, 5.959399764825849e-09, 3.21920824179305e-14, -8.578604520289298e-20, -4.9134590311418204e-24, -7.763208157411619e-29, -8.403130810151815e-34, -6.17135410302319e-39, -1.140122464594927e-44, 5.7830321836544116e-49, 1.2402178087712428e-53, 1.4712836098256624e-58, 6.491517269523485e-64, -2.1411512348072692e-68], '54458.0': [-565532.4162926256, 3.4306235813163912, 7.684682805972871e-05, 6.430214128365785e-10, 2.983414711240775e-15, -5.877443370450205e-21, -3.1534357741999823e-25, -4.255779606056677e-30, -3.9182290097480413e-35, -2.4664779942097037e-40, -4.238789229039783e-46, 1.5898624932839487e-50, 2.9269105621642416e-55, 2.9628045104126054e-60, 1.1300121088282965e-65, -3.061571702248805e-70], '53714.0': [19574513.27061382, -119.99295009704637, -0.0027353446462925943, -2.3256261823821492e-08, -1.0874269581074803e-13, 2.199780031456751e-19, 1.1909825063938285e-23, 1.6209567981899258e-28, 1.5183524226318817e-33, 9.648229504323023e-39, 1.6472364285218164e-44, -6.4327968229174064e-49, -1.2008028052296934e-53, -1.2305102344934114e-58, -4.764189268400217e-64, 1.3127577645792508e-68], '48594.0': [-4340302.9380172165, 30.30504368581233, 0.0007451270900203326, 6.9592149119390075e-09, 3.5698649480700444e-14, -9.00493902729028e-20, -4.933606945149284e-24, -7.36295320264928e-29, -7.5568962012968975e-34, -5.273179635928593e-39, -9.340270504817066e-45, 4.452905072767212e-49, 9.076456832580078e-54, 1.022613520295249e-58, 4.2881535810990675e-64, -1.341366971876567e-68], '42968.0': [-2446644.7805101145, 18.51738460438014, 0.0005306424269724788, 5.644226645064896e-09, 3.345624438893644e-14, -7.734238172190342e-20, -5.5561777185813325e-24, -9.554758806478395e-29, -1.1175087357055328e-33, -8.951058852117167e-39, -2.021360593152719e-44, 9.106152362100814e-49, 2.139405875964363e-53, 2.7513957387044514e-58, 1.3364756574276627e-63, -4.551991877966592e-68], '52268.0': [-5879461.269378625, 38.066788959236206, 0.0008734513194472796, 7.568971272808139e-09, 3.6249444484210885e-14, -8.521509446958047e-20, -4.314001971311894e-24, -5.994654258894516e-29, -5.710337486465947e-34, -3.7055070883340076e-39, -6.060506863103879e-45, 2.7180656193512145e-49, 5.1151321703027725e-54, 5.347889683124552e-59, 2.1084518425799156e-64, -6.086546242630465e-69], '49298.0': [-917761.4994710159, 6.068733813525356, 0.00015138437300818146, 1.4031355199661372e-09, 7.246403121569066e-15, -1.474960815706868e-20, -9.162848664405514e-25, -1.372582164138595e-29, -1.3990248337637535e-34, -9.767046153675843e-40, -1.919677248752054e-45, 7.556613540281043e-50, 1.5463418374084387e-54, 1.7333656786542726e-59, 7.343693000431068e-65, -2.178649056757475e-69], '43984.0': [11878862.620323125, -90.11704074475675, -0.0024884120981248964, -2.5615764470047517e-08, -1.4655005893923887e-13, 3.7823249823898437e-19, 2.4261231092723633e-23, 4.0265501724032567e-28, 4.57481750636427e-33, 3.553526534998882e-38, 7.060667094067526e-44, -3.5891845092567734e-48, -8.117809065487237e-53, -1.0154528540147087e-57, -4.735395936639842e-63, 1.6186155638145368e-67], '47892.0': [-3249467.46366935, 22.135334802778377, 0.0005680279895194932, 5.4175162779184e-09, 2.8758673406475886e-14, -6.071210897663336e-20, -3.8643428341936055e-24, -5.954841705448351e-29, -6.245213219563245e-34, -4.482522274754349e-39, -8.997338143433175e-45, 3.690398578002272e-49, 7.762419084940451e-54, 8.951763713549048e-59, 3.895690996310792e-64, -1.1937314777538696e-68], '50238.0': [-3714842.298008178, 23.67568556735168, 0.0005852654754927478, 5.340674681260945e-09, 2.7528532781439402e-14, -4.8439008792186545e-20, -3.2220483992544708e-24, -4.80831252719976e-29, -4.832100557266703e-34, -3.349609589045672e-39, -6.747323321952198e-45, 2.411762507729783e-49, 4.899730259836713e-54, 5.412678055939819e-59, 2.2762101316862344e-64, -6.513253782534591e-69], '42538.0': [-4117158.900298845, 32.80874286746877, 0.0009260148641261191, 9.87421115064768e-09, 5.750231347380614e-14, -1.692921833325317e-19, -1.0461062607568497e-23, -1.7856399117621737e-28, -2.0898786109814313e-33, -1.6622611049680373e-38, -3.215620029824947e-44, 1.8496279976125717e-48, 4.282015753144448e-53, 5.495369644784507e-58, 2.638123807066063e-63, -9.447980949791704e-68], '57976.0': [-767212.550286652, 4.3051127521654164, 9.147649572634678e-05, 7.212636847261312e-10, 3.17370361469322e-15, -5.3819142198037e-21, -2.8892399313933194e-25, -3.6853080384603504e-30, -3.1968004566682993e-35, -1.9016609390873573e-40, -3.218091921106277e-46, 1.0555568534427433e-50, 1.8440189304151403e-55, 1.7601104339612322e-60, 6.356905840160333e-66, -1.5963737987249335e-70], '56136.0': [11026559.626115495, -63.44612991576276, -0.001403756789038361, -1.1428698170898276e-08, -5.2318774558549743e-14, 9.088793362335326e-20, 5.0454322282668914e-24, 6.66580987553734e-29, 5.9771791537416306e-34, 3.6432115381369976e-39, 6.483689483298687e-45, -2.1928677415767498e-49, -3.918212608085394e-54, -3.853442370479167e-59, -1.4414989481163457e-64, 3.7435520603462057e-69], '58054.0': [-541964.2594432653, 3.0406956692340996, 6.448494410042146e-05, 5.077431675329925e-10, 2.23024437360818e-15, -3.7964557836977234e-21, -2.0256282530226796e-25, -2.5811603512425658e-30, -2.2361648704617608e-35, -1.3278235504659857e-40, -2.253034674427186e-46, 7.347046848596115e-51, 1.2816992689469455e-55, 1.222409427644072e-60, 4.413149590922049e-66, -1.1047977738741743e-70], '58796.0': [-4627984.304720978, 24.850167272676902, 0.0005277883451238589, 4.157515838328951e-09, 1.8460548991686886e-14, -2.506831688654667e-20, -1.5364148604660898e-24, -1.9743663647097293e-29, -1.6996696999990052e-34, -1.0085744408783815e-39, -1.8917878982555023e-45, 5.180541638118178e-50, 9.145760227510938e-55, 8.642718666640737e-60, 3.0993187685864944e-65, -7.52821417834291e-70], '46252.0': [-5857900.011762852, 43.137868073434056, 0.0011162287379465757, 1.0929804151623352e-08, 5.849852780037047e-14, -1.616611134274148e-19, -9.057814064599835e-24, -1.4197064645489842e-28, -1.5239024546721365e-33, -1.1135032746734871e-38, -1.9798483453913414e-44, 1.0548337178602938e-48, 2.2419255048711718e-53, 2.6526104331972367e-58, 1.1645585718258055e-63, -3.856549495984833e-68], '52542.0': [25776240.94767888, -162.89692739821416, -0.0037853717447782873, -3.2693804912004456e-08, -1.5557910735182648e-13, 3.4440254613632566e-19, 1.797966013638628e-23, 2.5153051406456306e-28, 2.3888148211986695e-33, 1.5541555999224535e-38, 2.686827073146816e-44, -1.1002822187598603e-48, -2.0847354670409939e-53, -2.1781831589833248e-58, -8.544717443813933e-64, 2.4353135771088866e-68], '49064.0': [-4584510.319874569, 30.420321749264318, 0.0007630932249958743, 7.106460894287798e-09, 3.687495751985069e-14, -7.51144038804327e-20, -4.7064854000350684e-24, -7.084449336352145e-29, -7.2560766403408435e-34, -5.0872588714694316e-39, -1.0008059833520999e-44, 3.978172902432929e-49, 8.179132855012825e-54, 9.209826240679758e-59, 3.916781218594679e-64, -1.1695665720846704e-68], '46094.0': [-2115526.7744223974, 15.464152099789214, 0.00040432787301400544, 3.981758135591635e-09, 2.1482814128500776e-14, -5.609491262168894e-20, -3.2886683920415183e-24, -5.207304407610733e-29, -5.637487707795601e-34, -4.146471487115359e-39, -7.542056011890989e-45, 3.87139331851933e-49, 8.331116904562733e-54, 9.896487794615191e-59, 4.404688887659891e-64, -1.4441346279614717e-68], '45196.0': [13958144.669814818, -102.81423494739494, -0.002764363005897942, -2.777983077075592e-08, -1.5490507959349043e-13, 3.9202561287615706e-19, 2.4094436638681608e-23, 3.9068412992117435e-28, 4.325819326426292e-33, 3.260269484133817e-38, 6.468253354386772e-44, -3.1204115576995786e-48, -6.870781228009454e-53, -8.358428627878838e-58, -3.809161933930727e-63, 1.2621778382779148e-67], '51174.0': [-7074272.703153617, 47.30762086909832, 0.0011047446259890162, 9.745163311902133e-09, 4.721922124033558e-14, -1.2212864998157208e-19, -6.0107372115023216e-24, -8.473141945135546e-29, -8.238433677786918e-34, -5.437396968085638e-39, -8.372866150960925e-45, 4.2428308244721346e-49, 8.104367306311599e-54, 8.660416999646375e-59, 3.424011452732685e-64, -1.031028867836252e-68], '42420.0': [-1520956.2728035555, 12.0826371866229, 0.0003435154874449287, 3.6678622012226623e-09, 2.1613370391294943e-14, -6.116279182995389e-20, -3.89957502932164e-24, -6.703806009032823e-29, -7.884759456222973e-34, -6.293886008438755e-39, -1.251099951411423e-44, 6.959704925806172e-49, 1.625185817132956e-53, 2.097967641874554e-58, 1.0098565372271624e-63, -3.6114030008351845e-68], '54536.0': [-1206239.9154613444, 7.39352852722563, 0.00016413958788257454, 1.366606324217769e-09, 6.284840447319218e-15, -1.3275603350572772e-20, -6.758890052240792e-25, -9.068249087047661e-30, -8.305290355442606e-35, -5.1915576683919545e-40, -8.45388918501046e-46, 3.4153111604396744e-50, 6.224439494183373e-55, 6.270139565697698e-60, 2.365904216741694e-65, -6.499375208720684e-70], '41210.0': [-1592739.3751168272, 13.042445416301561, 0.0003811900456621361, 4.192947651387398e-09, 2.5337565657482113e-14, -7.459356493474296e-20, -4.86318364776046e-24, -8.601473117757752e-29, -1.0388437190359742e-33, -8.558055107161927e-39, -1.7592023831250114e-44, 1.0062404774023844e-48, 2.407655081011778e-53, 3.202688621266585e-58, 1.5850016547950906e-63, -5.841888128855204e-68], '40350.0': [4891093.878296597, -40.921633052661655, -0.0012207099322248626, -1.371142133861176e-08, -8.486841287018425e-14, 2.5586405454897453e-19, 1.695186191440952e-23, 3.0619587696963795e-28, 3.7768490491361404e-33, 3.177231322114692e-38, 6.721433854778514e-44, -3.89967709197026e-48, -9.533493614130974e-53, -1.2940332423257935e-57, -6.539502504272083e-63, 2.4629046666479003e-67], '43514.0': [-490163.4823670706, 3.7722093237753174, 0.00010484332525952035, 1.0935351717356775e-09, 6.2935284245304856e-15, -1.6800615006426107e-20, -1.0663866275566072e-24, -1.7910051962479624e-29, -2.0545812007665998e-34, -1.608522982109484e-39, -3.2679197336048095e-45, 1.6649933830216316e-49, 3.7989071466163827e-54, 4.793652436816387e-59, 2.2650006016077365e-64, -7.802785245812058e-69], '51566.0': [-4362927.673468621, 27.641332057082614, 0.0006583970484418693, 5.829558150473774e-09, 2.871129808294499e-14, -5.690540177438014e-20, -3.3363350503227824e-24, -4.772982022948245e-29, -4.646848115895031e-34, -3.097524361681437e-39, -5.738897937195108e-45, 2.2049147729689e-49, 4.303576651178343e-54, 4.607243953606168e-59, 1.8600234509748953e-64, -5.303151449997639e-69], '52112.0': [-1348230.592109555, 8.66633522609158, 0.00020110425016614793, 1.7513556389141377e-09, 8.411599945146217e-15, -1.8844503342969663e-20, -9.95205349793685e-25, -1.3957349575072117e-29, -1.3369818108028754e-34, -8.734413347076854e-40, -1.4721626018488372e-45, 6.322021741640704e-50, 1.203930622946822e-54, 1.2678836494560974e-59, 4.9986914529186495e-65, -1.4411929348495772e-69], '47110.0': [-318544.804560417, 2.2349022885671768, 5.786263352570524e-05, 5.594568567908186e-10, 3.001045618217907e-15, -6.839585789514411e-21, -4.237533929256842e-25, -6.612629982506416e-30, -7.034991281026481e-35, -5.1195357815342164e-40, -1.0199554070112326e-45, 4.402730719253432e-50, 9.375711820115265e-55, 1.0972998270424505e-59, 4.839638045289277e-65, -1.5136252962692779e-69], '53988.0': [-6045193.563585045, 36.58899997886026, 0.0008320974924596996, 7.037655098688832e-09, 3.313445852500591e-14, -6.266859083985017e-20, -3.510756664765539e-24, -4.7964283754267116e-29, -4.461055368717428e-34, -2.839684730737738e-39, -5.029685846580804e-45, 1.8447156783405386e-49, 3.437958066033422e-54, 3.5166483622425123e-59, 1.3561805170153346e-64, -3.6928499780095426e-69], '51254.0': [12841064.718232837, -82.06165887117147, -0.0019666388093479395, -1.754669944356142e-08, -8.649664526202226e-14, 1.770541300172394e-19, 1.0310967588780939e-23, 1.476016676973605e-28, 1.4383083497600787e-33, 9.656082185587732e-39, 1.7743679142328793e-44, -6.990564474532633e-49, -1.3761916615260478e-53, -1.4809981976781128e-58, -5.9753839750587925e-64, 1.727069571732908e-68], '41092.0': [-529369.0899397256, 4.328282285546499, 0.0001271194753201347, 1.4025183919751852e-09, 8.52687650482162e-15, -2.4582355595873202e-20, -1.6294949878576242e-24, -2.894232043056288e-29, -3.512723440126451e-34, -2.9076365172648107e-39, -6.164627079792476e-45, 3.3959432073209613e-49, 8.186754897885455e-54, 1.0926920688618127e-58, 5.4535864890561506e-64, -1.997666592381092e-68], '52894.0': [-2270648.1316842833, 14.029752187465117, 0.0003257084125628974, 2.8120407648473427e-09, 1.350554491037463e-14, -2.6073330065189316e-20, -1.4919654378369318e-24, -2.079918381043049e-29, -1.9744006165125044e-34, -1.2831621005804438e-39, -2.3216719638358702e-45, 8.678050963535434e-50, 1.6516001696050739e-54, 1.7240423609003635e-59, 6.790682197879157e-65, -1.8859288118570146e-69], '46564.0': [-2791938.2298731087, 19.088887569290844, 0.0005116155816460485, 5.057713382288182e-09, 2.8010835000323392e-14, -5.311730877673952e-20, -3.824682700706871e-24, -6.133655168032967e-29, -6.644439130026021e-34, -4.968108102799894e-39, -1.1031186306393539e-44, 4.162721002402168e-49, 9.104176482612877e-54, 1.0907287017582996e-58, 4.952430560805057e-64, -1.5240660962444398e-68], '44766.0': [-750408.6837856414, 5.625858512959617, 0.00015177320789005154, 1.5377368889543032e-09, 8.587926666320936e-15, -2.2587451813282132e-20, -1.3808704478545243e-24, -2.2521866293467967e-29, -2.5096895663161603e-34, -1.90767515511308e-39, -3.7222139190315945e-45, 1.8756864327769187e-49, 4.151860807024708e-54, 5.088200536380094e-59, 2.3322784463840868e-64, -7.838221536136848e-69], '45002.0': [-5241438.2773930235, 39.652560324673836, 0.0010547209305807998, 1.058907718552708e-08, 5.825383123801134e-14, -1.652613268108316e-19, -9.508770413281083e-24, -1.533195787484625e-28, -1.6926864049432964e-33, -1.2711739294644798e-38, -2.30009705214556e-44, 1.2714407137818822e-48, 2.7713543952145863e-53, 3.363575941322521e-58, 1.516780568310707e-63, -5.163698995105186e-68], '47618.0': [16533631.350516042, -114.86236496879177, -0.002946904250946582, -2.814794100809939e-08, -1.4923754275157364e-13, 3.480863819467285e-19, 2.0810210949990022e-23, 3.20389679895979e-28, 3.365228261496952e-33, 2.4184294317143793e-38, 4.584249467126698e-44, -2.0683865837547892e-48, -4.3288953431201365e-53, -5.0098375145584076e-58, -2.1686554739142366e-63, 6.799642835316541e-68], '52464.0': [9569771.05873003, -59.21625736456591, -0.001394150340049382, -1.2170563526005008e-08, -5.890818195774151e-14, 1.1033307202855264e-19, 6.584228930266956e-24, 9.289718882672932e-29, 8.899302135422475e-34, 5.819013740442933e-39, 1.0654727043325375e-44, -3.984784943543754e-49, -7.65859956494686e-54, -8.0698149613996e-59, -3.2259057007448546e-64, 8.974168320522712e-69], '49924.0': [-8044429.912563426, 54.59545352458547, 0.0013164272960539197, 1.1937013833220056e-08, 5.927401930057326e-14, -1.487969742119387e-19, -7.85588677629559e-24, -1.1405394775958678e-28, -1.1370138786984498e-33, -7.693184855897424e-39, -1.2730590355581886e-44, 6.227874851280646e-49, 1.2303710281230666e-53, 1.3473095653298333e-58, 5.489371841144241e-64, -1.680779133062235e-68], '41522.0': [9983066.388055058, -80.02424634132426, -0.0023420050116037022, -2.565331854767346e-08, -1.551379533810339e-13, 4.2771662555815464e-19, 2.867135737061555e-23, 5.058274155852656e-28, 6.086998634146863e-33, 5.009748336965115e-38, 1.0736473762278882e-43, -5.666220429532793e-48, -1.3592244404678118e-52, -1.7982600939037588e-57, -8.938218248447128e-63, 3.219460454117087e-67], '58210.0': [-1571833.9729508855, 9.01995421743709, 0.00018771028216466222, 1.4647360076322905e-09, 6.310534997976845e-15, -1.2455189329489095e-20, -5.955317756699335e-25, -7.486282422307059e-30, -6.422807283187796e-35, -3.7635079207454425e-40, -5.735872222284049e-46, 2.170972529161936e-50, 3.709938352490614e-55, 3.5008789565529514e-60, 1.2374727756852773e-65, -3.1852995408152415e-70], '50042.0': [15472992.77037754, -101.71412377178623, -0.0024917412344283634, -2.2720599600316863e-08, -1.1423346700022711e-13, 2.448829767520219e-19, 1.4371478303264436e-23, 2.108298179031119e-28, 2.1135609096780943e-33, 1.4437324822027518e-38, 2.7123432472873424e-44, -1.1123872241873387e-48, -2.22143534353031e-53, -2.4472262456931926e-58, -1.0108091827353605e-63, 3.001679999338487e-68], '52424.0': [-2978570.1288252673, 20.49148315125139, 0.00045150706510417414, 3.841498839048318e-09, 1.7473694182665676e-14, -5.567024174482343e-20, -2.308720204682201e-24, -3.130511631929286e-29, -2.931771260871377e-34, -1.8469826836275976e-39, -2.149370411887321e-45, 1.4825230393607628e-49, 2.701375418157797e-54, 2.78220505627193e-59, 1.0394762694839246e-64, -3.2123424291819864e-69], '57664.0': [-7797517.988554568, 44.24257106870163, 0.0009415375399899704, 7.451227649055379e-09, 3.2815016689821767e-14, -5.84268960165646e-20, -3.0553535860866435e-24, -3.9077796792413097e-29, -3.4006791473261896e-34, -2.025574011772662e-39, -3.3399363851145993e-45, 1.1558491103017587e-49, 2.0160476219878043e-54, 1.9299114109026216e-59, 6.962462386705227e-65, -1.7775709870478636e-69], '40038.0': [-2313189.095937525, 19.52345616729498, 0.0005874380618656093, 6.6415890212035166e-09, 4.125837270006242e-14, -1.277682331720719e-19, -8.421242504887989e-24, -1.5300478021380069e-28, -1.9033126095108905e-33, -1.6121387042520206e-38, -3.3497406532260626e-44, 2.012895967550765e-48, 4.960568243861076e-53, 6.782164152817234e-58, 3.449228597808307e-63, -1.3123245194713138e-67], '45392.0': [-3329353.648180641, 23.838294482672524, 0.0006468806825601053, 6.51522527915336e-09, 3.657298569406705e-14, -7.976006671300278e-20, -5.436887749390648e-24, -8.853175453376285e-29, -9.803487758538995e-34, -7.435730270393386e-39, -1.5927714261503205e-44, 6.772830870059505e-49, 1.506696792349657e-53, 1.8343872783015452e-58, 8.441192574719101e-64, -2.7195006309262674e-68], '49220.0': [-1724625.2119833843, 11.4433372908273, 0.00028553251824475534, 2.6493651226669557e-09, 1.3685355589355235e-14, -2.822146868326284e-20, -1.742508617180247e-24, -2.611701555870132e-29, -2.6651650593415113e-34, -1.8612789390903994e-39, -3.6249420835518325e-45, 1.4513597723942723e-49, 2.9696498367995824e-54, 3.332078448653111e-59, 1.4105503154511418e-64, -4.2065948749001805e-69], '50472.0': [-1523863.488024221, 9.857636226872813, 0.00023994879994987492, 2.171416827212813e-09, 1.0935343515320352e-14, -2.194842715928383e-20, -1.3240078330544081e-24, -1.9356878371165868e-29, -1.926294716519164e-34, -1.3118458416104304e-39, -2.502969850455665e-45, 9.721093306073928e-50, 1.9412241211155485e-54, 2.1242973445317644e-59, 8.776836032184416e-65, -2.550168615345727e-69], '44610.0': [-201046.54496740823, 1.4741287125362683, 4.056836997041942e-05, 4.153812185543731e-10, 2.3694559996514883e-15, -5.325723606398809e-21, -3.6616701850533996e-25, -6.062894246239018e-30, -6.830956071378965e-35, -5.2763663286634545e-40, -1.1613981571552467e-45, 4.9508302658566135e-50, 1.1225499520795614e-54, 1.3923997351502289e-59, 6.542451581187946e-65, -2.1296005258915037e-69], '59148.0': [-1243441.0116774426, 6.858181763749611, 0.00014256955469196412, 1.1014175519095662e-09, 4.738249560063109e-15, -8.077312870106536e-21, -4.166273689757205e-25, -5.204313309400633e-30, -4.4204112112642736e-35, -2.5736656687744808e-40, -4.207797603879e-46, 1.3838440232114304e-50, 2.3596307004520166e-55, 2.205961062708699e-60, 7.782761989987562e-66, -1.9260043484265263e-70], '46954.0': [-338460.8594159047, 2.3391451111423107, 6.144842609977733e-05, 5.989222582149497e-10, 3.2576702620714035e-15, -6.7105516083957166e-21, -4.49682732135169e-25, -7.091692696470667e-30, -7.602900504413339e-35, -5.589989789796875e-40, -1.1868950423476538e-45, 4.701175421461786e-50, 1.0155671521641426e-54, 1.1980252972219943e-59, 5.3583121138528915e-65, -1.652750947912809e-69], '49456.0': [-314528.35467355174, 2.0665938352142477, 5.150255272055218e-05, 4.764330645236581e-10, 2.461057150896896e-15, -4.8219058880412314e-21, -3.0643252835248337e-25, -4.587543551036727e-30, -4.67001410693631e-35, -3.259684703908109e-40, -6.5671784982703024e-46, 2.4693948312571857e-50, 5.067378615644243e-55, 5.676749517073422e-60, 2.4109566282396617e-65, -7.0556483883501e-70], '53910.0': [-4617611.53749925, 27.46234753695665, 0.0006331793374088917, 5.3573245064788695e-09, 2.5573811046965582e-14, -4.1180576041541725e-20, -2.6213851659577364e-24, -3.6360766228286647e-29, -3.418437426003255e-34, -2.200566019796545e-39, -4.152800434847617e-45, 1.3742310533839963e-49, 2.606755087027909e-54, 2.6861793972618444e-59, 1.0651819562010495e-64, -2.8142642119785175e-69], '51488.0': [-5677149.535151618, 35.834577251332945, 0.0008574753669212973, 7.614084113257e-09, 3.768310396663317e-14, -7.246959125953076e-20, -4.35492150893925e-24, -6.251252697735588e-29, -6.103570073020962e-34, -4.082151544477108e-39, -7.721216504086708e-45, 2.8915496562387543e-49, 5.66748075276735e-54, 6.086258579784631e-59, 2.469126921615225e-64, -7.013341317755253e-69], '46330.0': [3327360.7010065895, -22.83096003276728, -0.000615271452323551, -6.104699278049097e-09, -3.412175479162254e-14, 6.323319903504215e-20, 4.687659540476002e-24, 7.531163849411984e-29, 8.214168474403493e-34, 6.174583796334999e-39, 1.4153211557514313e-44, -5.1610028688438416e-49, -1.1481162412378307e-53, -1.3792204216799713e-58, -6.332075093267529e-64, 1.9437040725186513e-68], '53478.0': [-5603636.168542463, 35.332589767749596, 0.0007949202990265167, 6.742794643521545e-09, 3.1571049102949016e-14, -7.090646593689573e-20, -3.569527932501215e-24, -4.8754480090732056e-29, -4.550934284792815e-34, -2.8736995012259488e-39, -4.576756155106627e-45, 1.9959166817080168e-49, 3.7053298489087933e-54, 3.808130672635411e-59, 1.4553709701348752e-64, -4.119449933731515e-69], '41718.0': [-2395446.9372393605, 18.624087212739653, 0.0005505464882320642, 6.035707985733307e-09, 3.6901180329085325e-14, -8.653324401492051e-20, -6.474129018931501e-24, -1.1478110502008734e-28, -1.3835044619112264e-33, -1.1425089339427911e-38, -2.6806933201066543e-44, 1.2279968650221351e-48, 2.9756307865075636e-53, 3.944037197737706e-58, 1.9766704968130178e-63, -6.9156993468186734e-68], '58758.0': [6300714.541624637, -37.70780149621158, -0.0007475107221752924, -5.693470666255801e-09, -2.3993633544711522e-14, 5.812990846267206e-20, 2.3412783160396335e-24, 2.889061641999741e-29, 2.4378006082545336e-34, 1.4021818695865667e-39, 1.7166744901808984e-45, -8.419063851026152e-50, -1.3889174639256533e-54, -1.2840687972612735e-59, -4.4391332322924905e-65, 1.168927903522452e-69], '40624.0': [-973168.7726128583, 7.794456911211456, 0.0002361595262370651, 2.6571664469318373e-09, 1.665293219850865e-14, -4.083202613319272e-20, -3.0949314683753968e-24, -5.628575479180532e-29, -6.962112120589524e-34, -5.898756584922844e-39, -1.4105732684031114e-44, 6.711297820964228e-49, 1.667571872578583e-53, 2.2683098456404066e-58, 1.1657746218214261e-63, -4.196909401316802e-68], '41250.0': [-2336870.9585585063, 19.16103627542179, 0.0005587089700204042, 6.1287225326782266e-09, 3.6991750365677535e-14, -1.1087285636523931e-19, -7.098371028135985e-24, -1.2532670017091315e-28, -1.5131512190197181e-33, -1.2442297800572095e-38, -2.5355657434723e-44, 1.4610672005747322e-48, 3.4984091731077603e-53, 4.6444524082126406e-58, 2.3024885042009055e-63, -8.469953519784697e-68], '50706.0': [-322477.9530984993, 2.0705033292112165, 5.027615788328426e-05, 4.5343983872803925e-10, 2.2809822386700577e-15, -4.411445294683652e-21, -2.710447237157483e-25, -3.9561542836782214e-30, -3.925516168318035e-35, -2.6709636272243967e-40, -5.221382815248398e-46, 1.9310464570022873e-50, 3.859226420641971e-55, 4.214140426259695e-60, 1.7450165331090477e-65, -4.9869124868059683e-70], '56646.0': [-1605118.1478623606, 9.26092133086046, 0.00020071116421762004, 1.6181885084755268e-09, 7.262737117323955e-15, -1.3006803987569898e-20, -6.985484380889835e-25, -9.099417660670315e-30, -8.068125848577167e-35, -4.8963822179655526e-40, -8.306791877249052e-46, 2.8817301886369913e-50, 5.1257791261565105e-55, 4.999767319360436e-60, 1.8395634127455284e-65, -4.764640903224997e-70], '55396.0': [-1791225.5334576508, 10.566929396725822, 0.00023423243846034766, 1.9311663063188155e-09, 8.858231747742469e-15, -1.626264367664616e-20, -8.914439931419005e-25, -1.1873182433145119e-29, -1.0763848681023198e-34, -6.679694927725659e-40, -1.1572922840182731e-45, 4.1149897801512837e-50, 7.479580472275885e-55, 7.458442601315714e-60, 2.804626261216249e-65, -7.434017214033881e-70], '52034.0': [-579917.5333671266, 3.6990353985032427, 8.64616499721091e-05, 7.560943921589058e-10, 3.660981635891099e-15, -7.744946469652488e-21, -4.2716296026851045e-25, -6.024418321953652e-30, -5.794827450836698e-35, -3.8092491731972446e-40, -6.717366163371093e-46, 2.712349630969868e-50, 5.2094630459618064e-55, 5.512285204494341e-60, 2.1939452400917095e-65, -6.252379300446067e-70], '42656.0': [2382336.725219471, -17.641697184504597, -0.0005187859316859675, -5.597835701263502e-09, -3.408133092911809e-14, 6.444419150317703e-20, 5.469010517965705e-24, 9.596315360323961e-29, 1.1397996895002237e-33, 9.321168474044597e-39, 2.337324365636274e-44, -9.107287467391462e-49, -2.2054540844544443e-53, -2.8826251008838238e-58, -1.438865758355558e-63, 4.77955426192566e-68], '57038.0': [-2602014.7720203022, 15.294568752265315, 0.0003240923757783952, 2.5781394467445076e-09, 1.1313524800201621e-14, -2.3306983420617992e-20, -1.1191763742997556e-24, -1.432822253635037e-29, -1.254072786203249e-34, -7.48167383629649e-40, -1.1427455625110322e-45, 4.533064338501869e-50, 7.87727103169468e-55, 7.577398770806017e-60, 2.7231546760936646e-65, -7.194141119031736e-70], '47696.0': [9910368.225649942, -69.81444342222663, -0.0017709827340231792, -1.6809544732563128e-08, -8.814903468745394e-14, 2.235407065417429e-19, 1.253304180565152e-23, 1.9184422555240262e-28, 2.005894170731466e-33, 1.4324974786447626e-38, 2.568636402472308e-44, -1.2480157908929798e-48, -2.590627532297357e-53, -2.972742584042143e-58, -1.281117860407166e-63, 4.0532793127039175e-68], '43906.0': [7197704.274915845, -53.79158884863427, -0.0015006934315673292, -1.5597014476539077e-08, -8.982560397950313e-14, 2.1187480205344766e-19, 1.4498526995630373e-23, 2.4378329155997305e-28, 2.7848496924662946e-33, 2.1762346466149696e-38, 4.697760985819379e-44, -2.1447219817608022e-48, -4.915846224758939e-53, -6.1918638847595075e-58, -2.9342811354042643e-63, 9.839129693161686e-68], '57820.0': [-2615726.161605754, 14.805652350508275, 0.0003141568026606527, 2.4803263090126695e-09, 1.0893894825916407e-14, -1.9355112255523394e-20, -1.0085862323138143e-24, -1.286456276166255e-29, -1.1169536813912778e-34, -6.635323248340055e-40, -1.0936643805776799e-45, 3.764305254646344e-50, 6.548069221801992e-55, 6.250579811392807e-60, 2.2488925109253836e-65, -5.7239752922877644e-70], '54886.0': [239906.37725502704, 0.2437674440848149, -1.787233148775429e-05, -2.2800068457138904e-10, -1.9329283827824677e-15, -1.2148226618619664e-20, -4.3775519085657706e-26, 2.1391916822958254e-31, 6.575924167701188e-36, 8.637657855089097e-41, 8.518987179880978e-46, 6.65849478617562e-51, 3.6648458484797545e-56, 1.8710656413408626e-62, -3.094215940889319e-66, -5.552213750143454e-71], '54614.0': [-2936096.2183233863, 18.05625160609684, 0.0003990593131517901, 3.3149174441731764e-09, 1.516475594427294e-14, -3.291563806341275e-20, -1.6419300216783724e-24, -2.1939345968774226e-29, -2.003169748122809e-34, -1.2471885666059795e-39, -1.9831498976222928e-45, 8.269899626789508e-50, 1.4991368469949308e-54, 1.5054653790325619e-59, 5.646436853883892e-65, -1.5602553440491719e-69], '44140.0': [-3097157.1331047644, 22.714117610082265, 0.0006353864870868902, 6.587325427742068e-09, 3.812107202658836e-14, -8.349414065116393e-20, -5.954300982459257e-24, -9.985876734229242e-29, -1.1383083578249888e-33, -8.88995580161413e-39, -1.98324757832451e-44, 8.510316363641565e-49, 1.9512975920147348e-53, 2.4458665070542968e-58, 1.1595764379272003e-63, -3.828275757191335e-68], '41640.0': [-671628.3300251105, 4.607242548602369, 0.00014803591750977088, 1.6777585187998416e-09, 1.1012167655115384e-14, -8.360688434852104e-21, -1.5890456757915189e-24, -2.976661269760292e-29, -3.7165067074371785e-34, -3.2244897909238236e-39, -1.0552281455152718e-44, 2.782109844181954e-49, 7.42791750395911e-54, 1.0227113409290443e-58, 5.545202671181832e-64, -1.7098609149241298e-68], '44100.0': [-1644950.4669532648, 11.585322434308837, 0.0003330973095592325, 3.49675400026307e-09, 2.071755387901774e-14, -3.4876608638624723e-20, -3.0363367839250963e-24, -5.188210143036032e-29, -5.988698590586905e-34, -4.7507398255451656e-39, -1.205289191294422e-44, 4.251543234948252e-49, 1.0042314402847315e-53, 1.2766715447484196e-58, 6.212694746562665e-64, -1.9701063058606474e-68], '54926.0': [16492332.888534399, -98.57596646774223, -0.002200259713342901, -1.8274725072028987e-08, -8.383931559195671e-14, 1.5927295763209369e-19, 8.69597807703191e-24, 1.163054311121862e-28, 1.0692093370498808e-33, 6.6773378948201e-39, 1.1456159158003679e-44, -4.233397315992014e-49, -7.711697949238014e-54, -7.710782923963614e-59, -2.9422811926680045e-64, 7.872053525989564e-69], '42186.0': [-173713.76181283806, 1.3548647472657103, 3.927886276678109e-05, 4.247404007661679e-10, 2.5527440184142695e-15, -6.281179574188053e-21, -4.452004537810985e-25, -7.777215456838101e-30, -9.252434074609273e-35, -7.540440473113575e-40, -1.7223115645322276e-45, 7.98339638006119e-50, 1.9075890338656287e-54, 2.498021250031104e-59, 1.2369991834874589e-64, -4.2807133008483514e-69], '54300.0': [-605695.7630999816, 3.6272241513612857, 8.228761884167667e-05, 6.932434446622181e-10, 3.2554053917517085e-15, -5.881467198064921e-21, -3.37568404822247e-25, -4.597377313089326e-30, -4.2600665358611293e-35, -2.7061163432446125e-40, -4.9046473801154824e-46, 1.7113691259089862e-50, 3.1897849060620876e-55, 3.2506039893383483e-60, 1.2544437384524058e-65, -3.359666392266496e-70], '42812.0': [4656784.517166058, -37.03394406387695, -0.0010351177470240447, -1.0926689270422621e-08, -6.317641586448863e-14, 1.859430924750209e-19, 1.1377167763561153e-23, 1.9344725486414234e-28, 2.2390822318578047e-33, 1.775636156076217e-38, 3.409651866813783e-44, -1.955913349786269e-48, -4.477769643067158e-53, -5.720983702382753e-58, -2.723315501748332e-63, 9.703788581553085e-68], '54692.0': [-5476244.809567513, 33.618533897695585, 0.0007463605611200027, 6.1395688595814685e-09, 2.8170587917802975e-14, -6.193601763777722e-20, -3.0624436066944886e-24, -4.060750096582346e-29, -3.70361186594105e-34, -2.302575534316318e-39, -3.5797233826675937e-45, 1.5338227106776923e-49, 2.76220663719516e-54, 2.777338523192551e-59, 1.0253311901047775e-64, -2.864758202841953e-69], '48360.0': [-430849.50851009507, 2.9583467921498823, 7.438748106453539e-05, 6.999020474021769e-10, 3.644849137174437e-15, -8.329966417986008e-21, -4.926834135680066e-25, -7.473331868385568e-30, -7.733066545317307e-35, -5.469935608655837e-40, -1.0396442003781893e-45, 4.509016343159736e-50, 9.31893867071092e-55, 1.0607178486691734e-59, 4.540453138944227e-65, -1.3923765151578145e-69], '49612.0': [-624627.6915000306, 4.197397639538275, 0.00010261759624986056, 9.399640578965217e-10, 4.760000151040575e-15, -1.0865884371623086e-20, -6.157097112116863e-25, -9.088728384016669e-30, -9.156967103641503e-35, -6.299575152780509e-40, -1.143454776680612e-45, 4.977579132090103e-50, 9.994541199044709e-55, 1.107714614515758e-59, 4.604318274981701e-65, -1.3847395652969307e-69], '53948.0': [-6718634.085319135, 40.48261357229807, 0.000923657397702897, 7.843625769036608e-09, 3.71666589957321e-14, -6.668359901872229e-20, -3.901916656702394e-24, -5.351975834622461e-29, -4.987617805921431e-34, -3.196893326200784e-39, -5.90104817045686e-45, 2.0649993910670664e-49, 3.853468521438695e-54, 3.9480220447165512e-59, 1.5317620247344876e-64, -4.1485796988339606e-69], '53440.0': [-3743782.631236319, 23.674060391466462, 0.0005315834255560205, 4.510476614017039e-09, 2.0991056101004845e-14, -4.704538720313013e-20, -2.3813318066394673e-24, -3.2708740518495463e-29, -3.0491213219757216e-34, -1.9438765819505106e-39, -3.032578473637745e-45, 1.3506151663089208e-49, 2.4899755121507677e-54, 2.553167414044602e-59, 9.828316729246797e-65, -2.7731851949241984e-69], '44922.0': [-3252700.3171549193, 24.418104701227012, 0.0006551647134293877, 6.614530351388135e-09, 3.6671281935262647e-14, -9.940883766322844e-20, -5.921459544879306e-24, -9.600995475659514e-29, -1.0645913988504387e-33, -8.062391955849724e-39, -1.508983962877731e-44, 7.949681498378102e-49, 1.7506321257558208e-53, 2.1330102907858403e-58, 9.700111954330586e-64, -3.277713492193712e-68], '47736.0': [2630379.28274072, -19.380770056298207, -0.0004763854810580887, -4.4681598802390005e-09, -2.28139630425074e-14, 7.025533985749598e-20, 3.474995592893855e-24, 5.232528744245151e-29, 5.384755832239577e-34, 3.773729224059197e-39, 5.748370291328164e-45, -3.5084435292749826e-49, -7.115467751547656e-54, -8.111691868887763e-59, -3.3743554664211804e-64, 1.1163635881392522e-68], '48868.0': [19413747.71219067, -131.83488931061765, -0.003290122096801005, -3.064285969461748e-08, -1.5724102940530644e-13, 3.668739665473404e-19, 2.0954813283453502e-23, 3.147912399467946e-28, 3.2258262605532345e-33, 2.245215698393994e-38, 4.1529720975780957e-44, -1.8442461222195412e-48, -3.743775088569135e-53, -4.2140958163899175e-58, -1.771556248512524e-63, 5.439613776087966e-68], '53596.0': [-10780983.879553152, 68.33138024083901, 0.001530100228971476, 1.2868578282467423e-08, 5.98236839174717e-14, -1.3874480162770175e-19, -6.826517491130645e-24, -9.300161399506402e-29, -8.620009666307869e-34, -5.4587391478241304e-39, -8.420542065722455e-45, 3.84951823107448e-49, 7.019900322336029e-54, 7.132933735891723e-59, 2.7093521163837048e-64, -7.732578954284228e-69], '57428.0': [37103242.28871596, -214.8894053479872, -0.004540945360914807, -3.613620009080246e-08, -1.5722439704953077e-13, 3.1292576908203597e-19, 1.519262023633209e-23, 1.9398713827161254e-28, 1.690789514530041e-33, 1.0027378519398753e-38, 1.578235256500205e-44, -5.933645154177184e-49, -1.0297810929643789e-53, -9.85317881589812e-59, -3.550550634880403e-64, 9.222952568019447e-69], '58560.0': [213107.2868145356, 0.7245244513715361, -9.81349649358421e-06, -1.5616688874124174e-10, -1.5023902880251866e-15, -1.1287417147881994e-20, -6.501933492552088e-26, -1.9411113894343865e-31, 1.690908520443358e-36, 4.0758729606956037e-41, 5.145978384604668e-46, 4.988072049827681e-51, 3.7759995382187204e-56, 1.7239594054746216e-61, -9.446500456342933e-67, -4.016577843460869e-71], '57624.0': [-8867148.9010523, 50.15448010249686, 0.0010697311190242232, 8.508369077537817e-09, 3.750215978560837e-14, -6.54441893712949e-20, -3.473176577940038e-24, -4.4575033325116946e-29, -3.893275994480323e-34, -2.3259545237535565e-39, -3.8853569554905816e-45, 1.3219267099182356e-49, 2.3082985003003248e-54, 2.215966542886277e-59, 7.976799255347198e-65, -2.03853356098282e-69], '41562.0': [6986978.281665636, -56.582843132335434, -0.0016400203313006148, -1.7907913408107587e-08, -1.0738600473958692e-13, 3.070816649282151e-19, 2.0111255021920647e-23, 3.540375735081988e-28, 4.247910011984466e-33, 3.4706348891085983e-38, 7.180514936708574e-44, -3.9745115207335794e-48, -9.4778206002286e-53, -1.2535627025366444e-57, -6.17009165110568e-63, 2.243022366622659e-67], '58992.0': [-4276168.241171431, 23.748910601744225, 0.000493410041511762, 3.81957759726963e-09, 1.642468101651362e-14, -2.8785259657371794e-20, -1.4637564345908152e-24, -1.8288892575217782e-29, -1.5559823052359244e-34, -9.052785686435573e-40, -1.457848839192825e-45, 4.943132613160542e-50, 8.423388092634685e-55, 7.883758103498767e-60, 2.7800974802595866e-65, -6.939690477565128e-70], '43944.0': [12208032.255043281, -92.0593012529584, -0.0025522977805985097, -2.6448539908495484e-08, -1.5167567900108294e-13, 3.848261382631786e-19, 2.482388713093075e-23, 4.148638871236301e-28, 4.7209381396587103e-33, 3.6724400569435773e-38, 7.629259936412116e-44, -3.690362700387066e-48, -8.380528268109586e-53, -1.0492353456332386e-57, -4.917938981776699e-63, 1.6722023328709998e-67], '43280.0': [-243552.67993916405, 1.8241750301203934, 5.202042402469581e-05, 5.501945777803059e-10, 3.2495923961178463e-15, -7.18199235497432e-21, -5.266658934024704e-25, -9.016483053654462e-30, -1.0490637305866298e-34, -8.372778904631082e-40, -1.9411345833737172e-45, 8.258802384862024e-50, 1.937985824078582e-54, 2.4815117677770303e-59, 1.205541514111856e-64, -4.0243719692761283e-69], '42460.0': [-2300748.9423683216, 18.30197266051364, 0.0005186339996938978, 5.5371665816955415e-09, 3.2534235379478764e-14, -9.391069188987585e-20, -5.8790957719898445e-24, -1.0080575511136609e-28, -1.1816146117802026e-33, -9.434762676870915e-39, -1.892595637282031e-44, 1.04782414523938e-48, 2.4329281426654516e-53, 3.137928367362042e-58, 1.504990835573615e-63, -5.3936698919538735e-68], '50394.0': [-2779204.5701224874, 18.016177173859496, 0.0004391142613741808, 3.9789242942201485e-09, 2.0055948608957095e-14, -4.063500299273759e-20, -2.439591659829125e-24, -3.5709929210506034e-29, -3.558175631754552e-34, -2.425965124669659e-39, -4.607000447134704e-45, 1.8080570390234788e-49, 3.6108302373876724e-54, 3.956548904454865e-59, 1.6348716963326643e-64, -4.76740089314029e-69], '53518.0': [-7959005.410137466, 50.32434119180425, 0.0011270333058724029, 9.572644080624887e-09, 4.4272917364186645e-14, -9.94560443654563e-20, -5.0422700433485674e-24, -6.923067455327674e-29, -6.406930930856123e-34, -4.059361458648505e-39, -6.342042550427172e-45, 2.823058827021267e-49, 5.234955133776285e-54, 5.3439779355803585e-59, 2.034933152250835e-64, -5.784650625560352e-69], '49690.0': [-1511729.5706175575, 10.212275515019613, 0.0002482073897206304, 2.2656961686757776e-09, 1.1393840387810787e-14, -2.7125103240256263e-20, -1.4886008467027438e-24, -2.1872335672539867e-29, -2.19519387449728e-34, -1.5030116071085003e-39, -2.6302347531033572e-45, 1.2017672134470615e-49, 2.3955198257052347e-54, 2.643918442422004e-59, 1.0905660693515617e-64, -3.308377760327982e-69], '42264.0': [-332988.2718015323, 2.631586227903489, 7.543317928811979e-05, 8.106492219405056e-10, 4.812565138431497e-15, -1.3008438537191437e-20, -8.599025294791804e-25, -1.4888352737005812e-29, -1.7602694425962935e-34, -1.420851359746556e-39, -3.0173867728240817e-45, 1.5488357458797524e-49, 3.647610697415489e-54, 4.742900300019731e-59, 2.313881671008217e-64, -8.168710209818427e-69], '50316.0': [-4523888.08101958, 29.341502122497072, 0.0007164795687801437, 6.504413123932786e-09, 3.286820768165109e-14, -6.614894670694655e-20, -4.001838954911421e-24, -5.870845234520459e-29, -5.858964031962204e-34, -4.0029060045924984e-39, -7.634661582184477e-45, 2.987406196775428e-49, 5.979904910392352e-54, 6.562134489931472e-59, 2.717923764995686e-64, -7.930262771515282e-69], '42578.0': [-4192308.5545459623, 33.66040615814726, 0.0009433220351831223, 1.0012407540729869e-08, 5.821884172822087e-14, -1.7668933188309017e-19, -1.0669063401068728e-23, -1.814823936264819e-28, -2.114104901309204e-33, -1.6815085540862873e-38, -3.1879154372112134e-44, 1.887427667087582e-48, 4.338719186856267e-53, 5.562893478721453e-58, 2.6500959111324744e-63, -9.55936391834204e-68], '51448.0': [-2822686.2648950987, 17.097659124510717, 0.0004207410708729286, 3.782253275007846e-09, 1.9255216594739154e-14, -2.7724804504818195e-20, -2.08404546778144e-24, -3.049288064901289e-29, -3.010389359258886e-34, -2.0459453242452208e-39, -4.4034418492894275e-45, 1.3640227732133004e-49, 2.733175505831375e-54, 2.973011846760551e-59, 1.2375641573293698e-64, -3.3810125245896907e-69], '57586.0': [-6370933.248101501, 35.97501768824823, 0.0007642027687923944, 6.0685108960961865e-09, 2.7017799630568975e-14, -4.463053692354216e-20, -2.4446786702701794e-24, -3.152371970945748e-29, -2.789204194311929e-34, -1.6643463397905693e-39, -3.0616588713419104e-45, 9.247008091336777e-50, 1.6404419928954616e-54, 1.5785680586003606e-59, 5.8317577653495595e-65, -1.4515039195590868e-69], '50004.0': [4388006.041433242, -27.955619525269064, -0.0006962524149549876, -6.424516917138654e-09, -3.2973409835960984e-14, 5.677813271215505e-20, 3.915743284729883e-24, 5.840293747330507e-29, 5.889766582103249e-34, 4.104109337827253e-39, 8.752027009744647e-45, -2.9624117158440562e-49, -6.094480370935786e-54, -6.739183453697153e-59, -2.8851265731247628e-64, 8.192238629193224e-69], '58404.0': [-10311930.050977323, 59.174758008673926, 0.0012283894327307936, 9.566390933493258e-09, 4.040999421102095e-14, -8.045930474766441e-20, -3.871854333774009e-24, -4.844672123956468e-29, -4.1417319793036016e-34, -2.4096684176434562e-39, -3.587748550903446e-45, 1.4005721659120187e-49, 2.3759826387005452e-54, 2.234955335656604e-59, 7.798300864204616e-65, -2.0255307292269682e-69], '59304.0': [-610342.8218564002, 3.366123791976519, 6.968343229779373e-05, 5.367565078910285e-10, 2.300783999141591e-15, -3.918692379705729e-21, -2.0178387365025493e-25, -2.5114197815142362e-30, -2.1277000070696564e-35, -1.235258173106527e-40, -2.0199584696828438e-46, 6.59786630997885e-51, 1.1232049692607337e-55, 1.0470935494877276e-60, 3.691154021212112e-66, -9.086615438043536e-71], '49534.0': [-326871.1257178114, 2.1684919035879777, 5.3586597120954934e-05, 4.93577953214412e-10, 2.527014621344078e-15, -5.2846299082728694e-21, -3.19596283300122e-25, -4.755796813287742e-30, -4.819369769301584e-35, -3.3441959909553055e-40, -6.4733625816220086e-46, 2.5735862849976594e-50, 5.234313457402444e-55, 5.835622337039539e-60, 2.45887171326625e-65, -7.263767426587855e-70], '43670.0': [-2258207.252495018, 17.46073915283231, 0.0004810254267829047, 4.9933770013852205e-09, 2.8479808118869744e-14, -7.920681018096017e-20, -4.857587642633037e-24, -8.121313260276842e-29, -9.270972306560308e-34, -7.19401400486342e-39, -1.4053625429626714e-44, 7.547924734195038e-49, 1.7004105536800734e-53, 2.1365894798460166e-58, 9.981695316800588e-64, -3.470056804411175e-68], '47344.0': [-3065732.992713311, 21.92424458599086, 0.0005553935934350706, 5.304563496709078e-09, 2.796803628676856e-14, -7.119599990557774e-20, -4.0549043859351974e-24, -6.25733914042255e-29, -6.589873022823134e-34, -4.7167264642235886e-39, -8.399709044655985e-45, 4.1970948496380055e-49, 8.747403366382518e-54, 1.0133748612181322e-58, 4.3665669539336994e-64, -1.400096679586861e-68], '51018.0': [-4131822.2761109727, 27.475133839443483, 0.0006434318387790061, 5.705923223881059e-09, 2.8012718814734017e-14, -6.552864358045717e-20, -3.488516995600089e-24, -4.991866718814356e-29, -4.866079929469809e-34, -3.257645733228964e-39, -5.408838114955911e-45, 2.479855129527971e-49, 4.803533700610702e-54, 5.158147197837229e-59, 2.086892427108373e-64, -6.153631158408225e-69], '56490.0': [-5319323.945735391, 30.825229286665152, 0.0006693662029687702, 5.408880616346355e-09, 2.4296191403463802e-14, -4.4444300392039133e-20, -2.359093041270996e-24, -3.079948709315972e-29, -2.7348242810032886e-34, -1.6630052160585853e-39, -2.7961918729839596e-45, 9.8929818729714e-50, 1.761313445092739e-54, 1.7208529629557994e-59, 6.3341019683375096e-65, -1.651645345454773e-69], '48752.0': [-2226435.8122484004, 16.548159725451473, 0.00039174961613801067, 3.5728434991567528e-09, 1.7321988427041256e-14, -6.097237919252865e-20, -2.6879003698941974e-24, -3.910497608958103e-29, -3.91955364326184e-34, -2.652961525344912e-39, -3.199340060890218e-45, 2.4924376204925748e-49, 4.8549014803422436e-54, 5.3631707994146625e-59, 2.138141363908065e-64, -7.17337187952939e-69], '49846.0': [-6105407.87528302, 41.40469242758529, 0.0009992065390248294, 9.06449271337098e-09, 4.5239427041082936e-14, -1.0931395187649812e-19, -5.956451470600936e-24, -8.688396707413245e-29, -8.697868315775504e-34, -5.930456558695056e-39, -9.767072114999138e-45, 4.749980530000165e-49, 9.410477145045858e-54, 1.0340703050581379e-58, 4.2455904581159406e-64, -1.2913884111763423e-68], '52738.0': [-6020779.830308606, 37.225043316641674, 0.0008679322868098926, 7.517803173492686e-09, 3.6264818639542554e-14, -6.93862811929994e-20, -4.0166966998384924e-24, -5.618889110987862e-29, -5.352755555091379e-34, -3.4911102755953355e-39, -6.36742794866727e-45, 2.3682473898695785e-49, 4.525984670850292e-54, 4.740946717008874e-59, 1.873233719319663e-64, -5.213179232471566e-69], '57232.0': [-13569728.222027423, 79.48933282044307, 0.0016854237539630022, 1.3344419872265165e-08, 5.880352381445137e-14, -1.222234364301952e-19, -5.8046097774162e-24, -7.369569571860497e-29, -6.420376782383571e-34, -3.82491178212247e-39, -5.482018262827018e-45, 2.3332228115772823e-49, 3.983390367407687e-54, 3.839337848612948e-59, 1.3597508876588138e-64, -3.6230700148285876e-69], '46486.0': [6441654.4478345085, -47.00937628531295, -0.0012149676699521898, -1.1804413225104608e-08, -6.29894184733765e-14, 1.686594593817453e-19, 9.60022416696346e-24, 1.498569140620784e-28, 1.608741735166175e-33, 1.1711882707171009e-38, 2.0833734007355067e-44, -1.0936851812025203e-48, -2.3061471079397004e-53, -2.712498964972111e-58, -1.1853774024404372e-63, 3.897835664162426e-68], '42772.0': [9477300.826792568, -74.15970261960618, -0.002098116411739574, -2.2293853236536922e-08, -1.3034847111251057e-13, 3.5247037626264807e-19, 2.2962328162298474e-23, 3.91657754252296e-28, 4.570215825576059e-33, 3.632289202615835e-38, 7.503215215624107e-44, -3.919456778335345e-48, -9.085763143695872e-53, -1.1649233854918739e-57, -5.595336163364626e-63, 1.968709696773977e-67], '54222.0': [-1103557.5332550348, 6.639854692404514, 0.00015052688979342953, 1.2687719116444718e-09, 5.9498202142761666e-15, -1.103568656453922e-20, -6.229416974799831e-25, -8.48598752637462e-30, -7.864999263217202e-35, -4.989986727045327e-40, -8.890658789757002e-46, 3.194762520401541e-50, 5.94286284616918e-55, 6.056259007740477e-60, 2.3321529083900092e-65, -6.29458262255074e-70], '51800.0': [-726450.646318143, 4.563897079692672, 0.00010849809453788554, 9.575464628571844e-10, 4.7097775241706684e-15, -8.98849402664059e-21, -5.379442124988219e-25, -7.678140895235027e-30, -7.451112059612319e-35, -4.956375900367565e-40, -9.351420487366377e-46, 3.4579733744986817e-50, 6.746172222551705e-55, 7.20418238835839e-60, 2.908821721454891e-65, -8.190208326075777e-70], '42500.0': [-3244278.880307537, 25.869448406393136, 0.0007298625041979444, 7.795432575676165e-09, 4.550350567687778e-14, -1.344989574404971e-19, -8.249655648294055e-24, -1.4101330891391384e-28, -1.655812158716501e-33, -1.3196563439539703e-38, -2.607012081966226e-44, 1.4661588428848352e-48, 3.3920615348153786e-53, 4.378576619136849e-58, 2.1021286283909567e-63, -7.519490787984214e-68], '40780.0': [-283914.0395754897, 2.2593913434992996, 6.831452353578051e-05, 7.66537806358821e-10, 4.79811487271299e-15, -1.1395949972511164e-20, -8.78641544725243e-25, -1.5949779384892208e-29, -1.968259094128605e-34, -1.6650598449459636e-39, -4.056073810201051e-45, 1.859239811782213e-49, 4.621261064356499e-54, 6.2744110012957875e-59, 3.2280429108436026e-64, -1.1479566687425427e-68], '40858.0': [-165391.4127355134, 1.3121787291100595, 3.964196275679178e-05, 4.4421882202388654e-10, 2.780914055404338e-15, -6.4828874013923704e-21, -5.048730809667539e-25, -9.159492703605484e-30, -1.1291167230286282e-34, -9.554002174540225e-40, -2.360192571272375e-45, 1.0531473267659784e-49, 2.6216785984911825e-54, 3.5581638712814583e-59, 1.834576936164863e-64, -6.465048643782248e-69], '54848.0': [-9507943.789729618, 59.56836767704823, 0.0012929751962755575, 1.0547988054556217e-08, 4.7978596676925577e-14, -1.1297997328209543e-19, -5.280328987668619e-24, -7.007207536616436e-29, -6.339524814903882e-34, -3.9074228105021644e-39, -5.671487711889036e-45, 2.6446839788549688e-49, 4.724514843770245e-54, 4.70109730614574e-59, 1.7481827701903697e-64, -4.879758147756051e-69], '41288.0': [-3196200.5830121394, 26.145759522332362, 0.0007636424106531067, 8.376247234353386e-09, 5.035653109249338e-14, -1.511281949403836e-19, -9.690728418055107e-24, -1.7049324094274062e-28, -2.0584191341059956e-33, -1.6923885074727722e-38, -3.423581009636182e-44, 1.9888603203014415e-48, 4.7493771528926085e-53, 6.2889353107219174e-58, 3.1107251820401325e-63, -1.1460534464801657e-67], '40468.0': [-2223006.701850567, 17.741847051519414, 0.0005420740877885408, 6.133005714623323e-09, 3.874846455206076e-14, -9.144819590402228e-20, -7.17580341039072e-24, -1.31365206290657e-28, -1.6340206057884794e-33, -1.3931012371737478e-38, -3.414364308028813e-44, 1.580797098372114e-48, 3.958669016071937e-53, 5.414151023324103e-58, 2.8035391812230356e-63, -1.0072923740191473e-67], '46290.0': [-3175774.0296762083, 23.975983851281086, 0.0006111502438885972, 5.929347058346208e-09, 3.117564267872343e-14, -9.871784227829208e-20, -5.026779909857525e-24, -7.815407572510239e-29, -8.330253201904422e-34, -6.027989559355003e-39, -9.287376833959427e-45, 5.952977936974505e-49, 1.2412122550911146e-53, 1.4557167849001812e-58, 6.28670098731427e-64, -2.1366480799593657e-68], '50082.0': [21401525.01233175, -142.75914574655545, -0.003448807699844012, -3.127114631366185e-08, -1.5580757199714322e-13, 3.5545128773821137e-19, 1.990329360618065e-23, 2.904440558873464e-28, 2.907247146066071e-33, 1.9831129979624505e-38, 3.580551564806104e-44, -1.535989810353775e-48, -3.0702126070896176e-53, -3.363372612802792e-58, -1.3810411001657588e-63, 4.13326428749342e-68], '58836.0': [-9502205.743341878, 52.65011809366623, 0.0011002259662956618, 8.546222761286456e-09, 3.697285223968319e-14, -6.3098653127197e-20, -3.2873338550944e-24, -4.124138312287928e-29, -3.5210614863868006e-34, -2.059793081079088e-39, -3.366211249348134e-45, 1.1217223530915067e-49, 1.9217476941577073e-54, 1.805003994707645e-59, 6.39612476320638e-65, -1.594674104892561e-69], '50160.0': [8846382.905353492, -59.67193140466186, -0.0014353371101302843, -1.2873770119725779e-08, -6.366144486736223e-14, 1.5533713050869344e-19, 8.336299332590275e-24, 1.2078702738433963e-28, 1.1987876684399565e-33, 8.087264612401447e-39, 1.3837124526040995e-44, -6.447512130605904e-49, -1.272088378349921e-53, -1.3865378421891028e-58, -5.609447180719237e-64, 1.708370875206825e-68], '48048.0': [-1033061.7732021909, 7.010862535318332, 0.0001794007129345141, 1.7059675669672175e-09, 9.0332261869164e-15, -1.8895839827924794e-20, -1.2036206011168003e-24, -1.849900666456844e-29, -1.9343834418974825e-34, -1.3849324127519084e-39, -2.788471324372314e-45, 1.1292227778112319e-49, 2.3707653836667293e-54, 2.7256384832740685e-59, 1.183867892415217e-64, -3.607560284207602e-69], '44218.0': [-2362406.400650866, 17.39914265324599, 0.000484111195962401, 5.002776017415543e-09, 2.878397830265338e-14, -6.520768234045551e-20, -4.5249784822104505e-24, -7.558367185224626e-29, -8.586425462005674e-34, -6.680705770585458e-39, -1.4596075678667e-44, 6.4335479295608975e-49, 1.4671508688255875e-53, 1.832777795491504e-58, 8.646205351297543e-64, -2.8650645229712607e-68], '55474.0': [-960793.7281659765, 5.647722522301996, 0.00012514929411582977, 1.0313006961857345e-09, 4.731412091799184e-15, -8.535727806056481e-21, -4.722419689396205e-25, -6.291753341299543e-30, -5.70034066108174e-35, -3.5376100638703647e-40, -6.210375364604891e-46, 2.157664373808613e-50, 3.929583765018048e-55, 3.915848743017773e-60, 1.4745357689471698e-65, -3.884690524059832e-70], '55786.0': [-1776746.947379327, 10.663096228985147, 0.0002312387789021569, 1.881226262440503e-09, 8.444969140318501e-15, -1.7581106633500823e-20, -8.716104284489612e-25, -1.1417505064277045e-29, -1.021573197127257e-34, -6.235717957235918e-40, -9.858345015635484e-46, 3.938915199276332e-50, 7.005433944672786e-55, 6.894535113631341e-60, 2.5383106646336925e-65, -6.837562332098976e-70], '48986.0': [-904280.8606335607, 5.100164174079797, 0.00014233466253722483, 1.3797593449946885e-09, 7.824071763825012e-15, -2.2689672609074808e-21, -7.69888243416979e-25, -1.2577361657934457e-29, -1.3406102628082964e-34, -1.0049386697579275e-39, -3.010556824200618e-45, 5.84060987459848e-50, 1.3701805643632393e-54, 1.6183947515927559e-59, 7.598449930910737e-65, -1.9224447143075475e-69], '55240.0': [-5696050.820622641, 33.739756372552065, 0.0007492729617652094, 6.191751088502031e-09, 2.846474240169307e-14, -5.286991860674429e-20, -2.88856518696454e-24, -3.853654448789209e-29, -3.5009295776071895e-34, -2.177255151013453e-39, -3.751195679869031e-45, 1.3535295133082728e-49, 2.4641340493760932e-54, 2.462584289587813e-59, 9.270766565957033e-65, -2.47095293971903e-69], '52582.0': [18551539.827566314, -119.01034467619927, -0.002721756853083689, -2.341287245265413e-08, -1.1059894833592308e-13, 2.5738651466060814e-19, 1.2922001628252021e-23, 1.8028449907735764e-28, 1.7136403294802994e-33, 1.104796750312932e-38, 1.8771714547920933e-44, -7.904609293586192e-49, -1.493705454154816e-53, -1.5605998281505649e-58, -6.048245080135253e-64, 1.7417363900356363e-68], '46720.0': [-2061710.1081338988, 14.399751911516626, 0.0003787086952144421, 3.7025132612293533e-09, 2.014926677182877e-14, -4.362505597766802e-20, -2.844386947524186e-24, -4.493602654039655e-29, -4.83105279202598e-34, -3.555183989361486e-39, -7.313724298459439e-45, 3.0745675936471022e-49, 6.629291959340498e-54, 7.835810374964529e-59, 3.4960615013805316e-64, -1.0978786473092474e-68], '56334.0': [-1297259.0481219885, 6.331533909192214, 0.00015389634961665574, 1.2996979896935839e-09, 6.42879798773374e-15, -1.766381006927863e-21, -4.714993180112475e-25, -6.705424392458796e-30, -6.257294587942441e-35, -4.072503812043561e-40, -1.080258893204833e-45, 1.7703220375564185e-50, 3.619257657681624e-55, 3.7237587232848644e-60, 1.535848505352629e-65, -3.335493810449882e-70], '57898.0': [-1388852.3197257647, 7.833892959530704, 0.0001662061327023989, 1.3116256356488573e-09, 5.758130942772006e-15, -1.007140306519731e-20, -5.294319962491718e-25, -6.753094448871676e-30, -5.859539144761583e-35, -3.4804697268251222e-40, -5.794372020907021e-46, 1.957833227647728e-50, 3.4080680565633026e-55, 3.252955630701423e-60, 1.1729270394360915e-65, -2.9667774128328637e-70], '43202.0': [-443022.5298441169, 3.3330813714859335, 9.504171855330736e-05, 1.0060298909095788e-09, 5.938526311662273e-15, -1.3493444898543186e-20, -9.722716816553542e-25, -1.664635839568522e-29, -1.9377339440704797e-34, -1.5458934820665935e-39, -3.519399309501081e-45, 1.5459088110265708e-49, 3.6204009347279634e-54, 4.636174668372681e-59, 2.246919672749778e-64, -7.570563655935355e-69], '55318.0': [-3317026.4066329063, 19.619426020580114, 0.0004352512559120656, 3.5912698294108067e-09, 1.647921598352918e-14, -3.062827792638211e-20, -1.667511746321256e-24, -2.223128959685355e-29, -2.0170687631191667e-34, -1.252021175808584e-39, -2.1517434784601418e-45, 7.760959574940575e-50, 1.4111643574902668e-54, 1.4084132509973101e-59, 5.297321880390425e-65, -1.4092152179828093e-69], '52816.0': [-4037609.841587873, 24.993994970292814, 0.0005809563652802924, 5.021520218474583e-09, 2.4137170463106664e-14, -4.676261302411624e-20, -2.67728376800434e-24, -3.7378453886679666e-29, -3.5527349276966493e-34, -2.310891595209861e-39, -4.173785301873667e-45, 1.5695508829789774e-49, 2.9907052884551936e-54, 3.125655824932206e-59, 1.2322851815101278e-64, -3.430710820979152e-69], '55942.0': [-7672254.394737715, 46.60652805657084, 0.0009948549532552465, 8.02233316238888e-09, 3.581186892569543e-14, -7.693657000819748e-20, -3.7235186347596865e-24, -4.863371539369566e-29, -4.322191832684834e-34, -2.634642410963131e-39, -3.8643029137540483e-45, 1.6762924505470929e-49, 2.9440102123087785e-54, 2.884347189875439e-59, 1.0595124041989584e-64, -2.8611566007473114e-69], '42694.0': [8245412.160254565, -63.54535818317622, -0.0018199877317923953, -1.948697160838537e-08, -1.1537302059398402e-13, 2.863813526901844e-19, 1.9814474147072072e-23, 3.4119616848757277e-28, 4.00752444236662e-33, 3.2158247375671363e-38, 7.033744614428935e-44, -3.3873277133833704e-48, -7.947819907383444e-53, -1.0238311114349655e-57, -4.982322634593753e-63, 1.7271680282695465e-67], '42616.0': [-2282620.7927622674, 18.819438823211666, 0.0005187692814940437, 5.458716409875296e-09, 3.1133186921063753e-14, -1.0833321857921429e-19, -5.964999005665244e-24, -1.0037912897973573e-28, -1.1623268642909956e-33, -9.118429089815213e-39, -1.5319321294970046e-44, 1.0707056662642303e-48, 2.417109220418056e-53, 3.076772335076125e-58, 1.4389489277161852e-63, -5.334139503295201e-68], '48204.0': [-320045.9715397135, 2.154639421318267, 5.5142598010634415e-05, 5.234176807693325e-10, 2.7747832725583622e-15, -5.549664073921502e-21, -3.632524116264691e-25, -5.580939085821567e-30, -5.82859321548939e-35, -4.174848402289293e-40, -8.648065668975804e-46, 3.3274233340945666e-50, 7.00555627525631e-55, 8.051634587723509e-60, 3.5103811688367848e-65, -1.0534922224791676e-69], '56372.0': [-6775797.150461846, 38.79516953146298, 0.0008503308536878588, 6.9221234566611055e-09, 3.1788985452796323e-14, -5.1827531517042727e-20, -3.0074885961732104e-24, -3.957211741773727e-29, -3.533836604530106e-34, -2.1674316530425717e-39, -3.774469850605298e-45, 1.2661915238790425e-49, 2.273411560190494e-54, 2.2320113058124124e-59, 8.381238526038284e-65, -2.1474199234892136e-69], '57742.0': [-4775302.918381092, 27.092873295648566, 0.0005752107790772842, 4.547307539320039e-09, 1.99699953365287e-14, -3.579245060889983e-20, -1.858319383123726e-24, -2.3719200725948076e-29, -2.0618135912564106e-34, -1.2259007153356347e-39, -2.01231297766342e-45, 6.992660437620319e-50, 1.2159403116674621e-54, 1.16218744857255e-59, 4.183313282358599e-65, -1.0678229881139886e-69], '49884.0': [-7791948.7113013845, 52.83284508093323, 0.0012733381733705752, 1.1554160263796183e-08, 5.786719760434052e-14, -1.419660521260282e-19, -7.582742721461173e-24, -1.1053305846997526e-28, -1.1052191652942743e-33, -7.507992811369832e-39, -1.276669184438435e-44, 6.048071378585688e-49, 1.1927513083941014e-53, 1.3131894401956904e-58, 5.379294612494168e-64, -1.636785800629312e-68], '53556.0': [-10221012.213227458, 64.4099708042547, 0.0014474915580712155, 1.2272072270791519e-08, 5.725989204506715e-14, -1.289227359090412e-19, -6.514000346952676e-24, -8.826950057391275e-29, -8.21756071480101e-34, -5.187146821356846e-39, -8.128507677794663e-45, 3.626384524273539e-49, 6.685698286496402e-54, 6.803088424372627e-59, 2.616790280922333e-64, -7.387072903414281e-69], '45938.0': [-467534.6260115013, 3.3961253662533415, 8.961437650414549e-05, 8.863409970021887e-10, 4.843344140294098e-15, -1.1990977877856251e-20, -7.317692859654305e-25, -1.1659931599586301e-29, -1.2684995676156285e-34, -9.422925142135674e-40, -1.8445601295160816e-45, 8.690501577428805e-50, 1.883652324246956e-54, 2.253856669039108e-59, 1.0118237268170235e-64, -3.286421009781654e-69], '43866.0': [617647.7642352345, -3.606201155932478, -0.00011846721330403791, -1.3064432756019434e-09, -8.598136355219738e-15, -2.9984617948320734e-21, 9.39791187436271e-25, 1.7638228307805173e-29, 2.1505115631463496e-34, 1.8453651049199464e-39, 7.186442058452273e-45, -1.1411019160843548e-49, -3.221727789723339e-54, -4.359534458642078e-59, -2.4059440910750853e-64, 6.192324807209262e-69], '47970.0': [-1900693.4909009794, 12.935051721581162, 0.0003312650211264508, 3.154138924812771e-09, 1.6708371417047475e-14, -3.5348483560908864e-20, -2.23936711528151e-24, -3.4455029223266906e-29, -3.606835697995672e-34, -2.584668389894176e-39, -5.1713192857141614e-45, 2.1213740009085797e-49, 4.454578166619352e-54, 5.128747213554171e-59, 2.2273013780959467e-64, -6.815944138444688e-69], '51956.0': [-361286.57224895776, 2.2721279299115222, 5.372729607052704e-05, 4.725143807808097e-10, 2.3137364506911655e-15, -4.465565429233678e-21, -2.6368319561963336e-25, -3.7488010031900475e-30, -3.62653160347621e-35, -2.4040917609128083e-40, -4.525735657130015e-46, 1.6665715412395574e-50, 3.2436661302455652e-55, 3.453320292249739e-60, 1.3913364065078365e-65, -3.8984092002074424e-70], '56960.0': [-1080540.879304482, 6.317456716319841, 0.00013464968785520515, 1.0745190043718814e-09, 4.739415770796919e-15, -9.409225986670972e-21, -4.648074186597194e-25, -5.9760507946244925e-30, -5.246417857699649e-35, -3.147257546113255e-40, -4.97552885534802e-46, 1.8859846695476138e-50, 3.296652111572463e-55, 3.1834393448979153e-60, 1.1525863863682444e-65, -3.019999431149918e-70], '43592.0': [-1195300.7510741393, 9.229804199750705, 0.00025522403541172625, 2.6533080899362514e-09, 1.5184456075437636e-14, -4.180734284362085e-20, -2.589381732364953e-24, -4.3309067223347085e-29, -4.950421600869865e-34, -3.858566232048385e-39, -7.608183792810083e-45, 4.028094527965896e-49, 9.132854039977153e-54, 1.1480879545363158e-58, 5.388299374952585e-64, -1.868466437189256e-68], '41678.0': [-2180376.963901802, 16.711989376255968, 0.0005003233745212076, 5.50838540288573e-09, 3.4044581419719946e-14, -7.425782892880172e-20, -5.853644454197038e-24, -1.0442559164388962e-28, -1.2641670079880168e-33, -1.0518416976410842e-38, -2.573063109586874e-44, 1.1065441334102912e-48, 2.712591421120016e-53, 3.614656080311416e-58, 1.829123355225318e-63, -6.321961431375384e-68], '47814.0': [-4191713.871464801, 28.435096302405782, 0.0007333498474344259, 7.017613769394716e-09, 3.7436996741277094e-14, -7.652065774382291e-20, -4.9983342728280694e-24, -7.735966845750069e-29, -8.136547554231612e-34, -5.8641268050277405e-39, -1.2010901894061027e-44, 4.797567101273253e-49, 1.0144739004445828e-53, 1.1733425966425746e-58, 5.1321838830029776e-64, -1.5665200861040631e-68], '44062.0': [1745550.9324723736, -14.06144510336437, -0.00037291600686075436, -3.776363245278945e-09, -2.0694027058115517e-14, 7.298194298834426e-20, 3.761846155410818e-24, 6.123523220890412e-29, 6.828629812568924e-34, 5.1677226791183794e-39, 7.982106289978363e-45, -5.742258473794603e-49, -1.2492626725015963e-53, -1.5327441437582851e-58, -6.871108304755403e-64, 2.4892766263133868e-68], '58366.0': [-7125224.918887681, 41.16026420735244, 0.0008497719128126518, 6.586515493098216e-09, 2.8066111771975407e-14, -5.694852088199693e-20, -2.7027572557998433e-24, -3.339277789544616e-29, -2.8660624215018757e-34, -1.6565073799371453e-39, -2.5249786336631287e-45, 9.727459892856096e-50, 1.6441916378154515e-54, 1.5480822115855778e-59, 5.44490219038369e-65, -1.4073335417608007e-69], '55630.0': [-475347.140016639, 2.7939626749811994, 6.167655416141447e-05, 5.063558914415114e-10, 2.3161030937775896e-15, -4.1968374483983966e-21, -2.304528964950627e-25, -3.0597318823671656e-30, -2.7643798554513113e-35, -1.7103269347016035e-40, -2.9891966166801183e-46, 1.0368360879394583e-50, 1.882772813613936e-55, 1.8714227119917157e-60, 7.03999369031772e-66, -1.8447845974928018e-70], '52698.0': [-5326083.654328982, 32.560255716985246, 0.000765103828932016, 6.677021507606086e-09, 3.2448486807281064e-14, -5.813385391285829e-20, -3.532110023742304e-24, -4.968757039676098e-29, -4.748850311072313e-34, -3.107429308911585e-39, -6.023719803703115e-45, 2.072665518833949e-49, 4.012722967421422e-54, 4.210336814526216e-59, 1.685937154544795e-64, -4.626964312296577e-69], '53284.0': [-828072.6117415297, 5.177577281836646, 0.00011790850916338146, 1.0058862878176744e-09, 4.741542043982108e-15, -1.0041587219643234e-20, -5.3141261805635345e-25, -7.308198751451213e-30, -6.856179664851513e-35, -4.39389200119407e-40, -7.430171736895774e-46, 3.0079168878489135e-50, 5.624719294426872e-55, 5.804587853775785e-60, 2.2475954367934697e-65, -6.292007903606317e-70], '58638.0': [37644774.549528114, -213.58723542030026, -0.004415921729704445, -3.4381170605232314e-08, -1.4683719460722057e-13, 2.8495357736841964e-19, 1.3545442619689296e-23, 1.7002486295234785e-28, 1.44950206315024e-33, 8.455890657344848e-39, 1.2932527000467603e-44, -4.825998021294038e-49, -8.109235347039401e-54, -7.582941070913886e-59, -2.6667898430296285e-64, 6.808551521721924e-69], '48282.0': [-266089.5995060533, 1.8006003477163413, 4.581706920376412e-05, 4.336877253380952e-10, 2.2859804004782663e-15, -4.730899437164813e-21, -3.0133883499862336e-25, -4.611264457372717e-30, -4.801563319815553e-35, -3.426666676059635e-40, -6.9639648078737445e-46, 2.745104285694556e-50, 5.752030350201153e-55, 6.590893332484316e-60, 2.8607923441064052e-65, -8.609210784468184e-70], '45470.0': [-2225127.661735058, 15.9574530752013, 0.000431385973032157, 4.333603414041134e-09, 2.4247562671606057e-14, -5.3795424797619034e-20, -3.6091399695605155e-24, -5.860258383564372e-29, -6.473057485964633e-34, -4.896022588238781e-39, -1.0361935405739409e-44, 4.465586075524248e-49, 9.896880836150624e-54, 1.202172201956042e-58, 5.512817009510182e-64, -1.7778619559864488e-68], '58444.0': [-15043905.306225961, 86.88946676981148, 0.0017896261142074858, 1.3867886779116488e-08, 5.906307613436685e-14, -1.2349666851856507e-19, -5.637363648298875e-24, -7.023574758734502e-29, -5.986136063455784e-34, -3.475404589688129e-39, -5.026601552205859e-45, 2.0321763599313996e-49, 3.429488893978534e-54, 3.2125859812108366e-59, 1.122072017816263e-64, -2.915692728402389e-69], '59696.0': [-16777375.445269525, 95.11472931576591, 0.0019149128415336095, 1.4519878955432647e-08, 6.04326574387569e-14, -1.2537338315803047e-19, -5.5554148790666984e-24, -6.765880657377769e-29, -5.642184043330053e-34, -3.2026020000547575e-39, -4.49791874000843e-45, 1.8031167026657e-49, 2.9747985203793776e-54, 2.7272918962598902e-59, 9.303701085852417e-65, -2.374253951304601e-69], '48126.0': [-557723.8944162744, 3.7700578620338225, 9.646811011917318e-05, 9.164431433216376e-10, 4.855154341069414e-15, -9.94915259122298e-21, -6.415114293138435e-25, -9.854954763366926e-30, -1.0299377413881195e-34, -7.373140185796029e-40, -1.5026602869161305e-45, 5.948949251149886e-50, 1.2505892949344762e-54, 1.4373276558299688e-59, 6.2506555740356305e-65, -1.892167036884629e-69], '45236.0': [9877274.98380557, -73.65575538339714, -0.0019549566072761286, -1.961615911575391e-08, -1.0810767711061661e-13, 2.853219922346646e-19, 1.7074405401476838e-23, 2.7619258246830335e-28, 3.041984837048867e-33, 2.2903998626119825e-38, 4.415842712537767e-44, -2.2114460116475184e-48, -4.853016317984362e-53, -5.87163244380896e-58, -2.6675414639153146e-63, 8.887826774136993e-68], '40078.0': [-3302754.3448712593, 28.006539380777657, 0.0008371082440437477, 9.441005598526383e-09, 5.838071718714243e-14, -1.8426418411631325e-19, -1.1974284034544638e-23, -2.169304625708525e-28, -2.6905720286778693e-33, -2.2704538595889372e-38, -4.655754081874307e-44, 2.8536388983364784e-48, 6.990908262456131e-53, 9.532193094249209e-58, 4.8316967445434435e-63, -1.843118930193665e-67], '45626.0': [-674961.020568684, 4.816375448794955, 0.0001299006208854596, 1.301351215341255e-09, 7.265832010711271e-15, -1.5817228638047036e-20, -1.0702175458801952e-24, -1.7333378216695061e-29, -1.9095774028754e-34, -1.4408346049925831e-39, -3.0766010692210597e-45, 1.297624800086448e-49, 2.872888595936925e-54, 3.48111018414496e-59, 1.595191615830652e-64, -5.103742169597788e-69], '40428.0': [-1229801.7041358908, 9.418923748683506, 0.0002959494380139455, 3.3934426435375897e-09, 2.1960518810688172e-14, -3.929852449297019e-20, -3.813876936420428e-24, -7.115628927255263e-29, -8.967390251705816e-34, -7.772945749683276e-39, -2.1507040705848446e-44, 8.238768135880787e-49, 2.126056496582772e-53, 2.9456300561296198e-58, 1.5646550940853738e-63, -5.404961085306819e-68], '56176.0': [28000148.409113348, -164.78026546725738, -0.0035825642242416325, -2.899834513159763e-08, -1.3094488848655994e-13, 2.5843704668123166e-19, 1.3054969511445481e-23, 1.6993695504431553e-28, 1.5213001950402015e-33, 9.250535694062011e-39, 1.470899808810226e-44, -5.6420373920090736e-49, -1.0079994057696642e-53, -9.87979725755308e-59, -3.634724907710625e-64, 9.634118776094517e-69], '45704.0': [-368709.83611242496, 2.6195477506967433, 7.06628842123675e-05, 7.07441217442948e-10, 3.9508907778408945e-15, -8.405400554194673e-21, -5.766346509395953e-25, -9.336263296479872e-30, -1.0281353341769676e-34, -7.760914767079009e-40, -1.6828691901578305e-45, 6.9079108227111475e-50, 1.5311914662780917e-54, 1.8547286202568368e-59, 8.51407833544878e-65, -2.7030557652689106e-69], '53050.0': [-664669.1932010519, 4.077207608916443, 9.460908491031522e-05, 8.157344081277084e-10, 3.919492850245235e-15, -7.283002089496594e-21, -4.261448166539353e-25, -5.942746760924752e-30, -5.63434635115082e-35, -3.65928591247299e-40, -6.778558813716376e-46, 2.4303805658206957e-50, 4.6338681942020934e-55, 4.833113243582902e-60, 1.9061157111240146e-65, -5.235361243324193e-70]}\n"
     ]
    }
   ],
   "source": [
    "importlib.reload(precalc)\n",
    "\n",
    "# Initialize an ObjectCoefficients object  \n",
    "OC = precalc.ObjectCoefficients()\n",
    "\n",
    "# Look at the 'coeff_list' variable: it should be an populated now (because of the above cell)\n",
    "print('coeff-list...')#, OC.coeff_list)\n",
    "print('\\t type(OC.coeff_list) = ', type(OC.coeff_list) )\n",
    "print('\\t type(OC.coeff_list[0]) = ', type(OC.coeff_list[0]))\n",
    "print('\\t OC.coeff_list[0][\"x\"] = ', OC.coeff_list[0][\"x\"])\n"
   ]
  },
  {
   "cell_type": "markdown",
   "metadata": {},
   "source": [
    "##### Demonstration of code to read & write HEALPIX coefficients \n",
    "\n",
    "def _generate_HP_from_CoeffDict(self, JDlist, coeff_dict):\n",
    "\n",
    "        '''\n",
    "            This function calculates the HP location of a SINGLE-OBJECT over a series of MANY dates\n",
    "            \n",
    "            inputs:\n",
    "            -------\n",
    "            JDlist: list of integers\n",
    "             - list of integer Julian Days for which calculations should be performed\n",
    "             \n",
    "            coeff_dict: dictionary \n",
    "             - generalized coefficient dictionary \n",
    "             - must contain sufficient information to allow HP to be extracted/calculated\n",
    "             \n",
    "            returns:\n",
    "            --------\n",
    "            HPlist: list\n",
    "             - will be list of integers if coeff-dict properly specified\n",
    "             - in the event of improper specificiation and/or coeff_dict == None, then a list of \"None\" will be returned\n",
    "             - len(HPlist) == len(JDlist)\n",
    "         '''\n"
   ]
  },
  {
   "cell_type": "code",
   "execution_count": 184,
   "metadata": {},
   "outputs": [
    {
     "name": "stdout",
     "output_type": "stream",
     "text": [
      "\n",
      "\t *** WARNING: RANDOM HEALPIX !!! \n",
      " \n",
      "HPlist= [457, 86, 2089, 2262, 22, 429, 96, 2698, 2374, 300]\n",
      "Demonstration: len(JDlist)==len(HPlist)= True\n",
      "Demonstration: np.all([isinstance(_,int) for _ in HPlist])= True\n"
     ]
    }
   ],
   "source": [
    "importlib.reload(precalc)\n",
    "\n",
    "# Initialize an ObjectCoefficients object  \n",
    "OC = precalc.ObjectCoefficients()\n",
    "\n",
    "# Look at the first coeff-dict in the 'coeff_list': \n",
    "# - use this as an imput to the \"_generate_HP_from_CoeffDict\" function\n",
    "coeff_dict = OC.coeff_list[0]\n",
    "JDlist = np.arange(2458000,2458010,1)\n",
    "HPlist = OC._generate_HP_from_CoeffDict(JDlist, coeff_dict)\n",
    "print('HPlist=',HPlist)\n",
    "\n",
    "# Demonstrate that the HPlist is as long as the JDlist and that each entry is an integer\n",
    "print('Demonstration: len(JDlist)==len(HPlist)=', len(JDlist)==len(HPlist))\n",
    "print('Demonstration: np.all([isinstance(_,int) for _ in HPlist])=', np.all([isinstance(_,int) for _ in HPlist]))\n"
   ]
  },
  {
   "cell_type": "code",
   "execution_count": null,
   "metadata": {},
   "outputs": [],
   "source": []
  },
  {
   "cell_type": "code",
   "execution_count": null,
   "metadata": {},
   "outputs": [],
   "source": []
  },
  {
   "cell_type": "code",
   "execution_count": null,
   "metadata": {},
   "outputs": [],
   "source": []
  },
  {
   "cell_type": "markdown",
   "metadata": {},
   "source": [
    "# --------- Intermediate-Level Data Functions ---------------------\n",
    " - 20200122\n",
    " - This is basically the \"PreCalc\" Class \n",
    " - It inherits from the \"ObjectCoefficients\" Class, which itself inherits from the \"Base\", \"HPData\", and \"Names\" Classes\n",
    " - It ... ... ... \n",
    " \n",
    "     '''\n",
    "        Primary External Class for accessing MPChecker2's \n",
    "        pre-calculated data\n",
    "\n",
    "        Methods\n",
    "        -------\n",
    "        \n",
    "        upsert()\n",
    "        \n",
    "    '''\n"
   ]
  },
  {
   "cell_type": "code",
   "execution_count": 154,
   "metadata": {},
   "outputs": [],
   "source": [
    "# Instantiate precalc \n",
    "importlib.reload(precalc)\n",
    "P = precalc.PreCalc() \n"
   ]
  },
  {
   "cell_type": "code",
   "execution_count": 155,
   "metadata": {},
   "outputs": [],
   "source": [
    "# Delete the entire saved-data directory to ensure completely clean ...\n",
    "shutil.rmtree(P._fetch_data_directory())"
   ]
  },
  {
   "cell_type": "code",
   "execution_count": 156,
   "metadata": {},
   "outputs": [
    {
     "name": "stdout",
     "output_type": "stream",
     "text": [
      "\n",
      "\t *** WARNING: RANDOM HEALPIX !!! \n",
      " \n",
      "\n",
      "\t *** WARNING: RANDOM HEALPIX !!! \n",
      " \n"
     ]
    },
    {
     "ename": "NameError",
     "evalue": "name 'HP' is not defined",
     "output_type": "error",
     "traceback": [
      "\u001b[0;31m---------------------------------------------------------------------------\u001b[0m",
      "\u001b[0;31mNameError\u001b[0m                                 Traceback (most recent call last)",
      "\u001b[0;32m<ipython-input-156-e428e0d9ef52>\u001b[0m in \u001b[0;36m<module>\u001b[0;34m()\u001b[0m\n\u001b[1;32m     21\u001b[0m \u001b[0mname\u001b[0m \u001b[0;34m=\u001b[0m \u001b[0mdemo_name_dict\u001b[0m\u001b[0;34m[\u001b[0m\u001b[0;36m1944\u001b[0m\u001b[0;34m]\u001b[0m\u001b[0;34m\u001b[0m\u001b[0m\n\u001b[1;32m     22\u001b[0m \u001b[0mnew_coeff_dict\u001b[0m \u001b[0;34m=\u001b[0m \u001b[0mdemo_coeff_dict\u001b[0m\u001b[0;34m[\u001b[0m\u001b[0mname\u001b[0m\u001b[0;34m]\u001b[0m\u001b[0;34m\u001b[0m\u001b[0m\n\u001b[0;32m---> 23\u001b[0;31m \u001b[0mP\u001b[0m\u001b[0;34m.\u001b[0m\u001b[0mupsert\u001b[0m\u001b[0;34m(\u001b[0m\u001b[0mnew_coeff_dict\u001b[0m\u001b[0;34m)\u001b[0m\u001b[0;34m\u001b[0m\u001b[0m\n\u001b[0m",
      "\u001b[0;32m~/Envs/mpcvenv/mpchecker2/mpchecker2/precalc.py\u001b[0m in \u001b[0;36mupsert\u001b[0;34m(self, new_coeff_dict_variable)\u001b[0m\n\u001b[1;32m    651\u001b[0m \u001b[0;34m\u001b[0m\u001b[0m\n\u001b[1;32m    652\u001b[0m             \u001b[0;31m# update HP data\u001b[0m\u001b[0;34m\u001b[0m\u001b[0;34m\u001b[0m\u001b[0m\n\u001b[0;32m--> 653\u001b[0;31m             \u001b[0mself\u001b[0m\u001b[0;34m.\u001b[0m\u001b[0mupdate_object_HP\u001b[0m\u001b[0;34m(\u001b[0m\u001b[0mnumber\u001b[0m\u001b[0;34m,\u001b[0m \u001b[0mself\u001b[0m\u001b[0;34m.\u001b[0m\u001b[0mJDlist\u001b[0m\u001b[0;34m,\u001b[0m \u001b[0mold_HPlist\u001b[0m\u001b[0;34m,\u001b[0m \u001b[0mnew_HPlist\u001b[0m\u001b[0;34m)\u001b[0m\u001b[0;34m\u001b[0m\u001b[0m\n\u001b[0m\u001b[1;32m    654\u001b[0m \u001b[0;34m\u001b[0m\u001b[0m\n\u001b[1;32m    655\u001b[0m     \u001b[0;32mdef\u001b[0m \u001b[0mget_nightly_precalcs\u001b[0m\u001b[0;34m(\u001b[0m\u001b[0mJD\u001b[0m\u001b[0;34m,\u001b[0m \u001b[0mHPlist\u001b[0m\u001b[0;34m)\u001b[0m\u001b[0;34m:\u001b[0m\u001b[0;34m\u001b[0m\u001b[0m\n",
      "\u001b[0;32m~/Envs/mpcvenv/mpchecker2/mpchecker2/precalc.py\u001b[0m in \u001b[0;36mupdate_object_HP\u001b[0;34m(self, number, JDlist, old_HPlist, new_HPlist)\u001b[0m\n\u001b[1;32m    296\u001b[0m         \u001b[0;31m# update the data for each JD\u001b[0m\u001b[0;34m\u001b[0m\u001b[0;34m\u001b[0m\u001b[0m\n\u001b[1;32m    297\u001b[0m         \u001b[0;32mfor\u001b[0m \u001b[0mJD\u001b[0m\u001b[0;34m,\u001b[0m \u001b[0moldHP\u001b[0m\u001b[0;34m,\u001b[0m \u001b[0mnewHP\u001b[0m \u001b[0;32min\u001b[0m \u001b[0mzip\u001b[0m\u001b[0;34m(\u001b[0m \u001b[0mJDlist\u001b[0m\u001b[0;34m,\u001b[0m \u001b[0mold_HPlist\u001b[0m\u001b[0;34m,\u001b[0m \u001b[0mnew_HPlist\u001b[0m \u001b[0;34m)\u001b[0m\u001b[0;34m:\u001b[0m\u001b[0;34m\u001b[0m\u001b[0m\n\u001b[0;32m--> 298\u001b[0;31m             \u001b[0mself\u001b[0m\u001b[0;34m.\u001b[0m\u001b[0m_update_object_JD\u001b[0m\u001b[0;34m(\u001b[0m\u001b[0mJD\u001b[0m\u001b[0;34m,\u001b[0m \u001b[0mHP\u001b[0m\u001b[0;34m)\u001b[0m\u001b[0;34m\u001b[0m\u001b[0m\n\u001b[0m\u001b[1;32m    299\u001b[0m \u001b[0;34m\u001b[0m\u001b[0m\n\u001b[1;32m    300\u001b[0m \u001b[0;34m\u001b[0m\u001b[0m\n",
      "\u001b[0;31mNameError\u001b[0m: name 'HP' is not defined"
     ]
    }
   ],
   "source": [
    "# upsert \n",
    "'''\n",
    "    Main method used to insert/update coefficients for an object\n",
    "    Also handles the healpix calculations used for efficiency-of-read\n",
    "\n",
    "    Inputs:\n",
    "    -------\n",
    "    coeff_dict: dictionary (or iterable of dictionaries)\n",
    "    - all coefficient data to be saved for an object\n",
    "    - must contain \"name\" as a key\n",
    "    - must contain/enable-calculation-of geocentric-healpix data\n",
    "\n",
    "    Returns:\n",
    "    --------\n",
    "    ????:\n",
    "    -\n",
    "\n",
    "'''\n",
    "\n",
    "# Use upsert to insert a new dictionary of healpix coefficients \n",
    "name = demo_name_dict[1944]\n",
    "new_coeff_dict = demo_coeff_dict[name]\n",
    "P.upsert(new_coeff_dict)\n"
   ]
  },
  {
   "cell_type": "code",
   "execution_count": null,
   "metadata": {},
   "outputs": [],
   "source": []
  },
  {
   "cell_type": "code",
   "execution_count": null,
   "metadata": {},
   "outputs": [],
   "source": [
    "# get_nightly_precalcs(JD, HPlist):\n",
    "'''\n",
    "    Main method used to query the precalculated healpix\n",
    "    For a given JD, finds the object-integers for each HP in a list of HPs\n",
    "\n",
    "    Returns the object-names and coefficient-dictionaries for\n",
    "    the objects present in each healpix on the specified julian date\n",
    "\n",
    "\n",
    "    Note that at present *no* attempt is made to ***ALWAYS RETURN NEOs***\n",
    "    - This needs to be added-to / improved\n",
    "    - We could (perhaps) return everything closer than 0.X au (on a given JD)\n",
    "\n",
    "    inputs\n",
    "    ------\n",
    "    JD: float or int\n",
    "     - julian date of the night. If <float> will be silently converted to <int>\n",
    "\n",
    "    HPlist: list-of-integers \n",
    "     - healpix to be queried \n",
    "     - if integer (single healpix) supplied, is silently converted to list\n",
    "\n",
    "    returns\n",
    "    -------\n",
    "    dictionary\n",
    "    - key   = HP\n",
    "    - value = list of object-integers\n",
    "'''\n",
    "\n",
    "# Use some JDs and HP that we expect (from above) to be populated\n",
    "JD = 2450000\n",
    "HPlist = [17,18,19,1234] \n",
    "P.get_nightly_precalcs(JD, HPlist)\n"
   ]
  },
  {
   "cell_type": "code",
   "execution_count": null,
   "metadata": {},
   "outputs": [],
   "source": []
  }
 ],
 "metadata": {
  "kernelspec": {
   "display_name": "Python [default]",
   "language": "python",
   "name": "python3"
  },
  "language_info": {
   "codemirror_mode": {
    "name": "ipython",
    "version": 3
   },
   "file_extension": ".py",
   "mimetype": "text/x-python",
   "name": "python",
   "nbconvert_exporter": "python",
   "pygments_lexer": "ipython3",
   "version": "3.5.5"
  }
 },
 "nbformat": 4,
 "nbformat_minor": 2
}
