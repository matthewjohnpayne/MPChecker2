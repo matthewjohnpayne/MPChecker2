{
 "cells": [
  {
   "cell_type": "markdown",
   "metadata": {},
   "source": [
    "# Demonstration of OrbitObjectsByHP\n",
    " - 20190312\n",
    " - MJP\n",
    " - How to use the OrbitObjectsByHP routine to get the list of objects which touch a given healpix on a specified (integer) night\n",
    " - Healpix must be specified from a center: if nothing is specified, the default will be the geocenter, but otherwise this can be supplied as an obscode\n"
   ]
  },
  {
   "cell_type": "code",
   "execution_count": 1,
   "metadata": {},
   "outputs": [
    {
     "name": "stderr",
     "output_type": "stream",
     "text": [
      "/Users/matthewjohnpayne/anaconda/lib/python3.5/importlib/_bootstrap.py:222: RuntimeWarning: numpy.dtype size changed, may indicate binary incompatibility. Expected 96, got 88\n",
      "  return f(*args, **kwds)\n",
      "/Users/matthewjohnpayne/anaconda/lib/python3.5/importlib/_bootstrap.py:222: RuntimeWarning: numpy.dtype size changed, may indicate binary incompatibility. Expected 96, got 88\n",
      "  return f(*args, **kwds)\n"
     ]
    }
   ],
   "source": [
    "%matplotlib inline\n",
    "\n",
    "# Standard imports \n",
    "import numpy as np \n",
    "import matplotlib.pyplot as plt \n",
    "import healpy as hp \n",
    "\n",
    "import MPC_library as MPCL\n",
    "import phys_const as PHYS\n",
    "import mpchecker \n",
    "import angles as ANG\n",
    "import params "
   ]
  },
  {
   "cell_type": "markdown",
   "metadata": {},
   "source": [
    "# The results returned below will depend on the assumed HP scale for the preprocessing\n",
    " - Finer-scale HP will return smaller numbers of objects-per-HP\n",
    " - At the time of evaluation the assumed parameters are ..."
   ]
  },
  {
   "cell_type": "code",
   "execution_count": 6,
   "metadata": {},
   "outputs": [
    {
     "name": "stdout",
     "output_type": "stream",
     "text": [
      "Healpix: Nside 128\n",
      "Healpix: Npix 196608\n",
      "Healpix: Area [deg^2] 0.20982341130279172\n",
      "Healpix: Side [deg] 0.45806485490898746\n"
     ]
    }
   ],
   "source": [
    "print(\"Healpix: Nside\", params.hp_nside)\n",
    "print(\"Healpix: Npix\", params.hp_npix)\n",
    "print(\"Healpix: Area [deg^2]\", params.hp_area)\n",
    "print(\"Healpix: Side [deg]\", params.hp_side)"
   ]
  },
  {
   "cell_type": "markdown",
   "metadata": {},
   "source": [
    "# Get a list of \"OrbitObjects\" which are in HP 348 & 375\n",
    " - This currently takes 4 seconds ... much better than the ~2mins it used to take when directly reading \"Objects\" using pickle"
   ]
  },
  {
   "cell_type": "code",
   "execution_count": 2,
   "metadata": {},
   "outputs": [
    {
     "name": "stdout",
     "output_type": "stream",
     "text": [
      "Opening '/Users/matthewjohnpayne/Dropbox/mpchecker/preprocessed_data/OrbitNumberByHP_500_2458360_5.npy'\n",
      "Opening '/Users/matthewjohnpayne/Dropbox/mpchecker/preprocessed_data/orbitObject_states_2458360_5.npy'\n",
      "states[0] [ 2.95912208e-04  2.45836050e+06  2.04408462e+00 -2.32335426e+00\n",
      "  2.65748670e-01  6.56987317e-03  5.54146168e-03  3.55313810e-04]\n",
      "Opening '/Users/matthewjohnpayne/Dropbox/mpchecker/preprocessed_data/orbitObject_desigs_2458360_5.npy'\n",
      "desigs[0] J95O12J\n",
      "CPU times: user 3.91 s, sys: 242 ms, total: 4.16 s\n",
      "Wall time: 4.16 s\n"
     ]
    }
   ],
   "source": [
    "%%time\n",
    "HPIndexList = [348,375]\n",
    "JDint = 2458360\n",
    "JDhalfint = 2458360.5\n",
    "JDintStr = '2458360_5'\n",
    "obsCode = '500'\n",
    "OrbitObjectList = mpchecker.OrbitObjectsByHP(HPIndexList, JDintStr, obsCode)"
   ]
  },
  {
   "cell_type": "markdown",
   "metadata": {},
   "source": [
    "# Examine the returned data ... "
   ]
  },
  {
   "cell_type": "code",
   "execution_count": 3,
   "metadata": {},
   "outputs": [
    {
     "name": "stdout",
     "output_type": "stream",
     "text": [
      "# Returned Objects = 7\n",
      "Type of first item in list =  <class 'classes.OrbitObject'>\n",
      "Attributes of first item in list ...\n",
      "\t OO.cart_state =  <universal_kepler.universal_kepler.CartState object at 0xb1d302620>\n",
      "\t OO.GMcenter =  0.00029591220828559115\n",
      "\t OO.epoch =  2458360.5\n",
      "\t OO.desig =  A0405\n"
     ]
    }
   ],
   "source": [
    "lenList = len(OrbitObjectList)\n",
    "print(\"# Returned Objects = %d\"%lenList )\n",
    "\n",
    "OO = OrbitObjectList[0]\n",
    "print(\"Type of first item in list = \", type(OO) )\n",
    "print(\"Attributes of first item in list ...\")\n",
    "print(\"\\t OO.cart_state = \", OO.cart_state)\n",
    "print(\"\\t OO.GMcenter = \", OO.GMcenter)\n",
    "print(\"\\t OO.epoch = \", OO.epoch)\n",
    "print(\"\\t OO.desig = \", OO.desig)"
   ]
  },
  {
   "cell_type": "markdown",
   "metadata": {},
   "source": [
    "# Use RADEC_from_state_C to calculate the RA,DEC, (and hence the Unit Vector  & the healpix) from the Geocenter\n",
    "- I.e. we are double-checking that the returned objects make sense as possibilities for the input healpix\n"
   ]
  },
  {
   "cell_type": "code",
   "execution_count": 4,
   "metadata": {},
   "outputs": [
    {
     "name": "stdout",
     "output_type": "stream",
     "text": [
      "UTC [2458360.49919926]\n",
      "TT [2458360.5]\n",
      "posEQ [ 0.92484883 -0.37188159 -0.16121244]\n",
      "posEC [ 9.24848826e-01 -4.05321309e-01  1.64062931e-05]\n",
      "54.76705919525536 10.129123719735848 375\n",
      "54.56340692149976 9.934946828054201 375\n",
      "55.018831421836566 9.985703545848724 375\n",
      "54.06997815604782 11.132633262624594 375\n",
      "54.218404780871026 11.308403785940689 375\n",
      "uniqueHP_, len(uniqueHP_) =  [348, 375] 2\n",
      "All unique output healpix are in input list:  True\n",
      "All input healpix are found in unique output list:  True\n"
     ]
    }
   ],
   "source": [
    "# When & Where are the simulated observations from?\n",
    "obsCode = '500'\n",
    "array_of_observation_times_UTC = np.array( [JDhalfint - 0.00080074] ) # HORRIBLE HACK ...\n",
    "array_of_observation_times_TT = np.array( [MPCL.EOP.jdTT(array_of_observation_times_UTC[0])])\n",
    "posEQ_OBS_wrt_HELIO = MPCL.Observatory().getObservatoryPosition(obsCode, array_of_observation_times_UTC[0])\n",
    "array_of_observatory_positions_wrt_center_ECLIPTIC = np.dot(np.transpose(PHYS.rot_mat), posEQ_OBS_wrt_HELIO )\n",
    "\n",
    "print(\"UTC\",   array_of_observation_times_UTC)\n",
    "print(\"TT\",    array_of_observation_times_TT)\n",
    "print(\"posEQ\", posEQ_OBS_wrt_HELIO)\n",
    "print(\"posEC\", array_of_observatory_positions_wrt_center_ECLIPTIC)\n",
    "\n",
    "# Advance the OrbitObjects from the OrbitObjectList above ...\n",
    "RA_, DEC_, HP_ = [],[],[]\n",
    "for OO in OrbitObjectList:\n",
    "    r, d = OO.get_RADEC(array_of_observation_times_TT, array_of_observatory_positions_wrt_center_ECLIPTIC)\n",
    "    # Save the RA & Dec\n",
    "    RA_.append(r[0])\n",
    "    DEC_.append(d[0])\n",
    "    # Calculate the UV & HP\n",
    "    UV = ANG.radec2unit(r,d)[0]\n",
    "    HP_.append(hp.vec2pix(params.hp_nside, *UV, nest=params.hp_nested))\n",
    "    \n",
    "    \n",
    "# Display the RA,DEC and calculate the UV & healpix\n",
    "for i in range(5):\n",
    "    print(RA_[i],DEC_[i], HP_[-1])\n",
    "# Check that all of the healpix are as expected\n",
    "uniqueHP_ = list(set(HP_))\n",
    "print(\"uniqueHP_, len(uniqueHP_) = \" , uniqueHP_, len(uniqueHP_) )\n",
    "print(\"All unique output healpix are in input list: \", np.all([ uHP in HPIndexList for uHP in uniqueHP_ ]))\n",
    "print(\"All input healpix are found in unique output list: \", np.all([ HP in uniqueHP_ for HP in HPIndexList ]))"
   ]
  },
  {
   "cell_type": "markdown",
   "metadata": {},
   "source": [
    "# Use RADEC_from_state_C to advance the returned OrbitObjects to a different time in the night \n",
    "- I.e. to the time of a specific pointing\n",
    "- Note that RADEC_from_state_C has been implemented as a method on the OrbitObjects\n",
    "\n"
   ]
  },
  {
   "cell_type": "code",
   "execution_count": 5,
   "metadata": {},
   "outputs": [
    {
     "name": "stdout",
     "output_type": "stream",
     "text": [
      "UTC [2458360.1]\n",
      "TT [2458360.10080074]\n",
      "posEQ [ 0.92218657 -0.37758264 -0.16367669]\n",
      "posEC [ 9.22186573e-01 -4.11532150e-01  2.32497329e-05]\n",
      "54.092385594043606 11.158747845008978\n"
     ]
    }
   ],
   "source": [
    "# When & Where are the simulated observatons from?\n",
    "obsCode = 'G96'\n",
    "array_of_observation_times_UTC = np.array( [JDint + 0.1] )\n",
    "array_of_observation_times_TT = np.array( [MPCL.EOP.jdTT(array_of_observation_times_UTC[0])])\n",
    "posEQ_OBS_wrt_HELIO = MPCL.Observatory().getObservatoryPosition(obsCode, array_of_observation_times_UTC[0])\n",
    "array_of_observatory_positions_wrt_center_ECLIPTIC = np.dot(np.transpose(PHYS.rot_mat), posEQ_OBS_wrt_HELIO )\n",
    "\n",
    "print(\"UTC\",   array_of_observation_times_UTC)\n",
    "print(\"TT\",    array_of_observation_times_TT)\n",
    "print(\"posEQ\", posEQ_OBS_wrt_HELIO)\n",
    "print(\"posEC\", array_of_observatory_positions_wrt_center_ECLIPTIC)\n",
    "\n",
    "# Advance the first OrbitObject from above ...\n",
    "RA_, DEC_ = OO.get_RADEC(array_of_observation_times_TT, array_of_observatory_positions_wrt_center_ECLIPTIC)\n",
    "for RA,DEC in zip(RA_, DEC_): print(RA,DEC)"
   ]
  },
  {
   "cell_type": "code",
   "execution_count": null,
   "metadata": {},
   "outputs": [],
   "source": []
  }
 ],
 "metadata": {
  "anaconda-cloud": {},
  "kernelspec": {
   "display_name": "Python [conda env:anaconda]",
   "language": "python",
   "name": "conda-env-anaconda-py"
  },
  "language_info": {
   "codemirror_mode": {
    "name": "ipython",
    "version": 3
   },
   "file_extension": ".py",
   "mimetype": "text/x-python",
   "name": "python",
   "nbconvert_exporter": "python",
   "pygments_lexer": "ipython3",
   "version": "3.5.5"
  }
 },
 "nbformat": 4,
 "nbformat_minor": 2
}
