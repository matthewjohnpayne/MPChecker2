{
 "cells": [
  {
   "cell_type": "markdown",
   "metadata": {},
   "source": [
    "# Demonstration of ANGLE functions\n",
    " - 20190319\n",
    " - MJP"
   ]
  },
  {
   "cell_type": "code",
   "execution_count": 1,
   "metadata": {},
   "outputs": [
    {
     "name": "stderr",
     "output_type": "stream",
     "text": [
      "/Users/matthewjohnpayne/anaconda/lib/python3.5/importlib/_bootstrap.py:222: RuntimeWarning: numpy.dtype size changed, may indicate binary incompatibility. Expected 96, got 88\n",
      "  return f(*args, **kwds)\n"
     ]
    }
   ],
   "source": [
    "# Standard imports \n",
    "import numpy as np \n",
    "\n",
    "# classes code \n",
    "import angles as ANG\n"
   ]
  },
  {
   "cell_type": "markdown",
   "metadata": {},
   "source": [
    "# Main functions in \"angles.py\"\n",
    " - radec2unit\n",
    " - unit2radec\n",
    " - angle_unitvectors\n",
    " - angle_radec"
   ]
  },
  {
   "cell_type": "markdown",
   "metadata": {},
   "source": [
    "# --------- Test Code Definitions ---------------------"
   ]
  },
  {
   "cell_type": "code",
   "execution_count": 8,
   "metadata": {},
   "outputs": [],
   "source": [
    "\n",
    "def sample_RADEC():\n",
    "    ''' \n",
    "        Sample RA, DEC arrays for demos\n",
    "        Degrees\n",
    "    '''\n",
    "    \n",
    "    RA_Array1   = np.array([0.0, 0.0, 90.0, 90.0,   0.0, 180.0,   0.0])\n",
    "    Dec_Array1  = np.array([0.0,90.0, 90.0,  0.0, -90.0,   0.0,  90.0])\n",
    "    \n",
    "    RA_Array2   = np.array([27.0,  0.5,   0.5,  0.0, 90.0,   0.0])\n",
    "    Dec_Array2  = np.array([-5.0,  5.0,  89.5, 90.0,  0.0, -90.0])\n",
    "\n",
    "    return RA_Array1,Dec_Array1, RA_Array2, Dec_Array2\n",
    "\n",
    "def demonstrate_radec2unit():\n",
    "    '''\n",
    "        Demonstrate  the conversion of (RA,Dec) to unit vector(s)\n",
    "    '''\n",
    "    print('\\n Demonstrate  the conversion of (RA,Dec) to unit vector(s)')\n",
    "    # Get a sample of data\n",
    "    RA_Array1,Dec_Array1, RA_Array2, Dec_Array2 = sample_RADEC()\n",
    "    # Convert a single component\n",
    "    UV = ANG.radec2unit(RA_Array1[0],Dec_Array1[0])\n",
    "    print(\"Single Component Input:\\n\\tRA,Dec Input=(%r,%r)\\n\\tUnit-Vector Output=%r\" % (RA_Array1[0],Dec_Array1[0],UV) )\n",
    "    # Convert an entire array\n",
    "    UV_Array = ANG.radec2unit(RA_Array1,Dec_Array1)\n",
    "    print(\"Array Input           :\\n\\tRA,Dec Input=(%r,%r)\\n\\tUnit-Vector Output=%r\" % (RA_Array1,Dec_Array1,UV_Array) )\n",
    "\n",
    "def demonstrate_unit2radec():\n",
    "    '''\n",
    "        Demonstrate  the conversion of unit vector(s) to (RA,Dec)\n",
    "    '''\n",
    "    print('\\n Demonstrate  the conversion of unit vector(s) to (RA,Dec)')\n",
    "    # Get a sample of data\n",
    "    RA_Array1,Dec_Array1, RA_Array2, Dec_Array2 = sample_RADEC()\n",
    "    # Convert (RA,Dec) to UV\n",
    "    UV_Array = ANG.radec2unit(RA_Array1,Dec_Array1)\n",
    "    \n",
    "    # Convert a single unit-vector back to RA, DEC\n",
    "    print(\"\\nConversion of single-UV to RA,Dec\")\n",
    "    print(\"Interim Single UV conversion: uv = \", UV_Array[0])\n",
    "    RA_output, Dec_output = ANG.unit2radec(UV_Array[0])\n",
    "    print(\"\\tFinal RA,Dec   = (%r , %r)\"%(RA_output, Dec_output))\n",
    "    \n",
    "    \n",
    "    # Convert multiple unit-vectors back to RA,DEC \n",
    "    print(\"\\nConversion of multiple UVs to RA,Dec\")\n",
    "    print(\"\\tInterim unit-vectors = %r\", UV_Array)\n",
    "    RA_output, Dec_output = ANG.unit2radec(UV_Array)\n",
    "    print(\"\\tFinal RA,Dec   = (%r , %r)\"%(RA_output, Dec_output))\n",
    "\n",
    "def demonstrate_radec2unit2radec():\n",
    "    '''\n",
    "        Demonstrate that back-and-forth conversion is stable\n",
    "    '''    \n",
    "    # Get a sample of data\n",
    "    RA_Array1,Dec_Array1, RA_Array2, Dec_Array2 = sample_RADEC()\n",
    "    print(\"Initial RA,Dec = (%r , %r)\"%(RA_Array1,Dec_Array1))\n",
    "    for i in range(2):\n",
    "        print(\"i=\",i)\n",
    "        UV_Array = ANG.radec2unit(RA_Array1,Dec_Array1)\n",
    "        print(\"\\t UV=\",UV_Array)\n",
    "        RA_Array1,Dec_Array1 = ANG.unit2radec(UV_Array)\n",
    "        print(\"\\t RA,DEC=\",RA_Array1,Dec_Array1)\n",
    "\n",
    "    \n",
    "    \n",
    "def demonstrate_angle_unitvectors():\n",
    "    '''\n",
    "        Demonstrate  the calculation of angles between unit vectors\n",
    "    '''\n",
    "    print('\\n Demonstrate angle between unit vectors')\n",
    "    # Get a sample of data\n",
    "    RA_Array1,Dec_Array1, RA_Array2, Dec_Array2 = sample_RADEC()\n",
    "    # Calculate unit vectors\n",
    "    uv1 = ANG.radec2unit(RA_Array1,Dec_Array1)\n",
    "    uv2 = ANG.radec2unit(RA_Array2,Dec_Array2)\n",
    "    # Angle between 2 single unit vectors\n",
    "    print(\"\\nSingle unit-vector input ... \")\n",
    "    print(\"Input unit vectors = (%r, %r)\" % (uv1[0],uv2[0]) )\n",
    "    print(\"output = %r [radians] = %r [degrees]\" % (ANG.angle_unitvectors(uv1[0],uv2[0]), np.degrees(ANG.angle_unitvectors(uv1[0],uv2[0]))  ) )\n",
    "    # Angle between 1 single unit vector & an array of other vectors\n",
    "    print(\"\\n(i)Single unit-vector + (ii)Multiple unit-vector input ... \")\n",
    "    print(\"Input unit vectors = (%r, %r)\" % (uv1[0],uv2) )\n",
    "    print(\"output = %r [radians] = %r [degrees]\" % (ANG.angle_unitvectors(uv1[0],uv2), np.degrees(ANG.angle_unitvectors(uv1[0],uv2))  ) )\n",
    "\n",
    "\n",
    "def demonstrate_angle_radec():\n",
    "    '''\n",
    "        Demonstrate  the calculation of angles between (RA,Dec) pairs\n",
    "    '''\n",
    "    print('\\n Demonstrate angle between RA,Dec components')\n",
    "    # Get a sample of data\n",
    "    RA_Array1,Dec_Array1, RA_Array2, Dec_Array2 = sample_RADEC()\n",
    "    # Angle between 2 single RA,Dec's\n",
    "    print(\"\\nSingle RA,Dec inputs ... \")\n",
    "    print(\"Input (1) = (%r, %r), Input (2) =(%r, %r)\" % (RA_Array1[0],Dec_Array1[0],RA_Array2[0],Dec_Array2[0]) )\n",
    "    print(\"output = %r [degrees]\" % ( ANG.angle_radec(RA_Array1[0],Dec_Array1[0],RA_Array2[0],Dec_Array2[0])  ))\n",
    "    # Angle between A single RA,Dec & an array of other RA,Dec's\n",
    "    print(\"\\nSingle+Multiple RA,Dec inputs ... \")\n",
    "    print(\"Input (1) = (%r, %r), Input (2) =(%r, %r)\" % (RA_Array1[0],Dec_Array1[0],RA_Array2,Dec_Array2) )\n",
    "    print(\"output = %r [degrees]\" % ( ANG.angle_radec(RA_Array1[0],Dec_Array1[0],RA_Array2,Dec_Array2)  ))\n",
    "\n",
    "\n",
    "\n"
   ]
  },
  {
   "cell_type": "code",
   "execution_count": null,
   "metadata": {},
   "outputs": [],
   "source": []
  },
  {
   "cell_type": "code",
   "execution_count": null,
   "metadata": {},
   "outputs": [],
   "source": []
  },
  {
   "cell_type": "markdown",
   "metadata": {},
   "source": [
    "# radec2unit\n",
    " - Convert RA,DEC input(s) to unit vector(s)"
   ]
  },
  {
   "cell_type": "code",
   "execution_count": 9,
   "metadata": {},
   "outputs": [
    {
     "name": "stdout",
     "output_type": "stream",
     "text": [
      "\n",
      " Demonstrate  the conversion of (RA,Dec) to unit vector(s)\n",
      "Single Component Input:\n",
      "\tRA,Dec Input=(0.0,0.0)\n",
      "\tUnit-Vector Output=array([1., 0., 0.])\n",
      "Array Input           :\n",
      "\tRA,Dec Input=(array([  0.,   0.,  90.,  90.,   0., 180.,   0.]),array([  0.,  90.,  90.,   0., -90.,   0.,  90.]))\n",
      "\tUnit-Vector Output=array([[ 1.00000000e+00,  0.00000000e+00,  0.00000000e+00],\n",
      "       [ 6.12323400e-17,  0.00000000e+00,  1.00000000e+00],\n",
      "       [ 3.74939946e-33,  6.12323400e-17,  1.00000000e+00],\n",
      "       [ 6.12323400e-17,  1.00000000e+00,  0.00000000e+00],\n",
      "       [ 6.12323400e-17,  0.00000000e+00, -1.00000000e+00],\n",
      "       [-1.00000000e+00,  1.22464680e-16,  0.00000000e+00],\n",
      "       [ 6.12323400e-17,  0.00000000e+00,  1.00000000e+00]])\n"
     ]
    }
   ],
   "source": [
    "demonstrate_radec2unit()"
   ]
  },
  {
   "cell_type": "markdown",
   "metadata": {},
   "source": [
    "# unit2radec\n",
    " - Convert unit vector(s) to RA,DEC(s)"
   ]
  },
  {
   "cell_type": "code",
   "execution_count": 10,
   "metadata": {},
   "outputs": [
    {
     "name": "stdout",
     "output_type": "stream",
     "text": [
      "\n",
      " Demonstrate  the conversion of unit vector(s) to (RA,Dec)\n",
      "\n",
      "Conversion of single-UV to RA,Dec\n",
      "Interim Single UV conversion: uv =  [1. 0. 0.]\n",
      "\tFinal RA,Dec   = (array([0.]) , array([0.]))\n",
      "\n",
      "Conversion of multiple UVs to RA,Dec\n",
      "\tInterim unit-vectors = %r [[ 1.00000000e+00  0.00000000e+00  0.00000000e+00]\n",
      " [ 6.12323400e-17  0.00000000e+00  1.00000000e+00]\n",
      " [ 3.74939946e-33  6.12323400e-17  1.00000000e+00]\n",
      " [ 6.12323400e-17  1.00000000e+00  0.00000000e+00]\n",
      " [ 6.12323400e-17  0.00000000e+00 -1.00000000e+00]\n",
      " [-1.00000000e+00  1.22464680e-16  0.00000000e+00]\n",
      " [ 6.12323400e-17  0.00000000e+00  1.00000000e+00]]\n",
      "\tFinal RA,Dec   = (array([  0.,   0.,  90.,  90.,   0., 180.,   0.]) , array([  0.,  90.,  90.,   0., -90.,   0.,  90.]))\n"
     ]
    }
   ],
   "source": [
    "demonstrate_unit2radec()"
   ]
  },
  {
   "cell_type": "markdown",
   "metadata": {},
   "source": [
    "# Demonstrate that back-and-forth conversion is stable"
   ]
  },
  {
   "cell_type": "code",
   "execution_count": 11,
   "metadata": {},
   "outputs": [
    {
     "name": "stdout",
     "output_type": "stream",
     "text": [
      "Initial RA,Dec = (array([  0.,   0.,  90.,  90.,   0., 180.,   0.]) , array([  0.,  90.,  90.,   0., -90.,   0.,  90.]))\n",
      "i= 0\n",
      "\t UV= [[ 1.00000000e+00  0.00000000e+00  0.00000000e+00]\n",
      " [ 6.12323400e-17  0.00000000e+00  1.00000000e+00]\n",
      " [ 3.74939946e-33  6.12323400e-17  1.00000000e+00]\n",
      " [ 6.12323400e-17  1.00000000e+00  0.00000000e+00]\n",
      " [ 6.12323400e-17  0.00000000e+00 -1.00000000e+00]\n",
      " [-1.00000000e+00  1.22464680e-16  0.00000000e+00]\n",
      " [ 6.12323400e-17  0.00000000e+00  1.00000000e+00]]\n",
      "\t RA,DEC= [  0.   0.  90.  90.   0. 180.   0.] [  0.  90.  90.   0. -90.   0.  90.]\n",
      "i= 1\n",
      "\t UV= [[ 1.00000000e+00  0.00000000e+00  0.00000000e+00]\n",
      " [ 6.12323400e-17  0.00000000e+00  1.00000000e+00]\n",
      " [ 3.74939946e-33  6.12323400e-17  1.00000000e+00]\n",
      " [ 6.12323400e-17  1.00000000e+00  0.00000000e+00]\n",
      " [ 6.12323400e-17  0.00000000e+00 -1.00000000e+00]\n",
      " [-1.00000000e+00  1.22464680e-16  0.00000000e+00]\n",
      " [ 6.12323400e-17  0.00000000e+00  1.00000000e+00]]\n",
      "\t RA,DEC= [  0.   0.  90.  90.   0. 180.   0.] [  0.  90.  90.   0. -90.   0.  90.]\n"
     ]
    }
   ],
   "source": [
    "demonstrate_radec2unit2radec()"
   ]
  },
  {
   "cell_type": "markdown",
   "metadata": {},
   "source": [
    "# angle_unitvectors\n",
    " - Calculate the angle between two unit vectors"
   ]
  },
  {
   "cell_type": "code",
   "execution_count": 12,
   "metadata": {},
   "outputs": [
    {
     "name": "stdout",
     "output_type": "stream",
     "text": [
      "\n",
      " Demonstrate angle between unit vectors\n",
      "\n",
      "Single unit-vector input ... \n",
      "Input unit vectors = (array([1., 0., 0.]), array([ 0.88761598,  0.45226293, -0.08715574]))\n",
      "output = array([0.47865335]) [radians] = array([27.42481654]) [degrees]\n",
      "\n",
      "(i)Single unit-vector + (ii)Multiple unit-vector input ... \n",
      "Input unit vectors = (array([1., 0., 0.]), array([[ 8.87615975e-01,  4.52262929e-01, -8.71557427e-02],\n",
      "       [ 9.96156766e-01,  8.69332840e-03,  8.71557427e-02],\n",
      "       [ 8.72620322e-03,  7.61524218e-05,  9.99961923e-01],\n",
      "       [ 6.12323400e-17,  0.00000000e+00,  1.00000000e+00],\n",
      "       [ 6.12323400e-17,  1.00000000e+00,  0.00000000e+00],\n",
      "       [ 6.12323400e-17,  0.00000000e+00, -1.00000000e+00]]))\n",
      "output = array([0.47865335, 0.08770061, 1.56207001, 1.57079633, 1.57079633,\n",
      "       1.57079633]) [radians] = array([27.42481654,  5.02487463, 89.50001904, 90.        , 90.        ,\n",
      "       90.        ]) [degrees]\n"
     ]
    }
   ],
   "source": [
    "demonstrate_angle_unitvectors()"
   ]
  },
  {
   "cell_type": "markdown",
   "metadata": {},
   "source": [
    "# angle_radec\n",
    " - Calculate the angle between two sets of RA,DEC"
   ]
  },
  {
   "cell_type": "code",
   "execution_count": 13,
   "metadata": {},
   "outputs": [
    {
     "name": "stdout",
     "output_type": "stream",
     "text": [
      "\n",
      " Demonstrate angle between RA,Dec components\n",
      "\n",
      "Single RA,Dec inputs ... \n",
      "Input (1) = (0.0, 0.0), Input (2) =(27.0, -5.0)\n",
      "output = array([27.42481654]) [degrees]\n",
      "\n",
      "Single+Multiple RA,Dec inputs ... \n",
      "Input (1) = (0.0, 0.0), Input (2) =(array([27. ,  0.5,  0.5,  0. , 90. ,  0. ]), array([ -5. ,   5. ,  89.5,  90. ,   0. , -90. ]))\n",
      "output = array([27.42481654,  5.02487463, 89.50001904, 90.        , 90.        ,\n",
      "       90.        ]) [degrees]\n"
     ]
    }
   ],
   "source": [
    "demonstrate_angle_radec()"
   ]
  },
  {
   "cell_type": "code",
   "execution_count": null,
   "metadata": {},
   "outputs": [],
   "source": []
  },
  {
   "cell_type": "code",
   "execution_count": null,
   "metadata": {},
   "outputs": [],
   "source": []
  }
 ],
 "metadata": {
  "kernelspec": {
   "display_name": "Python [conda env:anaconda]",
   "language": "python",
   "name": "conda-env-anaconda-py"
  },
  "language_info": {
   "codemirror_mode": {
    "name": "ipython",
    "version": 3
   },
   "file_extension": ".py",
   "mimetype": "text/x-python",
   "name": "python",
   "nbconvert_exporter": "python",
   "pygments_lexer": "ipython3",
   "version": "3.5.5"
  }
 },
 "nbformat": 4,
 "nbformat_minor": 2
}
